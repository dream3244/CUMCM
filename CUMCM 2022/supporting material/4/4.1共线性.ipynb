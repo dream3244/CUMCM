{
 "cells": [
  {
   "cell_type": "code",
   "execution_count": 1,
   "metadata": {},
   "outputs": [],
   "source": [
    "import numpy as np\n",
    "import pandas as pd\n",
    "import matplotlib.pyplot as plt\n",
    "import seaborn as sns\n",
    "from statsmodels.stats.outliers_influence import variance_inflation_factor  # 计算VIF方差膨胀因子\n",
    "from itertools import combinations"
   ]
  },
  {
   "cell_type": "code",
   "execution_count": 2,
   "metadata": {},
   "outputs": [],
   "source": [
    "df = pd.read_excel('4.1铅钡.xlsx')\n",
    "data = df.iloc[:,2:]\n",
    "\n",
    "ls = []\n",
    "for i in range(2,7):\n",
    "    for cmb in combinations(data.columns, i):\n",
    "        cmb = [*cmb]\n",
    "        dt = data[cmb]\n",
    "        vif = [variance_inflation_factor(dt.values, dt.columns.get_loc(i)) for i in dt.columns]\n",
    "        mn = np.mean(vif)\n",
    "        ls.append([i, cmb, mn])\n",
    "\n",
    "pd.DataFrame(ls,columns=['特征个数','特征', 'VIF']).sort_values(by='VIF', ascending=False).to_excel('4.1铅钡共线性.xlsx', index=False)"
   ]
  },
  {
   "cell_type": "code",
   "execution_count": 3,
   "metadata": {},
   "outputs": [],
   "source": [
    "df = pd.read_excel('4.1高钾.xlsx')\n",
    "data = df.iloc[:,2:]\n",
    "\n",
    "ls = []\n",
    "for i in range(2,7):\n",
    "    for cmb in combinations(data.columns, i):\n",
    "        cmb = [*cmb]\n",
    "        dt = data[cmb]\n",
    "        vif = [variance_inflation_factor(dt.values, dt.columns.get_loc(i)) for i in dt.columns]\n",
    "        # vif.sort(reverse=True)\n",
    "        # mn = pd.DataFrame(vif,index=dt.columns,columns=[\"VIF\"]).mean()\n",
    "        mn = np.mean(vif)\n",
    "        ls.append([i, cmb, mn])\n",
    "\n",
    "pd.DataFrame(ls,columns=['特征个数','特征', 'VIF']).sort_values(by='VIF', ascending=False).to_excel('4.1高钾共线性.xlsx', index=False)"
   ]
  }
 ],
 "metadata": {
  "kernelspec": {
   "display_name": "Python 3.9.12 ('base')",
   "language": "python",
   "name": "python3"
  },
  "language_info": {
   "codemirror_mode": {
    "name": "ipython",
    "version": 3
   },
   "file_extension": ".py",
   "mimetype": "text/x-python",
   "name": "python",
   "nbconvert_exporter": "python",
   "pygments_lexer": "ipython3",
   "version": "3.9.12"
  },
  "orig_nbformat": 4,
  "vscode": {
   "interpreter": {
    "hash": "5a59823d3e6695cb965693098479e8e0ed70c3f74dbfe2d46cc0a8fabfd85b31"
   }
  }
 },
 "nbformat": 4,
 "nbformat_minor": 2
}
