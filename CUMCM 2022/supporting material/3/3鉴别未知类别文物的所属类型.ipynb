{
 "cells": [
  {
   "cell_type": "code",
   "execution_count": 23,
   "id": "fa44dbe7",
   "metadata": {
    "ExecuteTime": {
     "end_time": "2022-09-17T17:41:35.567221Z",
     "start_time": "2022-09-17T17:41:34.043286Z"
    }
   },
   "outputs": [],
   "source": [
    "import numpy as np\n",
    "import pandas as pd\n",
    "import matplotlib.pyplot as plt\n",
    "from sklearn.model_selection import train_test_split\n",
    "from sklearn import tree\n",
    "params = {\n",
    "    \"font.sans-serif\":\"Simhei\",\n",
    "    \"axes.titlesize\": 22,\n",
    "    \"legend.fontsize\": 16,\n",
    "    \"figure.figsize\": (10, 8),\n",
    "    \"figure.dpi\":80,\n",
    "    \"axes.labelsize\": 16,\n",
    "    \"axes.titlesize\": 16,\n",
    "    \"xtick.labelsize\": 16,\n",
    "    \"ytick.labelsize\": 16,\n",
    "    \"figure.titlesize\": 22,\n",
    "    \"axes.unicode_minus\": False\n",
    "}\n",
    "plt.rcParams.update(params)"
   ]
  },
  {
   "cell_type": "code",
   "execution_count": 24,
   "id": "f7abc3e4",
   "metadata": {
    "ExecuteTime": {
     "end_time": "2022-09-17T17:41:36.131702Z",
     "start_time": "2022-09-17T17:41:35.571201Z"
    }
   },
   "outputs": [
    {
     "data": {
      "text/html": [
       "<div>\n",
       "<style scoped>\n",
       "    .dataframe tbody tr th:only-of-type {\n",
       "        vertical-align: middle;\n",
       "    }\n",
       "\n",
       "    .dataframe tbody tr th {\n",
       "        vertical-align: top;\n",
       "    }\n",
       "\n",
       "    .dataframe thead th {\n",
       "        text-align: right;\n",
       "    }\n",
       "</style>\n",
       "<table border=\"1\" class=\"dataframe\">\n",
       "  <thead>\n",
       "    <tr style=\"text-align: right;\">\n",
       "      <th></th>\n",
       "      <th>文物编号</th>\n",
       "      <th>文物采样点</th>\n",
       "      <th>风化与否</th>\n",
       "      <th>二氧化硅(SiO2)</th>\n",
       "      <th>氧化钠(Na2O)</th>\n",
       "      <th>氧化钾(K2O)</th>\n",
       "      <th>氧化钙(CaO)</th>\n",
       "      <th>氧化镁(MgO)</th>\n",
       "      <th>氧化铝(Al2O3)</th>\n",
       "      <th>氧化铁(Fe2O3)</th>\n",
       "      <th>氧化铜(CuO)</th>\n",
       "      <th>氧化铅(PbO)</th>\n",
       "      <th>氧化钡(BaO)</th>\n",
       "      <th>五氧化二磷(P2O5)</th>\n",
       "      <th>氧化锶(SrO)</th>\n",
       "      <th>氧化锡(SnO2)</th>\n",
       "      <th>二氧化硫(SO2)</th>\n",
       "      <th>总含量</th>\n",
       "      <th>铅钡</th>\n",
       "      <th>类型_高钾</th>\n",
       "    </tr>\n",
       "  </thead>\n",
       "  <tbody>\n",
       "    <tr>\n",
       "      <th>0</th>\n",
       "      <td>1</td>\n",
       "      <td>01</td>\n",
       "      <td>0</td>\n",
       "      <td>69.33</td>\n",
       "      <td>0.00</td>\n",
       "      <td>9.99</td>\n",
       "      <td>6.32</td>\n",
       "      <td>0.87</td>\n",
       "      <td>3.93</td>\n",
       "      <td>1.74</td>\n",
       "      <td>3.87</td>\n",
       "      <td>0.00</td>\n",
       "      <td>0.00</td>\n",
       "      <td>1.17</td>\n",
       "      <td>0.00</td>\n",
       "      <td>0.0</td>\n",
       "      <td>0.39</td>\n",
       "      <td>97.61</td>\n",
       "      <td>0</td>\n",
       "      <td>1</td>\n",
       "    </tr>\n",
       "    <tr>\n",
       "      <th>1</th>\n",
       "      <td>2</td>\n",
       "      <td>02</td>\n",
       "      <td>1</td>\n",
       "      <td>36.28</td>\n",
       "      <td>0.00</td>\n",
       "      <td>1.05</td>\n",
       "      <td>2.34</td>\n",
       "      <td>1.18</td>\n",
       "      <td>5.73</td>\n",
       "      <td>1.86</td>\n",
       "      <td>0.26</td>\n",
       "      <td>47.43</td>\n",
       "      <td>0.00</td>\n",
       "      <td>3.57</td>\n",
       "      <td>0.19</td>\n",
       "      <td>0.0</td>\n",
       "      <td>0.00</td>\n",
       "      <td>99.89</td>\n",
       "      <td>1</td>\n",
       "      <td>0</td>\n",
       "    </tr>\n",
       "    <tr>\n",
       "      <th>2</th>\n",
       "      <td>3</td>\n",
       "      <td>03部位1</td>\n",
       "      <td>0</td>\n",
       "      <td>87.05</td>\n",
       "      <td>0.00</td>\n",
       "      <td>5.19</td>\n",
       "      <td>2.01</td>\n",
       "      <td>0.00</td>\n",
       "      <td>4.06</td>\n",
       "      <td>0.00</td>\n",
       "      <td>0.78</td>\n",
       "      <td>0.25</td>\n",
       "      <td>0.00</td>\n",
       "      <td>0.66</td>\n",
       "      <td>0.00</td>\n",
       "      <td>0.0</td>\n",
       "      <td>0.00</td>\n",
       "      <td>100.00</td>\n",
       "      <td>0</td>\n",
       "      <td>1</td>\n",
       "    </tr>\n",
       "    <tr>\n",
       "      <th>3</th>\n",
       "      <td>3</td>\n",
       "      <td>03部位2</td>\n",
       "      <td>0</td>\n",
       "      <td>61.71</td>\n",
       "      <td>0.00</td>\n",
       "      <td>12.37</td>\n",
       "      <td>5.87</td>\n",
       "      <td>1.11</td>\n",
       "      <td>5.50</td>\n",
       "      <td>2.16</td>\n",
       "      <td>5.09</td>\n",
       "      <td>1.41</td>\n",
       "      <td>2.86</td>\n",
       "      <td>0.70</td>\n",
       "      <td>0.10</td>\n",
       "      <td>0.0</td>\n",
       "      <td>0.00</td>\n",
       "      <td>98.88</td>\n",
       "      <td>0</td>\n",
       "      <td>1</td>\n",
       "    </tr>\n",
       "    <tr>\n",
       "      <th>4</th>\n",
       "      <td>4</td>\n",
       "      <td>04</td>\n",
       "      <td>0</td>\n",
       "      <td>65.88</td>\n",
       "      <td>0.00</td>\n",
       "      <td>9.67</td>\n",
       "      <td>7.12</td>\n",
       "      <td>1.56</td>\n",
       "      <td>6.44</td>\n",
       "      <td>2.06</td>\n",
       "      <td>2.18</td>\n",
       "      <td>0.00</td>\n",
       "      <td>0.00</td>\n",
       "      <td>0.79</td>\n",
       "      <td>0.00</td>\n",
       "      <td>0.0</td>\n",
       "      <td>0.36</td>\n",
       "      <td>96.06</td>\n",
       "      <td>0</td>\n",
       "      <td>1</td>\n",
       "    </tr>\n",
       "    <tr>\n",
       "      <th>...</th>\n",
       "      <td>...</td>\n",
       "      <td>...</td>\n",
       "      <td>...</td>\n",
       "      <td>...</td>\n",
       "      <td>...</td>\n",
       "      <td>...</td>\n",
       "      <td>...</td>\n",
       "      <td>...</td>\n",
       "      <td>...</td>\n",
       "      <td>...</td>\n",
       "      <td>...</td>\n",
       "      <td>...</td>\n",
       "      <td>...</td>\n",
       "      <td>...</td>\n",
       "      <td>...</td>\n",
       "      <td>...</td>\n",
       "      <td>...</td>\n",
       "      <td>...</td>\n",
       "      <td>...</td>\n",
       "      <td>...</td>\n",
       "    </tr>\n",
       "    <tr>\n",
       "      <th>62</th>\n",
       "      <td>54</td>\n",
       "      <td>54严重风化点</td>\n",
       "      <td>2</td>\n",
       "      <td>17.11</td>\n",
       "      <td>0.00</td>\n",
       "      <td>0.00</td>\n",
       "      <td>0.00</td>\n",
       "      <td>1.11</td>\n",
       "      <td>3.65</td>\n",
       "      <td>0.00</td>\n",
       "      <td>1.34</td>\n",
       "      <td>58.46</td>\n",
       "      <td>0.00</td>\n",
       "      <td>14.13</td>\n",
       "      <td>1.12</td>\n",
       "      <td>0.0</td>\n",
       "      <td>0.00</td>\n",
       "      <td>96.92</td>\n",
       "      <td>1</td>\n",
       "      <td>0</td>\n",
       "    </tr>\n",
       "    <tr>\n",
       "      <th>63</th>\n",
       "      <td>55</td>\n",
       "      <td>55</td>\n",
       "      <td>0</td>\n",
       "      <td>49.01</td>\n",
       "      <td>2.71</td>\n",
       "      <td>0.00</td>\n",
       "      <td>1.13</td>\n",
       "      <td>0.00</td>\n",
       "      <td>1.45</td>\n",
       "      <td>0.00</td>\n",
       "      <td>0.86</td>\n",
       "      <td>32.92</td>\n",
       "      <td>7.95</td>\n",
       "      <td>0.35</td>\n",
       "      <td>0.00</td>\n",
       "      <td>0.0</td>\n",
       "      <td>0.00</td>\n",
       "      <td>96.38</td>\n",
       "      <td>1</td>\n",
       "      <td>0</td>\n",
       "    </tr>\n",
       "    <tr>\n",
       "      <th>64</th>\n",
       "      <td>56</td>\n",
       "      <td>56</td>\n",
       "      <td>1</td>\n",
       "      <td>29.15</td>\n",
       "      <td>0.00</td>\n",
       "      <td>0.00</td>\n",
       "      <td>1.21</td>\n",
       "      <td>0.00</td>\n",
       "      <td>1.85</td>\n",
       "      <td>0.00</td>\n",
       "      <td>0.79</td>\n",
       "      <td>41.25</td>\n",
       "      <td>15.45</td>\n",
       "      <td>2.54</td>\n",
       "      <td>0.00</td>\n",
       "      <td>0.0</td>\n",
       "      <td>0.00</td>\n",
       "      <td>92.24</td>\n",
       "      <td>1</td>\n",
       "      <td>0</td>\n",
       "    </tr>\n",
       "    <tr>\n",
       "      <th>65</th>\n",
       "      <td>57</td>\n",
       "      <td>57</td>\n",
       "      <td>1</td>\n",
       "      <td>25.42</td>\n",
       "      <td>0.00</td>\n",
       "      <td>0.00</td>\n",
       "      <td>1.31</td>\n",
       "      <td>0.00</td>\n",
       "      <td>2.18</td>\n",
       "      <td>0.00</td>\n",
       "      <td>1.16</td>\n",
       "      <td>45.10</td>\n",
       "      <td>17.30</td>\n",
       "      <td>0.00</td>\n",
       "      <td>0.00</td>\n",
       "      <td>0.0</td>\n",
       "      <td>0.00</td>\n",
       "      <td>92.47</td>\n",
       "      <td>1</td>\n",
       "      <td>0</td>\n",
       "    </tr>\n",
       "    <tr>\n",
       "      <th>66</th>\n",
       "      <td>58</td>\n",
       "      <td>58</td>\n",
       "      <td>1</td>\n",
       "      <td>30.39</td>\n",
       "      <td>0.00</td>\n",
       "      <td>0.34</td>\n",
       "      <td>3.49</td>\n",
       "      <td>0.79</td>\n",
       "      <td>3.52</td>\n",
       "      <td>0.86</td>\n",
       "      <td>3.13</td>\n",
       "      <td>39.35</td>\n",
       "      <td>7.66</td>\n",
       "      <td>8.99</td>\n",
       "      <td>0.24</td>\n",
       "      <td>0.0</td>\n",
       "      <td>0.00</td>\n",
       "      <td>98.76</td>\n",
       "      <td>1</td>\n",
       "      <td>0</td>\n",
       "    </tr>\n",
       "  </tbody>\n",
       "</table>\n",
       "<p>67 rows × 20 columns</p>\n",
       "</div>"
      ],
      "text/plain": [
       "    文物编号    文物采样点  风化与否  二氧化硅(SiO2)  氧化钠(Na2O)  氧化钾(K2O)  氧化钙(CaO)  氧化镁(MgO)  \\\n",
       "0      1       01     0       69.33       0.00      9.99      6.32      0.87   \n",
       "1      2       02     1       36.28       0.00      1.05      2.34      1.18   \n",
       "2      3    03部位1     0       87.05       0.00      5.19      2.01      0.00   \n",
       "3      3    03部位2     0       61.71       0.00     12.37      5.87      1.11   \n",
       "4      4       04     0       65.88       0.00      9.67      7.12      1.56   \n",
       "..   ...      ...   ...         ...        ...       ...       ...       ...   \n",
       "62    54  54严重风化点     2       17.11       0.00      0.00      0.00      1.11   \n",
       "63    55       55     0       49.01       2.71      0.00      1.13      0.00   \n",
       "64    56       56     1       29.15       0.00      0.00      1.21      0.00   \n",
       "65    57       57     1       25.42       0.00      0.00      1.31      0.00   \n",
       "66    58       58     1       30.39       0.00      0.34      3.49      0.79   \n",
       "\n",
       "    氧化铝(Al2O3)  氧化铁(Fe2O3)  氧化铜(CuO)  氧化铅(PbO)  氧化钡(BaO)  五氧化二磷(P2O5)  \\\n",
       "0         3.93        1.74      3.87      0.00      0.00         1.17   \n",
       "1         5.73        1.86      0.26     47.43      0.00         3.57   \n",
       "2         4.06        0.00      0.78      0.25      0.00         0.66   \n",
       "3         5.50        2.16      5.09      1.41      2.86         0.70   \n",
       "4         6.44        2.06      2.18      0.00      0.00         0.79   \n",
       "..         ...         ...       ...       ...       ...          ...   \n",
       "62        3.65        0.00      1.34     58.46      0.00        14.13   \n",
       "63        1.45        0.00      0.86     32.92      7.95         0.35   \n",
       "64        1.85        0.00      0.79     41.25     15.45         2.54   \n",
       "65        2.18        0.00      1.16     45.10     17.30         0.00   \n",
       "66        3.52        0.86      3.13     39.35      7.66         8.99   \n",
       "\n",
       "    氧化锶(SrO)  氧化锡(SnO2)  二氧化硫(SO2)     总含量  铅钡  类型_高钾  \n",
       "0       0.00        0.0       0.39   97.61   0      1  \n",
       "1       0.19        0.0       0.00   99.89   1      0  \n",
       "2       0.00        0.0       0.00  100.00   0      1  \n",
       "3       0.10        0.0       0.00   98.88   0      1  \n",
       "4       0.00        0.0       0.36   96.06   0      1  \n",
       "..       ...        ...        ...     ...  ..    ...  \n",
       "62      1.12        0.0       0.00   96.92   1      0  \n",
       "63      0.00        0.0       0.00   96.38   1      0  \n",
       "64      0.00        0.0       0.00   92.24   1      0  \n",
       "65      0.00        0.0       0.00   92.47   1      0  \n",
       "66      0.24        0.0       0.00   98.76   1      0  \n",
       "\n",
       "[67 rows x 20 columns]"
      ]
     },
     "execution_count": 24,
     "metadata": {},
     "output_type": "execute_result"
    }
   ],
   "source": [
    "df=pd.read_excel(\"./表单2-处理2.xlsx\")\n",
    "df=df.fillna(0)\n",
    "df=pd.get_dummies(df,columns=[\"类型\"])\n",
    "df=df.rename(columns={'类型_铅钡':'铅钡'})\n",
    "df"
   ]
  },
  {
   "cell_type": "code",
   "execution_count": 25,
   "id": "6b6a2de9",
   "metadata": {
    "ExecuteTime": {
     "end_time": "2022-09-17T17:41:36.161622Z",
     "start_time": "2022-09-17T17:41:36.133697Z"
    }
   },
   "outputs": [
    {
     "data": {
      "text/plain": [
       "1.0"
      ]
     },
     "execution_count": 25,
     "metadata": {},
     "output_type": "execute_result"
    }
   ],
   "source": [
    "data=df.iloc[:,2:17]\n",
    "target=df[\"铅钡\"]\n",
    "random=2\n",
    "Xtrain, Xtest, Ytrain, Ytest = train_test_split(data, target, test_size=0.2,random_state=random)\n",
    "clf = tree.DecisionTreeClassifier(\n",
    "    criterion=\"gini\",\n",
    "    random_state=random,#随机数种子\n",
    "    splitter=\"best\",\n",
    "    max_depth=3,  # 树的最大深度，防止过拟合\n",
    "    #     min_samples_leaf=10,  #叶节点所需要的最小样本数\n",
    "    #     min_samples_split=25,# 拆分内部节点所需要的最小样本数，防止过拟合\n",
    ")\n",
    "clf = clf.fit(Xtrain, Ytrain)\n",
    "score = clf.score(Xtest, Ytest)\n",
    "score"
   ]
  },
  {
   "cell_type": "code",
   "execution_count": 26,
   "id": "d6b7d819",
   "metadata": {
    "ExecuteTime": {
     "end_time": "2022-09-17T17:41:36.209495Z",
     "start_time": "2022-09-17T17:41:36.164615Z"
    }
   },
   "outputs": [
    {
     "data": {
      "text/plain": [
       "array([0, 1, 1, 1, 1, 0, 0, 1], dtype=uint8)"
      ]
     },
     "execution_count": 26,
     "metadata": {},
     "output_type": "execute_result"
    }
   ],
   "source": [
    "df3=pd.read_excel(\"./表单3-处理.xlsx\")\n",
    "df3=df3.fillna(0)\n",
    "X_pre=df3.iloc[:,2:]\n",
    "clf.predict(X_pre)"
   ]
  },
  {
   "cell_type": "code",
   "execution_count": 27,
   "id": "9bacb629",
   "metadata": {
    "ExecuteTime": {
     "end_time": "2022-09-17T17:41:36.225452Z",
     "start_time": "2022-09-17T17:41:36.212488Z"
    }
   },
   "outputs": [
    {
     "data": {
      "text/plain": [
       "array([1., 1., 1., 1., 1., 1., 1., 0., 1., 1., 1., 1., 1., 1.])"
      ]
     },
     "execution_count": 27,
     "metadata": {},
     "output_type": "execute_result"
    }
   ],
   "source": [
    "clf.predict_proba(Xtest).T[1]"
   ]
  },
  {
   "cell_type": "code",
   "execution_count": 28,
   "id": "0d030726",
   "metadata": {
    "ExecuteTime": {
     "end_time": "2022-09-17T17:41:36.415944Z",
     "start_time": "2022-09-17T17:41:36.228447Z"
    }
   },
   "outputs": [
    {
     "data": {
      "text/plain": [
       "<Figure size 800x640 with 0 Axes>"
      ]
     },
     "metadata": {},
     "output_type": "display_data"
    },
    {
     "data": {
      "image/png": "[encoded data removed]",
      "image/svg+xml": "<?xml version=\"1.0\" encoding=\"utf-8\" standalone=\"no\"?>\n<!DOCTYPE svg PUBLIC \"-//W3C//DTD SVG 1.1//EN\"\n  \"http://www.w3.org/Graphics/SVG/1.1/DTD/svg11.dtd\">\n<svg xmlns:xlink=\"http://www.w3.org/1999/xlink\" width=\"633.0875pt\" height=\"614.8125pt\" viewBox=\"0 0 633.0875 614.8125\" xmlns=\"http://www.w3.org/2000/svg\" version=\"1.1\">\n <metadata>\n  <rdf:RDF xmlns:dc=\"http://purl.org/dc/elements/1.1/\" xmlns:cc=\"http://creativecommons.org/ns#\" xmlns:rdf=\"http://www.w3.org/1999/02/22-rdf-syntax-ns#\">\n   <cc:Work>\n    <dc:type rdf:resource=\"http://purl.org/dc/dcmitype/StillImage\"/>\n    <dc:date>2022-09-18T17:33:48.450052</dc:date>\n    <dc:format>image/svg+xml</dc:format>\n    <dc:creator>\n     <cc:Agent>\n      <dc:title>Matplotlib v3.5.1, https://matplotlib.org/</dc:title>\n     </cc:Agent>\n    </dc:creator>\n   </cc:Work>\n  </rdf:RDF>\n </metadata>\n <defs>\n  <style type=\"text/css\">*{stroke-linejoin: round; stroke-linecap: butt}</style>\n </defs>\n <g id=\"figure_1\">\n  <g id=\"patch_1\">\n   <path d=\"M 0 614.8125 \nL 633.0875 614.8125 \nL 633.0875 0 \nL 0 0 \nL 0 614.8125 \nz\n\" style=\"fill: none\"/>\n  </g>\n  <g id=\"axes_1\">\n   <g id=\"patch_2\">\n    <path d=\"M 55.8875 569.925 \nL 613.8875 569.925 \nL 613.8875 26.325 \nL 55.8875 26.325 \nz\n\" style=\"fill: #ffffff\"/>\n   </g>\n   <g id=\"matplotlib.axis_1\">\n    <g id=\"xtick_1\">\n     <g id=\"line2d_1\">\n      <defs>\n       <path id=\"m55ed477e0b\" d=\"M 0 0 \nL 0 3.5 \n\" style=\"stroke: #000000; stroke-width: 0.8\"/>\n      </defs>\n      <g>\n       <use xlink:href=\"#m55ed477e0b\" x=\"55.8875\" y=\"569.925\" style=\"stroke: #000000; stroke-width: 0.8\"/>\n      </g>\n     </g>\n     <g id=\"text_1\">\n      <!-- 0.0 -->\n      <g transform=\"translate(43.8875 587.925)scale(0.16 -0.16)\">\n       <defs>\n        <path id=\"SimHei-30\" d=\"M 225 2537 \nQ 250 3200 412 3587 \nQ 575 3975 875 4225 \nQ 1175 4475 1612 4475 \nQ 2050 4475 2375 4112 \nQ 2700 3750 2800 3200 \nQ 2900 2650 2862 1937 \nQ 2825 1225 2612 775 \nQ 2400 325 1975 150 \nQ 1550 -25 1125 187 \nQ 700 400 525 750 \nQ 350 1100 275 1487 \nQ 200 1875 225 2537 \nz\nM 750 2687 \nQ 675 2000 800 1462 \nQ 925 925 1212 700 \nQ 1500 475 1800 612 \nQ 2100 750 2237 1162 \nQ 2375 1575 2375 2062 \nQ 2375 2550 2337 2950 \nQ 2300 3350 2112 3675 \nQ 1925 4000 1612 4012 \nQ 1300 4025 1062 3700 \nQ 825 3375 750 2687 \nz\n\" transform=\"scale(0.015625)\"/>\n        <path id=\"SimHei-2e\" d=\"M 1075 125 \nL 500 125 \nL 500 675 \nL 1075 675 \nL 1075 125 \nz\n\" transform=\"scale(0.015625)\"/>\n       </defs>\n       <use xlink:href=\"#SimHei-30\"/>\n       <use xlink:href=\"#SimHei-2e\" x=\"50\"/>\n       <use xlink:href=\"#SimHei-30\" x=\"100\"/>\n      </g>\n     </g>\n    </g>\n    <g id=\"xtick_2\">\n     <g id=\"line2d_2\">\n      <g>\n       <use xlink:href=\"#m55ed477e0b\" x=\"167.4875\" y=\"569.925\" style=\"stroke: #000000; stroke-width: 0.8\"/>\n      </g>\n     </g>\n     <g id=\"text_2\">\n      <!-- 0.2 -->\n      <g transform=\"translate(155.4875 587.925)scale(0.16 -0.16)\">\n       <defs>\n        <path id=\"SimHei-32\" d=\"M 300 250 \nQ 325 625 650 925 \nQ 975 1225 1475 1862 \nQ 1975 2500 2125 2850 \nQ 2275 3200 2237 3450 \nQ 2200 3700 2000 3862 \nQ 1800 4025 1537 4000 \nQ 1275 3975 1037 3800 \nQ 800 3625 675 3275 \nL 200 3350 \nQ 400 3925 712 4187 \nQ 1025 4450 1450 4475 \nQ 1700 4500 1900 4462 \nQ 2100 4425 2312 4287 \nQ 2525 4150 2662 3875 \nQ 2800 3600 2762 3212 \nQ 2725 2825 2375 2287 \nQ 2025 1750 1025 600 \nL 2825 600 \nL 2825 150 \nL 300 150 \nL 300 250 \nz\n\" transform=\"scale(0.015625)\"/>\n       </defs>\n       <use xlink:href=\"#SimHei-30\"/>\n       <use xlink:href=\"#SimHei-2e\" x=\"50\"/>\n       <use xlink:href=\"#SimHei-32\" x=\"100\"/>\n      </g>\n     </g>\n    </g>\n    <g id=\"xtick_3\">\n     <g id=\"line2d_3\">\n      <g>\n       <use xlink:href=\"#m55ed477e0b\" x=\"279.0875\" y=\"569.925\" style=\"stroke: #000000; stroke-width: 0.8\"/>\n      </g>\n     </g>\n     <g id=\"text_3\">\n      <!-- 0.4 -->\n      <g transform=\"translate(267.0875 587.925)scale(0.16 -0.16)\">\n       <defs>\n        <path id=\"SimHei-34\" d=\"M 2000 1100 \nL 75 1100 \nL 75 1525 \nL 2100 4450 \nL 2475 4450 \nL 2475 1525 \nL 3075 1525 \nL 3075 1100 \nL 2475 1100 \nL 2475 150 \nL 2000 150 \nL 2000 1100 \nz\nM 2000 1525 \nL 2000 3500 \nL 600 1525 \nL 2000 1525 \nz\n\" transform=\"scale(0.015625)\"/>\n       </defs>\n       <use xlink:href=\"#SimHei-30\"/>\n       <use xlink:href=\"#SimHei-2e\" x=\"50\"/>\n       <use xlink:href=\"#SimHei-34\" x=\"100\"/>\n      </g>\n     </g>\n    </g>\n    <g id=\"xtick_4\">\n     <g id=\"line2d_4\">\n      <g>\n       <use xlink:href=\"#m55ed477e0b\" x=\"390.6875\" y=\"569.925\" style=\"stroke: #000000; stroke-width: 0.8\"/>\n      </g>\n     </g>\n     <g id=\"text_4\">\n      <!-- 0.6 -->\n      <g transform=\"translate(378.6875 587.925)scale(0.16 -0.16)\">\n       <defs>\n        <path id=\"SimHei-36\" d=\"M 250 1612 \nQ 275 1975 387 2225 \nQ 500 2475 725 2850 \nL 1750 4450 \nL 2325 4450 \nL 1275 2800 \nQ 1950 2975 2350 2750 \nQ 2750 2525 2887 2237 \nQ 3025 1950 3037 1612 \nQ 3050 1275 2937 950 \nQ 2825 625 2537 362 \nQ 2250 100 1737 75 \nQ 1225 50 862 262 \nQ 500 475 362 862 \nQ 225 1250 250 1612 \nz\nM 1025 787 \nQ 1250 550 1625 525 \nQ 2000 500 2250 775 \nQ 2500 1050 2500 1575 \nQ 2500 2100 2187 2300 \nQ 1875 2500 1487 2450 \nQ 1100 2400 925 2075 \nQ 750 1750 775 1387 \nQ 800 1025 1025 787 \nz\n\" transform=\"scale(0.015625)\"/>\n       </defs>\n       <use xlink:href=\"#SimHei-30\"/>\n       <use xlink:href=\"#SimHei-2e\" x=\"50\"/>\n       <use xlink:href=\"#SimHei-36\" x=\"100\"/>\n      </g>\n     </g>\n    </g>\n    <g id=\"xtick_5\">\n     <g id=\"line2d_5\">\n      <g>\n       <use xlink:href=\"#m55ed477e0b\" x=\"502.2875\" y=\"569.925\" style=\"stroke: #000000; stroke-width: 0.8\"/>\n      </g>\n     </g>\n     <g id=\"text_5\">\n      <!-- 0.8 -->\n      <g transform=\"translate(490.2875 587.925)scale(0.16 -0.16)\">\n       <defs>\n        <path id=\"SimHei-38\" d=\"M 175 1375 \nQ 175 1675 325 1962 \nQ 475 2250 825 2425 \nQ 525 2600 425 2812 \nQ 325 3025 312 3300 \nQ 300 3575 387 3775 \nQ 475 3975 650 4150 \nQ 825 4325 1037 4387 \nQ 1250 4450 1500 4450 \nQ 1750 4450 1950 4400 \nQ 2150 4350 2375 4187 \nQ 2600 4025 2700 3725 \nQ 2800 3425 2687 3025 \nQ 2575 2625 2100 2400 \nQ 2525 2275 2700 2012 \nQ 2875 1750 2875 1375 \nQ 2875 1000 2762 775 \nQ 2650 550 2512 400 \nQ 2375 250 2137 162 \nQ 1900 75 1537 75 \nQ 1175 75 912 162 \nQ 650 250 475 425 \nQ 300 600 237 837 \nQ 175 1075 175 1375 \nz\nM 687 1400 \nQ 675 1100 787 875 \nQ 900 650 1200 587 \nQ 1500 525 1825 600 \nQ 2150 675 2275 950 \nQ 2400 1225 2362 1500 \nQ 2325 1775 2050 1962 \nQ 1775 2150 1450 2125 \nQ 1125 2100 912 1900 \nQ 700 1700 687 1400 \nz\nM 775 3350 \nQ 775 3100 950 2875 \nQ 1125 2650 1500 2650 \nQ 1875 2650 2062 2875 \nQ 2250 3100 2237 3412 \nQ 2225 3725 2012 3875 \nQ 1800 4025 1437 4000 \nQ 1075 3975 925 3787 \nQ 775 3600 775 3350 \nz\n\" transform=\"scale(0.015625)\"/>\n       </defs>\n       <use xlink:href=\"#SimHei-30\"/>\n       <use xlink:href=\"#SimHei-2e\" x=\"50\"/>\n       <use xlink:href=\"#SimHei-38\" x=\"100\"/>\n      </g>\n     </g>\n    </g>\n    <g id=\"xtick_6\">\n     <g id=\"line2d_6\">\n      <g>\n       <use xlink:href=\"#m55ed477e0b\" x=\"613.8875\" y=\"569.925\" style=\"stroke: #000000; stroke-width: 0.8\"/>\n      </g>\n     </g>\n     <g id=\"text_6\">\n      <!-- 1.0 -->\n      <g transform=\"translate(601.8875 587.925)scale(0.16 -0.16)\">\n       <defs>\n        <path id=\"SimHei-31\" d=\"M 1400 3600 \nQ 1075 3275 575 2975 \nL 575 3450 \nQ 1200 3875 1600 4450 \nL 1900 4450 \nL 1900 150 \nL 1400 150 \nL 1400 3600 \nz\n\" transform=\"scale(0.015625)\"/>\n       </defs>\n       <use xlink:href=\"#SimHei-31\"/>\n       <use xlink:href=\"#SimHei-2e\" x=\"50\"/>\n       <use xlink:href=\"#SimHei-30\" x=\"100\"/>\n      </g>\n     </g>\n    </g>\n    <g id=\"text_7\">\n     <!-- False Positive Rate(FPR) -->\n     <g transform=\"translate(238.8875 605.6125)scale(0.16 -0.16)\">\n      <defs>\n       <path id=\"SimHei-46\" d=\"M 2925 3925 \nL 875 3925 \nL 875 2525 \nL 2425 2525 \nL 2425 2050 \nL 875 2050 \nL 875 125 \nL 300 125 \nL 300 4400 \nL 2925 4400 \nL 2925 3925 \nz\n\" transform=\"scale(0.015625)\"/>\n       <path id=\"SimHei-61\" d=\"M 2875 125 \nL 2275 125 \nQ 2225 175 2200 262 \nQ 2175 350 2175 475 \nQ 2000 275 1750 175 \nQ 1500 75 1225 75 \nQ 825 75 550 275 \nQ 275 475 275 850 \nQ 275 1225 525 1450 \nQ 775 1675 1300 1750 \nQ 1650 1800 1912 1875 \nQ 2175 1950 2175 2075 \nQ 2175 2225 2062 2375 \nQ 1950 2525 1575 2525 \nQ 1275 2525 1137 2412 \nQ 1000 2300 950 2100 \nL 400 2100 \nQ 450 2500 762 2737 \nQ 1075 2975 1575 2975 \nQ 2125 2975 2400 2725 \nQ 2675 2475 2675 2025 \nL 2675 650 \nQ 2675 500 2725 375 \nQ 2775 250 2875 125 \nz\nM 2175 1050 \nL 2175 1550 \nQ 2025 1500 1887 1462 \nQ 1750 1425 1425 1375 \nQ 1050 1325 937 1200 \nQ 825 1075 825 900 \nQ 825 750 937 637 \nQ 1050 525 1275 525 \nQ 1500 525 1762 650 \nQ 2025 775 2175 1050 \nz\n\" transform=\"scale(0.015625)\"/>\n       <path id=\"SimHei-6c\" d=\"M 1825 125 \nL 1325 125 \nL 1325 4400 \nL 1825 4400 \nL 1825 125 \nz\n\" transform=\"scale(0.015625)\"/>\n       <path id=\"SimHei-73\" d=\"M 2750 900 \nQ 2750 500 2437 287 \nQ 2125 75 1650 75 \nQ 1050 75 725 312 \nQ 400 550 400 1000 \nL 900 1000 \nQ 900 700 1112 600 \nQ 1325 500 1625 500 \nQ 1925 500 2075 612 \nQ 2225 725 2225 900 \nQ 2225 1025 2100 1150 \nQ 1975 1275 1475 1350 \nQ 900 1425 687 1637 \nQ 475 1850 475 2200 \nQ 475 2500 762 2737 \nQ 1050 2975 1600 2975 \nQ 2100 2975 2387 2750 \nQ 2675 2525 2675 2150 \nL 2175 2150 \nQ 2175 2375 2012 2462 \nQ 1850 2550 1600 2550 \nQ 1275 2550 1137 2437 \nQ 1000 2325 1000 2175 \nQ 1000 2000 1125 1900 \nQ 1250 1800 1650 1750 \nQ 2300 1650 2525 1437 \nQ 2750 1225 2750 900 \nz\n\" transform=\"scale(0.015625)\"/>\n       <path id=\"SimHei-65\" d=\"M 2850 1075 \nQ 2800 625 2450 350 \nQ 2100 75 1625 75 \nQ 1025 75 637 462 \nQ 250 850 250 1525 \nQ 250 2200 637 2587 \nQ 1025 2975 1625 2975 \nQ 2150 2975 2487 2637 \nQ 2825 2300 2825 1525 \nL 800 1525 \nQ 800 975 1037 750 \nQ 1275 525 1625 525 \nQ 1900 525 2075 662 \nQ 2250 800 2300 1075 \nL 2850 1075 \nz\nM 2250 1925 \nQ 2200 2275 2025 2412 \nQ 1850 2550 1575 2550 \nQ 1325 2550 1125 2412 \nQ 925 2275 825 1925 \nL 2250 1925 \nz\n\" transform=\"scale(0.015625)\"/>\n       <path id=\"SimHei-20\" transform=\"scale(0.015625)\"/>\n       <path id=\"SimHei-50\" d=\"M 2950 3100 \nQ 2950 2500 2600 2150 \nQ 2250 1800 1625 1800 \nL 900 1800 \nL 900 125 \nL 325 125 \nL 325 4400 \nL 1625 4400 \nQ 2250 4400 2600 4050 \nQ 2950 3700 2950 3100 \nz\nM 2375 3100 \nQ 2375 3575 2150 3750 \nQ 1925 3925 1475 3925 \nL 900 3925 \nL 900 2275 \nL 1475 2275 \nQ 1925 2275 2150 2450 \nQ 2375 2625 2375 3100 \nz\n\" transform=\"scale(0.015625)\"/>\n       <path id=\"SimHei-6f\" d=\"M 2925 1525 \nQ 2925 875 2525 475 \nQ 2125 75 1575 75 \nQ 1025 75 625 475 \nQ 225 875 225 1525 \nQ 225 2175 625 2575 \nQ 1025 2975 1575 2975 \nQ 2125 2975 2525 2575 \nQ 2925 2175 2925 1525 \nz\nM 2375 1525 \nQ 2375 2025 2125 2275 \nQ 1875 2525 1575 2525 \nQ 1275 2525 1025 2275 \nQ 775 2025 775 1525 \nQ 775 1025 1025 775 \nQ 1275 525 1575 525 \nQ 1875 525 2125 775 \nQ 2375 1025 2375 1525 \nz\n\" transform=\"scale(0.015625)\"/>\n       <path id=\"SimHei-69\" d=\"M 1800 3725 \nL 1300 3725 \nL 1300 4375 \nL 1800 4375 \nL 1800 3725 \nz\nM 1800 125 \nL 1300 125 \nL 1300 2925 \nL 1800 2925 \nL 1800 125 \nz\n\" transform=\"scale(0.015625)\"/>\n       <path id=\"SimHei-74\" d=\"M 2750 200 \nQ 2625 150 2462 112 \nQ 2300 75 2025 75 \nQ 1575 75 1300 325 \nQ 1025 575 1025 1025 \nL 1025 2525 \nL 175 2525 \nL 175 2925 \nL 1025 2925 \nL 1025 3900 \nL 1525 3900 \nL 1525 2925 \nL 2550 2925 \nL 2550 2525 \nL 1525 2525 \nL 1525 1000 \nQ 1525 800 1625 662 \nQ 1725 525 2000 525 \nQ 2275 525 2450 575 \nQ 2625 625 2750 700 \nL 2750 200 \nz\n\" transform=\"scale(0.015625)\"/>\n       <path id=\"SimHei-76\" d=\"M 2875 2925 \nL 1825 75 \nL 1275 75 \nL 225 2925 \nL 750 2925 \nL 1525 750 \nL 1575 750 \nL 2350 2925 \nL 2875 2925 \nz\n\" transform=\"scale(0.015625)\"/>\n       <path id=\"SimHei-52\" d=\"M 3000 125 \nL 2400 125 \nL 1500 1975 \nL 850 1975 \nL 850 125 \nL 275 125 \nL 275 4400 \nL 1525 4400 \nQ 2125 4400 2500 4112 \nQ 2875 3825 2875 3175 \nQ 2875 2675 2625 2400 \nQ 2375 2125 2050 2050 \nL 3000 125 \nz\nM 2300 3175 \nQ 2300 3525 2087 3725 \nQ 1875 3925 1400 3925 \nL 850 3925 \nL 850 2450 \nL 1550 2450 \nQ 1850 2450 2075 2612 \nQ 2300 2775 2300 3175 \nz\n\" transform=\"scale(0.015625)\"/>\n       <path id=\"SimHei-28\" d=\"M 2975 -200 \nL 2700 -475 \nQ 2075 125 1762 775 \nQ 1450 1425 1450 2250 \nQ 1450 3075 1762 3725 \nQ 2075 4375 2700 5000 \nL 2975 4725 \nQ 2400 4175 2112 3587 \nQ 1825 3000 1825 2250 \nQ 1825 1500 2112 912 \nQ 2400 325 2975 -200 \nz\n\" transform=\"scale(0.015625)\"/>\n       <path id=\"SimHei-29\" d=\"M 1675 2250 \nQ 1675 1425 1362 775 \nQ 1050 125 425 -475 \nL 150 -200 \nQ 725 325 1012 912 \nQ 1300 1500 1300 2250 \nQ 1300 3000 1012 3587 \nQ 725 4175 150 4725 \nL 425 5000 \nQ 1050 4375 1362 3725 \nQ 1675 3075 1675 2250 \nz\n\" transform=\"scale(0.015625)\"/>\n      </defs>\n      <use xlink:href=\"#SimHei-46\"/>\n      <use xlink:href=\"#SimHei-61\" x=\"50\"/>\n      <use xlink:href=\"#SimHei-6c\" x=\"100\"/>\n      <use xlink:href=\"#SimHei-73\" x=\"150\"/>\n      <use xlink:href=\"#SimHei-65\" x=\"200\"/>\n      <use xlink:href=\"#SimHei-20\" x=\"250\"/>\n      <use xlink:href=\"#SimHei-50\" x=\"300\"/>\n      <use xlink:href=\"#SimHei-6f\" x=\"350\"/>\n      <use xlink:href=\"#SimHei-73\" x=\"400\"/>\n      <use xlink:href=\"#SimHei-69\" x=\"450\"/>\n      <use xlink:href=\"#SimHei-74\" x=\"500\"/>\n      <use xlink:href=\"#SimHei-69\" x=\"550\"/>\n      <use xlink:href=\"#SimHei-76\" x=\"600\"/>\n      <use xlink:href=\"#SimHei-65\" x=\"650\"/>\n      <use xlink:href=\"#SimHei-20\" x=\"700\"/>\n      <use xlink:href=\"#SimHei-52\" x=\"750\"/>\n      <use xlink:href=\"#SimHei-61\" x=\"800\"/>\n      <use xlink:href=\"#SimHei-74\" x=\"850\"/>\n      <use xlink:href=\"#SimHei-65\" x=\"900\"/>\n      <use xlink:href=\"#SimHei-28\" x=\"950\"/>\n      <use xlink:href=\"#SimHei-46\" x=\"1000\"/>\n      <use xlink:href=\"#SimHei-50\" x=\"1050\"/>\n      <use xlink:href=\"#SimHei-52\" x=\"1100\"/>\n      <use xlink:href=\"#SimHei-29\" x=\"1150\"/>\n     </g>\n    </g>\n   </g>\n   <g id=\"matplotlib.axis_2\">\n    <g id=\"ytick_1\">\n     <g id=\"line2d_7\">\n      <defs>\n       <path id=\"m6ffa340279\" d=\"M 0 0 \nL -3.5 0 \n\" style=\"stroke: #000000; stroke-width: 0.8\"/>\n      </defs>\n      <g>\n       <use xlink:href=\"#m6ffa340279\" x=\"55.8875\" y=\"569.925\" style=\"stroke: #000000; stroke-width: 0.8\"/>\n      </g>\n     </g>\n     <g id=\"text_8\">\n      <!-- 0.0 -->\n      <g transform=\"translate(24.8875 575.425)scale(0.16 -0.16)\">\n       <use xlink:href=\"#SimHei-30\"/>\n       <use xlink:href=\"#SimHei-2e\" x=\"50\"/>\n       <use xlink:href=\"#SimHei-30\" x=\"100\"/>\n      </g>\n     </g>\n    </g>\n    <g id=\"ytick_2\">\n     <g id=\"line2d_8\">\n      <g>\n       <use xlink:href=\"#m6ffa340279\" x=\"55.8875\" y=\"466.382143\" style=\"stroke: #000000; stroke-width: 0.8\"/>\n      </g>\n     </g>\n     <g id=\"text_9\">\n      <!-- 0.2 -->\n      <g transform=\"translate(24.8875 471.882143)scale(0.16 -0.16)\">\n       <use xlink:href=\"#SimHei-30\"/>\n       <use xlink:href=\"#SimHei-2e\" x=\"50\"/>\n       <use xlink:href=\"#SimHei-32\" x=\"100\"/>\n      </g>\n     </g>\n    </g>\n    <g id=\"ytick_3\">\n     <g id=\"line2d_9\">\n      <g>\n       <use xlink:href=\"#m6ffa340279\" x=\"55.8875\" y=\"362.839286\" style=\"stroke: #000000; stroke-width: 0.8\"/>\n      </g>\n     </g>\n     <g id=\"text_10\">\n      <!-- 0.4 -->\n      <g transform=\"translate(24.8875 368.339286)scale(0.16 -0.16)\">\n       <use xlink:href=\"#SimHei-30\"/>\n       <use xlink:href=\"#SimHei-2e\" x=\"50\"/>\n       <use xlink:href=\"#SimHei-34\" x=\"100\"/>\n      </g>\n     </g>\n    </g>\n    <g id=\"ytick_4\">\n     <g id=\"line2d_10\">\n      <g>\n       <use xlink:href=\"#m6ffa340279\" x=\"55.8875\" y=\"259.296429\" style=\"stroke: #000000; stroke-width: 0.8\"/>\n      </g>\n     </g>\n     <g id=\"text_11\">\n      <!-- 0.6 -->\n      <g transform=\"translate(24.8875 264.796429)scale(0.16 -0.16)\">\n       <use xlink:href=\"#SimHei-30\"/>\n       <use xlink:href=\"#SimHei-2e\" x=\"50\"/>\n       <use xlink:href=\"#SimHei-36\" x=\"100\"/>\n      </g>\n     </g>\n    </g>\n    <g id=\"ytick_5\">\n     <g id=\"line2d_11\">\n      <g>\n       <use xlink:href=\"#m6ffa340279\" x=\"55.8875\" y=\"155.753571\" style=\"stroke: #000000; stroke-width: 0.8\"/>\n      </g>\n     </g>\n     <g id=\"text_12\">\n      <!-- 0.8 -->\n      <g transform=\"translate(24.8875 161.253571)scale(0.16 -0.16)\">\n       <use xlink:href=\"#SimHei-30\"/>\n       <use xlink:href=\"#SimHei-2e\" x=\"50\"/>\n       <use xlink:href=\"#SimHei-38\" x=\"100\"/>\n      </g>\n     </g>\n    </g>\n    <g id=\"ytick_6\">\n     <g id=\"line2d_12\">\n      <g>\n       <use xlink:href=\"#m6ffa340279\" x=\"55.8875\" y=\"52.210714\" style=\"stroke: #000000; stroke-width: 0.8\"/>\n      </g>\n     </g>\n     <g id=\"text_13\">\n      <!-- 1.0 -->\n      <g transform=\"translate(24.8875 57.710714)scale(0.16 -0.16)\">\n       <use xlink:href=\"#SimHei-31\"/>\n       <use xlink:href=\"#SimHei-2e\" x=\"50\"/>\n       <use xlink:href=\"#SimHei-30\" x=\"100\"/>\n      </g>\n     </g>\n    </g>\n    <g id=\"text_14\">\n     <!-- True Positive Rate(TPR) -->\n     <g transform=\"translate(18.8875 390.125)rotate(-90)scale(0.16 -0.16)\">\n      <defs>\n       <path id=\"SimHei-54\" d=\"M 2850 3925 \nL 1850 3925 \nL 1850 125 \nL 1275 125 \nL 1275 3925 \nL 275 3925 \nL 275 4400 \nL 2850 4400 \nL 2850 3925 \nz\n\" transform=\"scale(0.015625)\"/>\n       <path id=\"SimHei-72\" d=\"M 2500 2425 \nQ 2025 2500 1700 2287 \nQ 1375 2075 1150 1550 \nL 1150 125 \nL 650 125 \nL 650 2925 \nL 1150 2925 \nL 1150 2200 \nQ 1375 2600 1712 2787 \nQ 2050 2975 2500 2975 \nL 2500 2425 \nz\n\" transform=\"scale(0.015625)\"/>\n       <path id=\"SimHei-75\" d=\"M 2800 125 \nL 2300 125 \nL 2300 650 \nQ 2100 375 1862 225 \nQ 1625 75 1250 75 \nQ 800 75 575 325 \nQ 350 575 350 950 \nL 350 2925 \nL 850 2925 \nL 850 1125 \nQ 850 825 1000 650 \nQ 1150 475 1400 475 \nQ 1725 475 2012 812 \nQ 2300 1150 2300 1650 \nL 2300 2925 \nL 2800 2925 \nL 2800 125 \nz\n\" transform=\"scale(0.015625)\"/>\n      </defs>\n      <use xlink:href=\"#SimHei-54\"/>\n      <use xlink:href=\"#SimHei-72\" x=\"50\"/>\n      <use xlink:href=\"#SimHei-75\" x=\"100\"/>\n      <use xlink:href=\"#SimHei-65\" x=\"150\"/>\n      <use xlink:href=\"#SimHei-20\" x=\"200\"/>\n      <use xlink:href=\"#SimHei-50\" x=\"250\"/>\n      <use xlink:href=\"#SimHei-6f\" x=\"300\"/>\n      <use xlink:href=\"#SimHei-73\" x=\"350\"/>\n      <use xlink:href=\"#SimHei-69\" x=\"400\"/>\n      <use xlink:href=\"#SimHei-74\" x=\"450\"/>\n      <use xlink:href=\"#SimHei-69\" x=\"500\"/>\n      <use xlink:href=\"#SimHei-76\" x=\"550\"/>\n      <use xlink:href=\"#SimHei-65\" x=\"600\"/>\n      <use xlink:href=\"#SimHei-20\" x=\"650\"/>\n      <use xlink:href=\"#SimHei-52\" x=\"700\"/>\n      <use xlink:href=\"#SimHei-61\" x=\"750\"/>\n      <use xlink:href=\"#SimHei-74\" x=\"800\"/>\n      <use xlink:href=\"#SimHei-65\" x=\"850\"/>\n      <use xlink:href=\"#SimHei-28\" x=\"900\"/>\n      <use xlink:href=\"#SimHei-54\" x=\"950\"/>\n      <use xlink:href=\"#SimHei-50\" x=\"1000\"/>\n      <use xlink:href=\"#SimHei-52\" x=\"1050\"/>\n      <use xlink:href=\"#SimHei-29\" x=\"1100\"/>\n     </g>\n    </g>\n   </g>\n   <g id=\"line2d_13\">\n    <path d=\"M 55.8875 569.925 \nL 55.8875 52.210714 \nL 613.8875 52.210714 \n\" clip-path=\"url(#p5e65c2d1e3)\" style=\"fill: none; stroke: #ff0000; stroke-width: 2; stroke-linecap: square\"/>\n   </g>\n   <g id=\"line2d_14\">\n    <path d=\"M 55.8875 569.925 \nL 613.8875 52.210714 \n\" clip-path=\"url(#p5e65c2d1e3)\" style=\"fill: none; stroke-dasharray: 7.4,3.2; stroke-dashoffset: 0; stroke: #000080; stroke-width: 2\"/>\n   </g>\n   <g id=\"patch_3\">\n    <path d=\"M 55.8875 569.925 \nL 55.8875 26.325 \n\" style=\"fill: none; stroke: #000000; stroke-width: 0.8; stroke-linejoin: miter; stroke-linecap: square\"/>\n   </g>\n   <g id=\"patch_4\">\n    <path d=\"M 613.8875 569.925 \nL 613.8875 26.325 \n\" style=\"fill: none; stroke: #000000; stroke-width: 0.8; stroke-linejoin: miter; stroke-linecap: square\"/>\n   </g>\n   <g id=\"patch_5\">\n    <path d=\"M 55.8875 569.925 \nL 613.8875 569.925 \n\" style=\"fill: none; stroke: #000000; stroke-width: 0.8; stroke-linejoin: miter; stroke-linecap: square\"/>\n   </g>\n   <g id=\"patch_6\">\n    <path d=\"M 55.8875 26.325 \nL 613.8875 26.325 \n\" style=\"fill: none; stroke: #000000; stroke-width: 0.8; stroke-linejoin: miter; stroke-linecap: square\"/>\n   </g>\n   <g id=\"text_15\">\n    <!-- 决策树的ROC曲线 -->\n    <g transform=\"translate(274.8875 20.325)scale(0.16 -0.16)\">\n     <defs>\n      <path id=\"SimHei-51b3\" d=\"M 3400 3700 \nQ 2675 3700 2225 3675 \nL 2225 4150 \nQ 2675 4125 3400 4125 \nQ 3400 4825 3375 5200 \nQ 3650 5175 3950 5150 \nQ 3900 4800 3900 4125 \nL 5375 4125 \nQ 5350 3725 5350 2300 \nQ 5750 2300 6050 2325 \nL 6050 1850 \nQ 5675 1875 5300 1875 \nL 4025 1875 \nQ 4750 325 6200 50 \nQ 5925 -150 5825 -525 \nQ 4275 0 3700 1500 \nQ 3150 150 1800 -650 \nQ 1650 -400 1375 -250 \nQ 2850 500 3300 1875 \nL 2900 1875 \nQ 2450 1875 2000 1850 \nL 2000 2325 \nQ 2450 2300 2900 2300 \nL 3350 2300 \nQ 3400 3125 3400 3700 \nz\nM 4850 2300 \nL 4850 3700 \nL 3900 3700 \nQ 3875 2850 3850 2300 \nL 4850 2300 \nz\nM 1825 2150 \nQ 1550 1675 1250 1087 \nQ 950 500 800 150 \nQ 575 350 250 525 \nQ 525 850 850 1400 \nQ 1175 1950 1375 2500 \nQ 1550 2300 1825 2150 \nz\nM 750 4725 \nQ 1025 4425 1275 4125 \nQ 1525 3825 1800 3500 \nQ 1600 3350 1375 3125 \nQ 1150 3450 350 4350 \nQ 550 4525 750 4725 \nz\n\" transform=\"scale(0.015625)\"/>\n      <path id=\"SimHei-7b56\" d=\"M 4600 750 \nQ 4525 1000 4325 1275 \nQ 4625 1275 4787 1300 \nQ 4950 1325 4950 1500 \nL 4950 1950 \nL 3425 1950 \nL 3425 1575 \nQ 3625 1250 3950 987 \nQ 4275 725 4625 537 \nQ 4975 350 5325 237 \nQ 5675 125 6150 50 \nQ 5850 -200 5725 -525 \nQ 5375 -400 5050 -237 \nQ 4725 -75 4437 100 \nQ 4150 275 3887 487 \nQ 3625 700 3425 950 \nL 3425 275 \nQ 3425 -75 3450 -675 \nL 2950 -675 \nQ 2975 -75 2975 275 \nL 2975 1150 \nQ 2700 750 2275 375 \nQ 1850 0 1575 -175 \nQ 1300 -350 825 -650 \nQ 725 -475 350 -225 \nQ 675 -100 975 50 \nQ 1275 200 1650 462 \nQ 2025 725 2387 1112 \nQ 2750 1500 2950 1950 \nL 1500 1950 \nL 1500 825 \nL 1000 825 \nQ 1025 1325 1025 1675 \nQ 1025 2025 1000 2325 \nL 2975 2325 \nL 2975 2825 \nL 1425 2825 \nQ 1000 2825 550 2800 \nL 550 3250 \nQ 1000 3225 1400 3225 \nL 2975 3225 \nQ 2975 3475 2950 3650 \nL 3450 3650 \nQ 3425 3450 3425 3225 \nL 5175 3225 \nQ 5500 3225 5925 3250 \nL 5925 2800 \nQ 5525 2825 5200 2825 \nL 3425 2825 \nL 3425 2325 \nL 5425 2325 \nQ 5400 2025 5400 1725 \nQ 5400 1450 5375 1225 \nQ 5350 1000 5137 900 \nQ 4925 800 4600 750 \nz\nM 4525 5050 \nQ 4300 4850 4200 4675 \nL 5175 4675 \nQ 5600 4675 6075 4700 \nL 6075 4250 \nQ 5600 4275 4875 4275 \nQ 4950 4025 5050 3675 \nQ 4775 3625 4550 3550 \nQ 4500 3975 4400 4275 \nL 3950 4275 \nQ 3750 4000 3525 3700 \nQ 3300 3850 3075 3925 \nQ 3375 4225 3612 4612 \nQ 3850 5000 3950 5300 \nQ 4175 5150 4525 5050 \nz\nM 1950 5075 \nQ 1700 4850 1550 4675 \nL 2275 4675 \nQ 2625 4675 3125 4700 \nL 3125 4250 \nQ 2625 4275 2200 4275 \nQ 2275 4000 2375 3650 \nQ 2150 3600 1925 3500 \nQ 1850 3850 1750 4275 \nL 1300 4275 \nQ 1025 3950 650 3600 \nQ 475 3750 225 3900 \nQ 625 4175 925 4562 \nQ 1225 4950 1425 5300 \nQ 1675 5175 1950 5075 \nz\n\" transform=\"scale(0.015625)\"/>\n      <path id=\"SimHei-6811\" d=\"M 1100 4475 \nQ 1100 4825 1075 5125 \nL 1625 5125 \nQ 1550 4775 1550 4325 \nL 1550 3850 \nQ 1800 3850 2125 3875 \nL 2125 3425 \nQ 1825 3450 1550 3450 \nL 1550 2525 \nQ 1675 2675 1775 2775 \nQ 2150 2300 2450 1750 \nQ 2200 1650 2050 1525 \nQ 1800 2025 1550 2400 \nL 1550 400 \nQ 1550 -50 1575 -575 \nL 1075 -575 \nQ 1100 -50 1100 400 \nL 1100 2000 \nQ 950 1525 550 850 \nQ 450 1075 225 1300 \nQ 550 1725 775 2362 \nQ 1000 3000 1050 3450 \nQ 725 3450 375 3425 \nL 375 3875 \nQ 750 3850 1100 3850 \nL 1100 4475 \nz\nM 3850 4325 \nQ 3775 3525 3650 2950 \nQ 3525 2375 3400 2075 \nQ 3775 1500 4200 800 \nQ 3975 675 3775 475 \nQ 3600 900 3200 1550 \nQ 3025 1175 2787 787 \nQ 2550 400 2225 50 \nQ 2000 250 1775 375 \nQ 2175 700 2450 1125 \nQ 2725 1550 2900 2000 \nQ 2775 2300 2200 3100 \nQ 2400 3175 2550 3325 \nQ 2875 2925 3100 2525 \nQ 3300 3225 3350 3925 \nL 2800 3925 \nQ 2450 3925 2200 3900 \nL 2200 4350 \nQ 2425 4325 2800 4325 \nL 3850 4325 \nz\nM 5050 3825 \nQ 5025 4750 5025 5125 \nL 5525 5125 \nQ 5500 4750 5500 3825 \nQ 5750 3825 6050 3875 \nL 6050 3400 \nQ 5725 3425 5500 3425 \nL 5500 -100 \nQ 5475 -350 5300 -462 \nQ 5125 -575 4675 -625 \nQ 4625 -350 4450 -75 \nQ 4825 -100 4950 -62 \nQ 5075 -25 5050 275 \nL 5050 3425 \nQ 4325 3425 3975 3400 \nL 3975 3850 \nQ 4300 3825 5050 3825 \nz\nM 4325 2825 \nQ 4675 2100 4950 1525 \nQ 4625 1375 4525 1275 \nQ 4275 1975 3900 2600 \nQ 4200 2775 4325 2825 \nz\n\" transform=\"scale(0.015625)\"/>\n      <path id=\"SimHei-7684\" d=\"M 2100 4975 \nQ 1975 4750 1750 3950 \nL 2875 3950 \nQ 2850 3525 2850 2875 \nL 2850 675 \nQ 2850 300 2875 -400 \nL 2375 -400 \nL 2375 100 \nL 1100 100 \nL 1100 -450 \nL 600 -450 \nQ 625 350 625 550 \nL 625 2850 \nQ 625 3525 600 3950 \nL 1325 3950 \nQ 1450 4525 1525 5150 \nQ 1875 5025 2100 4975 \nz\nM 5825 3075 \nQ 5800 1550 5700 175 \nQ 5650 -275 5225 -425 \nQ 4800 -575 4275 -625 \nQ 4250 -350 4050 -50 \nQ 4550 -75 4837 -25 \nQ 5125 25 5200 200 \nQ 5275 375 5312 1225 \nQ 5350 2075 5375 3600 \nL 3925 3600 \nQ 3725 3125 3350 2475 \nQ 3175 2650 2925 2750 \nQ 3150 3050 3350 3475 \nQ 3550 3900 3700 4400 \nQ 3850 4900 3875 5175 \nQ 4225 5025 4475 4950 \nQ 4350 4750 4262 4512 \nQ 4175 4275 4075 4050 \nL 5850 4050 \nQ 5825 3525 5825 3075 \nz\nM 2375 525 \nL 2375 1850 \nL 1100 1850 \nL 1100 525 \nL 2375 525 \nz\nM 2375 2275 \nL 2375 3525 \nL 1100 3525 \nL 1100 2275 \nL 2375 2275 \nz\nM 4350 2050 \nQ 4500 1750 4700 1275 \nQ 4525 1200 4225 1025 \nQ 4050 1500 3900 1837 \nQ 3750 2175 3600 2400 \nQ 3775 2500 4050 2650 \nL 4350 2050 \nz\n\" transform=\"scale(0.015625)\"/>\n      <path id=\"SimHei-4f\" d=\"M 2950 2275 \nQ 2950 1100 2587 587 \nQ 2225 75 1575 75 \nQ 925 75 550 587 \nQ 175 1100 175 2275 \nQ 175 3450 550 3950 \nQ 925 4450 1575 4450 \nQ 2225 4450 2587 3950 \nQ 2950 3450 2950 2275 \nz\nM 2350 2275 \nQ 2350 3325 2125 3650 \nQ 1900 3975 1575 3975 \nQ 1250 3975 1012 3650 \nQ 775 3325 775 2275 \nQ 775 1225 1012 887 \nQ 1250 550 1575 550 \nQ 1900 550 2125 887 \nQ 2350 1225 2350 2275 \nz\n\" transform=\"scale(0.015625)\"/>\n      <path id=\"SimHei-43\" d=\"M 2975 1825 \nQ 2950 875 2575 475 \nQ 2200 75 1675 75 \nQ 1075 75 650 562 \nQ 225 1050 225 2125 \nQ 225 3300 637 3875 \nQ 1050 4450 1700 4450 \nQ 2250 4450 2612 4037 \nQ 2975 3625 2950 2875 \nL 2400 2875 \nQ 2400 3425 2225 3700 \nQ 2050 3975 1700 3975 \nQ 1300 3975 1062 3562 \nQ 825 3150 825 2175 \nQ 825 1275 1062 912 \nQ 1300 550 1675 550 \nQ 1950 550 2175 812 \nQ 2400 1075 2400 1825 \nL 2975 1825 \nz\n\" transform=\"scale(0.015625)\"/>\n      <path id=\"SimHei-66f2\" d=\"M 5825 500 \nQ 5825 -200 5850 -550 \nL 5275 -550 \nL 5275 -50 \nL 1150 -50 \nL 1150 -550 \nL 575 -550 \nQ 600 125 600 550 \nL 600 2775 \nQ 600 3425 575 3900 \nL 2150 3900 \nL 2150 4450 \nQ 2125 4850 2125 5150 \nL 2700 5150 \nQ 2650 4825 2650 4475 \nL 2650 3900 \nL 3700 3900 \nL 3700 4525 \nQ 3700 4850 3675 5175 \nL 4250 5175 \nQ 4225 4875 4225 4550 \nL 4225 3900 \nL 5850 3900 \nQ 5825 3525 5825 2750 \nL 5825 500 \nz\nM 3700 325 \nL 3700 1875 \nL 2650 1875 \nL 2650 325 \nL 3700 325 \nz\nM 5275 325 \nL 5275 1875 \nL 4225 1875 \nL 4225 325 \nL 5275 325 \nz\nM 2150 325 \nL 2150 1875 \nL 1150 1875 \nL 1150 325 \nL 2150 325 \nz\nM 3700 2250 \nL 3700 3525 \nL 2650 3525 \nL 2650 2250 \nL 3700 2250 \nz\nM 5275 2250 \nL 5275 3525 \nL 4225 3525 \nL 4225 2250 \nL 5275 2250 \nz\nM 2150 2250 \nL 2150 3525 \nL 1150 3525 \nL 1150 2250 \nL 2150 2250 \nz\n\" transform=\"scale(0.015625)\"/>\n      <path id=\"SimHei-7ebf\" d=\"M 3450 4300 \nQ 3450 4675 3375 5125 \nQ 3700 5100 4050 5050 \nQ 3975 4900 3950 4562 \nQ 3925 4225 3950 3600 \nL 4800 3750 \nQ 5225 3850 5650 3975 \nL 5750 3500 \nQ 5325 3450 4875 3375 \nL 3975 3200 \nQ 3975 2800 4025 2500 \nL 5000 2675 \nQ 5500 2775 5950 2925 \nL 6025 2450 \nQ 5575 2375 5075 2275 \nL 4100 2100 \nQ 4150 1600 4350 1175 \nQ 4575 1350 4787 1575 \nQ 5000 1800 5175 2075 \nQ 5550 1775 5750 1675 \nQ 5425 1525 5237 1337 \nQ 5050 1150 4625 750 \nQ 4925 250 5162 112 \nQ 5400 -25 5500 100 \nQ 5600 225 5675 625 \nQ 5900 450 6200 350 \nQ 5775 -750 5275 -537 \nQ 4775 -325 4225 450 \nQ 3875 175 3537 -62 \nQ 3200 -300 2700 -550 \nQ 2575 -300 2325 -100 \nQ 2825 75 3175 275 \nQ 3525 475 3975 850 \nQ 3750 1350 3650 2025 \nQ 2900 1900 2600 1800 \nL 2525 2275 \nQ 2825 2275 3550 2425 \nQ 3500 2825 3500 3100 \nQ 2825 2950 2575 2875 \nL 2475 3350 \nQ 2725 3350 3450 3500 \nL 3450 4300 \nz\nM 1950 4875 \nQ 1700 4650 1462 4237 \nQ 1225 3825 825 3225 \nQ 1425 3250 1650 3250 \nQ 1875 3625 2050 4075 \nQ 2300 3900 2600 3800 \nQ 2350 3550 2087 3125 \nQ 1825 2700 1175 1675 \nQ 1850 1725 2375 1775 \nQ 2300 1525 2300 1350 \nQ 2125 1350 1525 1287 \nQ 925 1225 550 1125 \nQ 525 1375 400 1650 \nQ 700 1725 950 2050 \nQ 1200 2375 1475 2875 \nQ 650 2825 425 2675 \nQ 350 2950 200 3225 \nQ 525 3450 825 3962 \nQ 1125 4475 1375 5150 \nQ 1625 4975 1950 4875 \nz\nM 2575 875 \nQ 2550 600 2575 450 \nQ 1950 325 1450 200 \nQ 950 75 525 -75 \nQ 450 200 250 475 \nQ 950 550 1325 612 \nQ 1700 675 2575 875 \nz\nM 4850 4025 \nQ 4675 4300 4375 4675 \nL 4775 4875 \nQ 4875 4750 5275 4275 \nQ 5025 4175 4850 4025 \nz\n\" transform=\"scale(0.015625)\"/>\n     </defs>\n     <use xlink:href=\"#SimHei-51b3\"/>\n     <use xlink:href=\"#SimHei-7b56\" x=\"100\"/>\n     <use xlink:href=\"#SimHei-6811\" x=\"200\"/>\n     <use xlink:href=\"#SimHei-7684\" x=\"300\"/>\n     <use xlink:href=\"#SimHei-52\" x=\"400\"/>\n     <use xlink:href=\"#SimHei-4f\" x=\"450\"/>\n     <use xlink:href=\"#SimHei-43\" x=\"500\"/>\n     <use xlink:href=\"#SimHei-66f2\" x=\"550\"/>\n     <use xlink:href=\"#SimHei-7ebf\" x=\"650\"/>\n    </g>\n   </g>\n   <g id=\"legend_1\">\n    <g id=\"patch_7\">\n     <path d=\"M 367.4875 561.925 \nL 602.6875 561.925 \nQ 605.8875 561.925 605.8875 558.725 \nL 605.8875 538.6375 \nQ 605.8875 535.4375 602.6875 535.4375 \nL 367.4875 535.4375 \nQ 364.2875 535.4375 364.2875 538.6375 \nL 364.2875 558.725 \nQ 364.2875 561.925 367.4875 561.925 \nz\n\" style=\"fill: #ffffff; opacity: 0.8; stroke: #cccccc; stroke-linejoin: miter\"/>\n    </g>\n    <g id=\"line2d_15\">\n     <path d=\"M 370.6875 547.925 \nL 386.6875 547.925 \nL 402.6875 547.925 \n\" style=\"fill: none; stroke: #ff0000; stroke-width: 2; stroke-linecap: square\"/>\n    </g>\n    <g id=\"text_16\">\n     <!-- ROC curve (area = 1.00) -->\n     <g transform=\"translate(415.4875 553.525)scale(0.16 -0.16)\">\n      <defs>\n       <path id=\"SimHei-63\" d=\"M 2850 1250 \nQ 2850 725 2487 400 \nQ 2125 75 1575 75 \nQ 1025 75 625 462 \nQ 225 850 225 1525 \nQ 225 2200 625 2587 \nQ 1025 2975 1575 2975 \nQ 2125 2975 2450 2687 \nQ 2775 2400 2775 2000 \nL 2225 2000 \nQ 2200 2300 2012 2412 \nQ 1825 2525 1575 2525 \nQ 1275 2525 1025 2287 \nQ 775 2050 775 1525 \nQ 775 1000 1025 762 \nQ 1275 525 1575 525 \nQ 1900 525 2100 700 \nQ 2300 875 2300 1250 \nL 2850 1250 \nz\n\" transform=\"scale(0.015625)\"/>\n       <path id=\"SimHei-3d\" d=\"M 2975 2900 \nL 125 2900 \nL 125 3300 \nL 2975 3300 \nL 2975 2900 \nz\nM 2975 1375 \nL 125 1375 \nL 125 1775 \nL 2975 1775 \nL 2975 1375 \nz\n\" transform=\"scale(0.015625)\"/>\n      </defs>\n      <use xlink:href=\"#SimHei-52\"/>\n      <use xlink:href=\"#SimHei-4f\" x=\"50\"/>\n      <use xlink:href=\"#SimHei-43\" x=\"100\"/>\n      <use xlink:href=\"#SimHei-20\" x=\"150\"/>\n      <use xlink:href=\"#SimHei-63\" x=\"200\"/>\n      <use xlink:href=\"#SimHei-75\" x=\"250\"/>\n      <use xlink:href=\"#SimHei-72\" x=\"300\"/>\n      <use xlink:href=\"#SimHei-76\" x=\"350\"/>\n      <use xlink:href=\"#SimHei-65\" x=\"400\"/>\n      <use xlink:href=\"#SimHei-20\" x=\"450\"/>\n      <use xlink:href=\"#SimHei-28\" x=\"500\"/>\n      <use xlink:href=\"#SimHei-61\" x=\"550\"/>\n      <use xlink:href=\"#SimHei-72\" x=\"600\"/>\n      <use xlink:href=\"#SimHei-65\" x=\"650\"/>\n      <use xlink:href=\"#SimHei-61\" x=\"700\"/>\n      <use xlink:href=\"#SimHei-20\" x=\"750\"/>\n      <use xlink:href=\"#SimHei-3d\" x=\"800\"/>\n      <use xlink:href=\"#SimHei-20\" x=\"850\"/>\n      <use xlink:href=\"#SimHei-31\" x=\"900\"/>\n      <use xlink:href=\"#SimHei-2e\" x=\"950\"/>\n      <use xlink:href=\"#SimHei-30\" x=\"1000\"/>\n      <use xlink:href=\"#SimHei-30\" x=\"1050\"/>\n      <use xlink:href=\"#SimHei-29\" x=\"1100\"/>\n     </g>\n    </g>\n   </g>\n  </g>\n </g>\n <defs>\n  <clipPath id=\"p5e65c2d1e3\">\n   <rect x=\"55.8875\" y=\"26.325\" width=\"558\" height=\"543.6\"/>\n  </clipPath>\n </defs>\n</svg>\n",
      "text/plain": [
       "<Figure size 800x800 with 1 Axes>"
      ]
     },
     "metadata": {
      "needs_background": "light"
     },
     "output_type": "display_data"
    }
   ],
   "source": [
    "from sklearn.metrics import roc_auc_score,roc_curve,auc\n",
    "y_score = clf.predict_proba(Xtest)[:,1]\n",
    " \n",
    "# Compute ROC curve and ROC area for each class\n",
    "fpr,tpr,threshold = roc_curve(Ytest, y_score) ###计算真正率和假正率\n",
    "roc_auc = auc(fpr,tpr) ###计算auc的值\n",
    "\n",
    "plt.figure()\n",
    "lw = 2\n",
    "plt.figure(figsize=(10,10))\n",
    "plt.plot(fpr, tpr, color='red',\n",
    "         lw=lw, label='ROC curve (area = %0.2f)' % roc_auc) ###假正率为横坐标，真正率为纵坐标做曲线\n",
    "plt.plot([0, 1], [0, 1], color='navy', lw=lw, linestyle='--')\n",
    "plt.xlim([0.0, 1.0])\n",
    "plt.ylim([0.0, 1.05])\n",
    "plt.xlabel('False Positive Rate(FPR)')\n",
    "plt.ylabel('True Positive Rate(TPR)')\n",
    "plt.title('决策树的ROC曲线')\n",
    "plt.legend(loc=\"lower right\")\n",
    "plt.show()"
   ]
  },
  {
   "cell_type": "code",
   "execution_count": 29,
   "id": "d96edc23",
   "metadata": {
    "ExecuteTime": {
     "end_time": "2022-09-17T17:41:36.774992Z",
     "start_time": "2022-09-17T17:41:36.416940Z"
    }
   },
   "outputs": [
    {
     "data": {
      "image/svg+xml": "<?xml version=\"1.0\" encoding=\"UTF-8\" standalone=\"no\"?>\n<!DOCTYPE svg PUBLIC \"-//W3C//DTD SVG 1.1//EN\"\n \"http://www.w3.org/Graphics/SVG/1.1/DTD/svg11.dtd\">\n<!-- Generated by graphviz version 2.50.0 (0)\n -->\n<!-- Title: Tree Pages: 1 -->\n<svg width=\"230pt\" height=\"195pt\"\n viewBox=\"0.00 0.00 230.00 195.00\" xmlns=\"http://www.w3.org/2000/svg\" xmlns:xlink=\"http://www.w3.org/1999/xlink\">\n<g id=\"graph0\" class=\"graph\" transform=\"scale(1 1) rotate(0) translate(4 191)\">\n<title>Tree</title>\n<polygon fill=\"white\" stroke=\"transparent\" points=\"-4,4 -4,-191 226,-191 226,4 -4,4\"/>\n<!-- 0 -->\n<g id=\"node1\" class=\"node\">\n<title>0</title>\n<path fill=\"#96cbf1\" stroke=\"black\" d=\"M176.5,-187C176.5,-187 45.5,-187 45.5,-187 39.5,-187 33.5,-181 33.5,-175 33.5,-175 33.5,-116 33.5,-116 33.5,-110 39.5,-104 45.5,-104 45.5,-104 176.5,-104 176.5,-104 182.5,-104 188.5,-110 188.5,-116 188.5,-116 188.5,-175 188.5,-175 188.5,-181 182.5,-187 176.5,-187\"/>\n<text text-anchor=\"middle\" x=\"111\" y=\"-171.8\" font-family=\"Helvetica,sans-Serif\" font-size=\"14.00\">氧化铅(PbO) &lt;= 5.46</text>\n<text text-anchor=\"middle\" x=\"111\" y=\"-156.8\" font-family=\"Helvetica,sans-Serif\" font-size=\"14.00\">gini = 0.436</text>\n<text text-anchor=\"middle\" x=\"111\" y=\"-141.8\" font-family=\"Helvetica,sans-Serif\" font-size=\"14.00\">samples = 53</text>\n<text text-anchor=\"middle\" x=\"111\" y=\"-126.8\" font-family=\"Helvetica,sans-Serif\" font-size=\"14.00\">value = [17, 36]</text>\n<text text-anchor=\"middle\" x=\"111\" y=\"-111.8\" font-family=\"Helvetica,sans-Serif\" font-size=\"14.00\">class = 铅钡</text>\n</g>\n<!-- 1 -->\n<g id=\"node2\" class=\"node\">\n<title>1</title>\n<path fill=\"#e58139\" stroke=\"black\" d=\"M90,-68C90,-68 12,-68 12,-68 6,-68 0,-62 0,-56 0,-56 0,-12 0,-12 0,-6 6,0 12,0 12,0 90,0 90,0 96,0 102,-6 102,-12 102,-12 102,-56 102,-56 102,-62 96,-68 90,-68\"/>\n<text text-anchor=\"middle\" x=\"51\" y=\"-52.8\" font-family=\"Helvetica,sans-Serif\" font-size=\"14.00\">gini = 0.0</text>\n<text text-anchor=\"middle\" x=\"51\" y=\"-37.8\" font-family=\"Helvetica,sans-Serif\" font-size=\"14.00\">samples = 17</text>\n<text text-anchor=\"middle\" x=\"51\" y=\"-22.8\" font-family=\"Helvetica,sans-Serif\" font-size=\"14.00\">value = [17, 0]</text>\n<text text-anchor=\"middle\" x=\"51\" y=\"-7.8\" font-family=\"Helvetica,sans-Serif\" font-size=\"14.00\">class = 高钾</text>\n</g>\n<!-- 0&#45;&gt;1 -->\n<g id=\"edge1\" class=\"edge\">\n<title>0&#45;&gt;1</title>\n<path fill=\"none\" stroke=\"black\" d=\"M88.66,-103.73C83.91,-95.06 78.89,-85.9 74.11,-77.18\"/>\n<polygon fill=\"black\" stroke=\"black\" points=\"77.12,-75.39 69.25,-68.3 70.98,-78.75 77.12,-75.39\"/>\n<text text-anchor=\"middle\" x=\"62.24\" y=\"-88.6\" font-family=\"Helvetica,sans-Serif\" font-size=\"14.00\">True</text>\n</g>\n<!-- 2 -->\n<g id=\"node3\" class=\"node\">\n<title>2</title>\n<path fill=\"#399de5\" stroke=\"black\" d=\"M210,-68C210,-68 132,-68 132,-68 126,-68 120,-62 120,-56 120,-56 120,-12 120,-12 120,-6 126,0 132,0 132,0 210,0 210,0 216,0 222,-6 222,-12 222,-12 222,-56 222,-56 222,-62 216,-68 210,-68\"/>\n<text text-anchor=\"middle\" x=\"171\" y=\"-52.8\" font-family=\"Helvetica,sans-Serif\" font-size=\"14.00\">gini = 0.0</text>\n<text text-anchor=\"middle\" x=\"171\" y=\"-37.8\" font-family=\"Helvetica,sans-Serif\" font-size=\"14.00\">samples = 36</text>\n<text text-anchor=\"middle\" x=\"171\" y=\"-22.8\" font-family=\"Helvetica,sans-Serif\" font-size=\"14.00\">value = [0, 36]</text>\n<text text-anchor=\"middle\" x=\"171\" y=\"-7.8\" font-family=\"Helvetica,sans-Serif\" font-size=\"14.00\">class = 铅钡</text>\n</g>\n<!-- 0&#45;&gt;2 -->\n<g id=\"edge2\" class=\"edge\">\n<title>0&#45;&gt;2</title>\n<path fill=\"none\" stroke=\"black\" d=\"M133.34,-103.73C138.09,-95.06 143.11,-85.9 147.89,-77.18\"/>\n<polygon fill=\"black\" stroke=\"black\" points=\"151.02,-78.75 152.75,-68.3 144.88,-75.39 151.02,-78.75\"/>\n<text text-anchor=\"middle\" x=\"159.76\" y=\"-88.6\" font-family=\"Helvetica,sans-Serif\" font-size=\"14.00\">False</text>\n</g>\n</g>\n</svg>\n",
      "text/plain": [
       "<graphviz.sources.Source at 0x1f72998af10>"
      ]
     },
     "execution_count": 29,
     "metadata": {},
     "output_type": "execute_result"
    }
   ],
   "source": [
    "import graphviz\n",
    "\n",
    "feature_name = data.columns\n",
    "\n",
    "dot_data = tree.export_graphviz(\n",
    "    clf,\n",
    "    feature_names=feature_name,\n",
    "    class_names=[\"高钾\",\"铅钡\"],\n",
    "    filled=True,  # 是否填充颜色\n",
    "    rounded=True,  # 每一块的边框为弧形\n",
    ")\n",
    "graph = graphviz.Source(dot_data)\n",
    "graph"
   ]
  },
  {
   "cell_type": "code",
   "execution_count": 30,
   "id": "8adf4a46",
   "metadata": {
    "ExecuteTime": {
     "end_time": "2022-09-17T17:41:36.789943Z",
     "start_time": "2022-09-17T17:41:36.776977Z"
    }
   },
   "outputs": [
    {
     "data": {
      "text/html": [
       "<div>\n",
       "<style scoped>\n",
       "    .dataframe tbody tr th:only-of-type {\n",
       "        vertical-align: middle;\n",
       "    }\n",
       "\n",
       "    .dataframe tbody tr th {\n",
       "        vertical-align: top;\n",
       "    }\n",
       "\n",
       "    .dataframe thead th {\n",
       "        text-align: right;\n",
       "    }\n",
       "</style>\n",
       "<table border=\"1\" class=\"dataframe\">\n",
       "  <thead>\n",
       "    <tr style=\"text-align: right;\">\n",
       "      <th></th>\n",
       "      <th>0</th>\n",
       "    </tr>\n",
       "  </thead>\n",
       "  <tbody>\n",
       "    <tr>\n",
       "      <th>风化与否</th>\n",
       "      <td>0.0</td>\n",
       "    </tr>\n",
       "    <tr>\n",
       "      <th>二氧化硅(SiO2)</th>\n",
       "      <td>0.0</td>\n",
       "    </tr>\n",
       "    <tr>\n",
       "      <th>氧化钠(Na2O)</th>\n",
       "      <td>0.0</td>\n",
       "    </tr>\n",
       "    <tr>\n",
       "      <th>氧化钾(K2O)</th>\n",
       "      <td>0.0</td>\n",
       "    </tr>\n",
       "    <tr>\n",
       "      <th>氧化钙(CaO)</th>\n",
       "      <td>0.0</td>\n",
       "    </tr>\n",
       "    <tr>\n",
       "      <th>氧化镁(MgO)</th>\n",
       "      <td>0.0</td>\n",
       "    </tr>\n",
       "    <tr>\n",
       "      <th>氧化铝(Al2O3)</th>\n",
       "      <td>0.0</td>\n",
       "    </tr>\n",
       "    <tr>\n",
       "      <th>氧化铁(Fe2O3)</th>\n",
       "      <td>0.0</td>\n",
       "    </tr>\n",
       "    <tr>\n",
       "      <th>氧化铜(CuO)</th>\n",
       "      <td>0.0</td>\n",
       "    </tr>\n",
       "    <tr>\n",
       "      <th>氧化铅(PbO)</th>\n",
       "      <td>1.0</td>\n",
       "    </tr>\n",
       "    <tr>\n",
       "      <th>氧化钡(BaO)</th>\n",
       "      <td>0.0</td>\n",
       "    </tr>\n",
       "    <tr>\n",
       "      <th>五氧化二磷(P2O5)</th>\n",
       "      <td>0.0</td>\n",
       "    </tr>\n",
       "    <tr>\n",
       "      <th>氧化锶(SrO)</th>\n",
       "      <td>0.0</td>\n",
       "    </tr>\n",
       "    <tr>\n",
       "      <th>氧化锡(SnO2)</th>\n",
       "      <td>0.0</td>\n",
       "    </tr>\n",
       "    <tr>\n",
       "      <th>二氧化硫(SO2)</th>\n",
       "      <td>0.0</td>\n",
       "    </tr>\n",
       "  </tbody>\n",
       "</table>\n",
       "</div>"
      ],
      "text/plain": [
       "               0\n",
       "风化与否         0.0\n",
       "二氧化硅(SiO2)   0.0\n",
       "氧化钠(Na2O)    0.0\n",
       "氧化钾(K2O)     0.0\n",
       "氧化钙(CaO)     0.0\n",
       "氧化镁(MgO)     0.0\n",
       "氧化铝(Al2O3)   0.0\n",
       "氧化铁(Fe2O3)   0.0\n",
       "氧化铜(CuO)     0.0\n",
       "氧化铅(PbO)     1.0\n",
       "氧化钡(BaO)     0.0\n",
       "五氧化二磷(P2O5)  0.0\n",
       "氧化锶(SrO)     0.0\n",
       "氧化锡(SnO2)    0.0\n",
       "二氧化硫(SO2)    0.0"
      ]
     },
     "execution_count": 30,
     "metadata": {},
     "output_type": "execute_result"
    }
   ],
   "source": [
    "pd.DataFrame(clf.feature_importances_,index=data.columns)"
   ]
  },
  {
   "cell_type": "code",
   "execution_count": 31,
   "id": "48f4dced",
   "metadata": {
    "ExecuteTime": {
     "end_time": "2022-09-17T17:41:36.804903Z",
     "start_time": "2022-09-17T17:41:36.792937Z"
    }
   },
   "outputs": [
    {
     "data": {
      "text/plain": [
       "array([1., 1., 1., 1., 1., 1., 1., 0., 1., 1., 1., 1., 1., 1.])"
      ]
     },
     "execution_count": 31,
     "metadata": {},
     "output_type": "execute_result"
    }
   ],
   "source": [
    "clf.predict_proba(Xtest).T[1]"
   ]
  },
  {
   "cell_type": "code",
   "execution_count": 32,
   "id": "fe29a139",
   "metadata": {
    "ExecuteTime": {
     "end_time": "2022-09-17T17:41:36.834822Z",
     "start_time": "2022-09-17T17:41:36.810898Z"
    }
   },
   "outputs": [
    {
     "data": {
      "text/html": [
       "<div>\n",
       "<style scoped>\n",
       "    .dataframe tbody tr th:only-of-type {\n",
       "        vertical-align: middle;\n",
       "    }\n",
       "\n",
       "    .dataframe tbody tr th {\n",
       "        vertical-align: top;\n",
       "    }\n",
       "\n",
       "    .dataframe thead th {\n",
       "        text-align: right;\n",
       "    }\n",
       "</style>\n",
       "<table border=\"1\" class=\"dataframe\">\n",
       "  <thead>\n",
       "    <tr style=\"text-align: right;\">\n",
       "      <th></th>\n",
       "      <th>玻璃种类</th>\n",
       "    </tr>\n",
       "    <tr>\n",
       "      <th>文物编号</th>\n",
       "      <th></th>\n",
       "    </tr>\n",
       "  </thead>\n",
       "  <tbody>\n",
       "    <tr>\n",
       "      <th>A1</th>\n",
       "      <td>高钾</td>\n",
       "    </tr>\n",
       "    <tr>\n",
       "      <th>A2</th>\n",
       "      <td>铅钡</td>\n",
       "    </tr>\n",
       "    <tr>\n",
       "      <th>A3</th>\n",
       "      <td>铅钡</td>\n",
       "    </tr>\n",
       "    <tr>\n",
       "      <th>A4</th>\n",
       "      <td>铅钡</td>\n",
       "    </tr>\n",
       "    <tr>\n",
       "      <th>A5</th>\n",
       "      <td>铅钡</td>\n",
       "    </tr>\n",
       "    <tr>\n",
       "      <th>A6</th>\n",
       "      <td>高钾</td>\n",
       "    </tr>\n",
       "    <tr>\n",
       "      <th>A7</th>\n",
       "      <td>高钾</td>\n",
       "    </tr>\n",
       "    <tr>\n",
       "      <th>A8</th>\n",
       "      <td>铅钡</td>\n",
       "    </tr>\n",
       "  </tbody>\n",
       "</table>\n",
       "</div>"
      ],
      "text/plain": [
       "     玻璃种类\n",
       "文物编号     \n",
       "A1     高钾\n",
       "A2     铅钡\n",
       "A3     铅钡\n",
       "A4     铅钡\n",
       "A5     铅钡\n",
       "A6     高钾\n",
       "A7     高钾\n",
       "A8     铅钡"
      ]
     },
     "execution_count": 32,
     "metadata": {},
     "output_type": "execute_result"
    }
   ],
   "source": [
    "# 决策树的分类结果\n",
    "class_ = [\"高钾\" if i==0 else \"铅钡\" for i in clf.predict(X_pre)]\n",
    "pd.DataFrame(class_,index=df3[\"文物编号\"],columns=[\"玻璃种类\"])"
   ]
  },
  {
   "cell_type": "markdown",
   "id": "de518411",
   "metadata": {},
   "source": [
    "# 逻辑回归分类"
   ]
  },
  {
   "cell_type": "code",
   "execution_count": 33,
   "id": "24673650",
   "metadata": {
    "ExecuteTime": {
     "end_time": "2022-09-17T17:41:36.850814Z",
     "start_time": "2022-09-17T17:41:36.837816Z"
    }
   },
   "outputs": [],
   "source": [
    "from sklearn.linear_model import LogisticRegression as LR"
   ]
  },
  {
   "cell_type": "code",
   "execution_count": 34,
   "id": "71eb6049",
   "metadata": {
    "ExecuteTime": {
     "end_time": "2022-09-17T17:41:36.898683Z",
     "start_time": "2022-09-17T17:41:36.853773Z"
    }
   },
   "outputs": [
    {
     "data": {
      "text/html": [
       "<div>\n",
       "<style scoped>\n",
       "    .dataframe tbody tr th:only-of-type {\n",
       "        vertical-align: middle;\n",
       "    }\n",
       "\n",
       "    .dataframe tbody tr th {\n",
       "        vertical-align: top;\n",
       "    }\n",
       "\n",
       "    .dataframe thead th {\n",
       "        text-align: right;\n",
       "    }\n",
       "</style>\n",
       "<table border=\"1\" class=\"dataframe\">\n",
       "  <thead>\n",
       "    <tr style=\"text-align: right;\">\n",
       "      <th></th>\n",
       "      <th>逻辑回归系数</th>\n",
       "    </tr>\n",
       "  </thead>\n",
       "  <tbody>\n",
       "    <tr>\n",
       "      <th>风化与否</th>\n",
       "      <td>-0.000209</td>\n",
       "    </tr>\n",
       "    <tr>\n",
       "      <th>二氧化硅(SiO2)</th>\n",
       "      <td>-0.151782</td>\n",
       "    </tr>\n",
       "    <tr>\n",
       "      <th>氧化钠(Na2O)</th>\n",
       "      <td>0.029621</td>\n",
       "    </tr>\n",
       "    <tr>\n",
       "      <th>氧化钾(K2O)</th>\n",
       "      <td>-0.230645</td>\n",
       "    </tr>\n",
       "    <tr>\n",
       "      <th>氧化钙(CaO)</th>\n",
       "      <td>-0.103631</td>\n",
       "    </tr>\n",
       "    <tr>\n",
       "      <th>氧化镁(MgO)</th>\n",
       "      <td>-0.026976</td>\n",
       "    </tr>\n",
       "    <tr>\n",
       "      <th>氧化铝(Al2O3)</th>\n",
       "      <td>-0.002290</td>\n",
       "    </tr>\n",
       "    <tr>\n",
       "      <th>氧化铁(Fe2O3)</th>\n",
       "      <td>-0.023722</td>\n",
       "    </tr>\n",
       "    <tr>\n",
       "      <th>氧化铜(CuO)</th>\n",
       "      <td>-0.067202</td>\n",
       "    </tr>\n",
       "    <tr>\n",
       "      <th>氧化铅(PbO)</th>\n",
       "      <td>0.472286</td>\n",
       "    </tr>\n",
       "    <tr>\n",
       "      <th>氧化钡(BaO)</th>\n",
       "      <td>0.137766</td>\n",
       "    </tr>\n",
       "    <tr>\n",
       "      <th>五氧化二磷(P2O5)</th>\n",
       "      <td>-0.039641</td>\n",
       "    </tr>\n",
       "    <tr>\n",
       "      <th>氧化锶(SrO)</th>\n",
       "      <td>0.005936</td>\n",
       "    </tr>\n",
       "    <tr>\n",
       "      <th>氧化锡(SnO2)</th>\n",
       "      <td>0.000873</td>\n",
       "    </tr>\n",
       "    <tr>\n",
       "      <th>二氧化硫(SO2)</th>\n",
       "      <td>0.003225</td>\n",
       "    </tr>\n",
       "  </tbody>\n",
       "</table>\n",
       "</div>"
      ],
      "text/plain": [
       "               逻辑回归系数\n",
       "风化与否        -0.000209\n",
       "二氧化硅(SiO2)  -0.151782\n",
       "氧化钠(Na2O)    0.029621\n",
       "氧化钾(K2O)    -0.230645\n",
       "氧化钙(CaO)    -0.103631\n",
       "氧化镁(MgO)    -0.026976\n",
       "氧化铝(Al2O3)  -0.002290\n",
       "氧化铁(Fe2O3)  -0.023722\n",
       "氧化铜(CuO)    -0.067202\n",
       "氧化铅(PbO)     0.472286\n",
       "氧化钡(BaO)     0.137766\n",
       "五氧化二磷(P2O5) -0.039641\n",
       "氧化锶(SrO)     0.005936\n",
       "氧化锡(SnO2)    0.000873\n",
       "二氧化硫(SO2)    0.003225"
      ]
     },
     "execution_count": 34,
     "metadata": {},
     "output_type": "execute_result"
    }
   ],
   "source": [
    "Xtrain, Xtest, Ytrain, Ytest = train_test_split(data, target, test_size=0.3,random_state=2)\n",
    "model = LR(max_iter=500)\n",
    "model.fit(Xtrain, Ytrain)\n",
    "pd.DataFrame(model.coef_[0],index=data.columns,columns=[\"逻辑回归系数\"])"
   ]
  },
  {
   "cell_type": "code",
   "execution_count": 35,
   "id": "158c778e",
   "metadata": {
    "ExecuteTime": {
     "end_time": "2022-09-17T17:41:36.914609Z",
     "start_time": "2022-09-17T17:41:36.900647Z"
    }
   },
   "outputs": [
    {
     "data": {
      "text/plain": [
       "1.0"
      ]
     },
     "execution_count": 35,
     "metadata": {},
     "output_type": "execute_result"
    }
   ],
   "source": [
    "model.score(Xtest,Ytest)"
   ]
  },
  {
   "cell_type": "markdown",
   "id": "b761736a",
   "metadata": {},
   "source": [
    "## 绘制分类结果的ROC曲线"
   ]
  },
  {
   "cell_type": "code",
   "execution_count": 36,
   "id": "31f569a6",
   "metadata": {
    "ExecuteTime": {
     "end_time": "2022-09-17T17:41:36.929568Z",
     "start_time": "2022-09-17T17:41:36.916604Z"
    }
   },
   "outputs": [],
   "source": [
    "from sklearn.metrics import roc_auc_score,roc_curve\n",
    "import matplotlib.pyplot as plt"
   ]
  },
  {
   "cell_type": "code",
   "execution_count": 37,
   "id": "59ed44fd",
   "metadata": {
    "ExecuteTime": {
     "end_time": "2022-09-17T17:41:37.100178Z",
     "start_time": "2022-09-17T17:41:36.933559Z"
    }
   },
   "outputs": [
    {
     "data": {
      "text/plain": [
       "<Figure size 800x640 with 0 Axes>"
      ]
     },
     "metadata": {},
     "output_type": "display_data"
    },
    {
     "data": {
      "image/png": "[encoded data removed]",
      "image/svg+xml": "<?xml version=\"1.0\" encoding=\"utf-8\" standalone=\"no\"?>\n<!DOCTYPE svg PUBLIC \"-//W3C//DTD SVG 1.1//EN\"\n  \"http://www.w3.org/Graphics/SVG/1.1/DTD/svg11.dtd\">\n<svg xmlns:xlink=\"http://www.w3.org/1999/xlink\" width=\"627.616912pt\" height=\"614.625pt\" viewBox=\"0 0 627.616912 614.625\" xmlns=\"http://www.w3.org/2000/svg\" version=\"1.1\">\n <metadata>\n  <rdf:RDF xmlns:dc=\"http://purl.org/dc/elements/1.1/\" xmlns:cc=\"http://creativecommons.org/ns#\" xmlns:rdf=\"http://www.w3.org/1999/02/22-rdf-syntax-ns#\">\n   <cc:Work>\n    <dc:type rdf:resource=\"http://purl.org/dc/dcmitype/StillImage\"/>\n    <dc:date>2022-09-18T17:33:49.519820</dc:date>\n    <dc:format>image/svg+xml</dc:format>\n    <dc:creator>\n     <cc:Agent>\n      <dc:title>Matplotlib v3.5.1, https://matplotlib.org/</dc:title>\n     </cc:Agent>\n    </dc:creator>\n   </cc:Work>\n  </rdf:RDF>\n </metadata>\n <defs>\n  <style type=\"text/css\">*{stroke-linejoin: round; stroke-linecap: butt}</style>\n </defs>\n <g id=\"figure_1\">\n  <g id=\"patch_1\">\n   <path d=\"M 0 614.625 \nL 627.616912 614.625 \nL 627.616912 0 \nL 0 0 \nL 0 614.625 \nz\n\" style=\"fill: none\"/>\n  </g>\n  <g id=\"axes_1\">\n   <g id=\"patch_2\">\n    <path d=\"M 55.8875 569.7375 \nL 613.8875 569.7375 \nL 613.8875 26.1375 \nL 55.8875 26.1375 \nz\n\" style=\"fill: #ffffff\"/>\n   </g>\n   <g id=\"matplotlib.axis_1\">\n    <g id=\"xtick_1\">\n     <g id=\"line2d_1\">\n      <defs>\n       <path id=\"m06b66440cd\" d=\"M 0 0 \nL 0 3.5 \n\" style=\"stroke: #000000; stroke-width: 0.8\"/>\n      </defs>\n      <g>\n       <use xlink:href=\"#m06b66440cd\" x=\"61.358088\" y=\"569.7375\" style=\"stroke: #000000; stroke-width: 0.8\"/>\n      </g>\n     </g>\n     <g id=\"text_1\">\n      <!-- 0.0 -->\n      <g transform=\"translate(49.358088 587.7375)scale(0.16 -0.16)\">\n       <defs>\n        <path id=\"SimHei-30\" d=\"M 225 2537 \nQ 250 3200 412 3587 \nQ 575 3975 875 4225 \nQ 1175 4475 1612 4475 \nQ 2050 4475 2375 4112 \nQ 2700 3750 2800 3200 \nQ 2900 2650 2862 1937 \nQ 2825 1225 2612 775 \nQ 2400 325 1975 150 \nQ 1550 -25 1125 187 \nQ 700 400 525 750 \nQ 350 1100 275 1487 \nQ 200 1875 225 2537 \nz\nM 750 2687 \nQ 675 2000 800 1462 \nQ 925 925 1212 700 \nQ 1500 475 1800 612 \nQ 2100 750 2237 1162 \nQ 2375 1575 2375 2062 \nQ 2375 2550 2337 2950 \nQ 2300 3350 2112 3675 \nQ 1925 4000 1612 4012 \nQ 1300 4025 1062 3700 \nQ 825 3375 750 2687 \nz\n\" transform=\"scale(0.015625)\"/>\n        <path id=\"SimHei-2e\" d=\"M 1075 125 \nL 500 125 \nL 500 675 \nL 1075 675 \nL 1075 125 \nz\n\" transform=\"scale(0.015625)\"/>\n       </defs>\n       <use xlink:href=\"#SimHei-30\"/>\n       <use xlink:href=\"#SimHei-2e\" x=\"50\"/>\n       <use xlink:href=\"#SimHei-30\" x=\"100\"/>\n      </g>\n     </g>\n    </g>\n    <g id=\"xtick_2\">\n     <g id=\"line2d_2\">\n      <g>\n       <use xlink:href=\"#m06b66440cd\" x=\"170.769853\" y=\"569.7375\" style=\"stroke: #000000; stroke-width: 0.8\"/>\n      </g>\n     </g>\n     <g id=\"text_2\">\n      <!-- 0.2 -->\n      <g transform=\"translate(158.769853 587.7375)scale(0.16 -0.16)\">\n       <defs>\n        <path id=\"SimHei-32\" d=\"M 300 250 \nQ 325 625 650 925 \nQ 975 1225 1475 1862 \nQ 1975 2500 2125 2850 \nQ 2275 3200 2237 3450 \nQ 2200 3700 2000 3862 \nQ 1800 4025 1537 4000 \nQ 1275 3975 1037 3800 \nQ 800 3625 675 3275 \nL 200 3350 \nQ 400 3925 712 4187 \nQ 1025 4450 1450 4475 \nQ 1700 4500 1900 4462 \nQ 2100 4425 2312 4287 \nQ 2525 4150 2662 3875 \nQ 2800 3600 2762 3212 \nQ 2725 2825 2375 2287 \nQ 2025 1750 1025 600 \nL 2825 600 \nL 2825 150 \nL 300 150 \nL 300 250 \nz\n\" transform=\"scale(0.015625)\"/>\n       </defs>\n       <use xlink:href=\"#SimHei-30\"/>\n       <use xlink:href=\"#SimHei-2e\" x=\"50\"/>\n       <use xlink:href=\"#SimHei-32\" x=\"100\"/>\n      </g>\n     </g>\n    </g>\n    <g id=\"xtick_3\">\n     <g id=\"line2d_3\">\n      <g>\n       <use xlink:href=\"#m06b66440cd\" x=\"280.181618\" y=\"569.7375\" style=\"stroke: #000000; stroke-width: 0.8\"/>\n      </g>\n     </g>\n     <g id=\"text_3\">\n      <!-- 0.4 -->\n      <g transform=\"translate(268.181618 587.7375)scale(0.16 -0.16)\">\n       <defs>\n        <path id=\"SimHei-34\" d=\"M 2000 1100 \nL 75 1100 \nL 75 1525 \nL 2100 4450 \nL 2475 4450 \nL 2475 1525 \nL 3075 1525 \nL 3075 1100 \nL 2475 1100 \nL 2475 150 \nL 2000 150 \nL 2000 1100 \nz\nM 2000 1525 \nL 2000 3500 \nL 600 1525 \nL 2000 1525 \nz\n\" transform=\"scale(0.015625)\"/>\n       </defs>\n       <use xlink:href=\"#SimHei-30\"/>\n       <use xlink:href=\"#SimHei-2e\" x=\"50\"/>\n       <use xlink:href=\"#SimHei-34\" x=\"100\"/>\n      </g>\n     </g>\n    </g>\n    <g id=\"xtick_4\">\n     <g id=\"line2d_4\">\n      <g>\n       <use xlink:href=\"#m06b66440cd\" x=\"389.593382\" y=\"569.7375\" style=\"stroke: #000000; stroke-width: 0.8\"/>\n      </g>\n     </g>\n     <g id=\"text_4\">\n      <!-- 0.6 -->\n      <g transform=\"translate(377.593382 587.7375)scale(0.16 -0.16)\">\n       <defs>\n        <path id=\"SimHei-36\" d=\"M 250 1612 \nQ 275 1975 387 2225 \nQ 500 2475 725 2850 \nL 1750 4450 \nL 2325 4450 \nL 1275 2800 \nQ 1950 2975 2350 2750 \nQ 2750 2525 2887 2237 \nQ 3025 1950 3037 1612 \nQ 3050 1275 2937 950 \nQ 2825 625 2537 362 \nQ 2250 100 1737 75 \nQ 1225 50 862 262 \nQ 500 475 362 862 \nQ 225 1250 250 1612 \nz\nM 1025 787 \nQ 1250 550 1625 525 \nQ 2000 500 2250 775 \nQ 2500 1050 2500 1575 \nQ 2500 2100 2187 2300 \nQ 1875 2500 1487 2450 \nQ 1100 2400 925 2075 \nQ 750 1750 775 1387 \nQ 800 1025 1025 787 \nz\n\" transform=\"scale(0.015625)\"/>\n       </defs>\n       <use xlink:href=\"#SimHei-30\"/>\n       <use xlink:href=\"#SimHei-2e\" x=\"50\"/>\n       <use xlink:href=\"#SimHei-36\" x=\"100\"/>\n      </g>\n     </g>\n    </g>\n    <g id=\"xtick_5\">\n     <g id=\"line2d_5\">\n      <g>\n       <use xlink:href=\"#m06b66440cd\" x=\"499.005147\" y=\"569.7375\" style=\"stroke: #000000; stroke-width: 0.8\"/>\n      </g>\n     </g>\n     <g id=\"text_5\">\n      <!-- 0.8 -->\n      <g transform=\"translate(487.005147 587.7375)scale(0.16 -0.16)\">\n       <defs>\n        <path id=\"SimHei-38\" d=\"M 175 1375 \nQ 175 1675 325 1962 \nQ 475 2250 825 2425 \nQ 525 2600 425 2812 \nQ 325 3025 312 3300 \nQ 300 3575 387 3775 \nQ 475 3975 650 4150 \nQ 825 4325 1037 4387 \nQ 1250 4450 1500 4450 \nQ 1750 4450 1950 4400 \nQ 2150 4350 2375 4187 \nQ 2600 4025 2700 3725 \nQ 2800 3425 2687 3025 \nQ 2575 2625 2100 2400 \nQ 2525 2275 2700 2012 \nQ 2875 1750 2875 1375 \nQ 2875 1000 2762 775 \nQ 2650 550 2512 400 \nQ 2375 250 2137 162 \nQ 1900 75 1537 75 \nQ 1175 75 912 162 \nQ 650 250 475 425 \nQ 300 600 237 837 \nQ 175 1075 175 1375 \nz\nM 687 1400 \nQ 675 1100 787 875 \nQ 900 650 1200 587 \nQ 1500 525 1825 600 \nQ 2150 675 2275 950 \nQ 2400 1225 2362 1500 \nQ 2325 1775 2050 1962 \nQ 1775 2150 1450 2125 \nQ 1125 2100 912 1900 \nQ 700 1700 687 1400 \nz\nM 775 3350 \nQ 775 3100 950 2875 \nQ 1125 2650 1500 2650 \nQ 1875 2650 2062 2875 \nQ 2250 3100 2237 3412 \nQ 2225 3725 2012 3875 \nQ 1800 4025 1437 4000 \nQ 1075 3975 925 3787 \nQ 775 3600 775 3350 \nz\n\" transform=\"scale(0.015625)\"/>\n       </defs>\n       <use xlink:href=\"#SimHei-30\"/>\n       <use xlink:href=\"#SimHei-2e\" x=\"50\"/>\n       <use xlink:href=\"#SimHei-38\" x=\"100\"/>\n      </g>\n     </g>\n    </g>\n    <g id=\"xtick_6\">\n     <g id=\"line2d_6\">\n      <g>\n       <use xlink:href=\"#m06b66440cd\" x=\"608.416912\" y=\"569.7375\" style=\"stroke: #000000; stroke-width: 0.8\"/>\n      </g>\n     </g>\n     <g id=\"text_6\">\n      <!-- 1.0 -->\n      <g transform=\"translate(596.416912 587.7375)scale(0.16 -0.16)\">\n       <defs>\n        <path id=\"SimHei-31\" d=\"M 1400 3600 \nQ 1075 3275 575 2975 \nL 575 3450 \nQ 1200 3875 1600 4450 \nL 1900 4450 \nL 1900 150 \nL 1400 150 \nL 1400 3600 \nz\n\" transform=\"scale(0.015625)\"/>\n       </defs>\n       <use xlink:href=\"#SimHei-31\"/>\n       <use xlink:href=\"#SimHei-2e\" x=\"50\"/>\n       <use xlink:href=\"#SimHei-30\" x=\"100\"/>\n      </g>\n     </g>\n    </g>\n    <g id=\"text_7\">\n     <!-- False Positive Rate(FPR) -->\n     <g transform=\"translate(238.8875 605.425)scale(0.16 -0.16)\">\n      <defs>\n       <path id=\"SimHei-46\" d=\"M 2925 3925 \nL 875 3925 \nL 875 2525 \nL 2425 2525 \nL 2425 2050 \nL 875 2050 \nL 875 125 \nL 300 125 \nL 300 4400 \nL 2925 4400 \nL 2925 3925 \nz\n\" transform=\"scale(0.015625)\"/>\n       <path id=\"SimHei-61\" d=\"M 2875 125 \nL 2275 125 \nQ 2225 175 2200 262 \nQ 2175 350 2175 475 \nQ 2000 275 1750 175 \nQ 1500 75 1225 75 \nQ 825 75 550 275 \nQ 275 475 275 850 \nQ 275 1225 525 1450 \nQ 775 1675 1300 1750 \nQ 1650 1800 1912 1875 \nQ 2175 1950 2175 2075 \nQ 2175 2225 2062 2375 \nQ 1950 2525 1575 2525 \nQ 1275 2525 1137 2412 \nQ 1000 2300 950 2100 \nL 400 2100 \nQ 450 2500 762 2737 \nQ 1075 2975 1575 2975 \nQ 2125 2975 2400 2725 \nQ 2675 2475 2675 2025 \nL 2675 650 \nQ 2675 500 2725 375 \nQ 2775 250 2875 125 \nz\nM 2175 1050 \nL 2175 1550 \nQ 2025 1500 1887 1462 \nQ 1750 1425 1425 1375 \nQ 1050 1325 937 1200 \nQ 825 1075 825 900 \nQ 825 750 937 637 \nQ 1050 525 1275 525 \nQ 1500 525 1762 650 \nQ 2025 775 2175 1050 \nz\n\" transform=\"scale(0.015625)\"/>\n       <path id=\"SimHei-6c\" d=\"M 1825 125 \nL 1325 125 \nL 1325 4400 \nL 1825 4400 \nL 1825 125 \nz\n\" transform=\"scale(0.015625)\"/>\n       <path id=\"SimHei-73\" d=\"M 2750 900 \nQ 2750 500 2437 287 \nQ 2125 75 1650 75 \nQ 1050 75 725 312 \nQ 400 550 400 1000 \nL 900 1000 \nQ 900 700 1112 600 \nQ 1325 500 1625 500 \nQ 1925 500 2075 612 \nQ 2225 725 2225 900 \nQ 2225 1025 2100 1150 \nQ 1975 1275 1475 1350 \nQ 900 1425 687 1637 \nQ 475 1850 475 2200 \nQ 475 2500 762 2737 \nQ 1050 2975 1600 2975 \nQ 2100 2975 2387 2750 \nQ 2675 2525 2675 2150 \nL 2175 2150 \nQ 2175 2375 2012 2462 \nQ 1850 2550 1600 2550 \nQ 1275 2550 1137 2437 \nQ 1000 2325 1000 2175 \nQ 1000 2000 1125 1900 \nQ 1250 1800 1650 1750 \nQ 2300 1650 2525 1437 \nQ 2750 1225 2750 900 \nz\n\" transform=\"scale(0.015625)\"/>\n       <path id=\"SimHei-65\" d=\"M 2850 1075 \nQ 2800 625 2450 350 \nQ 2100 75 1625 75 \nQ 1025 75 637 462 \nQ 250 850 250 1525 \nQ 250 2200 637 2587 \nQ 1025 2975 1625 2975 \nQ 2150 2975 2487 2637 \nQ 2825 2300 2825 1525 \nL 800 1525 \nQ 800 975 1037 750 \nQ 1275 525 1625 525 \nQ 1900 525 2075 662 \nQ 2250 800 2300 1075 \nL 2850 1075 \nz\nM 2250 1925 \nQ 2200 2275 2025 2412 \nQ 1850 2550 1575 2550 \nQ 1325 2550 1125 2412 \nQ 925 2275 825 1925 \nL 2250 1925 \nz\n\" transform=\"scale(0.015625)\"/>\n       <path id=\"SimHei-20\" transform=\"scale(0.015625)\"/>\n       <path id=\"SimHei-50\" d=\"M 2950 3100 \nQ 2950 2500 2600 2150 \nQ 2250 1800 1625 1800 \nL 900 1800 \nL 900 125 \nL 325 125 \nL 325 4400 \nL 1625 4400 \nQ 2250 4400 2600 4050 \nQ 2950 3700 2950 3100 \nz\nM 2375 3100 \nQ 2375 3575 2150 3750 \nQ 1925 3925 1475 3925 \nL 900 3925 \nL 900 2275 \nL 1475 2275 \nQ 1925 2275 2150 2450 \nQ 2375 2625 2375 3100 \nz\n\" transform=\"scale(0.015625)\"/>\n       <path id=\"SimHei-6f\" d=\"M 2925 1525 \nQ 2925 875 2525 475 \nQ 2125 75 1575 75 \nQ 1025 75 625 475 \nQ 225 875 225 1525 \nQ 225 2175 625 2575 \nQ 1025 2975 1575 2975 \nQ 2125 2975 2525 2575 \nQ 2925 2175 2925 1525 \nz\nM 2375 1525 \nQ 2375 2025 2125 2275 \nQ 1875 2525 1575 2525 \nQ 1275 2525 1025 2275 \nQ 775 2025 775 1525 \nQ 775 1025 1025 775 \nQ 1275 525 1575 525 \nQ 1875 525 2125 775 \nQ 2375 1025 2375 1525 \nz\n\" transform=\"scale(0.015625)\"/>\n       <path id=\"SimHei-69\" d=\"M 1800 3725 \nL 1300 3725 \nL 1300 4375 \nL 1800 4375 \nL 1800 3725 \nz\nM 1800 125 \nL 1300 125 \nL 1300 2925 \nL 1800 2925 \nL 1800 125 \nz\n\" transform=\"scale(0.015625)\"/>\n       <path id=\"SimHei-74\" d=\"M 2750 200 \nQ 2625 150 2462 112 \nQ 2300 75 2025 75 \nQ 1575 75 1300 325 \nQ 1025 575 1025 1025 \nL 1025 2525 \nL 175 2525 \nL 175 2925 \nL 1025 2925 \nL 1025 3900 \nL 1525 3900 \nL 1525 2925 \nL 2550 2925 \nL 2550 2525 \nL 1525 2525 \nL 1525 1000 \nQ 1525 800 1625 662 \nQ 1725 525 2000 525 \nQ 2275 525 2450 575 \nQ 2625 625 2750 700 \nL 2750 200 \nz\n\" transform=\"scale(0.015625)\"/>\n       <path id=\"SimHei-76\" d=\"M 2875 2925 \nL 1825 75 \nL 1275 75 \nL 225 2925 \nL 750 2925 \nL 1525 750 \nL 1575 750 \nL 2350 2925 \nL 2875 2925 \nz\n\" transform=\"scale(0.015625)\"/>\n       <path id=\"SimHei-52\" d=\"M 3000 125 \nL 2400 125 \nL 1500 1975 \nL 850 1975 \nL 850 125 \nL 275 125 \nL 275 4400 \nL 1525 4400 \nQ 2125 4400 2500 4112 \nQ 2875 3825 2875 3175 \nQ 2875 2675 2625 2400 \nQ 2375 2125 2050 2050 \nL 3000 125 \nz\nM 2300 3175 \nQ 2300 3525 2087 3725 \nQ 1875 3925 1400 3925 \nL 850 3925 \nL 850 2450 \nL 1550 2450 \nQ 1850 2450 2075 2612 \nQ 2300 2775 2300 3175 \nz\n\" transform=\"scale(0.015625)\"/>\n       <path id=\"SimHei-28\" d=\"M 2975 -200 \nL 2700 -475 \nQ 2075 125 1762 775 \nQ 1450 1425 1450 2250 \nQ 1450 3075 1762 3725 \nQ 2075 4375 2700 5000 \nL 2975 4725 \nQ 2400 4175 2112 3587 \nQ 1825 3000 1825 2250 \nQ 1825 1500 2112 912 \nQ 2400 325 2975 -200 \nz\n\" transform=\"scale(0.015625)\"/>\n       <path id=\"SimHei-29\" d=\"M 1675 2250 \nQ 1675 1425 1362 775 \nQ 1050 125 425 -475 \nL 150 -200 \nQ 725 325 1012 912 \nQ 1300 1500 1300 2250 \nQ 1300 3000 1012 3587 \nQ 725 4175 150 4725 \nL 425 5000 \nQ 1050 4375 1362 3725 \nQ 1675 3075 1675 2250 \nz\n\" transform=\"scale(0.015625)\"/>\n      </defs>\n      <use xlink:href=\"#SimHei-46\"/>\n      <use xlink:href=\"#SimHei-61\" x=\"50\"/>\n      <use xlink:href=\"#SimHei-6c\" x=\"100\"/>\n      <use xlink:href=\"#SimHei-73\" x=\"150\"/>\n      <use xlink:href=\"#SimHei-65\" x=\"200\"/>\n      <use xlink:href=\"#SimHei-20\" x=\"250\"/>\n      <use xlink:href=\"#SimHei-50\" x=\"300\"/>\n      <use xlink:href=\"#SimHei-6f\" x=\"350\"/>\n      <use xlink:href=\"#SimHei-73\" x=\"400\"/>\n      <use xlink:href=\"#SimHei-69\" x=\"450\"/>\n      <use xlink:href=\"#SimHei-74\" x=\"500\"/>\n      <use xlink:href=\"#SimHei-69\" x=\"550\"/>\n      <use xlink:href=\"#SimHei-76\" x=\"600\"/>\n      <use xlink:href=\"#SimHei-65\" x=\"650\"/>\n      <use xlink:href=\"#SimHei-20\" x=\"700\"/>\n      <use xlink:href=\"#SimHei-52\" x=\"750\"/>\n      <use xlink:href=\"#SimHei-61\" x=\"800\"/>\n      <use xlink:href=\"#SimHei-74\" x=\"850\"/>\n      <use xlink:href=\"#SimHei-65\" x=\"900\"/>\n      <use xlink:href=\"#SimHei-28\" x=\"950\"/>\n      <use xlink:href=\"#SimHei-46\" x=\"1000\"/>\n      <use xlink:href=\"#SimHei-50\" x=\"1050\"/>\n      <use xlink:href=\"#SimHei-52\" x=\"1100\"/>\n      <use xlink:href=\"#SimHei-29\" x=\"1150\"/>\n     </g>\n    </g>\n   </g>\n   <g id=\"matplotlib.axis_2\">\n    <g id=\"ytick_1\">\n     <g id=\"line2d_7\">\n      <defs>\n       <path id=\"m37e79f723d\" d=\"M 0 0 \nL -3.5 0 \n\" style=\"stroke: #000000; stroke-width: 0.8\"/>\n      </defs>\n      <g>\n       <use xlink:href=\"#m37e79f723d\" x=\"55.8875\" y=\"569.7375\" style=\"stroke: #000000; stroke-width: 0.8\"/>\n      </g>\n     </g>\n     <g id=\"text_8\">\n      <!-- 0.0 -->\n      <g transform=\"translate(24.8875 575.2375)scale(0.16 -0.16)\">\n       <use xlink:href=\"#SimHei-30\"/>\n       <use xlink:href=\"#SimHei-2e\" x=\"50\"/>\n       <use xlink:href=\"#SimHei-30\" x=\"100\"/>\n      </g>\n     </g>\n    </g>\n    <g id=\"ytick_2\">\n     <g id=\"line2d_8\">\n      <g>\n       <use xlink:href=\"#m37e79f723d\" x=\"55.8875\" y=\"466.194643\" style=\"stroke: #000000; stroke-width: 0.8\"/>\n      </g>\n     </g>\n     <g id=\"text_9\">\n      <!-- 0.2 -->\n      <g transform=\"translate(24.8875 471.694643)scale(0.16 -0.16)\">\n       <use xlink:href=\"#SimHei-30\"/>\n       <use xlink:href=\"#SimHei-2e\" x=\"50\"/>\n       <use xlink:href=\"#SimHei-32\" x=\"100\"/>\n      </g>\n     </g>\n    </g>\n    <g id=\"ytick_3\">\n     <g id=\"line2d_9\">\n      <g>\n       <use xlink:href=\"#m37e79f723d\" x=\"55.8875\" y=\"362.651786\" style=\"stroke: #000000; stroke-width: 0.8\"/>\n      </g>\n     </g>\n     <g id=\"text_10\">\n      <!-- 0.4 -->\n      <g transform=\"translate(24.8875 368.151786)scale(0.16 -0.16)\">\n       <use xlink:href=\"#SimHei-30\"/>\n       <use xlink:href=\"#SimHei-2e\" x=\"50\"/>\n       <use xlink:href=\"#SimHei-34\" x=\"100\"/>\n      </g>\n     </g>\n    </g>\n    <g id=\"ytick_4\">\n     <g id=\"line2d_10\">\n      <g>\n       <use xlink:href=\"#m37e79f723d\" x=\"55.8875\" y=\"259.108929\" style=\"stroke: #000000; stroke-width: 0.8\"/>\n      </g>\n     </g>\n     <g id=\"text_11\">\n      <!-- 0.6 -->\n      <g transform=\"translate(24.8875 264.608929)scale(0.16 -0.16)\">\n       <use xlink:href=\"#SimHei-30\"/>\n       <use xlink:href=\"#SimHei-2e\" x=\"50\"/>\n       <use xlink:href=\"#SimHei-36\" x=\"100\"/>\n      </g>\n     </g>\n    </g>\n    <g id=\"ytick_5\">\n     <g id=\"line2d_11\">\n      <g>\n       <use xlink:href=\"#m37e79f723d\" x=\"55.8875\" y=\"155.566071\" style=\"stroke: #000000; stroke-width: 0.8\"/>\n      </g>\n     </g>\n     <g id=\"text_12\">\n      <!-- 0.8 -->\n      <g transform=\"translate(24.8875 161.066071)scale(0.16 -0.16)\">\n       <use xlink:href=\"#SimHei-30\"/>\n       <use xlink:href=\"#SimHei-2e\" x=\"50\"/>\n       <use xlink:href=\"#SimHei-38\" x=\"100\"/>\n      </g>\n     </g>\n    </g>\n    <g id=\"ytick_6\">\n     <g id=\"line2d_12\">\n      <g>\n       <use xlink:href=\"#m37e79f723d\" x=\"55.8875\" y=\"52.023214\" style=\"stroke: #000000; stroke-width: 0.8\"/>\n      </g>\n     </g>\n     <g id=\"text_13\">\n      <!-- 1.0 -->\n      <g transform=\"translate(24.8875 57.523214)scale(0.16 -0.16)\">\n       <use xlink:href=\"#SimHei-31\"/>\n       <use xlink:href=\"#SimHei-2e\" x=\"50\"/>\n       <use xlink:href=\"#SimHei-30\" x=\"100\"/>\n      </g>\n     </g>\n    </g>\n    <g id=\"text_14\">\n     <!-- True Positive Rate(TPR) -->\n     <g transform=\"translate(18.8875 389.9375)rotate(-90)scale(0.16 -0.16)\">\n      <defs>\n       <path id=\"SimHei-54\" d=\"M 2850 3925 \nL 1850 3925 \nL 1850 125 \nL 1275 125 \nL 1275 3925 \nL 275 3925 \nL 275 4400 \nL 2850 4400 \nL 2850 3925 \nz\n\" transform=\"scale(0.015625)\"/>\n       <path id=\"SimHei-72\" d=\"M 2500 2425 \nQ 2025 2500 1700 2287 \nQ 1375 2075 1150 1550 \nL 1150 125 \nL 650 125 \nL 650 2925 \nL 1150 2925 \nL 1150 2200 \nQ 1375 2600 1712 2787 \nQ 2050 2975 2500 2975 \nL 2500 2425 \nz\n\" transform=\"scale(0.015625)\"/>\n       <path id=\"SimHei-75\" d=\"M 2800 125 \nL 2300 125 \nL 2300 650 \nQ 2100 375 1862 225 \nQ 1625 75 1250 75 \nQ 800 75 575 325 \nQ 350 575 350 950 \nL 350 2925 \nL 850 2925 \nL 850 1125 \nQ 850 825 1000 650 \nQ 1150 475 1400 475 \nQ 1725 475 2012 812 \nQ 2300 1150 2300 1650 \nL 2300 2925 \nL 2800 2925 \nL 2800 125 \nz\n\" transform=\"scale(0.015625)\"/>\n      </defs>\n      <use xlink:href=\"#SimHei-54\"/>\n      <use xlink:href=\"#SimHei-72\" x=\"50\"/>\n      <use xlink:href=\"#SimHei-75\" x=\"100\"/>\n      <use xlink:href=\"#SimHei-65\" x=\"150\"/>\n      <use xlink:href=\"#SimHei-20\" x=\"200\"/>\n      <use xlink:href=\"#SimHei-50\" x=\"250\"/>\n      <use xlink:href=\"#SimHei-6f\" x=\"300\"/>\n      <use xlink:href=\"#SimHei-73\" x=\"350\"/>\n      <use xlink:href=\"#SimHei-69\" x=\"400\"/>\n      <use xlink:href=\"#SimHei-74\" x=\"450\"/>\n      <use xlink:href=\"#SimHei-69\" x=\"500\"/>\n      <use xlink:href=\"#SimHei-76\" x=\"550\"/>\n      <use xlink:href=\"#SimHei-65\" x=\"600\"/>\n      <use xlink:href=\"#SimHei-20\" x=\"650\"/>\n      <use xlink:href=\"#SimHei-52\" x=\"700\"/>\n      <use xlink:href=\"#SimHei-61\" x=\"750\"/>\n      <use xlink:href=\"#SimHei-74\" x=\"800\"/>\n      <use xlink:href=\"#SimHei-65\" x=\"850\"/>\n      <use xlink:href=\"#SimHei-28\" x=\"900\"/>\n      <use xlink:href=\"#SimHei-54\" x=\"950\"/>\n      <use xlink:href=\"#SimHei-50\" x=\"1000\"/>\n      <use xlink:href=\"#SimHei-52\" x=\"1050\"/>\n      <use xlink:href=\"#SimHei-29\" x=\"1100\"/>\n     </g>\n    </g>\n   </g>\n   <g id=\"line2d_13\">\n    <path d=\"M 61.358088 569.7375 \nL 61.358088 542.48938 \nL 61.358088 52.023214 \nL 608.416912 52.023214 \n\" clip-path=\"url(#p12c577395b)\" style=\"fill: none; stroke: #ff0000; stroke-width: 2; stroke-linecap: square\"/>\n   </g>\n   <g id=\"line2d_14\">\n    <path d=\"M 61.358088 569.7375 \nL 608.416912 52.023214 \n\" clip-path=\"url(#p12c577395b)\" style=\"fill: none; stroke-dasharray: 7.4,3.2; stroke-dashoffset: 0; stroke: #000080; stroke-width: 2\"/>\n   </g>\n   <g id=\"patch_3\">\n    <path d=\"M 55.8875 569.7375 \nL 55.8875 26.1375 \n\" style=\"fill: none; stroke: #000000; stroke-width: 0.8; stroke-linejoin: miter; stroke-linecap: square\"/>\n   </g>\n   <g id=\"patch_4\">\n    <path d=\"M 613.8875 569.7375 \nL 613.8875 26.1375 \n\" style=\"fill: none; stroke: #000000; stroke-width: 0.8; stroke-linejoin: miter; stroke-linecap: square\"/>\n   </g>\n   <g id=\"patch_5\">\n    <path d=\"M 55.8875 569.7375 \nL 613.8875 569.7375 \n\" style=\"fill: none; stroke: #000000; stroke-width: 0.8; stroke-linejoin: miter; stroke-linecap: square\"/>\n   </g>\n   <g id=\"patch_6\">\n    <path d=\"M 55.8875 26.1375 \nL 613.8875 26.1375 \n\" style=\"fill: none; stroke: #000000; stroke-width: 0.8; stroke-linejoin: miter; stroke-linecap: square\"/>\n   </g>\n   <g id=\"text_15\">\n    <!-- 逻辑回归的ROC曲线 -->\n    <g transform=\"translate(266.8875 20.1375)scale(0.16 -0.16)\">\n     <defs>\n      <path id=\"SimHei-903b\" d=\"M 3825 3025 \nQ 3625 2875 3450 2675 \nL 5675 2675 \nQ 5175 1600 4625 1150 \nQ 4075 700 3625 512 \nQ 3175 325 2400 150 \nQ 2300 450 2075 675 \nQ 2500 725 2962 812 \nQ 3425 900 3775 1100 \nQ 3400 1425 3050 1650 \nQ 3275 1875 3375 2025 \nQ 3875 1675 4175 1400 \nQ 4600 1725 4900 2275 \nL 3200 2275 \nQ 2800 1850 2350 1475 \nQ 2125 1700 1925 1850 \nQ 2825 2450 3275 3325 \nL 2075 3325 \nQ 2100 3800 2100 4200 \nQ 2100 4625 2075 5075 \nL 5800 5075 \nQ 5775 4775 5775 4175 \nQ 5775 3600 5800 3325 \nL 3350 3325 \nQ 3575 3150 3825 3025 \nz\nM 1450 3200 \nQ 1425 2700 1425 2275 \nL 1425 575 \nQ 2150 -25 3700 -25 \nQ 5275 -25 6175 75 \nQ 6000 -225 5950 -525 \nQ 4850 -525 4137 -512 \nQ 3425 -500 2937 -437 \nQ 2450 -375 2162 -287 \nQ 1875 -200 1600 -12 \nQ 1325 175 1150 0 \nQ 975 -175 650 -550 \nQ 500 -350 225 -175 \nQ 600 100 975 425 \nL 975 2800 \nQ 650 2800 275 2775 \nL 275 3225 \nQ 650 3200 1450 3200 \nz\nM 3225 3700 \nL 3225 4675 \nL 2575 4675 \nL 2575 3700 \nL 3225 3700 \nz\nM 1150 5225 \nQ 1425 4350 1500 4050 \nQ 1225 3975 1025 3850 \nQ 875 4475 650 5100 \nQ 875 5150 1150 5225 \nz\nM 5300 3700 \nL 5300 4675 \nL 4675 4675 \nL 4675 3700 \nL 5300 3700 \nz\nM 4250 3700 \nL 4250 4675 \nL 3650 4675 \nL 3650 3700 \nL 4250 3700 \nz\n\" transform=\"scale(0.015625)\"/>\n      <path id=\"SimHei-8f91\" d=\"M 6100 700 \nQ 6075 450 6075 300 \nQ 6000 300 5500 225 \nQ 5500 -200 5525 -675 \nL 5050 -675 \nQ 5075 -275 5075 150 \nQ 3325 -50 2800 -200 \nL 2650 300 \nL 3150 350 \nL 3150 2725 \nQ 2900 2725 2650 2700 \nL 2650 3125 \nQ 3025 3100 3450 3100 \nL 5500 3100 \nQ 5725 3100 6025 3125 \nL 6025 2700 \nQ 5800 2725 5500 2725 \nL 5500 600 \nQ 5750 650 6100 700 \nz\nM 2875 1000 \nQ 2550 900 2050 750 \nQ 2050 75 2075 -650 \nL 1600 -650 \nQ 1625 75 1625 650 \nQ 775 425 475 325 \nQ 425 450 300 800 \nQ 600 825 1625 1075 \nL 1625 2000 \nL 1025 2000 \nQ 725 2000 525 1925 \nL 350 2375 \nQ 575 2450 762 2887 \nQ 950 3325 1125 3950 \nQ 900 3950 325 3925 \nL 325 4350 \nQ 1000 4325 1225 4325 \nQ 1375 4800 1450 5200 \nQ 1650 5100 1950 5050 \nQ 1800 4700 1675 4325 \nQ 2375 4325 2925 4350 \nL 2925 3925 \nQ 2300 3950 1575 3950 \nQ 1400 3425 1025 2400 \nL 1625 2400 \nQ 1625 2925 1600 3300 \nL 2075 3300 \nQ 2050 2950 2050 2400 \nL 2775 2400 \nL 2775 2000 \nL 2050 2000 \nL 2050 1150 \nQ 2525 1275 2875 1400 \nL 2875 1000 \nz\nM 5600 4825 \nQ 5575 4550 5575 4150 \nQ 5575 3775 5600 3500 \nL 3150 3500 \nQ 3175 3850 3175 4200 \nQ 3175 4550 3150 4825 \nL 5600 4825 \nz\nM 5150 3850 \nL 5150 4475 \nL 3575 4475 \nL 3575 3850 \nL 5150 3850 \nz\nM 5075 1325 \nL 5075 1850 \nL 3575 1850 \nL 3575 1325 \nL 5075 1325 \nz\nM 5075 2200 \nL 5075 2725 \nL 3575 2725 \nL 3575 2200 \nL 5075 2200 \nz\nM 5075 550 \nL 5075 975 \nL 3575 975 \nL 3575 375 \nL 5075 550 \nz\n\" transform=\"scale(0.015625)\"/>\n      <path id=\"SimHei-56de\" d=\"M 5650 4850 \nQ 5625 4125 5625 3450 \nL 5625 950 \nQ 5625 300 5650 -375 \nL 5150 -375 \nL 5150 100 \nL 1175 100 \nL 1175 -375 \nL 700 -375 \nQ 725 250 725 950 \nL 725 3450 \nQ 725 4100 700 4850 \nL 5650 4850 \nz\nM 5150 500 \nL 5150 4425 \nL 1200 4425 \nL 1200 500 \nL 5150 500 \nz\nM 4325 3500 \nQ 4300 3125 4300 2750 \nL 4300 2175 \nQ 4300 1850 4325 1400 \nL 2025 1400 \nQ 2050 1850 2050 2175 \nL 2050 2800 \nQ 2050 3150 2025 3500 \nL 4325 3500 \nz\nM 3825 1825 \nL 3825 3100 \nL 2500 3100 \nL 2500 1825 \nL 3825 1825 \nz\n\" transform=\"scale(0.015625)\"/>\n      <path id=\"SimHei-5f52\" d=\"M 2600 800 \nQ 3075 775 3600 775 \nL 5300 775 \nL 5300 2275 \nL 4150 2275 \nQ 3550 2275 3100 2250 \nL 3100 2725 \nQ 3550 2700 4150 2700 \nL 5300 2700 \nL 5300 4175 \nL 3775 4175 \nQ 3300 4175 2800 4150 \nL 2800 4625 \nQ 3250 4600 3725 4600 \nL 5850 4600 \nQ 5825 4075 5825 3775 \nL 5825 825 \nQ 5825 200 5850 -300 \nL 5300 -300 \nL 5300 350 \nL 3600 350 \nQ 3075 350 2600 325 \nL 2600 800 \nz\nM 350 -150 \nQ 1125 325 1475 975 \nQ 1825 1625 1900 2362 \nQ 1975 3100 1962 3837 \nQ 1950 4575 1925 5125 \nL 2475 5125 \nQ 2450 4725 2450 3950 \nQ 2450 3175 2400 2437 \nQ 2350 1700 2012 950 \nQ 1675 200 800 -550 \nQ 625 -325 350 -150 \nz\nM 500 1225 \nQ 525 1650 525 2050 \nL 525 3700 \nQ 525 4125 500 4475 \nL 1050 4475 \nQ 1025 4100 1025 3700 \nL 1025 2050 \nQ 1025 1650 1050 1225 \nL 500 1225 \nz\n\" transform=\"scale(0.015625)\"/>\n      <path id=\"SimHei-7684\" d=\"M 2100 4975 \nQ 1975 4750 1750 3950 \nL 2875 3950 \nQ 2850 3525 2850 2875 \nL 2850 675 \nQ 2850 300 2875 -400 \nL 2375 -400 \nL 2375 100 \nL 1100 100 \nL 1100 -450 \nL 600 -450 \nQ 625 350 625 550 \nL 625 2850 \nQ 625 3525 600 3950 \nL 1325 3950 \nQ 1450 4525 1525 5150 \nQ 1875 5025 2100 4975 \nz\nM 5825 3075 \nQ 5800 1550 5700 175 \nQ 5650 -275 5225 -425 \nQ 4800 -575 4275 -625 \nQ 4250 -350 4050 -50 \nQ 4550 -75 4837 -25 \nQ 5125 25 5200 200 \nQ 5275 375 5312 1225 \nQ 5350 2075 5375 3600 \nL 3925 3600 \nQ 3725 3125 3350 2475 \nQ 3175 2650 2925 2750 \nQ 3150 3050 3350 3475 \nQ 3550 3900 3700 4400 \nQ 3850 4900 3875 5175 \nQ 4225 5025 4475 4950 \nQ 4350 4750 4262 4512 \nQ 4175 4275 4075 4050 \nL 5850 4050 \nQ 5825 3525 5825 3075 \nz\nM 2375 525 \nL 2375 1850 \nL 1100 1850 \nL 1100 525 \nL 2375 525 \nz\nM 2375 2275 \nL 2375 3525 \nL 1100 3525 \nL 1100 2275 \nL 2375 2275 \nz\nM 4350 2050 \nQ 4500 1750 4700 1275 \nQ 4525 1200 4225 1025 \nQ 4050 1500 3900 1837 \nQ 3750 2175 3600 2400 \nQ 3775 2500 4050 2650 \nL 4350 2050 \nz\n\" transform=\"scale(0.015625)\"/>\n      <path id=\"SimHei-4f\" d=\"M 2950 2275 \nQ 2950 1100 2587 587 \nQ 2225 75 1575 75 \nQ 925 75 550 587 \nQ 175 1100 175 2275 \nQ 175 3450 550 3950 \nQ 925 4450 1575 4450 \nQ 2225 4450 2587 3950 \nQ 2950 3450 2950 2275 \nz\nM 2350 2275 \nQ 2350 3325 2125 3650 \nQ 1900 3975 1575 3975 \nQ 1250 3975 1012 3650 \nQ 775 3325 775 2275 \nQ 775 1225 1012 887 \nQ 1250 550 1575 550 \nQ 1900 550 2125 887 \nQ 2350 1225 2350 2275 \nz\n\" transform=\"scale(0.015625)\"/>\n      <path id=\"SimHei-43\" d=\"M 2975 1825 \nQ 2950 875 2575 475 \nQ 2200 75 1675 75 \nQ 1075 75 650 562 \nQ 225 1050 225 2125 \nQ 225 3300 637 3875 \nQ 1050 4450 1700 4450 \nQ 2250 4450 2612 4037 \nQ 2975 3625 2950 2875 \nL 2400 2875 \nQ 2400 3425 2225 3700 \nQ 2050 3975 1700 3975 \nQ 1300 3975 1062 3562 \nQ 825 3150 825 2175 \nQ 825 1275 1062 912 \nQ 1300 550 1675 550 \nQ 1950 550 2175 812 \nQ 2400 1075 2400 1825 \nL 2975 1825 \nz\n\" transform=\"scale(0.015625)\"/>\n      <path id=\"SimHei-66f2\" d=\"M 5825 500 \nQ 5825 -200 5850 -550 \nL 5275 -550 \nL 5275 -50 \nL 1150 -50 \nL 1150 -550 \nL 575 -550 \nQ 600 125 600 550 \nL 600 2775 \nQ 600 3425 575 3900 \nL 2150 3900 \nL 2150 4450 \nQ 2125 4850 2125 5150 \nL 2700 5150 \nQ 2650 4825 2650 4475 \nL 2650 3900 \nL 3700 3900 \nL 3700 4525 \nQ 3700 4850 3675 5175 \nL 4250 5175 \nQ 4225 4875 4225 4550 \nL 4225 3900 \nL 5850 3900 \nQ 5825 3525 5825 2750 \nL 5825 500 \nz\nM 3700 325 \nL 3700 1875 \nL 2650 1875 \nL 2650 325 \nL 3700 325 \nz\nM 5275 325 \nL 5275 1875 \nL 4225 1875 \nL 4225 325 \nL 5275 325 \nz\nM 2150 325 \nL 2150 1875 \nL 1150 1875 \nL 1150 325 \nL 2150 325 \nz\nM 3700 2250 \nL 3700 3525 \nL 2650 3525 \nL 2650 2250 \nL 3700 2250 \nz\nM 5275 2250 \nL 5275 3525 \nL 4225 3525 \nL 4225 2250 \nL 5275 2250 \nz\nM 2150 2250 \nL 2150 3525 \nL 1150 3525 \nL 1150 2250 \nL 2150 2250 \nz\n\" transform=\"scale(0.015625)\"/>\n      <path id=\"SimHei-7ebf\" d=\"M 3450 4300 \nQ 3450 4675 3375 5125 \nQ 3700 5100 4050 5050 \nQ 3975 4900 3950 4562 \nQ 3925 4225 3950 3600 \nL 4800 3750 \nQ 5225 3850 5650 3975 \nL 5750 3500 \nQ 5325 3450 4875 3375 \nL 3975 3200 \nQ 3975 2800 4025 2500 \nL 5000 2675 \nQ 5500 2775 5950 2925 \nL 6025 2450 \nQ 5575 2375 5075 2275 \nL 4100 2100 \nQ 4150 1600 4350 1175 \nQ 4575 1350 4787 1575 \nQ 5000 1800 5175 2075 \nQ 5550 1775 5750 1675 \nQ 5425 1525 5237 1337 \nQ 5050 1150 4625 750 \nQ 4925 250 5162 112 \nQ 5400 -25 5500 100 \nQ 5600 225 5675 625 \nQ 5900 450 6200 350 \nQ 5775 -750 5275 -537 \nQ 4775 -325 4225 450 \nQ 3875 175 3537 -62 \nQ 3200 -300 2700 -550 \nQ 2575 -300 2325 -100 \nQ 2825 75 3175 275 \nQ 3525 475 3975 850 \nQ 3750 1350 3650 2025 \nQ 2900 1900 2600 1800 \nL 2525 2275 \nQ 2825 2275 3550 2425 \nQ 3500 2825 3500 3100 \nQ 2825 2950 2575 2875 \nL 2475 3350 \nQ 2725 3350 3450 3500 \nL 3450 4300 \nz\nM 1950 4875 \nQ 1700 4650 1462 4237 \nQ 1225 3825 825 3225 \nQ 1425 3250 1650 3250 \nQ 1875 3625 2050 4075 \nQ 2300 3900 2600 3800 \nQ 2350 3550 2087 3125 \nQ 1825 2700 1175 1675 \nQ 1850 1725 2375 1775 \nQ 2300 1525 2300 1350 \nQ 2125 1350 1525 1287 \nQ 925 1225 550 1125 \nQ 525 1375 400 1650 \nQ 700 1725 950 2050 \nQ 1200 2375 1475 2875 \nQ 650 2825 425 2675 \nQ 350 2950 200 3225 \nQ 525 3450 825 3962 \nQ 1125 4475 1375 5150 \nQ 1625 4975 1950 4875 \nz\nM 2575 875 \nQ 2550 600 2575 450 \nQ 1950 325 1450 200 \nQ 950 75 525 -75 \nQ 450 200 250 475 \nQ 950 550 1325 612 \nQ 1700 675 2575 875 \nz\nM 4850 4025 \nQ 4675 4300 4375 4675 \nL 4775 4875 \nQ 4875 4750 5275 4275 \nQ 5025 4175 4850 4025 \nz\n\" transform=\"scale(0.015625)\"/>\n     </defs>\n     <use xlink:href=\"#SimHei-903b\"/>\n     <use xlink:href=\"#SimHei-8f91\" x=\"100\"/>\n     <use xlink:href=\"#SimHei-56de\" x=\"200\"/>\n     <use xlink:href=\"#SimHei-5f52\" x=\"300\"/>\n     <use xlink:href=\"#SimHei-7684\" x=\"400\"/>\n     <use xlink:href=\"#SimHei-52\" x=\"500\"/>\n     <use xlink:href=\"#SimHei-4f\" x=\"550\"/>\n     <use xlink:href=\"#SimHei-43\" x=\"600\"/>\n     <use xlink:href=\"#SimHei-66f2\" x=\"650\"/>\n     <use xlink:href=\"#SimHei-7ebf\" x=\"750\"/>\n    </g>\n   </g>\n   <g id=\"legend_1\">\n    <g id=\"patch_7\">\n     <path d=\"M 367.4875 561.7375 \nL 602.6875 561.7375 \nQ 605.8875 561.7375 605.8875 558.5375 \nL 605.8875 538.45 \nQ 605.8875 535.25 602.6875 535.25 \nL 367.4875 535.25 \nQ 364.2875 535.25 364.2875 538.45 \nL 364.2875 558.5375 \nQ 364.2875 561.7375 367.4875 561.7375 \nz\n\" style=\"fill: #ffffff; opacity: 0.8; stroke: #cccccc; stroke-linejoin: miter\"/>\n    </g>\n    <g id=\"line2d_15\">\n     <path d=\"M 370.6875 547.7375 \nL 386.6875 547.7375 \nL 402.6875 547.7375 \n\" style=\"fill: none; stroke: #ff0000; stroke-width: 2; stroke-linecap: square\"/>\n    </g>\n    <g id=\"text_16\">\n     <!-- ROC curve (area = 1.00) -->\n     <g transform=\"translate(415.4875 553.3375)scale(0.16 -0.16)\">\n      <defs>\n       <path id=\"SimHei-63\" d=\"M 2850 1250 \nQ 2850 725 2487 400 \nQ 2125 75 1575 75 \nQ 1025 75 625 462 \nQ 225 850 225 1525 \nQ 225 2200 625 2587 \nQ 1025 2975 1575 2975 \nQ 2125 2975 2450 2687 \nQ 2775 2400 2775 2000 \nL 2225 2000 \nQ 2200 2300 2012 2412 \nQ 1825 2525 1575 2525 \nQ 1275 2525 1025 2287 \nQ 775 2050 775 1525 \nQ 775 1000 1025 762 \nQ 1275 525 1575 525 \nQ 1900 525 2100 700 \nQ 2300 875 2300 1250 \nL 2850 1250 \nz\n\" transform=\"scale(0.015625)\"/>\n       <path id=\"SimHei-3d\" d=\"M 2975 2900 \nL 125 2900 \nL 125 3300 \nL 2975 3300 \nL 2975 2900 \nz\nM 2975 1375 \nL 125 1375 \nL 125 1775 \nL 2975 1775 \nL 2975 1375 \nz\n\" transform=\"scale(0.015625)\"/>\n      </defs>\n      <use xlink:href=\"#SimHei-52\"/>\n      <use xlink:href=\"#SimHei-4f\" x=\"50\"/>\n      <use xlink:href=\"#SimHei-43\" x=\"100\"/>\n      <use xlink:href=\"#SimHei-20\" x=\"150\"/>\n      <use xlink:href=\"#SimHei-63\" x=\"200\"/>\n      <use xlink:href=\"#SimHei-75\" x=\"250\"/>\n      <use xlink:href=\"#SimHei-72\" x=\"300\"/>\n      <use xlink:href=\"#SimHei-76\" x=\"350\"/>\n      <use xlink:href=\"#SimHei-65\" x=\"400\"/>\n      <use xlink:href=\"#SimHei-20\" x=\"450\"/>\n      <use xlink:href=\"#SimHei-28\" x=\"500\"/>\n      <use xlink:href=\"#SimHei-61\" x=\"550\"/>\n      <use xlink:href=\"#SimHei-72\" x=\"600\"/>\n      <use xlink:href=\"#SimHei-65\" x=\"650\"/>\n      <use xlink:href=\"#SimHei-61\" x=\"700\"/>\n      <use xlink:href=\"#SimHei-20\" x=\"750\"/>\n      <use xlink:href=\"#SimHei-3d\" x=\"800\"/>\n      <use xlink:href=\"#SimHei-20\" x=\"850\"/>\n      <use xlink:href=\"#SimHei-31\" x=\"900\"/>\n      <use xlink:href=\"#SimHei-2e\" x=\"950\"/>\n      <use xlink:href=\"#SimHei-30\" x=\"1000\"/>\n      <use xlink:href=\"#SimHei-30\" x=\"1050\"/>\n      <use xlink:href=\"#SimHei-29\" x=\"1100\"/>\n     </g>\n    </g>\n   </g>\n  </g>\n </g>\n <defs>\n  <clipPath id=\"p12c577395b\">\n   <rect x=\"55.8875\" y=\"26.1375\" width=\"558\" height=\"543.6\"/>\n  </clipPath>\n </defs>\n</svg>\n",
      "text/plain": [
       "<Figure size 800x800 with 1 Axes>"
      ]
     },
     "metadata": {
      "needs_background": "light"
     },
     "output_type": "display_data"
    }
   ],
   "source": [
    "from sklearn.metrics import roc_curve, auc  ###计算roc和auc\n",
    "y_score = model.fit(Xtrain, Ytrain).decision_function(Xtest)\n",
    " \n",
    "# Compute ROC curve and ROC area for each class\n",
    "fpr,tpr,threshold = roc_curve(Ytest, y_score) ###计算真正率和假正率\n",
    "roc_auc = auc(fpr,tpr) ###计算auc的值\n",
    " \n",
    "plt.figure()\n",
    "lw = 2\n",
    "plt.figure(figsize=(10,10))\n",
    "plt.plot(fpr, tpr, color='red',\n",
    "         lw=lw, label='ROC curve (area = %0.2f)' % roc_auc) ###假正率为横坐标，真正率为纵坐标做曲线\n",
    "plt.plot([0, 1], [0, 1], color='navy', lw=lw, linestyle='--')\n",
    "plt.xlim([-0.01, 1.01])\n",
    "plt.ylim([0.0, 1.05])\n",
    "plt.xlabel('False Positive Rate(FPR)')\n",
    "plt.ylabel('True Positive Rate(TPR)')\n",
    "plt.title('逻辑回归的ROC曲线')\n",
    "plt.legend(loc=\"lower right\")\n",
    "plt.show()"
   ]
  },
  {
   "cell_type": "markdown",
   "id": "b8c1f40a",
   "metadata": {},
   "source": [
    "## 预测"
   ]
  },
  {
   "cell_type": "code",
   "execution_count": 38,
   "id": "ffd46be0",
   "metadata": {
    "ExecuteTime": {
     "end_time": "2022-09-17T17:41:37.132028Z",
     "start_time": "2022-09-17T17:41:37.101110Z"
    }
   },
   "outputs": [],
   "source": [
    "Xtrain, Xtest, Ytrain, Ytest = train_test_split(data, target, test_size=0.3,random_state=5)\n",
    "model = LR(max_iter=500)\n",
    "model.fit(Xtrain, Ytrain)\n",
    "class_ = [\"高钾\" if i==0 else \"铅钡\" for i in model.predict(X_pre)]\n",
    "pd.DataFrame(class_,index=df3[\"文物编号\"],columns=[\"玻璃种类\"]).to_excel('3未知文物类型预测.xlsx')"
   ]
  },
  {
   "cell_type": "markdown",
   "id": "dd960a06",
   "metadata": {},
   "source": [
    "# 敏感度分析"
   ]
  },
  {
   "cell_type": "code",
   "execution_count": 39,
   "id": "9d39f316",
   "metadata": {
    "ExecuteTime": {
     "end_time": "2022-09-17T17:41:37.147985Z",
     "start_time": "2022-09-17T17:41:37.133025Z"
    }
   },
   "outputs": [],
   "source": [
    "# 逻辑回归敏感性\n",
    "\n",
    "w = model.coef_[0]\n",
    "w0 = model.intercept_\n",
    "\n",
    "PD = []\n",
    "for i in range(Xtrain.shape[0]):\n",
    "    ls = []\n",
    "    x = Xtrain.iloc[i]\n",
    "    e = np.exp(-w@x.values + w0)\n",
    "    for j in range(len(w)):  \n",
    "        ls.append(w[j] * e * ((1+e)**(-2)))\n",
    "    PD.append(ls)"
   ]
  },
  {
   "cell_type": "code",
   "execution_count": 40,
   "id": "cd2011e5",
   "metadata": {
    "ExecuteTime": {
     "end_time": "2022-09-17T17:41:37.179900Z",
     "start_time": "2022-09-17T17:41:37.165937Z"
    }
   },
   "outputs": [],
   "source": [
    "PD = pd.DataFrame(PD)"
   ]
  },
  {
   "cell_type": "code",
   "execution_count": 41,
   "id": "80b61881",
   "metadata": {
    "ExecuteTime": {
     "end_time": "2022-09-17T17:41:37.227777Z",
     "start_time": "2022-09-17T17:41:37.180898Z"
    }
   },
   "outputs": [
    {
     "data": {
      "text/html": [
       "<div>\n",
       "<style scoped>\n",
       "    .dataframe tbody tr th:only-of-type {\n",
       "        vertical-align: middle;\n",
       "    }\n",
       "\n",
       "    .dataframe tbody tr th {\n",
       "        vertical-align: top;\n",
       "    }\n",
       "\n",
       "    .dataframe thead th {\n",
       "        text-align: right;\n",
       "    }\n",
       "</style>\n",
       "<table border=\"1\" class=\"dataframe\">\n",
       "  <thead>\n",
       "    <tr style=\"text-align: right;\">\n",
       "      <th></th>\n",
       "      <th>敏感度</th>\n",
       "    </tr>\n",
       "  </thead>\n",
       "  <tbody>\n",
       "    <tr>\n",
       "      <th>氧化铅(PbO)</th>\n",
       "      <td>0.005921</td>\n",
       "    </tr>\n",
       "    <tr>\n",
       "      <th>氧化钾(K2O)</th>\n",
       "      <td>0.003050</td>\n",
       "    </tr>\n",
       "    <tr>\n",
       "      <th>二氧化硅(SiO2)</th>\n",
       "      <td>0.001900</td>\n",
       "    </tr>\n",
       "    <tr>\n",
       "      <th>氧化钡(BaO)</th>\n",
       "      <td>0.001272</td>\n",
       "    </tr>\n",
       "    <tr>\n",
       "      <th>氧化钙(CaO)</th>\n",
       "      <td>0.001121</td>\n",
       "    </tr>\n",
       "    <tr>\n",
       "      <th>氧化铝(Al2O3)</th>\n",
       "      <td>0.001033</td>\n",
       "    </tr>\n",
       "    <tr>\n",
       "      <th>氧化铜(CuO)</th>\n",
       "      <td>0.000734</td>\n",
       "    </tr>\n",
       "    <tr>\n",
       "      <th>五氧化二磷(P2O5)</th>\n",
       "      <td>0.000708</td>\n",
       "    </tr>\n",
       "    <tr>\n",
       "      <th>氧化铁(Fe2O3)</th>\n",
       "      <td>0.000577</td>\n",
       "    </tr>\n",
       "    <tr>\n",
       "      <th>氧化钠(Na2O)</th>\n",
       "      <td>0.000184</td>\n",
       "    </tr>\n",
       "    <tr>\n",
       "      <th>氧化镁(MgO)</th>\n",
       "      <td>0.000126</td>\n",
       "    </tr>\n",
       "    <tr>\n",
       "      <th>氧化锶(SrO)</th>\n",
       "      <td>0.000092</td>\n",
       "    </tr>\n",
       "    <tr>\n",
       "      <th>二氧化硫(SO2)</th>\n",
       "      <td>0.000027</td>\n",
       "    </tr>\n",
       "    <tr>\n",
       "      <th>风化与否</th>\n",
       "      <td>0.000010</td>\n",
       "    </tr>\n",
       "    <tr>\n",
       "      <th>氧化锡(SnO2)</th>\n",
       "      <td>0.000003</td>\n",
       "    </tr>\n",
       "  </tbody>\n",
       "</table>\n",
       "</div>"
      ],
      "text/plain": [
       "                  敏感度\n",
       "氧化铅(PbO)     0.005921\n",
       "氧化钾(K2O)     0.003050\n",
       "二氧化硅(SiO2)   0.001900\n",
       "氧化钡(BaO)     0.001272\n",
       "氧化钙(CaO)     0.001121\n",
       "氧化铝(Al2O3)   0.001033\n",
       "氧化铜(CuO)     0.000734\n",
       "五氧化二磷(P2O5)  0.000708\n",
       "氧化铁(Fe2O3)   0.000577\n",
       "氧化钠(Na2O)    0.000184\n",
       "氧化镁(MgO)     0.000126\n",
       "氧化锶(SrO)     0.000092\n",
       "二氧化硫(SO2)    0.000027\n",
       "风化与否         0.000010\n",
       "氧化锡(SnO2)    0.000003"
      ]
     },
     "execution_count": 41,
     "metadata": {},
     "output_type": "execute_result"
    }
   ],
   "source": [
    "S = []\n",
    "for i in range(Xtrain.shape[1]):\n",
    "    s = 0\n",
    "    for j in range(Xtrain.shape[0]):\n",
    "        s += abs(PD.iloc[j,i])\n",
    "    S.append(s / Xtrain.shape[0])\n",
    "\n",
    "# 敏感度\n",
    "mgd = pd.DataFrame(S, index=Xtrain.columns,columns=[\"敏感度\"]).sort_values(by=\"敏感度\", ascending=False)\n",
    "mgd"
   ]
  },
  {
   "cell_type": "code",
   "execution_count": 42,
   "id": "3ab492b4",
   "metadata": {},
   "outputs": [],
   "source": [
    "mgd.to_excel('3.1逻辑回归敏感度.xlsx')"
   ]
  },
  {
   "cell_type": "code",
   "execution_count": 43,
   "id": "4b4077fa",
   "metadata": {},
   "outputs": [
    {
     "data": {
      "image/png": "[encoded data removed]",
      "image/svg+xml": "<?xml version=\"1.0\" encoding=\"utf-8\" standalone=\"no\"?>\n<!DOCTYPE svg PUBLIC \"-//W3C//DTD SVG 1.1//EN\"\n  \"http://www.w3.org/Graphics/SVG/1.1/DTD/svg11.dtd\">\n<svg xmlns:xlink=\"http://www.w3.org/1999/xlink\" width=\"620.4pt\" height=\"505.2175pt\" viewBox=\"0 0 620.4 505.2175\" xmlns=\"http://www.w3.org/2000/svg\" version=\"1.1\">\n <metadata>\n  <rdf:RDF xmlns:dc=\"http://purl.org/dc/elements/1.1/\" xmlns:cc=\"http://creativecommons.org/ns#\" xmlns:rdf=\"http://www.w3.org/1999/02/22-rdf-syntax-ns#\">\n   <cc:Work>\n    <dc:type rdf:resource=\"http://purl.org/dc/dcmitype/StillImage\"/>\n    <dc:date>2022-09-18T17:33:50.882322</dc:date>\n    <dc:format>image/svg+xml</dc:format>\n    <dc:creator>\n     <cc:Agent>\n      <dc:title>Matplotlib v3.5.1, https://matplotlib.org/</dc:title>\n     </cc:Agent>\n    </dc:creator>\n   </cc:Work>\n  </rdf:RDF>\n </metadata>\n <defs>\n  <style type=\"text/css\">*{stroke-linejoin: round; stroke-linecap: butt}</style>\n </defs>\n <g id=\"figure_1\">\n  <g id=\"patch_1\">\n   <path d=\"M 0 505.2175 \nL 620.4 505.2175 \nL 620.4 0 \nL 0 0 \nL 0 505.2175 \nz\n\" style=\"fill: none\"/>\n  </g>\n  <g id=\"axes_1\">\n   <g id=\"patch_2\">\n    <path d=\"M 55.2 461.0175 \nL 613.2 461.0175 \nL 613.2 26.1375 \nL 55.2 26.1375 \nz\n\" style=\"fill: #ffffff\"/>\n   </g>\n   <g id=\"PathCollection_1\">\n    <defs>\n     <path id=\"m35fe4444fa\" d=\"M 0 3 \nC 0.795609 3 1.55874 2.683901 2.12132 2.12132 \nC 2.683901 1.55874 3 0.795609 3 0 \nC 3 -0.795609 2.683901 -1.55874 2.12132 -2.12132 \nC 1.55874 -2.683901 0.795609 -3 0 -3 \nC -0.795609 -3 -1.55874 -2.683901 -2.12132 -2.12132 \nC -2.683901 -1.55874 -3 -0.795609 -3 0 \nC -3 0.795609 -2.683901 1.55874 -2.12132 2.12132 \nC -1.55874 2.683901 -0.795609 3 0 3 \nz\n\" style=\"stroke: #1f77b4\"/>\n    </defs>\n    <g clip-path=\"url(#pcc86cd553d)\">\n     <use xlink:href=\"#m35fe4444fa\" x=\"471.826432\" y=\"299.728965\" style=\"fill: #1f77b4; stroke: #1f77b4\"/>\n     <use xlink:href=\"#m35fe4444fa\" x=\"289.230958\" y=\"279.285923\" style=\"fill: #1f77b4; stroke: #1f77b4\"/>\n     <use xlink:href=\"#m35fe4444fa\" x=\"473.406198\" y=\"120.288277\" style=\"fill: #1f77b4; stroke: #1f77b4\"/>\n     <use xlink:href=\"#m35fe4444fa\" x=\"459.332328\" y=\"343.818344\" style=\"fill: #1f77b4; stroke: #1f77b4\"/>\n     <use xlink:href=\"#m35fe4444fa\" x=\"525.848279\" y=\"424.05241\" style=\"fill: #1f77b4; stroke: #1f77b4\"/>\n     <use xlink:href=\"#m35fe4444fa\" x=\"245.020748\" y=\"346.931749\" style=\"fill: #1f77b4; stroke: #1f77b4\"/>\n     <use xlink:href=\"#m35fe4444fa\" x=\"431.607746\" y=\"324.271512\" style=\"fill: #1f77b4; stroke: #1f77b4\"/>\n     <use xlink:href=\"#m35fe4444fa\" x=\"314.099453\" y=\"326.612708\" style=\"fill: #1f77b4; stroke: #1f77b4\"/>\n     <use xlink:href=\"#m35fe4444fa\" x=\"421.076941\" y=\"354.747881\" style=\"fill: #1f77b4; stroke: #1f77b4\"/>\n     <use xlink:href=\"#m35fe4444fa\" x=\"327.498746\" y=\"318.658947\" style=\"fill: #1f77b4; stroke: #1f77b4\"/>\n     <use xlink:href=\"#m35fe4444fa\" x=\"587.836364\" y=\"441.250227\" style=\"fill: #1f77b4; stroke: #1f77b4\"/>\n     <use xlink:href=\"#m35fe4444fa\" x=\"572.388936\" y=\"363.909173\" style=\"fill: #1f77b4; stroke: #1f77b4\"/>\n     <use xlink:href=\"#m35fe4444fa\" x=\"468.949833\" y=\"120.713693\" style=\"fill: #1f77b4; stroke: #1f77b4\"/>\n     <use xlink:href=\"#m35fe4444fa\" x=\"342.099434\" y=\"119.769959\" style=\"fill: #1f77b4; stroke: #1f77b4\"/>\n     <use xlink:href=\"#m35fe4444fa\" x=\"489.004191\" y=\"344.976104\" style=\"fill: #1f77b4; stroke: #1f77b4\"/>\n     <use xlink:href=\"#m35fe4444fa\" x=\"443.027101\" y=\"416.48458\" style=\"fill: #1f77b4; stroke: #1f77b4\"/>\n     <use xlink:href=\"#m35fe4444fa\" x=\"399.452627\" y=\"226.853243\" style=\"fill: #1f77b4; stroke: #1f77b4\"/>\n     <use xlink:href=\"#m35fe4444fa\" x=\"318.869745\" y=\"292.097028\" style=\"fill: #1f77b4; stroke: #1f77b4\"/>\n     <use xlink:href=\"#m35fe4444fa\" x=\"447.727314\" y=\"318.70127\" style=\"fill: #1f77b4; stroke: #1f77b4\"/>\n     <use xlink:href=\"#m35fe4444fa\" x=\"511.39239\" y=\"384.949998\" style=\"fill: #1f77b4; stroke: #1f77b4\"/>\n     <use xlink:href=\"#m35fe4444fa\" x=\"549.635953\" y=\"406.325329\" style=\"fill: #1f77b4; stroke: #1f77b4\"/>\n     <use xlink:href=\"#m35fe4444fa\" x=\"437.182532\" y=\"294.609055\" style=\"fill: #1f77b4; stroke: #1f77b4\"/>\n     <use xlink:href=\"#m35fe4444fa\" x=\"264.740593\" y=\"295.935086\" style=\"fill: #1f77b4; stroke: #1f77b4\"/>\n     <use xlink:href=\"#m35fe4444fa\" x=\"487.527307\" y=\"295.755736\" style=\"fill: #1f77b4; stroke: #1f77b4\"/>\n     <use xlink:href=\"#m35fe4444fa\" x=\"238.818534\" y=\"317.62555\" style=\"fill: #1f77b4; stroke: #1f77b4\"/>\n     <use xlink:href=\"#m35fe4444fa\" x=\"254.363488\" y=\"303.094145\" style=\"fill: #1f77b4; stroke: #1f77b4\"/>\n     <use xlink:href=\"#m35fe4444fa\" x=\"536.671856\" y=\"45.904773\" style=\"fill: #1f77b4; stroke: #1f77b4\"/>\n     <use xlink:href=\"#m35fe4444fa\" x=\"273.483869\" y=\"295.329483\" style=\"fill: #1f77b4; stroke: #1f77b4\"/>\n     <use xlink:href=\"#m35fe4444fa\" x=\"449.224053\" y=\"369.566347\" style=\"fill: #1f77b4; stroke: #1f77b4\"/>\n     <use xlink:href=\"#m35fe4444fa\" x=\"523.640193\" y=\"379.75211\" style=\"fill: #1f77b4; stroke: #1f77b4\"/>\n    </g>\n   </g>\n   <g id=\"PathCollection_2\">\n    <defs>\n     <path id=\"ma180e5db5c\" d=\"M 0 3 \nC 0.795609 3 1.55874 2.683901 2.12132 2.12132 \nC 2.683901 1.55874 3 0.795609 3 0 \nC 3 -0.795609 2.683901 -1.55874 2.12132 -2.12132 \nC 1.55874 -2.683901 0.795609 -3 0 -3 \nC -0.795609 -3 -1.55874 -2.683901 -2.12132 -2.12132 \nC -2.683901 -1.55874 -3 -0.795609 -3 0 \nC -3 0.795609 -2.683901 1.55874 -2.12132 2.12132 \nC -1.55874 2.683901 -0.795609 3 0 3 \nz\n\" style=\"stroke: #ff7f0e\"/>\n    </defs>\n    <g clip-path=\"url(#pcc86cd553d)\">\n     <use xlink:href=\"#ma180e5db5c\" x=\"157.77435\" y=\"305.418119\" style=\"fill: #ff7f0e; stroke: #ff7f0e\"/>\n     <use xlink:href=\"#ma180e5db5c\" x=\"191.039899\" y=\"261.474345\" style=\"fill: #ff7f0e; stroke: #ff7f0e\"/>\n     <use xlink:href=\"#ma180e5db5c\" x=\"185.874091\" y=\"267.793784\" style=\"fill: #ff7f0e; stroke: #ff7f0e\"/>\n     <use xlink:href=\"#ma180e5db5c\" x=\"115.098883\" y=\"346.557758\" style=\"fill: #ff7f0e; stroke: #ff7f0e\"/>\n     <use xlink:href=\"#ma180e5db5c\" x=\"189.833841\" y=\"265.267649\" style=\"fill: #ff7f0e; stroke: #ff7f0e\"/>\n     <use xlink:href=\"#ma180e5db5c\" x=\"177.782998\" y=\"276.109286\" style=\"fill: #ff7f0e; stroke: #ff7f0e\"/>\n     <use xlink:href=\"#ma180e5db5c\" x=\"205.06005\" y=\"247.861446\" style=\"fill: #ff7f0e; stroke: #ff7f0e\"/>\n     <use xlink:href=\"#ma180e5db5c\" x=\"89.551487\" y=\"373.572623\" style=\"fill: #ff7f0e; stroke: #ff7f0e\"/>\n     <use xlink:href=\"#ma180e5db5c\" x=\"141.149256\" y=\"318.3725\" style=\"fill: #ff7f0e; stroke: #ff7f0e\"/>\n     <use xlink:href=\"#ma180e5db5c\" x=\"96.308652\" y=\"367.197801\" style=\"fill: #ff7f0e; stroke: #ff7f0e\"/>\n     <use xlink:href=\"#ma180e5db5c\" x=\"87.081263\" y=\"376.49313\" style=\"fill: #ff7f0e; stroke: #ff7f0e\"/>\n     <use xlink:href=\"#ma180e5db5c\" x=\"214.217302\" y=\"236.557429\" style=\"fill: #ff7f0e; stroke: #ff7f0e\"/>\n     <use xlink:href=\"#ma180e5db5c\" x=\"80.563636\" y=\"383.430215\" style=\"fill: #ff7f0e; stroke: #ff7f0e\"/>\n     <use xlink:href=\"#ma180e5db5c\" x=\"214.526718\" y=\"241.751172\" style=\"fill: #ff7f0e; stroke: #ff7f0e\"/>\n     <use xlink:href=\"#ma180e5db5c\" x=\"96.022104\" y=\"366.478549\" style=\"fill: #ff7f0e; stroke: #ff7f0e\"/>\n     <use xlink:href=\"#ma180e5db5c\" x=\"205.581755\" y=\"260.866924\" style=\"fill: #ff7f0e; stroke: #ff7f0e\"/>\n    </g>\n   </g>\n   <g id=\"matplotlib.axis_1\">\n    <g id=\"xtick_1\">\n     <g id=\"line2d_1\">\n      <defs>\n       <path id=\"md81fec99c3\" d=\"M 0 0 \nL 0 3.5 \n\" style=\"stroke: #000000; stroke-width: 0.8\"/>\n      </defs>\n      <g>\n       <use xlink:href=\"#md81fec99c3\" x=\"134.699602\" y=\"461.0175\" style=\"stroke: #000000; stroke-width: 0.8\"/>\n      </g>\n     </g>\n     <g id=\"text_1\">\n      <!-- -40 -->\n      <g transform=\"translate(122.699602 479.0175)scale(0.16 -0.16)\">\n       <defs>\n        <path id=\"SimHei-2d\" d=\"M 2975 2125 \nL 125 2125 \nL 125 2525 \nL 2975 2525 \nL 2975 2125 \nz\n\" transform=\"scale(0.015625)\"/>\n        <path id=\"SimHei-34\" d=\"M 2000 1100 \nL 75 1100 \nL 75 1525 \nL 2100 4450 \nL 2475 4450 \nL 2475 1525 \nL 3075 1525 \nL 3075 1100 \nL 2475 1100 \nL 2475 150 \nL 2000 150 \nL 2000 1100 \nz\nM 2000 1525 \nL 2000 3500 \nL 600 1525 \nL 2000 1525 \nz\n\" transform=\"scale(0.015625)\"/>\n        <path id=\"SimHei-30\" d=\"M 225 2537 \nQ 250 3200 412 3587 \nQ 575 3975 875 4225 \nQ 1175 4475 1612 4475 \nQ 2050 4475 2375 4112 \nQ 2700 3750 2800 3200 \nQ 2900 2650 2862 1937 \nQ 2825 1225 2612 775 \nQ 2400 325 1975 150 \nQ 1550 -25 1125 187 \nQ 700 400 525 750 \nQ 350 1100 275 1487 \nQ 200 1875 225 2537 \nz\nM 750 2687 \nQ 675 2000 800 1462 \nQ 925 925 1212 700 \nQ 1500 475 1800 612 \nQ 2100 750 2237 1162 \nQ 2375 1575 2375 2062 \nQ 2375 2550 2337 2950 \nQ 2300 3350 2112 3675 \nQ 1925 4000 1612 4012 \nQ 1300 4025 1062 3700 \nQ 825 3375 750 2687 \nz\n\" transform=\"scale(0.015625)\"/>\n       </defs>\n       <use xlink:href=\"#SimHei-2d\"/>\n       <use xlink:href=\"#SimHei-34\" x=\"50\"/>\n       <use xlink:href=\"#SimHei-30\" x=\"100\"/>\n      </g>\n     </g>\n    </g>\n    <g id=\"xtick_2\">\n     <g id=\"line2d_2\">\n      <g>\n       <use xlink:href=\"#md81fec99c3\" x=\"230.419914\" y=\"461.0175\" style=\"stroke: #000000; stroke-width: 0.8\"/>\n      </g>\n     </g>\n     <g id=\"text_2\">\n      <!-- -20 -->\n      <g transform=\"translate(218.419914 479.0175)scale(0.16 -0.16)\">\n       <defs>\n        <path id=\"SimHei-32\" d=\"M 300 250 \nQ 325 625 650 925 \nQ 975 1225 1475 1862 \nQ 1975 2500 2125 2850 \nQ 2275 3200 2237 3450 \nQ 2200 3700 2000 3862 \nQ 1800 4025 1537 4000 \nQ 1275 3975 1037 3800 \nQ 800 3625 675 3275 \nL 200 3350 \nQ 400 3925 712 4187 \nQ 1025 4450 1450 4475 \nQ 1700 4500 1900 4462 \nQ 2100 4425 2312 4287 \nQ 2525 4150 2662 3875 \nQ 2800 3600 2762 3212 \nQ 2725 2825 2375 2287 \nQ 2025 1750 1025 600 \nL 2825 600 \nL 2825 150 \nL 300 150 \nL 300 250 \nz\n\" transform=\"scale(0.015625)\"/>\n       </defs>\n       <use xlink:href=\"#SimHei-2d\"/>\n       <use xlink:href=\"#SimHei-32\" x=\"50\"/>\n       <use xlink:href=\"#SimHei-30\" x=\"100\"/>\n      </g>\n     </g>\n    </g>\n    <g id=\"xtick_3\">\n     <g id=\"line2d_3\">\n      <g>\n       <use xlink:href=\"#md81fec99c3\" x=\"326.140227\" y=\"461.0175\" style=\"stroke: #000000; stroke-width: 0.8\"/>\n      </g>\n     </g>\n     <g id=\"text_3\">\n      <!-- 0 -->\n      <g transform=\"translate(322.140227 479.0175)scale(0.16 -0.16)\">\n       <use xlink:href=\"#SimHei-30\"/>\n      </g>\n     </g>\n    </g>\n    <g id=\"xtick_4\">\n     <g id=\"line2d_4\">\n      <g>\n       <use xlink:href=\"#md81fec99c3\" x=\"421.860539\" y=\"461.0175\" style=\"stroke: #000000; stroke-width: 0.8\"/>\n      </g>\n     </g>\n     <g id=\"text_4\">\n      <!-- 20 -->\n      <g transform=\"translate(413.860539 479.0175)scale(0.16 -0.16)\">\n       <use xlink:href=\"#SimHei-32\"/>\n       <use xlink:href=\"#SimHei-30\" x=\"50\"/>\n      </g>\n     </g>\n    </g>\n    <g id=\"xtick_5\">\n     <g id=\"line2d_5\">\n      <g>\n       <use xlink:href=\"#md81fec99c3\" x=\"517.580852\" y=\"461.0175\" style=\"stroke: #000000; stroke-width: 0.8\"/>\n      </g>\n     </g>\n     <g id=\"text_5\">\n      <!-- 40 -->\n      <g transform=\"translate(509.580852 479.0175)scale(0.16 -0.16)\">\n       <use xlink:href=\"#SimHei-34\"/>\n       <use xlink:href=\"#SimHei-30\" x=\"50\"/>\n      </g>\n     </g>\n    </g>\n    <g id=\"text_6\">\n     <!-- PC1 -->\n     <g transform=\"translate(322.2 496.0175)scale(0.16 -0.16)\">\n      <defs>\n       <path id=\"SimHei-50\" d=\"M 2950 3100 \nQ 2950 2500 2600 2150 \nQ 2250 1800 1625 1800 \nL 900 1800 \nL 900 125 \nL 325 125 \nL 325 4400 \nL 1625 4400 \nQ 2250 4400 2600 4050 \nQ 2950 3700 2950 3100 \nz\nM 2375 3100 \nQ 2375 3575 2150 3750 \nQ 1925 3925 1475 3925 \nL 900 3925 \nL 900 2275 \nL 1475 2275 \nQ 1925 2275 2150 2450 \nQ 2375 2625 2375 3100 \nz\n\" transform=\"scale(0.015625)\"/>\n       <path id=\"SimHei-43\" d=\"M 2975 1825 \nQ 2950 875 2575 475 \nQ 2200 75 1675 75 \nQ 1075 75 650 562 \nQ 225 1050 225 2125 \nQ 225 3300 637 3875 \nQ 1050 4450 1700 4450 \nQ 2250 4450 2612 4037 \nQ 2975 3625 2950 2875 \nL 2400 2875 \nQ 2400 3425 2225 3700 \nQ 2050 3975 1700 3975 \nQ 1300 3975 1062 3562 \nQ 825 3150 825 2175 \nQ 825 1275 1062 912 \nQ 1300 550 1675 550 \nQ 1950 550 2175 812 \nQ 2400 1075 2400 1825 \nL 2975 1825 \nz\n\" transform=\"scale(0.015625)\"/>\n       <path id=\"SimHei-31\" d=\"M 1400 3600 \nQ 1075 3275 575 2975 \nL 575 3450 \nQ 1200 3875 1600 4450 \nL 1900 4450 \nL 1900 150 \nL 1400 150 \nL 1400 3600 \nz\n\" transform=\"scale(0.015625)\"/>\n      </defs>\n      <use xlink:href=\"#SimHei-50\"/>\n      <use xlink:href=\"#SimHei-43\" x=\"50\"/>\n      <use xlink:href=\"#SimHei-31\" x=\"100\"/>\n     </g>\n    </g>\n   </g>\n   <g id=\"matplotlib.axis_2\">\n    <g id=\"ytick_1\">\n     <g id=\"line2d_6\">\n      <defs>\n       <path id=\"m6537d616eb\" d=\"M 0 0 \nL -3.5 0 \n\" style=\"stroke: #000000; stroke-width: 0.8\"/>\n      </defs>\n      <g>\n       <use xlink:href=\"#m6537d616eb\" x=\"55.2\" y=\"459.692919\" style=\"stroke: #000000; stroke-width: 0.8\"/>\n      </g>\n     </g>\n     <g id=\"text_7\">\n      <!-- -20 -->\n      <g transform=\"translate(24.2 465.192919)scale(0.16 -0.16)\">\n       <use xlink:href=\"#SimHei-2d\"/>\n       <use xlink:href=\"#SimHei-32\" x=\"50\"/>\n       <use xlink:href=\"#SimHei-30\" x=\"100\"/>\n      </g>\n     </g>\n    </g>\n    <g id=\"ytick_2\">\n     <g id=\"line2d_7\">\n      <g>\n       <use xlink:href=\"#m6537d616eb\" x=\"55.2\" y=\"382.750833\" style=\"stroke: #000000; stroke-width: 0.8\"/>\n      </g>\n     </g>\n     <g id=\"text_8\">\n      <!-- -10 -->\n      <g transform=\"translate(24.2 388.250833)scale(0.16 -0.16)\">\n       <use xlink:href=\"#SimHei-2d\"/>\n       <use xlink:href=\"#SimHei-31\" x=\"50\"/>\n       <use xlink:href=\"#SimHei-30\" x=\"100\"/>\n      </g>\n     </g>\n    </g>\n    <g id=\"ytick_3\">\n     <g id=\"line2d_8\">\n      <g>\n       <use xlink:href=\"#m6537d616eb\" x=\"55.2\" y=\"305.808746\" style=\"stroke: #000000; stroke-width: 0.8\"/>\n      </g>\n     </g>\n     <g id=\"text_9\">\n      <!-- 0 -->\n      <g transform=\"translate(40.2 311.308746)scale(0.16 -0.16)\">\n       <use xlink:href=\"#SimHei-30\"/>\n      </g>\n     </g>\n    </g>\n    <g id=\"ytick_4\">\n     <g id=\"line2d_9\">\n      <g>\n       <use xlink:href=\"#m6537d616eb\" x=\"55.2\" y=\"228.86666\" style=\"stroke: #000000; stroke-width: 0.8\"/>\n      </g>\n     </g>\n     <g id=\"text_10\">\n      <!-- 10 -->\n      <g transform=\"translate(32.2 234.36666)scale(0.16 -0.16)\">\n       <use xlink:href=\"#SimHei-31\"/>\n       <use xlink:href=\"#SimHei-30\" x=\"50\"/>\n      </g>\n     </g>\n    </g>\n    <g id=\"ytick_5\">\n     <g id=\"line2d_10\">\n      <g>\n       <use xlink:href=\"#m6537d616eb\" x=\"55.2\" y=\"151.924574\" style=\"stroke: #000000; stroke-width: 0.8\"/>\n      </g>\n     </g>\n     <g id=\"text_11\">\n      <!-- 20 -->\n      <g transform=\"translate(32.2 157.424574)scale(0.16 -0.16)\">\n       <use xlink:href=\"#SimHei-32\"/>\n       <use xlink:href=\"#SimHei-30\" x=\"50\"/>\n      </g>\n     </g>\n    </g>\n    <g id=\"ytick_6\">\n     <g id=\"line2d_11\">\n      <g>\n       <use xlink:href=\"#m6537d616eb\" x=\"55.2\" y=\"74.982488\" style=\"stroke: #000000; stroke-width: 0.8\"/>\n      </g>\n     </g>\n     <g id=\"text_12\">\n      <!-- 30 -->\n      <g transform=\"translate(32.2 80.482488)scale(0.16 -0.16)\">\n       <defs>\n        <path id=\"SimHei-33\" d=\"M 250 1225 \nL 700 1300 \nQ 800 975 1025 762 \nQ 1250 550 1587 562 \nQ 1925 575 2125 837 \nQ 2325 1100 2300 1437 \nQ 2275 1775 2037 1962 \nQ 1800 2150 1275 2225 \nL 1275 2550 \nQ 1800 2600 2037 2825 \nQ 2275 3050 2250 3412 \nQ 2225 3775 1925 3937 \nQ 1625 4100 1287 3975 \nQ 950 3850 750 3275 \nL 300 3350 \nQ 450 3800 712 4100 \nQ 975 4400 1425 4450 \nQ 1875 4500 2212 4337 \nQ 2550 4175 2687 3837 \nQ 2825 3500 2725 3100 \nQ 2625 2700 2150 2400 \nQ 2500 2250 2687 1950 \nQ 2875 1650 2812 1162 \nQ 2750 675 2375 375 \nQ 2000 75 1525 87 \nQ 1050 100 700 387 \nQ 350 675 250 1225 \nz\n\" transform=\"scale(0.015625)\"/>\n       </defs>\n       <use xlink:href=\"#SimHei-33\"/>\n       <use xlink:href=\"#SimHei-30\" x=\"50\"/>\n      </g>\n     </g>\n    </g>\n    <g id=\"text_13\">\n     <!-- PC2 -->\n     <g transform=\"translate(18.2 255.5775)rotate(-90)scale(0.16 -0.16)\">\n      <use xlink:href=\"#SimHei-50\"/>\n      <use xlink:href=\"#SimHei-43\" x=\"50\"/>\n      <use xlink:href=\"#SimHei-32\" x=\"100\"/>\n     </g>\n    </g>\n   </g>\n   <g id=\"patch_3\">\n    <path d=\"M 55.2 461.0175 \nL 55.2 26.1375 \n\" style=\"fill: none; stroke: #000000; stroke-width: 0.8; stroke-linejoin: miter; stroke-linecap: square\"/>\n   </g>\n   <g id=\"patch_4\">\n    <path d=\"M 613.2 461.0175 \nL 613.2 26.1375 \n\" style=\"fill: none; stroke: #000000; stroke-width: 0.8; stroke-linejoin: miter; stroke-linecap: square\"/>\n   </g>\n   <g id=\"patch_5\">\n    <path d=\"M 55.2 461.0175 \nL 613.2 461.0175 \n\" style=\"fill: none; stroke: #000000; stroke-width: 0.8; stroke-linejoin: miter; stroke-linecap: square\"/>\n   </g>\n   <g id=\"patch_6\">\n    <path d=\"M 55.2 26.1375 \nL 613.2 26.1375 \n\" style=\"fill: none; stroke: #000000; stroke-width: 0.8; stroke-linejoin: miter; stroke-linecap: square\"/>\n   </g>\n   <g id=\"text_14\">\n    <!-- 对玻璃样本应用主成分降维后的散点图 -->\n    <g transform=\"translate(198.2 20.1375)scale(0.16 -0.16)\">\n     <defs>\n      <path id=\"SimHei-5bf9\" d=\"M 525 4250 \nQ 900 4225 1400 4225 \nL 2825 4225 \nQ 2575 2625 2200 1750 \nQ 2825 875 3125 400 \nQ 2950 275 2725 75 \nQ 2200 975 1950 1300 \nQ 1650 775 1350 425 \nQ 1050 75 600 -350 \nQ 425 -125 200 -25 \nQ 625 275 975 675 \nQ 1325 1075 1650 1700 \nQ 1050 2425 550 2900 \nQ 700 3025 900 3225 \nQ 1625 2425 1875 2150 \nQ 2200 3050 2300 3825 \nL 1400 3825 \nQ 900 3825 525 3800 \nL 525 4250 \nz\nM 2925 3700 \nQ 3525 3675 3750 3675 \nL 4825 3675 \nL 4825 4425 \nQ 4825 4750 4775 5125 \nL 5350 5125 \nQ 5325 4825 5325 4375 \nL 5325 3675 \nQ 5575 3675 6150 3700 \nL 6150 3250 \nQ 5575 3275 5325 3275 \nL 5325 125 \nQ 5350 -350 5012 -475 \nQ 4675 -600 4250 -650 \nQ 4175 -350 4025 -100 \nQ 4575 -100 4712 -37 \nQ 4850 25 4825 325 \nL 4825 3275 \nL 3775 3275 \nQ 3550 3275 2925 3225 \nL 2925 3700 \nz\nM 3450 2725 \nQ 3875 1975 4175 1325 \nQ 3850 1200 3700 1075 \nQ 3475 1750 3050 2475 \nQ 3225 2550 3450 2725 \nz\n\" transform=\"scale(0.015625)\"/>\n      <path id=\"SimHei-73bb\" d=\"M 3975 4225 \nQ 3975 4825 3950 5175 \nL 4475 5175 \nQ 4450 5000 4450 4725 \nL 4450 4225 \nL 6025 4225 \nL 5850 3725 \nQ 5775 3475 5700 3150 \nQ 5425 3200 5150 3225 \nQ 5275 3525 5350 3800 \nL 4450 3800 \nL 4450 2700 \nL 5675 2700 \nQ 5550 2250 5362 1712 \nQ 5175 1175 4775 600 \nQ 5050 350 5412 187 \nQ 5775 25 6150 -25 \nQ 5850 -300 5750 -575 \nQ 4975 -225 4450 225 \nQ 3900 -275 3075 -675 \nQ 2900 -425 2650 -250 \nQ 3475 0 4150 575 \nQ 3650 1200 3375 2275 \nL 3175 2275 \nQ 3175 1675 3100 1212 \nQ 3025 750 2825 312 \nQ 2625 -125 2150 -650 \nQ 1925 -450 1650 -350 \nQ 2075 -25 2325 375 \nQ 2575 775 2662 1387 \nQ 2750 2000 2737 2875 \nQ 2725 3750 2700 4225 \nL 3975 4225 \nz\nM 1750 4350 \nQ 2000 4350 2475 4375 \nL 2475 3875 \nQ 2000 3900 1575 3900 \nL 1575 2725 \nQ 1875 2725 2300 2750 \nL 2300 2275 \nQ 1875 2300 1575 2300 \nL 1575 1000 \nQ 1925 1125 2350 1350 \nQ 2350 1100 2450 900 \nQ 1925 700 1387 450 \nQ 850 200 500 0 \nQ 375 325 200 550 \nQ 475 600 1125 825 \nL 1125 2300 \nQ 750 2300 375 2275 \nL 375 2750 \nQ 750 2725 1125 2725 \nL 1125 3900 \nQ 575 3900 275 3875 \nL 275 4375 \nQ 600 4350 900 4350 \nL 1750 4350 \nz\nM 3850 2275 \nQ 4100 1375 4475 950 \nQ 4875 1500 5075 2275 \nL 3850 2275 \nz\nM 3975 2700 \nL 3975 3800 \nL 3175 3800 \nL 3175 2700 \nL 3975 2700 \nz\n\" transform=\"scale(0.015625)\"/>\n      <path id=\"SimHei-7483\" d=\"M 4650 700 \nQ 4475 950 4425 1025 \nQ 4575 1125 4775 1275 \nQ 5000 975 5475 350 \nQ 5300 250 5100 50 \nQ 4950 275 4850 400 \nQ 4175 325 3862 275 \nQ 3550 225 3225 100 \nQ 3125 350 3025 575 \nQ 3200 625 3337 850 \nQ 3475 1075 3625 1375 \nL 2800 1375 \nL 2800 -600 \nL 2325 -600 \nQ 2350 -200 2350 550 \nQ 2350 1325 2325 1750 \nL 3775 1750 \nQ 3875 2025 3925 2200 \nL 2550 2200 \nQ 2575 2450 2575 3050 \nQ 2575 3650 2550 3850 \nL 3050 3850 \nQ 3025 3650 3025 3425 \nL 3025 2575 \nL 5325 2575 \nL 5325 3400 \nQ 5325 3650 5300 3875 \nL 5800 3875 \nQ 5775 3650 5775 3050 \nQ 5775 2450 5800 2200 \nL 4375 2200 \nQ 4275 1950 4200 1750 \nL 6050 1750 \nQ 6025 1375 6025 950 \nL 6025 0 \nQ 6025 -325 5887 -450 \nQ 5750 -575 5175 -675 \nQ 5100 -375 4950 -150 \nQ 5350 -150 5462 -112 \nQ 5575 -75 5575 150 \nL 5575 1375 \nL 4050 1375 \nQ 3925 1125 3625 625 \nQ 4100 650 4650 700 \nz\nM 1625 4650 \nQ 1850 4650 2125 4675 \nL 2125 4200 \nQ 1825 4225 1625 4225 \nL 1450 4225 \nL 1450 2900 \nQ 1775 2900 2075 2925 \nL 2075 2475 \nQ 1775 2500 1450 2500 \nL 1450 925 \nQ 1900 1100 2175 1250 \nQ 2225 1000 2275 825 \nQ 1850 675 1312 437 \nQ 775 200 475 25 \nQ 350 250 200 500 \nQ 525 600 1050 800 \nL 1050 2500 \nQ 700 2500 400 2450 \nL 400 2925 \nQ 650 2900 1050 2900 \nL 1050 4225 \nL 775 4225 \nQ 650 4225 350 4200 \nL 350 4675 \nQ 650 4650 875 4650 \nL 1625 4650 \nz\nM 4200 5275 \nQ 4250 5075 4350 4700 \nL 5300 4700 \nQ 5675 4700 5975 4750 \nL 5975 4275 \nQ 5650 4300 5300 4300 \nL 3025 4300 \nQ 2650 4300 2325 4275 \nL 2325 4725 \nQ 2650 4700 3025 4700 \nL 3850 4700 \nQ 3775 5000 3700 5175 \nL 4200 5275 \nz\nM 4975 3875 \nQ 4875 3775 4750 3675 \nQ 4625 3575 4475 3425 \nQ 4775 3200 5100 2950 \nQ 4900 2800 4750 2650 \nQ 4425 2975 4200 3125 \nQ 3875 2875 3550 2600 \nQ 3400 2800 3250 2925 \nQ 3575 3075 3900 3400 \nQ 3600 3650 3350 3825 \nQ 3500 3975 3625 4125 \nQ 3900 3875 4200 3700 \nQ 4400 3900 4625 4200 \nQ 4725 4050 4975 3875 \nz\n\" transform=\"scale(0.015625)\"/>\n      <path id=\"SimHei-6837\" d=\"M 4350 4025 \nQ 4600 4575 4850 5225 \nQ 5250 5075 5375 5000 \nQ 5150 4725 4850 4025 \nL 4950 4025 \nQ 5650 4050 5950 4050 \nL 5950 3600 \nQ 5675 3625 5175 3625 \nL 4550 3625 \nL 4550 2650 \nL 4950 2650 \nQ 5525 2675 5800 2675 \nL 5800 2225 \nQ 5475 2250 5025 2250 \nL 4550 2250 \nL 4550 1225 \nL 5325 1225 \nQ 5800 1250 6100 1250 \nL 6100 800 \nQ 5825 825 5325 825 \nL 4550 825 \nL 4550 275 \nQ 4550 -250 4575 -600 \nL 4075 -600 \nL 4075 825 \nL 3475 825 \nQ 3000 825 2550 800 \nL 2550 1275 \nQ 3000 1250 3500 1225 \nL 4075 1225 \nL 4075 2250 \nL 3650 2250 \nQ 3225 2250 2900 2225 \nL 2900 2700 \nQ 3200 2675 3675 2650 \nL 4075 2650 \nL 4075 3625 \nL 3475 3625 \nQ 3050 3625 2750 3600 \nL 2750 4075 \nQ 3050 4050 3475 4025 \nL 4350 4025 \nz\nM 1325 4350 \nQ 1325 4775 1300 5125 \nL 1825 5125 \nQ 1800 4725 1800 4350 \nL 1800 3750 \nQ 2125 3750 2475 3775 \nL 2475 3325 \nQ 2125 3350 1800 3350 \nL 1800 2425 \nQ 2000 2600 2100 2675 \nQ 2375 2325 2725 1775 \nQ 2575 1700 2300 1475 \nQ 2025 1975 1800 2350 \nL 1800 475 \nQ 1800 -50 1825 -575 \nL 1300 -575 \nQ 1325 -25 1325 475 \nL 1325 2250 \nQ 925 1300 525 725 \nQ 425 950 225 1175 \nQ 950 2150 1225 3350 \nQ 825 3350 350 3325 \nL 350 3775 \nQ 825 3750 1325 3750 \nL 1325 4350 \nz\nM 3575 5200 \nQ 3800 4775 3950 4350 \nQ 3650 4250 3525 4175 \nQ 3350 4600 3150 5000 \nQ 3425 5125 3575 5200 \nz\n\" transform=\"scale(0.015625)\"/>\n      <path id=\"SimHei-672c\" d=\"M 2950 3925 \nL 2950 4425 \nQ 2950 4825 2925 5175 \nL 3475 5175 \nQ 3450 4900 3450 4450 \nL 3450 3925 \nL 4850 3925 \nQ 5275 3925 5850 3950 \nL 5850 3475 \nQ 5300 3500 4875 3500 \nL 3850 3500 \nQ 4200 2350 4862 1687 \nQ 5525 1025 6075 800 \nQ 5850 625 5650 325 \nQ 4800 900 4262 1637 \nQ 3725 2375 3450 3350 \nL 3450 1000 \nL 3775 1000 \nQ 4175 1000 4600 1025 \nL 4600 550 \nQ 4175 575 3750 575 \nL 3450 575 \nQ 3450 0 3475 -600 \nL 2925 -600 \nQ 2950 0 2950 575 \nL 2625 575 \nQ 2225 575 1825 550 \nL 1825 1025 \nQ 2225 1000 2625 1000 \nL 2950 1000 \nL 2950 3300 \nQ 2550 2275 2062 1575 \nQ 1575 875 750 175 \nQ 550 450 275 575 \nQ 1100 1075 1650 1825 \nQ 2200 2575 2525 3500 \nL 1425 3500 \nQ 1025 3500 575 3475 \nL 575 3950 \nQ 1025 3925 1400 3925 \nL 2950 3925 \nz\n\" transform=\"scale(0.015625)\"/>\n      <path id=\"SimHei-5e94\" d=\"M 3525 5275 \nQ 3700 4825 3850 4400 \nL 4750 4400 \nQ 5275 4400 5850 4425 \nL 5850 3975 \nQ 5275 4000 4750 4000 \nL 1475 4000 \nQ 1475 2525 1425 1900 \nQ 1375 1275 1237 625 \nQ 1100 -25 750 -625 \nQ 575 -400 300 -250 \nQ 625 175 800 937 \nQ 975 1700 1000 2575 \nQ 1025 3450 1000 4400 \nL 3250 4400 \nQ 3175 4750 3000 5100 \nQ 3250 5150 3525 5275 \nz\nM 5625 3125 \nQ 5375 2575 5187 2050 \nQ 5000 1525 4450 225 \nL 5150 225 \nQ 5500 225 5925 250 \nL 5925 -275 \nQ 5500 -250 5150 -250 \nL 2475 -250 \nQ 2050 -250 1450 -275 \nL 1450 250 \nQ 2025 225 2475 225 \nL 3950 225 \nQ 4325 1000 4612 1850 \nQ 4900 2700 5025 3350 \nQ 5350 3175 5625 3125 \nz\nM 2100 2850 \nQ 2750 1825 3075 1050 \nQ 2900 950 2650 800 \nQ 2150 1925 1700 2575 \nQ 1925 2750 2100 2850 \nz\nM 3300 3425 \nQ 3800 2550 4175 1700 \nQ 3950 1575 3700 1450 \nQ 3400 2300 2900 3200 \nQ 3100 3275 3300 3425 \nz\n\" transform=\"scale(0.015625)\"/>\n      <path id=\"SimHei-7528\" d=\"M 350 -300 \nQ 650 125 812 600 \nQ 975 1075 1012 1550 \nQ 1050 2025 1050 3150 \nQ 1050 4275 1025 4950 \nL 5500 4950 \nQ 5475 4225 5475 3650 \nL 5475 375 \nQ 5475 -150 5175 -275 \nQ 4875 -400 4475 -450 \nQ 4425 -75 4300 125 \nQ 4800 100 4887 162 \nQ 4975 225 4975 400 \nL 4975 1650 \nL 3450 1650 \nL 3450 675 \nQ 3450 125 3475 -325 \nL 2925 -325 \nQ 2950 100 2950 650 \nL 2950 1650 \nL 1525 1650 \nQ 1425 575 850 -525 \nQ 575 -350 350 -300 \nz\nM 4975 3475 \nL 4975 4550 \nL 3450 4550 \nL 3450 3475 \nL 4975 3475 \nz\nM 4975 2050 \nL 4975 3100 \nL 3450 3100 \nL 3450 2050 \nL 4975 2050 \nz\nM 2950 3475 \nL 2950 4550 \nL 1525 4550 \nL 1525 3475 \nL 2950 3475 \nz\nM 2950 2050 \nL 2950 3100 \nL 1525 3100 \nL 1525 2050 \nL 2950 2050 \nz\n\" transform=\"scale(0.015625)\"/>\n      <path id=\"SimHei-4e3b\" d=\"M 4750 3850 \nQ 5150 3850 5750 3875 \nL 5750 3400 \nQ 5150 3425 4750 3425 \nL 3425 3425 \nL 3425 2175 \nL 4425 2175 \nQ 4825 2175 5375 2200 \nL 5375 1725 \nQ 4825 1750 4425 1750 \nL 3425 1750 \nL 3425 150 \nL 5000 150 \nQ 5450 150 6050 175 \nL 6050 -300 \nQ 5450 -275 5000 -275 \nL 350 -275 \nL 350 200 \nQ 950 150 1425 150 \nL 2900 150 \nL 2900 1750 \nL 1925 1750 \nQ 1525 1750 975 1725 \nL 975 2200 \nQ 1575 2175 1925 2175 \nL 2900 2175 \nL 2900 3425 \nL 1650 3425 \nQ 1125 3425 625 3400 \nL 625 3875 \nQ 1175 3850 1675 3850 \nL 4750 3850 \nz\nM 3175 3900 \nQ 2875 4350 2400 4875 \nQ 2650 5050 2800 5200 \nQ 3325 4600 3625 4175 \nQ 3475 4100 3175 3900 \nz\n\" transform=\"scale(0.015625)\"/>\n      <path id=\"SimHei-6210\" d=\"M 3500 4000 \nQ 3475 4725 3450 5225 \nQ 3750 5200 4025 5175 \nQ 3975 4850 4000 4000 \nL 4725 4000 \nQ 5250 4000 5875 4025 \nL 5875 3550 \nQ 5225 3575 4725 3575 \nL 4025 3575 \nQ 4050 2625 4350 1500 \nQ 4825 2225 5100 3175 \nQ 5350 2975 5675 2825 \nQ 5475 2600 5225 2075 \nQ 4975 1550 4575 975 \nQ 4800 525 5062 262 \nQ 5325 0 5425 37 \nQ 5525 75 5625 900 \nQ 5875 700 6150 600 \nQ 5975 -425 5762 -537 \nQ 5550 -650 5250 -537 \nQ 4950 -425 4687 -112 \nQ 4425 200 4250 575 \nQ 3650 -75 2725 -650 \nQ 2600 -425 2350 -250 \nQ 2850 -25 3312 350 \nQ 3775 725 4000 1050 \nQ 3825 1525 3700 2212 \nQ 3575 2900 3550 3575 \nL 1400 3575 \nL 1400 2700 \nL 3025 2700 \nQ 2975 2250 2950 1775 \nL 2875 775 \nQ 2850 300 2612 200 \nQ 2375 100 1800 50 \nQ 1775 275 1600 600 \nQ 2225 575 2325 675 \nQ 2425 775 2450 1250 \nL 2500 2250 \nL 1400 2250 \nQ 1400 1275 1250 625 \nQ 1100 -25 700 -575 \nQ 425 -375 200 -300 \nQ 525 100 650 462 \nQ 775 825 837 1250 \nQ 900 1675 912 2450 \nQ 925 3225 900 4000 \nL 3500 4000 \nz\nM 4750 5225 \nQ 5250 4825 5625 4425 \nQ 5400 4250 5225 4075 \nQ 4925 4475 4425 4900 \nQ 4600 5050 4750 5225 \nz\n\" transform=\"scale(0.015625)\"/>\n      <path id=\"SimHei-5206\" d=\"M 1000 -650 \nQ 825 -375 575 -225 \nQ 975 -75 1300 137 \nQ 1625 350 1875 662 \nQ 2125 975 2250 1350 \nQ 2375 1725 2425 2275 \nQ 1850 2275 1500 2250 \nL 1500 2775 \nQ 1900 2750 2525 2750 \nL 5025 2750 \nQ 4975 2375 4950 2100 \nL 4750 250 \nQ 4700 -200 4350 -350 \nQ 4000 -500 3575 -525 \nQ 3550 -275 3325 50 \nQ 3850 25 4037 87 \nQ 4225 150 4275 525 \nL 4450 2275 \nL 2950 2275 \nQ 2875 1625 2737 1187 \nQ 2600 750 2350 425 \nQ 2100 100 1750 -175 \nQ 1400 -450 1000 -650 \nz\nM 3950 5175 \nQ 4125 4650 4662 3975 \nQ 5200 3300 6175 2800 \nQ 5975 2625 5775 2275 \nQ 5325 2600 4987 2887 \nQ 4650 3175 4425 3425 \nQ 4200 3675 3925 4137 \nQ 3650 4600 3475 5000 \nQ 3750 5075 3950 5175 \nz\nM 2700 4825 \nQ 2475 4425 2325 4125 \nQ 2175 3825 2025 3587 \nQ 1875 3350 1575 2950 \nQ 1275 2550 850 2125 \nQ 625 2350 400 2475 \nQ 900 2925 1187 3300 \nQ 1475 3675 1737 4112 \nQ 2000 4550 2200 5075 \nQ 2400 4925 2700 4825 \nz\n\" transform=\"scale(0.015625)\"/>\n      <path id=\"SimHei-964d\" d=\"M 4075 5050 \nQ 3850 4800 3775 4625 \nL 5650 4625 \nQ 5425 4175 5187 3837 \nQ 4950 3500 4650 3200 \nQ 4900 3025 5275 2925 \nQ 5650 2825 6200 2800 \nQ 6025 2525 5975 2300 \nQ 5375 2400 4950 2562 \nQ 4525 2725 4275 2900 \nQ 3950 2700 3550 2500 \nQ 3150 2300 2525 2125 \nQ 2450 2350 2250 2550 \nQ 2775 2650 3212 2825 \nQ 3650 3000 3875 3200 \nQ 3550 3525 3325 3875 \nQ 3000 3450 2825 3275 \nQ 2650 3450 2450 3550 \nQ 2775 3850 3075 4325 \nQ 3375 4800 3575 5300 \nQ 3950 5100 4075 5050 \nz\nM 2350 4975 \nQ 2225 4650 2025 4062 \nQ 1825 3475 1675 2975 \nQ 2075 2450 2200 2175 \nQ 2325 1900 2287 1550 \nQ 2250 1200 2012 1012 \nQ 1775 825 1350 775 \nQ 1300 1025 1150 1325 \nQ 1650 1300 1737 1512 \nQ 1825 1725 1787 1962 \nQ 1750 2200 1200 2925 \nL 1450 3600 \nQ 1600 4025 1725 4550 \nL 975 4550 \nL 975 -600 \nL 500 -600 \nQ 525 325 525 875 \nL 525 3750 \nQ 525 4325 500 4975 \nL 2350 4975 \nz\nM 5100 2075 \nQ 5275 2075 5725 2100 \nL 5725 1650 \nQ 5450 1675 5150 1675 \nL 4575 1675 \nL 4575 900 \nL 5200 900 \nQ 5675 900 6050 925 \nL 6050 475 \nQ 5700 500 5225 500 \nL 4575 500 \nL 4575 125 \nQ 4575 -250 4600 -600 \nL 4100 -600 \nQ 4125 -225 4125 100 \nL 4125 500 \nL 2375 500 \nQ 2500 1100 2500 1400 \nL 3025 1325 \nQ 2925 1025 2925 900 \nL 4125 900 \nL 4125 1675 \nL 3475 1675 \nQ 3100 1675 2775 1650 \nL 2775 2100 \nQ 3225 2075 3475 2075 \nL 4125 2075 \nQ 4125 2375 4100 2625 \nL 4575 2625 \nQ 4550 2225 4550 2075 \nL 5100 2075 \nz\nM 4275 3475 \nQ 4600 3725 4925 4250 \nL 3550 4250 \nQ 4025 3650 4275 3475 \nz\n\" transform=\"scale(0.015625)\"/>\n      <path id=\"SimHei-7ef4\" d=\"M 3700 5075 \nQ 3575 4900 3475 4637 \nQ 3375 4375 3300 4150 \nL 4900 4150 \nQ 5400 4150 5800 4175 \nL 5800 3725 \nQ 5375 3750 4900 3750 \nL 4650 3750 \nL 4650 2900 \nQ 5250 2900 5625 2925 \nL 5625 2475 \nQ 5250 2500 4650 2500 \nL 4650 1600 \nQ 5275 1600 5650 1625 \nL 5650 1200 \nQ 5275 1225 4650 1225 \nL 4650 325 \nL 5050 325 \nQ 5550 325 6050 350 \nL 6050 -75 \nQ 5550 -50 5050 -50 \nL 3250 -50 \nL 3250 -625 \nL 2775 -625 \nQ 2800 -150 2800 650 \nL 2800 3075 \nQ 2650 2700 2475 2375 \nQ 2225 2550 2050 2650 \nQ 2275 2975 2450 3312 \nQ 2625 3650 2837 4250 \nQ 3050 4850 3100 5250 \nQ 3375 5150 3700 5075 \nz\nM 1750 5000 \nQ 1525 4775 1300 4225 \nQ 1075 3675 825 3150 \nQ 1175 3200 1525 3225 \nQ 1775 3775 1825 4100 \nL 2375 3900 \nQ 2225 3725 1950 3200 \nQ 1675 2675 1125 1575 \nL 2250 1725 \nQ 2150 1425 2125 1250 \nQ 1800 1250 1387 1187 \nQ 975 1125 575 1000 \nQ 475 1300 425 1525 \nQ 650 1625 875 1987 \nQ 1100 2350 1325 2800 \nQ 1050 2775 812 2737 \nQ 575 2700 400 2625 \nQ 325 2825 200 3125 \nQ 425 3275 687 3875 \nQ 950 4475 1150 5175 \nQ 1425 5075 1750 5000 \nz\nM 2475 650 \nQ 2450 400 2450 200 \nQ 2000 125 1450 12 \nQ 900 -100 450 -275 \nQ 350 0 250 300 \nQ 750 350 1187 412 \nQ 1625 475 2475 650 \nz\nM 4200 1600 \nL 4200 2500 \nL 3250 2500 \nL 3250 1600 \nL 4200 1600 \nz\nM 4200 325 \nL 4200 1225 \nL 3250 1225 \nL 3250 325 \nL 4200 325 \nz\nM 4200 2900 \nL 4200 3750 \nL 3250 3750 \nL 3250 2900 \nL 4200 2900 \nz\nM 4500 5225 \nQ 4600 5075 4900 4475 \nQ 4700 4400 4475 4275 \nQ 4350 4575 4100 4975 \nL 4500 5225 \nz\n\" transform=\"scale(0.015625)\"/>\n      <path id=\"SimHei-540e\" d=\"M 5475 2150 \nQ 5450 1750 5450 775 \nQ 5450 -175 5500 -550 \nL 4975 -550 \nL 4975 -25 \nL 2525 -25 \nL 2525 -600 \nL 2025 -600 \nQ 2050 -175 2050 775 \nQ 2050 1750 2025 2150 \nL 5475 2150 \nz\nM 5175 5075 \nQ 5300 4800 5525 4525 \nQ 4950 4475 3750 4337 \nQ 2550 4200 1575 4175 \nL 1575 3375 \nL 5200 3375 \nQ 5550 3375 5975 3400 \nL 5975 2900 \nQ 5575 2925 5200 2925 \nL 1575 2925 \nQ 1550 2425 1487 1875 \nQ 1425 1325 1250 712 \nQ 1075 100 800 -325 \nQ 650 -200 225 -50 \nQ 625 325 825 1062 \nQ 1025 1800 1050 2825 \nQ 1075 3850 1075 4575 \nQ 2300 4600 3625 4775 \nQ 4950 4950 5175 5075 \nz\nM 4975 375 \nL 4975 1725 \nL 2525 1725 \nL 2525 375 \nL 4975 375 \nz\n\" transform=\"scale(0.015625)\"/>\n      <path id=\"SimHei-7684\" d=\"M 2100 4975 \nQ 1975 4750 1750 3950 \nL 2875 3950 \nQ 2850 3525 2850 2875 \nL 2850 675 \nQ 2850 300 2875 -400 \nL 2375 -400 \nL 2375 100 \nL 1100 100 \nL 1100 -450 \nL 600 -450 \nQ 625 350 625 550 \nL 625 2850 \nQ 625 3525 600 3950 \nL 1325 3950 \nQ 1450 4525 1525 5150 \nQ 1875 5025 2100 4975 \nz\nM 5825 3075 \nQ 5800 1550 5700 175 \nQ 5650 -275 5225 -425 \nQ 4800 -575 4275 -625 \nQ 4250 -350 4050 -50 \nQ 4550 -75 4837 -25 \nQ 5125 25 5200 200 \nQ 5275 375 5312 1225 \nQ 5350 2075 5375 3600 \nL 3925 3600 \nQ 3725 3125 3350 2475 \nQ 3175 2650 2925 2750 \nQ 3150 3050 3350 3475 \nQ 3550 3900 3700 4400 \nQ 3850 4900 3875 5175 \nQ 4225 5025 4475 4950 \nQ 4350 4750 4262 4512 \nQ 4175 4275 4075 4050 \nL 5850 4050 \nQ 5825 3525 5825 3075 \nz\nM 2375 525 \nL 2375 1850 \nL 1100 1850 \nL 1100 525 \nL 2375 525 \nz\nM 2375 2275 \nL 2375 3525 \nL 1100 3525 \nL 1100 2275 \nL 2375 2275 \nz\nM 4350 2050 \nQ 4500 1750 4700 1275 \nQ 4525 1200 4225 1025 \nQ 4050 1500 3900 1837 \nQ 3750 2175 3600 2400 \nQ 3775 2500 4050 2650 \nL 4350 2050 \nz\n\" transform=\"scale(0.015625)\"/>\n      <path id=\"SimHei-6563\" d=\"M 4750 4975 \nQ 4625 4850 4537 4600 \nQ 4450 4350 4325 3975 \nL 5350 3975 \nQ 5650 3975 6050 4000 \nL 6050 3550 \nQ 5675 3575 5475 3575 \nQ 5450 2800 5350 2112 \nQ 5250 1425 4925 875 \nQ 5450 250 6200 -100 \nQ 5950 -200 5750 -500 \nQ 5075 0 4650 500 \nQ 4275 -50 3525 -600 \nQ 3375 -425 3100 -300 \nQ 3875 150 4375 875 \nQ 3925 1575 3800 2700 \nQ 3700 2525 3550 2275 \nQ 3350 2425 3125 2525 \nQ 3450 2975 3725 3662 \nQ 4000 4350 4150 5150 \nL 4750 4975 \nz\nM 3025 2550 \nQ 3000 2075 3000 1625 \nL 3000 25 \nQ 3000 -450 2250 -500 \nQ 2225 -275 2050 0 \nQ 2525 0 2525 200 \nL 2525 525 \nL 1275 525 \nL 1275 -550 \nL 800 -550 \nQ 825 -75 825 450 \nL 825 1650 \nQ 825 2100 800 2550 \nL 3025 2550 \nz\nM 1075 4350 \nQ 1075 4775 1050 5150 \nL 1550 5150 \nQ 1525 4825 1525 4350 \nL 2225 4350 \nQ 2225 4850 2200 5150 \nL 2725 5150 \nQ 2700 4850 2700 4350 \nQ 2925 4350 3250 4375 \nL 3250 3950 \nQ 2925 3975 2700 3975 \nL 2700 3375 \nQ 2900 3375 3300 3400 \nL 3300 2975 \nQ 2925 3000 2525 3000 \nL 1100 3000 \nQ 750 3000 275 2975 \nL 275 3400 \nQ 750 3375 1075 3375 \nL 1075 3975 \nQ 825 3975 425 3950 \nL 425 4375 \nQ 800 4350 1075 4350 \nz\nM 4150 3375 \nQ 4250 2000 4625 1300 \nQ 4800 1625 4900 2187 \nQ 5000 2750 5025 3575 \nL 4225 3575 \nL 4150 3375 \nz\nM 2525 900 \nL 2525 1350 \nL 1275 1350 \nL 1275 900 \nL 2525 900 \nz\nM 2525 1725 \nL 2525 2175 \nL 1275 2175 \nL 1275 1725 \nL 2525 1725 \nz\nM 2225 3375 \nL 2225 3975 \nL 1525 3975 \nL 1525 3375 \nL 2225 3375 \nz\n\" transform=\"scale(0.015625)\"/>\n      <path id=\"SimHei-70b9\" d=\"M 3325 5200 \nQ 3300 4925 3300 4375 \nL 4900 4375 \nQ 5275 4375 5725 4400 \nL 5725 3925 \nQ 5300 3950 4900 3950 \nL 3300 3950 \nL 3300 3225 \nL 5225 3225 \nQ 5200 2700 5200 2150 \nQ 5200 1625 5225 1175 \nL 1175 1175 \nQ 1200 1625 1200 2175 \nQ 1200 2725 1175 3225 \nL 2775 3225 \nL 2775 4500 \nQ 2775 4900 2750 5200 \nL 3325 5200 \nz\nM 4700 1600 \nL 4700 2800 \nL 1725 2800 \nL 1725 1600 \nL 4700 1600 \nz\nM 1500 750 \nQ 1025 -250 825 -625 \nQ 625 -475 325 -375 \nQ 650 50 950 925 \nQ 1200 800 1500 750 \nz\nM 5325 850 \nQ 5775 150 6075 -350 \nQ 5925 -425 5575 -625 \nQ 5375 -150 4900 575 \nQ 5150 700 5325 850 \nz\nM 3975 -575 \nQ 3775 -100 3400 575 \nQ 3575 675 3825 825 \nQ 4350 -75 4450 -325 \nQ 4200 -450 3975 -575 \nz\nM 2375 -575 \nQ 2350 -300 1975 550 \nQ 2200 625 2425 775 \nQ 2800 -75 2900 -350 \nQ 2625 -450 2375 -575 \nz\n\" transform=\"scale(0.015625)\"/>\n      <path id=\"SimHei-56fe\" d=\"M 5800 4975 \nQ 5775 4350 5775 3600 \nL 5775 925 \nQ 5775 150 5800 -600 \nL 5300 -600 \nL 5300 -275 \nL 1125 -275 \nL 1125 -650 \nL 625 -650 \nQ 650 125 650 950 \nL 650 3600 \nQ 650 4325 625 4975 \nL 5800 4975 \nz\nM 5300 150 \nL 5300 4575 \nL 1125 4575 \nL 1125 150 \nL 5300 150 \nz\nM 3225 4250 \nQ 3075 4100 2950 3925 \nL 4625 3925 \nQ 4525 3700 4300 3375 \nQ 4075 3050 3600 2600 \nQ 4350 2225 5075 2150 \nQ 4900 1925 4775 1675 \nQ 3850 1950 3225 2350 \nQ 2500 1875 1675 1650 \nQ 1600 1875 1400 2075 \nQ 2200 2200 2875 2600 \nQ 2525 2925 2375 3150 \nQ 2150 2900 1900 2650 \nQ 1725 2850 1525 2950 \nQ 1950 3300 2250 3737 \nQ 2550 4175 2675 4475 \nQ 2925 4350 3225 4250 \nz\nM 2450 1275 \nQ 3550 950 4100 725 \nQ 3975 525 3850 300 \nQ 2825 725 2275 850 \nQ 2375 1050 2450 1275 \nz\nM 2925 2050 \nQ 3775 1700 4075 1600 \nQ 3950 1400 3850 1150 \nQ 3000 1550 2700 1650 \nQ 2825 1825 2925 2050 \nz\nM 2625 3450 \nQ 3000 3025 3275 2850 \nQ 3600 3100 3875 3525 \nL 2675 3525 \nL 2625 3450 \nz\n\" transform=\"scale(0.015625)\"/>\n     </defs>\n     <use xlink:href=\"#SimHei-5bf9\"/>\n     <use xlink:href=\"#SimHei-73bb\" x=\"100\"/>\n     <use xlink:href=\"#SimHei-7483\" x=\"200\"/>\n     <use xlink:href=\"#SimHei-6837\" x=\"300\"/>\n     <use xlink:href=\"#SimHei-672c\" x=\"400\"/>\n     <use xlink:href=\"#SimHei-5e94\" x=\"500\"/>\n     <use xlink:href=\"#SimHei-7528\" x=\"600\"/>\n     <use xlink:href=\"#SimHei-4e3b\" x=\"700\"/>\n     <use xlink:href=\"#SimHei-6210\" x=\"800\"/>\n     <use xlink:href=\"#SimHei-5206\" x=\"900\"/>\n     <use xlink:href=\"#SimHei-964d\" x=\"1000\"/>\n     <use xlink:href=\"#SimHei-7ef4\" x=\"1100\"/>\n     <use xlink:href=\"#SimHei-540e\" x=\"1200\"/>\n     <use xlink:href=\"#SimHei-7684\" x=\"1300\"/>\n     <use xlink:href=\"#SimHei-6563\" x=\"1400\"/>\n     <use xlink:href=\"#SimHei-70b9\" x=\"1500\"/>\n     <use xlink:href=\"#SimHei-56fe\" x=\"1600\"/>\n    </g>\n   </g>\n   <g id=\"legend_1\">\n    <g id=\"patch_7\">\n     <path d=\"M 66.4 84.25 \nL 149.6 84.25 \nQ 152.8 84.25 152.8 81.05 \nL 152.8 37.3375 \nQ 152.8 34.1375 149.6 34.1375 \nL 66.4 34.1375 \nQ 63.2 34.1375 63.2 37.3375 \nL 63.2 81.05 \nQ 63.2 84.25 66.4 84.25 \nz\n\" style=\"fill: #ffffff; opacity: 0.8; stroke: #cccccc; stroke-linejoin: miter\"/>\n    </g>\n    <g id=\"PathCollection_3\">\n     <g>\n      <use xlink:href=\"#m35fe4444fa\" x=\"85.6\" y=\"49.0875\" style=\"fill: #1f77b4; stroke: #1f77b4\"/>\n     </g>\n    </g>\n    <g id=\"text_15\">\n     <!-- 铅钡 -->\n     <g transform=\"translate(114.4 53.2875)scale(0.16 -0.16)\">\n      <defs>\n       <path id=\"SimHei-94c5\" d=\"M 5800 2125 \nQ 5775 1700 5775 900 \nQ 5775 100 5800 -525 \nL 5325 -525 \nL 5325 75 \nL 3600 75 \nL 3600 -575 \nL 3125 -575 \nQ 3150 100 3150 800 \nQ 3150 1525 3125 2125 \nL 5800 2125 \nz\nM 2400 900 \nQ 2450 750 2625 475 \nQ 2500 375 2150 87 \nQ 1800 -200 1425 -575 \nQ 1275 -350 1100 -175 \nQ 1250 50 1250 300 \nL 1250 1600 \nQ 725 1600 300 1575 \nL 300 2025 \nQ 725 2000 1250 2000 \nL 1250 2775 \nQ 975 2775 725 2750 \nL 725 3200 \nQ 975 3175 1275 3175 \nL 1900 3175 \nQ 2200 3175 2450 3200 \nL 2450 2750 \nQ 2050 2775 1725 2775 \nL 1725 2000 \nQ 2300 2000 2675 2025 \nL 2675 1575 \nQ 2300 1600 1725 1600 \nL 1725 225 \nQ 2200 650 2400 900 \nz\nM 6125 3125 \nQ 6025 2925 6025 2625 \nQ 5525 2600 5237 2625 \nQ 4950 2650 4950 3100 \nL 4950 4425 \nL 3875 4425 \nQ 3875 3525 3737 3150 \nQ 3600 2775 3125 2375 \nQ 2950 2625 2675 2750 \nQ 3350 3050 3387 3762 \nQ 3425 4475 3400 4800 \nL 5400 4800 \nQ 5400 3850 5412 3512 \nQ 5425 3175 5537 3112 \nQ 5650 3050 6125 3125 \nz\nM 5325 450 \nL 5325 1725 \nL 3600 1725 \nL 3600 450 \nL 5325 450 \nz\nM 1850 5050 \nQ 1575 4800 1350 4375 \nL 2000 4375 \nQ 2225 4375 2600 4400 \nL 2600 3975 \nQ 2225 4000 1975 4000 \nL 1125 4000 \nQ 750 3450 525 3175 \nQ 400 3425 200 3500 \nQ 575 3850 887 4375 \nQ 1200 4900 1300 5300 \nQ 1525 5150 1850 5050 \nz\n\" transform=\"scale(0.015625)\"/>\n       <path id=\"SimHei-94a1\" d=\"M 5800 4750 \nQ 5775 4350 5775 2925 \nQ 5775 1500 5800 1075 \nL 5325 1075 \nL 5325 4350 \nL 3425 4350 \nL 3425 1075 \nL 2975 1075 \nQ 3000 1575 3000 2925 \nQ 3000 4300 2975 4750 \nL 5800 4750 \nz\nM 950 3200 \nQ 1250 3175 1650 3175 \nQ 2050 3175 2400 3200 \nL 2400 2800 \nQ 2000 2825 1750 2825 \nL 1750 1975 \nQ 2350 1975 2625 2000 \nL 2625 1600 \nQ 2300 1625 1750 1625 \nL 1750 400 \nQ 2175 750 2425 1025 \nQ 2500 800 2650 600 \nQ 2400 400 2087 137 \nQ 1775 -125 1400 -475 \nQ 1225 -250 1100 -100 \nQ 1350 100 1325 575 \nL 1325 1625 \nQ 950 1625 525 1600 \nL 525 2000 \nQ 975 1975 1325 1975 \nL 1325 2825 \nQ 1150 2825 950 2800 \nL 950 3200 \nz\nM 4675 3575 \nQ 4625 3125 4600 2337 \nQ 4575 1550 4425 1025 \nQ 4275 525 3850 125 \nQ 3425 -275 2775 -600 \nQ 2625 -375 2375 -175 \nQ 3050 50 3475 437 \nQ 3900 825 4025 1325 \nQ 4125 1825 4137 2475 \nQ 4150 3125 4125 3650 \nQ 4400 3600 4675 3575 \nz\nM 1900 5000 \nQ 1775 4775 1525 4225 \nL 1950 4225 \nQ 2125 4225 2625 4250 \nL 2625 3825 \nQ 2100 3850 1800 3850 \nL 1325 3850 \nQ 1100 3550 900 3287 \nQ 700 3025 525 2825 \nQ 375 3050 225 3200 \nQ 600 3575 912 4075 \nQ 1225 4575 1375 5200 \nQ 1625 5075 1900 5000 \nz\nM 4950 875 \nQ 5600 350 6175 -150 \nQ 5975 -325 5800 -575 \nQ 5250 25 4625 475 \nQ 4800 650 4950 875 \nz\n\" transform=\"scale(0.015625)\"/>\n      </defs>\n      <use xlink:href=\"#SimHei-94c5\"/>\n      <use xlink:href=\"#SimHei-94a1\" x=\"100\"/>\n     </g>\n    </g>\n    <g id=\"PathCollection_4\">\n     <g>\n      <use xlink:href=\"#ma180e5db5c\" x=\"85.6\" y=\"71.65\" style=\"fill: #ff7f0e; stroke: #ff7f0e\"/>\n     </g>\n    </g>\n    <g id=\"text_16\">\n     <!-- 高钾 -->\n     <g transform=\"translate(114.4 75.85)scale(0.16 -0.16)\">\n      <defs>\n       <path id=\"SimHei-9ad8\" d=\"M 5825 -25 \nQ 5850 -400 5550 -500 \nQ 5250 -600 4975 -625 \nQ 4875 -325 4725 -100 \nQ 4975 -100 5175 -87 \nQ 5375 -75 5350 250 \nL 5350 1825 \nL 1100 1825 \nL 1100 -575 \nL 600 -575 \nQ 625 -225 625 850 \nQ 625 1950 600 2200 \nL 5850 2200 \nQ 5825 1850 5825 1425 \nL 5825 -25 \nz\nM 4925 3800 \nQ 4900 3475 4900 3175 \nQ 4900 2900 4925 2600 \nL 1400 2600 \nQ 1425 2825 1425 3175 \nQ 1425 3525 1400 3800 \nL 4925 3800 \nz\nM 4500 1400 \nQ 4475 1125 4475 800 \nQ 4475 500 4500 200 \nL 1950 200 \nQ 2000 500 2000 800 \nQ 2000 1125 1950 1400 \nL 4500 1400 \nz\nM 425 4600 \nQ 750 4575 1125 4575 \nL 2925 4575 \nQ 2850 4875 2750 5100 \nQ 3050 5125 3350 5200 \nQ 3400 4950 3525 4575 \nL 5250 4575 \nQ 5600 4575 5975 4600 \nL 5975 4150 \nQ 5600 4175 5050 4175 \nL 1150 4175 \nQ 750 4175 425 4150 \nL 425 4600 \nz\nM 4450 2975 \nL 4450 3425 \nL 1900 3425 \nL 1900 2975 \nL 4450 2975 \nz\nM 4025 550 \nL 4025 1050 \nL 2400 1050 \nL 2400 550 \nL 4025 550 \nz\n\" transform=\"scale(0.015625)\"/>\n       <path id=\"SimHei-94be\" d=\"M 5775 4775 \nQ 5750 4325 5750 3775 \nL 5750 2075 \nQ 5750 1625 5775 1200 \nL 5300 1200 \nL 5300 1450 \nL 4475 1450 \nL 4475 550 \nQ 4475 125 4500 -575 \nL 4000 -575 \nQ 4025 150 4025 550 \nL 4025 1450 \nL 3225 1450 \nL 3225 1150 \nL 2750 1150 \nQ 2775 1625 2775 2075 \nL 2775 3800 \nQ 2775 4300 2750 4775 \nL 5775 4775 \nz\nM 1800 5000 \nQ 1525 4525 1375 4225 \nL 1675 4225 \nQ 1975 4225 2400 4250 \nL 2400 3775 \nQ 1950 3800 1675 3800 \nL 1150 3800 \nQ 925 3425 775 3200 \nQ 1150 3175 1525 3175 \nQ 1900 3175 2350 3200 \nL 2350 2750 \nQ 1900 2775 1650 2775 \nL 1650 2000 \nL 1800 2000 \nQ 2050 2000 2450 2025 \nL 2450 1575 \nQ 2000 1600 1650 1600 \nL 1650 325 \nQ 1975 600 2200 850 \nQ 2300 625 2475 400 \nQ 2200 225 1900 -25 \nQ 1600 -275 1425 -475 \nQ 1225 -250 1050 -75 \nQ 1150 25 1200 200 \nL 1200 1600 \nQ 850 1600 475 1575 \nL 475 2025 \nQ 875 2000 1200 2000 \nL 1200 2775 \nQ 1050 2775 700 2750 \nL 700 3075 \nL 575 2900 \nQ 425 3075 200 3250 \nQ 500 3550 812 4125 \nQ 1125 4700 1275 5200 \nQ 1475 5125 1800 5000 \nz\nM 5300 3300 \nL 5300 4375 \nL 4475 4375 \nL 4475 3300 \nL 5300 3300 \nz\nM 5300 1850 \nL 5300 2900 \nL 4475 2900 \nL 4475 1850 \nL 5300 1850 \nz\nM 4025 3300 \nL 4025 4375 \nL 3225 4375 \nL 3225 3300 \nL 4025 3300 \nz\nM 4025 1850 \nL 4025 2900 \nL 3225 2900 \nL 3225 1850 \nL 4025 1850 \nz\n\" transform=\"scale(0.015625)\"/>\n      </defs>\n      <use xlink:href=\"#SimHei-9ad8\"/>\n      <use xlink:href=\"#SimHei-94be\" x=\"100\"/>\n     </g>\n    </g>\n   </g>\n  </g>\n </g>\n <defs>\n  <clipPath id=\"pcc86cd553d\">\n   <rect x=\"55.2\" y=\"26.1375\" width=\"558\" height=\"434.88\"/>\n  </clipPath>\n </defs>\n</svg>\n",
      "text/plain": [
       "<Figure size 800x640 with 1 Axes>"
      ]
     },
     "metadata": {
      "needs_background": "light"
     },
     "output_type": "display_data"
    }
   ],
   "source": [
    "import seaborn as sns\n",
    "\n",
    "from sklearn.decomposition import PCA\n",
    "model = PCA(2)\n",
    "mat = model.fit_transform(Xtrain)\n",
    "\n",
    "plt.title('对玻璃样本应用主成分降维后的散点图')\n",
    "plt.xlabel('PC1')\n",
    "plt.ylabel('PC2')\n",
    "plt.scatter(mat[Ytrain==1,0], mat[Ytrain==1,1], label='铅钡')\n",
    "plt.scatter(mat[Ytrain==0,0], mat[Ytrain==0,1], label='高钾')\n",
    "plt.legend()\n",
    "plt.savefig('对玻璃样本应用主成分降维后的散点图.svg')"
   ]
  },
  {
   "cell_type": "code",
   "execution_count": null,
   "id": "6cac6731",
   "metadata": {},
   "outputs": [],
   "source": []
  }
 ],
 "metadata": {
  "kernelspec": {
   "display_name": "Python 3 (ipykernel)",
   "language": "python",
   "name": "python3"
  },
  "language_info": {
   "codemirror_mode": {
    "name": "ipython",
    "version": 3
   },
   "file_extension": ".py",
   "mimetype": "text/x-python",
   "name": "python",
   "nbconvert_exporter": "python",
   "pygments_lexer": "ipython3",
   "version": "3.9.12"
  },
  "toc": {
   "base_numbering": 1,
   "nav_menu": {},
   "number_sections": true,
   "sideBar": true,
   "skip_h1_title": false,
   "title_cell": "Table of Contents",
   "title_sidebar": "Contents",
   "toc_cell": false,
   "toc_position": {},
   "toc_section_display": true,
   "toc_window_display": false
  },
  "varInspector": {
   "cols": {
    "lenName": 16,
    "lenType": 16,
    "lenVar": 40
   },
   "kernels_config": {
    "python": {
     "delete_cmd_postfix": "",
     "delete_cmd_prefix": "del ",
     "library": "var_list.py",
     "varRefreshCmd": "print(var_dic_list())"
    },
    "r": {
     "delete_cmd_postfix": ") ",
     "delete_cmd_prefix": "rm(",
     "library": "var_list.r",
     "varRefreshCmd": "cat(var_dic_list()) "
    }
   },
   "types_to_exclude": [
    "module",
    "function",
    "builtin_function_or_method",
    "instance",
    "_Feature"
   ],
   "window_display": false
  },
  "vscode": {
   "interpreter": {
    "hash": "5a59823d3e6695cb965693098479e8e0ed70c3f74dbfe2d46cc0a8fabfd85b31"
   }
  }
 },
 "nbformat": 4,
 "nbformat_minor": 5
}
