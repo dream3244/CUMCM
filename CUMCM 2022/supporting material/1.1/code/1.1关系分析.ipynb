{
 "cells": [
  {
   "cell_type": "code",
   "execution_count": 1,
   "metadata": {},
   "outputs": [],
   "source": [
    "import numpy as np\n",
    "import pandas as pd\n",
    "import matplotlib.pyplot as plt\n",
    "from sklearn.linear_model import LogisticRegression as LR"
   ]
  },
  {
   "cell_type": "code",
   "execution_count": 2,
   "metadata": {},
   "outputs": [],
   "source": [
    "df = pd.read_excel('附件.xlsx', sheet_name='表单1')"
   ]
  },
  {
   "cell_type": "code",
   "execution_count": 3,
   "metadata": {},
   "outputs": [],
   "source": [
    "df = df.dropna()"
   ]
  },
  {
   "cell_type": "code",
   "execution_count": 4,
   "metadata": {},
   "outputs": [],
   "source": [
    "df.insert(df.shape[1], '红', 0)\n",
    "df.insert(df.shape[1], '蓝', 0)\n",
    "df.insert(df.shape[1], '绿', 0)"
   ]
  },
  {
   "cell_type": "code",
   "execution_count": 5,
   "metadata": {},
   "outputs": [],
   "source": [
    "df.loc[df['颜色'] == '浅蓝', '蓝'] = 1\n",
    "df.loc[df['颜色'] == '深蓝', '蓝'] = 2\n",
    "\n",
    "df.loc[df['颜色'] == '浅绿', '绿'] = 1\n",
    "df.loc[df['颜色'] == '深绿', '绿'] = 2\n",
    "\n",
    "df.loc[df['颜色'] == '蓝绿', '蓝'] = 1\n",
    "df.loc[df['颜色'] == '蓝绿', '绿'] = 1\n",
    "\n",
    "df.loc[df['颜色'] == '紫', '蓝'] = 1\n",
    "df.loc[df['颜色'] == '紫', '红'] = 1\n",
    "\n",
    "\n",
    "df.loc[df['颜色'] == '黑', '蓝'] = 1\n",
    "df.loc[df['颜色'] == '黑', '红'] = 1\n",
    "df.loc[df['颜色'] == '黑', '绿'] = 1"
   ]
  },
  {
   "cell_type": "code",
   "execution_count": 6,
   "metadata": {},
   "outputs": [],
   "source": [
    "df1 = df.drop('颜色', axis=1)"
   ]
  },
  {
   "cell_type": "code",
   "execution_count": 7,
   "metadata": {},
   "outputs": [],
   "source": [
    "df2 = pd.get_dummies(df1)"
   ]
  },
  {
   "cell_type": "code",
   "execution_count": 8,
   "metadata": {},
   "outputs": [],
   "source": [
    "df2 = df2.drop(['表面风化_无风化'], axis=1)"
   ]
  },
  {
   "cell_type": "code",
   "execution_count": 9,
   "metadata": {},
   "outputs": [],
   "source": [
    "df2.to_excel('表单1虚拟变量.xlsx', index=False)"
   ]
  },
  {
   "cell_type": "code",
   "execution_count": 10,
   "metadata": {},
   "outputs": [
    {
     "data": {
      "text/plain": [
       "LogisticRegression(random_state=0)"
      ]
     },
     "execution_count": 10,
     "metadata": {},
     "output_type": "execute_result"
    }
   ],
   "source": [
    "X = df2.iloc[:, [*range(1, 9)]]\n",
    "y = df2.iloc[:, -1]\n",
    "\n",
    "\n",
    "model = LR(random_state=0)\n",
    "model.fit(X, y)"
   ]
  },
  {
   "cell_type": "code",
   "execution_count": 11,
   "metadata": {},
   "outputs": [
    {
     "data": {
      "text/plain": [
       "array([[ 0.02082539,  0.60893341,  0.36613576, -0.89940798,  1.51838135,\n",
       "        -0.61897687,  1.02478628, -1.02478978]])"
      ]
     },
     "execution_count": 11,
     "metadata": {},
     "output_type": "execute_result"
    }
   ],
   "source": [
    "model.coef_"
   ]
  },
  {
   "cell_type": "code",
   "execution_count": 12,
   "metadata": {},
   "outputs": [
    {
     "data": {
      "text/html": [
       "<div>\n",
       "<style scoped>\n",
       "    .dataframe tbody tr th:only-of-type {\n",
       "        vertical-align: middle;\n",
       "    }\n",
       "\n",
       "    .dataframe tbody tr th {\n",
       "        vertical-align: top;\n",
       "    }\n",
       "\n",
       "    .dataframe thead th {\n",
       "        text-align: right;\n",
       "    }\n",
       "</style>\n",
       "<table border=\"1\" class=\"dataframe\">\n",
       "  <thead>\n",
       "    <tr style=\"text-align: right;\">\n",
       "      <th></th>\n",
       "      <th>0</th>\n",
       "      <th>1</th>\n",
       "      <th>2</th>\n",
       "      <th>3</th>\n",
       "      <th>4</th>\n",
       "      <th>5</th>\n",
       "      <th>6</th>\n",
       "      <th>7</th>\n",
       "    </tr>\n",
       "  </thead>\n",
       "  <tbody>\n",
       "    <tr>\n",
       "      <th>0</th>\n",
       "      <td>红</td>\n",
       "      <td>蓝</td>\n",
       "      <td>绿</td>\n",
       "      <td>纹饰_A</td>\n",
       "      <td>纹饰_B</td>\n",
       "      <td>纹饰_C</td>\n",
       "      <td>类型_铅钡</td>\n",
       "      <td>类型_高钾</td>\n",
       "    </tr>\n",
       "    <tr>\n",
       "      <th>1</th>\n",
       "      <td>0.020825</td>\n",
       "      <td>0.608933</td>\n",
       "      <td>0.366136</td>\n",
       "      <td>-0.899408</td>\n",
       "      <td>1.518381</td>\n",
       "      <td>-0.618977</td>\n",
       "      <td>1.024786</td>\n",
       "      <td>-1.02479</td>\n",
       "    </tr>\n",
       "  </tbody>\n",
       "</table>\n",
       "</div>"
      ],
      "text/plain": [
       "          0         1         2         3         4         5         6  \\\n",
       "0         红         蓝         绿      纹饰_A      纹饰_B      纹饰_C     类型_铅钡   \n",
       "1  0.020825  0.608933  0.366136 -0.899408  1.518381 -0.618977  1.024786   \n",
       "\n",
       "         7  \n",
       "0    类型_高钾  \n",
       "1 -1.02479  "
      ]
     },
     "execution_count": 12,
     "metadata": {},
     "output_type": "execute_result"
    }
   ],
   "source": [
    "# 逻辑回归系数如下\n",
    "pd.DataFrame([df2.columns[1:-1], *model.coef_])"
   ]
  }
 ],
 "metadata": {
  "kernelspec": {
   "display_name": "Python 3.9.12 ('base')",
   "language": "python",
   "name": "python3"
  },
  "language_info": {
   "codemirror_mode": {
    "name": "ipython",
    "version": 3
   },
   "file_extension": ".py",
   "mimetype": "text/x-python",
   "name": "python",
   "nbconvert_exporter": "python",
   "pygments_lexer": "ipython3",
   "version": "3.9.12"
  },
  "orig_nbformat": 4,
  "vscode": {
   "interpreter": {
    "hash": "5a59823d3e6695cb965693098479e8e0ed70c3f74dbfe2d46cc0a8fabfd85b31"
   }
  }
 },
 "nbformat": 4,
 "nbformat_minor": 2
}
