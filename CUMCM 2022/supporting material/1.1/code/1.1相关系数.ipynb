{
 "cells": [
  {
   "cell_type": "code",
   "execution_count": 30,
   "metadata": {},
   "outputs": [],
   "source": [
    "import seaborn as sns\n",
    "import numpy as np\n",
    "import pandas as pd\n",
    "from sklearn.linear_model import Ridge, LinearRegression, Lasso\n",
    "from sklearn.model_selection import train_test_split as TTS\n",
    "import matplotlib.pyplot as plt\n",
    "from sklearn.linear_model import LassoCV\n",
    "import statsmodels.api as sm\n",
    "import statsmodels.iolib.summary2\n",
    "from matplotlib import pyplot as plt\n",
    "from scipy import stats\n",
    "from statsmodels.stats.diagnostic import het_white  # 怀特检验\n",
    "from statsmodels.stats.outliers_influence import variance_inflation_factor  # 计算VIF方差"
   ]
  },
  {
   "cell_type": "code",
   "execution_count": 31,
   "metadata": {},
   "outputs": [],
   "source": [
    "# 正常显示汉字和负号\n",
    "plt.rcParams['font.sans-serif'] = ['SimHei']\n",
    "plt.rcParams['axes.unicode_minus'] = False"
   ]
  },
  {
   "cell_type": "code",
   "execution_count": 32,
   "metadata": {},
   "outputs": [],
   "source": [
    "df = pd.read_excel('表单1虚拟变量.xlsx')"
   ]
  },
  {
   "cell_type": "code",
   "execution_count": 33,
   "metadata": {},
   "outputs": [],
   "source": [
    "data = df.iloc[:, 1:]"
   ]
  },
  {
   "cell_type": "code",
   "execution_count": 34,
   "metadata": {},
   "outputs": [],
   "source": [
    "### 正态分布检验 \n",
    "#### Jarque‐Bera检验(大样本 $ n > 30 $)"
   ]
  },
  {
   "cell_type": "code",
   "execution_count": 35,
   "metadata": {},
   "outputs": [
    {
     "data": {
      "text/html": [
       "<div>\n",
       "<style scoped>\n",
       "    .dataframe tbody tr th:only-of-type {\n",
       "        vertical-align: middle;\n",
       "    }\n",
       "\n",
       "    .dataframe tbody tr th {\n",
       "        vertical-align: top;\n",
       "    }\n",
       "\n",
       "    .dataframe thead th {\n",
       "        text-align: right;\n",
       "    }\n",
       "</style>\n",
       "<table border=\"1\" class=\"dataframe\">\n",
       "  <thead>\n",
       "    <tr style=\"text-align: right;\">\n",
       "      <th></th>\n",
       "      <th>红</th>\n",
       "      <th>蓝</th>\n",
       "      <th>绿</th>\n",
       "      <th>纹饰_A</th>\n",
       "      <th>纹饰_B</th>\n",
       "      <th>纹饰_C</th>\n",
       "      <th>类型_铅钡</th>\n",
       "      <th>类型_高钾</th>\n",
       "      <th>表面风化_风化</th>\n",
       "    </tr>\n",
       "  </thead>\n",
       "  <tbody>\n",
       "    <tr>\n",
       "      <th>JB</th>\n",
       "      <td>93.4102</td>\n",
       "      <td>3.9530</td>\n",
       "      <td>5.2112</td>\n",
       "      <td>9.1869</td>\n",
       "      <td>93.4102</td>\n",
       "      <td>9.0001</td>\n",
       "      <td>9.5625</td>\n",
       "      <td>9.5625</td>\n",
       "      <td>9.0056</td>\n",
       "    </tr>\n",
       "    <tr>\n",
       "      <th>pvalue</th>\n",
       "      <td>0.0000</td>\n",
       "      <td>0.1386</td>\n",
       "      <td>0.0739</td>\n",
       "      <td>0.0101</td>\n",
       "      <td>0.0000</td>\n",
       "      <td>0.0111</td>\n",
       "      <td>0.0084</td>\n",
       "      <td>0.0084</td>\n",
       "      <td>0.0111</td>\n",
       "    </tr>\n",
       "  </tbody>\n",
       "</table>\n",
       "</div>"
      ],
      "text/plain": [
       "              红       蓝       绿    纹饰_A     纹饰_B    纹饰_C   类型_铅钡   类型_高钾  \\\n",
       "JB      93.4102  3.9530  5.2112  9.1869  93.4102  9.0001  9.5625  9.5625   \n",
       "pvalue   0.0000  0.1386  0.0739  0.0101   0.0000  0.0111  0.0084  0.0084   \n",
       "\n",
       "        表面风化_风化  \n",
       "JB       9.0056  \n",
       "pvalue   0.0111  "
      ]
     },
     "execution_count": 35,
     "metadata": {},
     "output_type": "execute_result"
    }
   ],
   "source": [
    "def JB(X):\n",
    "    result = stats.jarque_bera(X)\n",
    "    return pd.Series(result, index=['JB', 'pvalue']).round(4)\n",
    "JB_test = data.apply(JB)\n",
    "JB_test"
   ]
  },
  {
   "cell_type": "code",
   "execution_count": 36,
   "metadata": {},
   "outputs": [
    {
     "data": {
      "text/plain": [
       "红          False\n",
       "蓝           True\n",
       "绿           True\n",
       "纹饰_A       False\n",
       "纹饰_B       False\n",
       "纹饰_C       False\n",
       "类型_铅钡      False\n",
       "类型_高钾      False\n",
       "表面风化_风化    False\n",
       "Name: pvalue, dtype: bool"
      ]
     },
     "execution_count": 36,
     "metadata": {},
     "output_type": "execute_result"
    }
   ],
   "source": [
    "# 显著性检验，验证该随机变量是否符合正态分布\n",
    "# 将p值与0.05比较，小于则可拒绝原假设，否则不能拒绝原假设\n",
    "JB_test.iloc[1,:] > 0.05"
   ]
  },
  {
   "cell_type": "code",
   "execution_count": 37,
   "metadata": {},
   "outputs": [],
   "source": [
    "# ## 斯皮尔曼相关系数\n",
    "# ### 1.适用条件\n",
    "# * 分布严重非正态\n",
    "# * 变量非连续\n",
    "# * 异常值影响大\n",
    "# ### 2.斯皮尔曼相关系数矩阵"
   ]
  },
  {
   "cell_type": "code",
   "execution_count": 38,
   "metadata": {},
   "outputs": [
    {
     "data": {
      "text/html": [
       "<div>\n",
       "<style scoped>\n",
       "    .dataframe tbody tr th:only-of-type {\n",
       "        vertical-align: middle;\n",
       "    }\n",
       "\n",
       "    .dataframe tbody tr th {\n",
       "        vertical-align: top;\n",
       "    }\n",
       "\n",
       "    .dataframe thead th {\n",
       "        text-align: right;\n",
       "    }\n",
       "</style>\n",
       "<table border=\"1\" class=\"dataframe\">\n",
       "  <thead>\n",
       "    <tr style=\"text-align: right;\">\n",
       "      <th></th>\n",
       "      <th>红</th>\n",
       "      <th>蓝</th>\n",
       "      <th>绿</th>\n",
       "      <th>纹饰_A</th>\n",
       "      <th>纹饰_B</th>\n",
       "      <th>纹饰_C</th>\n",
       "      <th>类型_铅钡</th>\n",
       "      <th>类型_高钾</th>\n",
       "      <th>表面风化_风化</th>\n",
       "    </tr>\n",
       "  </thead>\n",
       "  <tbody>\n",
       "    <tr>\n",
       "      <th>红</th>\n",
       "      <td>1.000000</td>\n",
       "      <td>0.137147</td>\n",
       "      <td>-0.141755</td>\n",
       "      <td>-0.027116</td>\n",
       "      <td>-0.125000</td>\n",
       "      <td>0.104828</td>\n",
       "      <td>0.250000</td>\n",
       "      <td>-0.250000</td>\n",
       "      <td>0.079057</td>\n",
       "    </tr>\n",
       "    <tr>\n",
       "      <th>蓝</th>\n",
       "      <td>0.137147</td>\n",
       "      <td>1.000000</td>\n",
       "      <td>-0.597105</td>\n",
       "      <td>0.439660</td>\n",
       "      <td>0.137147</td>\n",
       "      <td>-0.511180</td>\n",
       "      <td>-0.259056</td>\n",
       "      <td>0.259056</td>\n",
       "      <td>0.016063</td>\n",
       "    </tr>\n",
       "    <tr>\n",
       "      <th>绿</th>\n",
       "      <td>-0.141755</td>\n",
       "      <td>-0.597105</td>\n",
       "      <td>1.000000</td>\n",
       "      <td>-0.222493</td>\n",
       "      <td>0.250156</td>\n",
       "      <td>0.057692</td>\n",
       "      <td>-0.211243</td>\n",
       "      <td>0.211243</td>\n",
       "      <td>0.065922</td>\n",
       "    </tr>\n",
       "    <tr>\n",
       "      <th>纹饰_A</th>\n",
       "      <td>-0.027116</td>\n",
       "      <td>0.439660</td>\n",
       "      <td>-0.222493</td>\n",
       "      <td>1.000000</td>\n",
       "      <td>-0.271163</td>\n",
       "      <td>-0.795917</td>\n",
       "      <td>0.054233</td>\n",
       "      <td>-0.054233</td>\n",
       "      <td>-0.162924</td>\n",
       "    </tr>\n",
       "    <tr>\n",
       "      <th>纹饰_B</th>\n",
       "      <td>-0.125000</td>\n",
       "      <td>0.137147</td>\n",
       "      <td>0.250156</td>\n",
       "      <td>-0.271163</td>\n",
       "      <td>1.000000</td>\n",
       "      <td>-0.366900</td>\n",
       "      <td>-0.500000</td>\n",
       "      <td>0.500000</td>\n",
       "      <td>0.316228</td>\n",
       "    </tr>\n",
       "    <tr>\n",
       "      <th>纹饰_C</th>\n",
       "      <td>0.104828</td>\n",
       "      <td>-0.511180</td>\n",
       "      <td>0.057692</td>\n",
       "      <td>-0.795917</td>\n",
       "      <td>-0.366900</td>\n",
       "      <td>1.000000</td>\n",
       "      <td>0.262071</td>\n",
       "      <td>-0.262071</td>\n",
       "      <td>-0.041437</td>\n",
       "    </tr>\n",
       "    <tr>\n",
       "      <th>类型_铅钡</th>\n",
       "      <td>0.250000</td>\n",
       "      <td>-0.259056</td>\n",
       "      <td>-0.211243</td>\n",
       "      <td>0.054233</td>\n",
       "      <td>-0.500000</td>\n",
       "      <td>0.262071</td>\n",
       "      <td>1.000000</td>\n",
       "      <td>-1.000000</td>\n",
       "      <td>0.316228</td>\n",
       "    </tr>\n",
       "    <tr>\n",
       "      <th>类型_高钾</th>\n",
       "      <td>-0.250000</td>\n",
       "      <td>0.259056</td>\n",
       "      <td>0.211243</td>\n",
       "      <td>-0.054233</td>\n",
       "      <td>0.500000</td>\n",
       "      <td>-0.262071</td>\n",
       "      <td>-1.000000</td>\n",
       "      <td>1.000000</td>\n",
       "      <td>-0.316228</td>\n",
       "    </tr>\n",
       "    <tr>\n",
       "      <th>表面风化_风化</th>\n",
       "      <td>0.079057</td>\n",
       "      <td>0.016063</td>\n",
       "      <td>0.065922</td>\n",
       "      <td>-0.162924</td>\n",
       "      <td>0.316228</td>\n",
       "      <td>-0.041437</td>\n",
       "      <td>0.316228</td>\n",
       "      <td>-0.316228</td>\n",
       "      <td>1.000000</td>\n",
       "    </tr>\n",
       "  </tbody>\n",
       "</table>\n",
       "</div>"
      ],
      "text/plain": [
       "                红         蓝         绿      纹饰_A      纹饰_B      纹饰_C     类型_铅钡  \\\n",
       "红        1.000000  0.137147 -0.141755 -0.027116 -0.125000  0.104828  0.250000   \n",
       "蓝        0.137147  1.000000 -0.597105  0.439660  0.137147 -0.511180 -0.259056   \n",
       "绿       -0.141755 -0.597105  1.000000 -0.222493  0.250156  0.057692 -0.211243   \n",
       "纹饰_A    -0.027116  0.439660 -0.222493  1.000000 -0.271163 -0.795917  0.054233   \n",
       "纹饰_B    -0.125000  0.137147  0.250156 -0.271163  1.000000 -0.366900 -0.500000   \n",
       "纹饰_C     0.104828 -0.511180  0.057692 -0.795917 -0.366900  1.000000  0.262071   \n",
       "类型_铅钡    0.250000 -0.259056 -0.211243  0.054233 -0.500000  0.262071  1.000000   \n",
       "类型_高钾   -0.250000  0.259056  0.211243 -0.054233  0.500000 -0.262071 -1.000000   \n",
       "表面风化_风化  0.079057  0.016063  0.065922 -0.162924  0.316228 -0.041437  0.316228   \n",
       "\n",
       "            类型_高钾   表面风化_风化  \n",
       "红       -0.250000  0.079057  \n",
       "蓝        0.259056  0.016063  \n",
       "绿        0.211243  0.065922  \n",
       "纹饰_A    -0.054233 -0.162924  \n",
       "纹饰_B     0.500000  0.316228  \n",
       "纹饰_C    -0.262071 -0.041437  \n",
       "类型_铅钡   -1.000000  0.316228  \n",
       "类型_高钾    1.000000 -0.316228  \n",
       "表面风化_风化 -0.316228  1.000000  "
      ]
     },
     "execution_count": 38,
     "metadata": {},
     "output_type": "execute_result"
    }
   ],
   "source": [
    "data.corr('spearman')"
   ]
  },
  {
   "cell_type": "code",
   "execution_count": 39,
   "metadata": {},
   "outputs": [],
   "source": [
    "#### 3.P值矩阵"
   ]
  },
  {
   "cell_type": "code",
   "execution_count": 40,
   "metadata": {},
   "outputs": [
    {
     "data": {
      "text/html": [
       "<div>\n",
       "<style scoped>\n",
       "    .dataframe tbody tr th:only-of-type {\n",
       "        vertical-align: middle;\n",
       "    }\n",
       "\n",
       "    .dataframe tbody tr th {\n",
       "        vertical-align: top;\n",
       "    }\n",
       "\n",
       "    .dataframe thead th {\n",
       "        text-align: right;\n",
       "    }\n",
       "</style>\n",
       "<table border=\"1\" class=\"dataframe\">\n",
       "  <thead>\n",
       "    <tr style=\"text-align: right;\">\n",
       "      <th></th>\n",
       "      <th>红</th>\n",
       "      <th>蓝</th>\n",
       "      <th>绿</th>\n",
       "      <th>纹饰_A</th>\n",
       "      <th>纹饰_B</th>\n",
       "      <th>纹饰_C</th>\n",
       "      <th>类型_铅钡</th>\n",
       "      <th>类型_高钾</th>\n",
       "      <th>表面风化_风化</th>\n",
       "    </tr>\n",
       "  </thead>\n",
       "  <tbody>\n",
       "    <tr>\n",
       "      <th>红</th>\n",
       "      <td>1.0000</td>\n",
       "      <td>0.3227</td>\n",
       "      <td>0.3066</td>\n",
       "      <td>0.8457</td>\n",
       "      <td>0.3678</td>\n",
       "      <td>0.4506</td>\n",
       "      <td>0.0683</td>\n",
       "      <td>0.0683</td>\n",
       "      <td>0.5699</td>\n",
       "    </tr>\n",
       "    <tr>\n",
       "      <th>蓝</th>\n",
       "      <td>0.3227</td>\n",
       "      <td>1.0000</td>\n",
       "      <td>0.0000</td>\n",
       "      <td>0.0009</td>\n",
       "      <td>0.3227</td>\n",
       "      <td>0.0001</td>\n",
       "      <td>0.0586</td>\n",
       "      <td>0.0586</td>\n",
       "      <td>0.9082</td>\n",
       "    </tr>\n",
       "    <tr>\n",
       "      <th>绿</th>\n",
       "      <td>0.3066</td>\n",
       "      <td>0.0000</td>\n",
       "      <td>1.0000</td>\n",
       "      <td>0.1059</td>\n",
       "      <td>0.0681</td>\n",
       "      <td>0.6786</td>\n",
       "      <td>0.1252</td>\n",
       "      <td>0.1252</td>\n",
       "      <td>0.6358</td>\n",
       "    </tr>\n",
       "    <tr>\n",
       "      <th>纹饰_A</th>\n",
       "      <td>0.8457</td>\n",
       "      <td>0.0009</td>\n",
       "      <td>0.1059</td>\n",
       "      <td>1.0000</td>\n",
       "      <td>0.0473</td>\n",
       "      <td>0.0000</td>\n",
       "      <td>0.6969</td>\n",
       "      <td>0.6969</td>\n",
       "      <td>0.2392</td>\n",
       "    </tr>\n",
       "    <tr>\n",
       "      <th>纹饰_B</th>\n",
       "      <td>0.3678</td>\n",
       "      <td>0.3227</td>\n",
       "      <td>0.0681</td>\n",
       "      <td>0.0473</td>\n",
       "      <td>1.0000</td>\n",
       "      <td>0.0064</td>\n",
       "      <td>0.0001</td>\n",
       "      <td>0.0001</td>\n",
       "      <td>0.0198</td>\n",
       "    </tr>\n",
       "    <tr>\n",
       "      <th>纹饰_C</th>\n",
       "      <td>0.4506</td>\n",
       "      <td>0.0001</td>\n",
       "      <td>0.6786</td>\n",
       "      <td>0.0000</td>\n",
       "      <td>0.0064</td>\n",
       "      <td>1.0000</td>\n",
       "      <td>0.0556</td>\n",
       "      <td>0.0556</td>\n",
       "      <td>0.7661</td>\n",
       "    </tr>\n",
       "    <tr>\n",
       "      <th>类型_铅钡</th>\n",
       "      <td>0.0683</td>\n",
       "      <td>0.0586</td>\n",
       "      <td>0.1252</td>\n",
       "      <td>0.6969</td>\n",
       "      <td>0.0001</td>\n",
       "      <td>0.0556</td>\n",
       "      <td>1.0000</td>\n",
       "      <td>0.0000</td>\n",
       "      <td>0.0198</td>\n",
       "    </tr>\n",
       "    <tr>\n",
       "      <th>类型_高钾</th>\n",
       "      <td>0.0683</td>\n",
       "      <td>0.0586</td>\n",
       "      <td>0.1252</td>\n",
       "      <td>0.6969</td>\n",
       "      <td>0.0001</td>\n",
       "      <td>0.0556</td>\n",
       "      <td>0.0000</td>\n",
       "      <td>1.0000</td>\n",
       "      <td>0.0198</td>\n",
       "    </tr>\n",
       "    <tr>\n",
       "      <th>表面风化_风化</th>\n",
       "      <td>0.5699</td>\n",
       "      <td>0.9082</td>\n",
       "      <td>0.6358</td>\n",
       "      <td>0.2392</td>\n",
       "      <td>0.0198</td>\n",
       "      <td>0.7661</td>\n",
       "      <td>0.0198</td>\n",
       "      <td>0.0198</td>\n",
       "      <td>1.0000</td>\n",
       "    </tr>\n",
       "  </tbody>\n",
       "</table>\n",
       "</div>"
      ],
      "text/plain": [
       "              红       蓝       绿    纹饰_A    纹饰_B    纹饰_C   类型_铅钡   类型_高钾  \\\n",
       "红        1.0000  0.3227  0.3066  0.8457  0.3678  0.4506  0.0683  0.0683   \n",
       "蓝        0.3227  1.0000  0.0000  0.0009  0.3227  0.0001  0.0586  0.0586   \n",
       "绿        0.3066  0.0000  1.0000  0.1059  0.0681  0.6786  0.1252  0.1252   \n",
       "纹饰_A     0.8457  0.0009  0.1059  1.0000  0.0473  0.0000  0.6969  0.6969   \n",
       "纹饰_B     0.3678  0.3227  0.0681  0.0473  1.0000  0.0064  0.0001  0.0001   \n",
       "纹饰_C     0.4506  0.0001  0.6786  0.0000  0.0064  1.0000  0.0556  0.0556   \n",
       "类型_铅钡    0.0683  0.0586  0.1252  0.6969  0.0001  0.0556  1.0000  0.0000   \n",
       "类型_高钾    0.0683  0.0586  0.1252  0.6969  0.0001  0.0556  0.0000  1.0000   \n",
       "表面风化_风化  0.5699  0.9082  0.6358  0.2392  0.0198  0.7661  0.0198  0.0198   \n",
       "\n",
       "         表面风化_风化  \n",
       "红         0.5699  \n",
       "蓝         0.9082  \n",
       "绿         0.6358  \n",
       "纹饰_A      0.2392  \n",
       "纹饰_B      0.0198  \n",
       "纹饰_C      0.7661  \n",
       "类型_铅钡     0.0198  \n",
       "类型_高钾     0.0198  \n",
       "表面风化_风化   1.0000  "
      ]
     },
     "execution_count": 40,
     "metadata": {},
     "output_type": "execute_result"
    }
   ],
   "source": [
    "def PvalueGetSpearman(X, Y):\n",
    "    return stats.spearmanr(X, Y)[1].round(4)\n",
    "data.corr(method=PvalueGetSpearman)"
   ]
  },
  {
   "cell_type": "code",
   "execution_count": 41,
   "metadata": {},
   "outputs": [],
   "source": [
    "# #### 假设检验\n",
    "# 1. 小样本(n $\\leqslant$ 30): 查临界值表(看相关系数矩阵)\n",
    "# 2. 大样本: 直接看P值矩阵"
   ]
  },
  {
   "cell_type": "code",
   "execution_count": 42,
   "metadata": {},
   "outputs": [
    {
     "data": {
      "text/plain": [
       "红          0.5699\n",
       "蓝          0.9082\n",
       "绿          0.6358\n",
       "纹饰_A       0.2392\n",
       "纹饰_B       0.0198\n",
       "纹饰_C       0.7661\n",
       "类型_铅钡      0.0198\n",
       "类型_高钾      0.0198\n",
       "表面风化_风化    1.0000\n",
       "Name: 表面风化_风化, dtype: float64"
      ]
     },
     "execution_count": 42,
     "metadata": {},
     "output_type": "execute_result"
    }
   ],
   "source": [
    "data.corr(method=PvalueGetSpearman).iloc[:,-1]"
   ]
  },
  {
   "cell_type": "code",
   "execution_count": 43,
   "metadata": {},
   "outputs": [
    {
     "data": {
      "text/plain": [
       "红          True\n",
       "蓝          True\n",
       "绿          True\n",
       "纹饰_A       True\n",
       "纹饰_B       True\n",
       "纹饰_C       True\n",
       "类型_铅钡      True\n",
       "类型_高钾      True\n",
       "表面风化_风化    True\n",
       "Name: 表面风化_风化, dtype: bool"
      ]
     },
     "execution_count": 43,
     "metadata": {},
     "output_type": "execute_result"
    }
   ],
   "source": [
    "data.corr(method=PvalueGetSpearman).iloc[-1,:] > 0.01"
   ]
  },
  {
   "cell_type": "code",
   "execution_count": 44,
   "metadata": {},
   "outputs": [
    {
     "data": {
      "text/plain": [
       "9"
      ]
     },
     "execution_count": 44,
     "metadata": {},
     "output_type": "execute_result"
    }
   ],
   "source": [
    "pd.Series(data.corr(method=PvalueGetSpearman).iloc[0,:] > 0.01).count()"
   ]
  },
  {
   "cell_type": "code",
   "execution_count": 45,
   "metadata": {
    "scrolled": true
   },
   "outputs": [
    {
     "data": {
      "text/plain": [
       "<AxesSubplot:>"
      ]
     },
     "execution_count": 45,
     "metadata": {},
     "output_type": "execute_result"
    },
    {
     "data": {
      "image/png": "[encoded data removed]",
      "image/svg+xml": "<?xml version=\"1.0\" encoding=\"utf-8\" standalone=\"no\"?>\n<!DOCTYPE svg PUBLIC \"-//W3C//DTD SVG 1.1//EN\"\n  \"http://www.w3.org/Graphics/SVG/1.1/DTD/svg11.dtd\">\n<svg xmlns:xlink=\"http://www.w3.org/1999/xlink\" width=\"303.84pt\" height=\"303.84pt\" viewBox=\"0 0 303.84 303.84\" xmlns=\"http://www.w3.org/2000/svg\" version=\"1.1\">\n <metadata>\n  <rdf:RDF xmlns:dc=\"http://purl.org/dc/elements/1.1/\" xmlns:cc=\"http://creativecommons.org/ns#\" xmlns:rdf=\"http://www.w3.org/1999/02/22-rdf-syntax-ns#\">\n   <cc:Work>\n    <dc:type rdf:resource=\"http://purl.org/dc/dcmitype/StillImage\"/>\n    <dc:date>2022-09-18T17:10:27.517649</dc:date>\n    <dc:format>image/svg+xml</dc:format>\n    <dc:creator>\n     <cc:Agent>\n      <dc:title>Matplotlib v3.5.1, https://matplotlib.org/</dc:title>\n     </cc:Agent>\n    </dc:creator>\n   </cc:Work>\n  </rdf:RDF>\n </metadata>\n <defs>\n  <style type=\"text/css\">*{stroke-linejoin: round; stroke-linecap: butt}</style>\n </defs>\n <g id=\"figure_1\">\n  <g id=\"patch_1\">\n   <path d=\"M 0 303.84 \nL 303.84 303.84 \nL 303.84 0 \nL 0 0 \nL 0 303.84 \nz\n\" style=\"fill: none\"/>\n  </g>\n  <g id=\"axes_1\">\n   <g id=\"patch_2\">\n    <path d=\"M 79.2 224.64 \nL 296.64 224.64 \nL 296.64 7.2 \nL 79.2 7.2 \nz\n\" style=\"fill: #ffffff\"/>\n   </g>\n   <g id=\"QuadMesh_1\">\n    <path d=\"M 79.2 7.2 \nL 103.36 7.2 \nL 103.36 31.36 \nL 79.2 31.36 \nL 79.2 7.2 \n\" clip-path=\"url(#pac07c12bbd)\" style=\"fill: none\"/>\n    <path d=\"M 103.36 7.2 \nL 127.52 7.2 \nL 127.52 31.36 \nL 103.36 31.36 \nL 103.36 7.2 \n\" clip-path=\"url(#pac07c12bbd)\" style=\"fill: none\"/>\n    <path d=\"M 127.52 7.2 \nL 151.68 7.2 \nL 151.68 31.36 \nL 127.52 31.36 \nL 127.52 7.2 \n\" clip-path=\"url(#pac07c12bbd)\" style=\"fill: none\"/>\n    <path d=\"M 151.68 7.2 \nL 175.84 7.2 \nL 175.84 31.36 \nL 151.68 31.36 \nL 151.68 7.2 \n\" clip-path=\"url(#pac07c12bbd)\" style=\"fill: none\"/>\n    <path d=\"M 175.84 7.2 \nL 200 7.2 \nL 200 31.36 \nL 175.84 31.36 \nL 175.84 7.2 \n\" clip-path=\"url(#pac07c12bbd)\" style=\"fill: none\"/>\n    <path d=\"M 200 7.2 \nL 224.16 7.2 \nL 224.16 31.36 \nL 200 31.36 \nL 200 7.2 \n\" clip-path=\"url(#pac07c12bbd)\" style=\"fill: none\"/>\n    <path d=\"M 224.16 7.2 \nL 248.32 7.2 \nL 248.32 31.36 \nL 224.16 31.36 \nL 224.16 7.2 \n\" clip-path=\"url(#pac07c12bbd)\" style=\"fill: none\"/>\n    <path d=\"M 248.32 7.2 \nL 272.48 7.2 \nL 272.48 31.36 \nL 248.32 31.36 \nL 248.32 7.2 \n\" clip-path=\"url(#pac07c12bbd)\" style=\"fill: none\"/>\n    <path d=\"M 272.48 7.2 \nL 296.64 7.2 \nL 296.64 31.36 \nL 272.48 31.36 \nL 272.48 7.2 \n\" clip-path=\"url(#pac07c12bbd)\" style=\"fill: none\"/>\n    <path d=\"M 79.2 31.36 \nL 103.36 31.36 \nL 103.36 55.52 \nL 79.2 55.52 \nL 79.2 31.36 \n\" clip-path=\"url(#pac07c12bbd)\" style=\"fill: #081d58\"/>\n    <path d=\"M 103.36 31.36 \nL 127.52 31.36 \nL 127.52 55.52 \nL 103.36 55.52 \nL 103.36 31.36 \n\" clip-path=\"url(#pac07c12bbd)\" style=\"fill: none\"/>\n    <path d=\"M 127.52 31.36 \nL 151.68 31.36 \nL 151.68 55.52 \nL 127.52 55.52 \nL 127.52 31.36 \n\" clip-path=\"url(#pac07c12bbd)\" style=\"fill: none\"/>\n    <path d=\"M 151.68 31.36 \nL 175.84 31.36 \nL 175.84 55.52 \nL 151.68 55.52 \nL 151.68 31.36 \n\" clip-path=\"url(#pac07c12bbd)\" style=\"fill: none\"/>\n    <path d=\"M 175.84 31.36 \nL 200 31.36 \nL 200 55.52 \nL 175.84 55.52 \nL 175.84 31.36 \n\" clip-path=\"url(#pac07c12bbd)\" style=\"fill: none\"/>\n    <path d=\"M 200 31.36 \nL 224.16 31.36 \nL 224.16 55.52 \nL 200 55.52 \nL 200 31.36 \n\" clip-path=\"url(#pac07c12bbd)\" style=\"fill: none\"/>\n    <path d=\"M 224.16 31.36 \nL 248.32 31.36 \nL 248.32 55.52 \nL 224.16 55.52 \nL 224.16 31.36 \n\" clip-path=\"url(#pac07c12bbd)\" style=\"fill: none\"/>\n    <path d=\"M 248.32 31.36 \nL 272.48 31.36 \nL 272.48 55.52 \nL 248.32 55.52 \nL 248.32 31.36 \n\" clip-path=\"url(#pac07c12bbd)\" style=\"fill: none\"/>\n    <path d=\"M 272.48 31.36 \nL 296.64 31.36 \nL 296.64 55.52 \nL 272.48 55.52 \nL 272.48 31.36 \n\" clip-path=\"url(#pac07c12bbd)\" style=\"fill: none\"/>\n    <path d=\"M 79.2 55.52 \nL 103.36 55.52 \nL 103.36 79.68 \nL 79.2 79.68 \nL 79.2 55.52 \n\" clip-path=\"url(#pac07c12bbd)\" style=\"fill: #081d58\"/>\n    <path d=\"M 103.36 55.52 \nL 127.52 55.52 \nL 127.52 79.68 \nL 103.36 79.68 \nL 103.36 55.52 \n\" clip-path=\"url(#pac07c12bbd)\" style=\"fill: #ffffd9\"/>\n    <path d=\"M 127.52 55.52 \nL 151.68 55.52 \nL 151.68 79.68 \nL 127.52 79.68 \nL 127.52 55.52 \n\" clip-path=\"url(#pac07c12bbd)\" style=\"fill: none\"/>\n    <path d=\"M 151.68 55.52 \nL 175.84 55.52 \nL 175.84 79.68 \nL 151.68 79.68 \nL 151.68 55.52 \n\" clip-path=\"url(#pac07c12bbd)\" style=\"fill: none\"/>\n    <path d=\"M 175.84 55.52 \nL 200 55.52 \nL 200 79.68 \nL 175.84 79.68 \nL 175.84 55.52 \n\" clip-path=\"url(#pac07c12bbd)\" style=\"fill: none\"/>\n    <path d=\"M 200 55.52 \nL 224.16 55.52 \nL 224.16 79.68 \nL 200 79.68 \nL 200 55.52 \n\" clip-path=\"url(#pac07c12bbd)\" style=\"fill: none\"/>\n    <path d=\"M 224.16 55.52 \nL 248.32 55.52 \nL 248.32 79.68 \nL 224.16 79.68 \nL 224.16 55.52 \n\" clip-path=\"url(#pac07c12bbd)\" style=\"fill: none\"/>\n    <path d=\"M 248.32 55.52 \nL 272.48 55.52 \nL 272.48 79.68 \nL 248.32 79.68 \nL 248.32 55.52 \n\" clip-path=\"url(#pac07c12bbd)\" style=\"fill: none\"/>\n    <path d=\"M 272.48 55.52 \nL 296.64 55.52 \nL 296.64 79.68 \nL 272.48 79.68 \nL 272.48 55.52 \n\" clip-path=\"url(#pac07c12bbd)\" style=\"fill: none\"/>\n    <path d=\"M 79.2 79.68 \nL 103.36 79.68 \nL 103.36 103.84 \nL 79.2 103.84 \nL 79.2 79.68 \n\" clip-path=\"url(#pac07c12bbd)\" style=\"fill: #081d58\"/>\n    <path d=\"M 103.36 79.68 \nL 127.52 79.68 \nL 127.52 103.84 \nL 103.36 103.84 \nL 103.36 79.68 \n\" clip-path=\"url(#pac07c12bbd)\" style=\"fill: #ffffd9\"/>\n    <path d=\"M 127.52 79.68 \nL 151.68 79.68 \nL 151.68 103.84 \nL 127.52 103.84 \nL 127.52 79.68 \n\" clip-path=\"url(#pac07c12bbd)\" style=\"fill: #081d58\"/>\n    <path d=\"M 151.68 79.68 \nL 175.84 79.68 \nL 175.84 103.84 \nL 151.68 103.84 \nL 151.68 79.68 \n\" clip-path=\"url(#pac07c12bbd)\" style=\"fill: none\"/>\n    <path d=\"M 175.84 79.68 \nL 200 79.68 \nL 200 103.84 \nL 175.84 103.84 \nL 175.84 79.68 \n\" clip-path=\"url(#pac07c12bbd)\" style=\"fill: none\"/>\n    <path d=\"M 200 79.68 \nL 224.16 79.68 \nL 224.16 103.84 \nL 200 103.84 \nL 200 79.68 \n\" clip-path=\"url(#pac07c12bbd)\" style=\"fill: none\"/>\n    <path d=\"M 224.16 79.68 \nL 248.32 79.68 \nL 248.32 103.84 \nL 224.16 103.84 \nL 224.16 79.68 \n\" clip-path=\"url(#pac07c12bbd)\" style=\"fill: none\"/>\n    <path d=\"M 248.32 79.68 \nL 272.48 79.68 \nL 272.48 103.84 \nL 248.32 103.84 \nL 248.32 79.68 \n\" clip-path=\"url(#pac07c12bbd)\" style=\"fill: none\"/>\n    <path d=\"M 272.48 79.68 \nL 296.64 79.68 \nL 296.64 103.84 \nL 272.48 103.84 \nL 272.48 79.68 \n\" clip-path=\"url(#pac07c12bbd)\" style=\"fill: none\"/>\n    <path d=\"M 79.2 103.84 \nL 103.36 103.84 \nL 103.36 128 \nL 79.2 128 \nL 79.2 103.84 \n\" clip-path=\"url(#pac07c12bbd)\" style=\"fill: #081d58\"/>\n    <path d=\"M 103.36 103.84 \nL 127.52 103.84 \nL 127.52 128 \nL 103.36 128 \nL 103.36 103.84 \n\" clip-path=\"url(#pac07c12bbd)\" style=\"fill: #081d58\"/>\n    <path d=\"M 127.52 103.84 \nL 151.68 103.84 \nL 151.68 128 \nL 127.52 128 \nL 127.52 103.84 \n\" clip-path=\"url(#pac07c12bbd)\" style=\"fill: #081d58\"/>\n    <path d=\"M 151.68 103.84 \nL 175.84 103.84 \nL 175.84 128 \nL 151.68 128 \nL 151.68 103.84 \n\" clip-path=\"url(#pac07c12bbd)\" style=\"fill: #081d58\"/>\n    <path d=\"M 175.84 103.84 \nL 200 103.84 \nL 200 128 \nL 175.84 128 \nL 175.84 103.84 \n\" clip-path=\"url(#pac07c12bbd)\" style=\"fill: none\"/>\n    <path d=\"M 200 103.84 \nL 224.16 103.84 \nL 224.16 128 \nL 200 128 \nL 200 103.84 \n\" clip-path=\"url(#pac07c12bbd)\" style=\"fill: none\"/>\n    <path d=\"M 224.16 103.84 \nL 248.32 103.84 \nL 248.32 128 \nL 224.16 128 \nL 224.16 103.84 \n\" clip-path=\"url(#pac07c12bbd)\" style=\"fill: none\"/>\n    <path d=\"M 248.32 103.84 \nL 272.48 103.84 \nL 272.48 128 \nL 248.32 128 \nL 248.32 103.84 \n\" clip-path=\"url(#pac07c12bbd)\" style=\"fill: none\"/>\n    <path d=\"M 272.48 103.84 \nL 296.64 103.84 \nL 296.64 128 \nL 272.48 128 \nL 272.48 103.84 \n\" clip-path=\"url(#pac07c12bbd)\" style=\"fill: none\"/>\n    <path d=\"M 79.2 128 \nL 103.36 128 \nL 103.36 152.16 \nL 79.2 152.16 \nL 79.2 128 \n\" clip-path=\"url(#pac07c12bbd)\" style=\"fill: #081d58\"/>\n    <path d=\"M 103.36 128 \nL 127.52 128 \nL 127.52 152.16 \nL 103.36 152.16 \nL 103.36 128 \n\" clip-path=\"url(#pac07c12bbd)\" style=\"fill: #ffffd9\"/>\n    <path d=\"M 127.52 128 \nL 151.68 128 \nL 151.68 152.16 \nL 127.52 152.16 \nL 127.52 128 \n\" clip-path=\"url(#pac07c12bbd)\" style=\"fill: #081d58\"/>\n    <path d=\"M 151.68 128 \nL 175.84 128 \nL 175.84 152.16 \nL 151.68 152.16 \nL 151.68 128 \n\" clip-path=\"url(#pac07c12bbd)\" style=\"fill: #ffffd9\"/>\n    <path d=\"M 175.84 128 \nL 200 128 \nL 200 152.16 \nL 175.84 152.16 \nL 175.84 128 \n\" clip-path=\"url(#pac07c12bbd)\" style=\"fill: #ffffd9\"/>\n    <path d=\"M 200 128 \nL 224.16 128 \nL 224.16 152.16 \nL 200 152.16 \nL 200 128 \n\" clip-path=\"url(#pac07c12bbd)\" style=\"fill: none\"/>\n    <path d=\"M 224.16 128 \nL 248.32 128 \nL 248.32 152.16 \nL 224.16 152.16 \nL 224.16 128 \n\" clip-path=\"url(#pac07c12bbd)\" style=\"fill: none\"/>\n    <path d=\"M 248.32 128 \nL 272.48 128 \nL 272.48 152.16 \nL 248.32 152.16 \nL 248.32 128 \n\" clip-path=\"url(#pac07c12bbd)\" style=\"fill: none\"/>\n    <path d=\"M 272.48 128 \nL 296.64 128 \nL 296.64 152.16 \nL 272.48 152.16 \nL 272.48 128 \n\" clip-path=\"url(#pac07c12bbd)\" style=\"fill: none\"/>\n    <path d=\"M 79.2 152.16 \nL 103.36 152.16 \nL 103.36 176.32 \nL 79.2 176.32 \nL 79.2 152.16 \n\" clip-path=\"url(#pac07c12bbd)\" style=\"fill: #081d58\"/>\n    <path d=\"M 103.36 152.16 \nL 127.52 152.16 \nL 127.52 176.32 \nL 103.36 176.32 \nL 103.36 152.16 \n\" clip-path=\"url(#pac07c12bbd)\" style=\"fill: #081d58\"/>\n    <path d=\"M 127.52 152.16 \nL 151.68 152.16 \nL 151.68 176.32 \nL 127.52 176.32 \nL 127.52 152.16 \n\" clip-path=\"url(#pac07c12bbd)\" style=\"fill: #081d58\"/>\n    <path d=\"M 151.68 152.16 \nL 175.84 152.16 \nL 175.84 176.32 \nL 151.68 176.32 \nL 151.68 152.16 \n\" clip-path=\"url(#pac07c12bbd)\" style=\"fill: #081d58\"/>\n    <path d=\"M 175.84 152.16 \nL 200 152.16 \nL 200 176.32 \nL 175.84 176.32 \nL 175.84 152.16 \n\" clip-path=\"url(#pac07c12bbd)\" style=\"fill: #ffffd9\"/>\n    <path d=\"M 200 152.16 \nL 224.16 152.16 \nL 224.16 176.32 \nL 200 176.32 \nL 200 152.16 \n\" clip-path=\"url(#pac07c12bbd)\" style=\"fill: #081d58\"/>\n    <path d=\"M 224.16 152.16 \nL 248.32 152.16 \nL 248.32 176.32 \nL 224.16 176.32 \nL 224.16 152.16 \n\" clip-path=\"url(#pac07c12bbd)\" style=\"fill: none\"/>\n    <path d=\"M 248.32 152.16 \nL 272.48 152.16 \nL 272.48 176.32 \nL 248.32 176.32 \nL 248.32 152.16 \n\" clip-path=\"url(#pac07c12bbd)\" style=\"fill: none\"/>\n    <path d=\"M 272.48 152.16 \nL 296.64 152.16 \nL 296.64 176.32 \nL 272.48 176.32 \nL 272.48 152.16 \n\" clip-path=\"url(#pac07c12bbd)\" style=\"fill: none\"/>\n    <path d=\"M 79.2 176.32 \nL 103.36 176.32 \nL 103.36 200.48 \nL 79.2 200.48 \nL 79.2 176.32 \n\" clip-path=\"url(#pac07c12bbd)\" style=\"fill: #081d58\"/>\n    <path d=\"M 103.36 176.32 \nL 127.52 176.32 \nL 127.52 200.48 \nL 103.36 200.48 \nL 103.36 176.32 \n\" clip-path=\"url(#pac07c12bbd)\" style=\"fill: #081d58\"/>\n    <path d=\"M 127.52 176.32 \nL 151.68 176.32 \nL 151.68 200.48 \nL 127.52 200.48 \nL 127.52 176.32 \n\" clip-path=\"url(#pac07c12bbd)\" style=\"fill: #081d58\"/>\n    <path d=\"M 151.68 176.32 \nL 175.84 176.32 \nL 175.84 200.48 \nL 151.68 200.48 \nL 151.68 176.32 \n\" clip-path=\"url(#pac07c12bbd)\" style=\"fill: #081d58\"/>\n    <path d=\"M 175.84 176.32 \nL 200 176.32 \nL 200 200.48 \nL 175.84 200.48 \nL 175.84 176.32 \n\" clip-path=\"url(#pac07c12bbd)\" style=\"fill: #ffffd9\"/>\n    <path d=\"M 200 176.32 \nL 224.16 176.32 \nL 224.16 200.48 \nL 200 200.48 \nL 200 176.32 \n\" clip-path=\"url(#pac07c12bbd)\" style=\"fill: #081d58\"/>\n    <path d=\"M 224.16 176.32 \nL 248.32 176.32 \nL 248.32 200.48 \nL 224.16 200.48 \nL 224.16 176.32 \n\" clip-path=\"url(#pac07c12bbd)\" style=\"fill: #ffffd9\"/>\n    <path d=\"M 248.32 176.32 \nL 272.48 176.32 \nL 272.48 200.48 \nL 248.32 200.48 \nL 248.32 176.32 \n\" clip-path=\"url(#pac07c12bbd)\" style=\"fill: none\"/>\n    <path d=\"M 272.48 176.32 \nL 296.64 176.32 \nL 296.64 200.48 \nL 272.48 200.48 \nL 272.48 176.32 \n\" clip-path=\"url(#pac07c12bbd)\" style=\"fill: none\"/>\n    <path d=\"M 79.2 200.48 \nL 103.36 200.48 \nL 103.36 224.64 \nL 79.2 224.64 \nL 79.2 200.48 \n\" clip-path=\"url(#pac07c12bbd)\" style=\"fill: #081d58\"/>\n    <path d=\"M 103.36 200.48 \nL 127.52 200.48 \nL 127.52 224.64 \nL 103.36 224.64 \nL 103.36 200.48 \n\" clip-path=\"url(#pac07c12bbd)\" style=\"fill: #081d58\"/>\n    <path d=\"M 127.52 200.48 \nL 151.68 200.48 \nL 151.68 224.64 \nL 127.52 224.64 \nL 127.52 200.48 \n\" clip-path=\"url(#pac07c12bbd)\" style=\"fill: #081d58\"/>\n    <path d=\"M 151.68 200.48 \nL 175.84 200.48 \nL 175.84 224.64 \nL 151.68 224.64 \nL 151.68 200.48 \n\" clip-path=\"url(#pac07c12bbd)\" style=\"fill: #081d58\"/>\n    <path d=\"M 175.84 200.48 \nL 200 200.48 \nL 200 224.64 \nL 175.84 224.64 \nL 175.84 200.48 \n\" clip-path=\"url(#pac07c12bbd)\" style=\"fill: #081d58\"/>\n    <path d=\"M 200 200.48 \nL 224.16 200.48 \nL 224.16 224.64 \nL 200 224.64 \nL 200 200.48 \n\" clip-path=\"url(#pac07c12bbd)\" style=\"fill: #081d58\"/>\n    <path d=\"M 224.16 200.48 \nL 248.32 200.48 \nL 248.32 224.64 \nL 224.16 224.64 \nL 224.16 200.48 \n\" clip-path=\"url(#pac07c12bbd)\" style=\"fill: #081d58\"/>\n    <path d=\"M 248.32 200.48 \nL 272.48 200.48 \nL 272.48 224.64 \nL 248.32 224.64 \nL 248.32 200.48 \n\" clip-path=\"url(#pac07c12bbd)\" style=\"fill: #081d58\"/>\n    <path d=\"M 272.48 200.48 \nL 296.64 200.48 \nL 296.64 224.64 \nL 272.48 224.64 \nL 272.48 200.48 \n\" clip-path=\"url(#pac07c12bbd)\" style=\"fill: none\"/>\n   </g>\n   <g id=\"matplotlib.axis_1\">\n    <g id=\"xtick_1\">\n     <g id=\"line2d_1\">\n      <defs>\n       <path id=\"mecc99b300b\" d=\"M 0 0 \nL 0 3.5 \n\" style=\"stroke: #000000; stroke-width: 0.8\"/>\n      </defs>\n      <g>\n       <use xlink:href=\"#mecc99b300b\" x=\"91.28\" y=\"224.64\" style=\"stroke: #000000; stroke-width: 0.8\"/>\n      </g>\n     </g>\n     <g id=\"text_1\">\n      <!-- 红 -->\n      <g transform=\"translate(94.307344 241.64)rotate(-90)scale(0.1 -0.1)\">\n       <defs>\n        <path id=\"SimHei-7ea2\" d=\"M 4975 4375 \nQ 5400 4375 5850 4400 \nL 5850 3950 \nQ 5400 3975 4975 3975 \nL 4600 3975 \nL 4600 175 \nL 5125 175 \nQ 5550 175 6025 200 \nL 6025 -275 \nQ 5550 -250 5125 -250 \nL 3600 -250 \nQ 3225 -250 2750 -275 \nL 2750 200 \nQ 3225 175 3625 175 \nL 4125 175 \nL 4125 3975 \nL 3850 3975 \nQ 3375 3975 2950 3950 \nL 2950 4400 \nQ 3400 4375 3800 4375 \nL 4975 4375 \nz\nM 2775 1775 \nQ 2725 1525 2725 1350 \nQ 1475 1175 1200 1112 \nQ 925 1050 675 975 \nQ 575 1250 475 1425 \nQ 775 1550 1062 1887 \nQ 1350 2225 1700 2750 \nQ 1450 2725 1125 2700 \nQ 800 2675 475 2575 \nQ 375 2825 275 3050 \nQ 500 3075 900 3737 \nQ 1300 4400 1525 5100 \nQ 1825 4925 2050 4850 \nQ 1850 4600 1625 4187 \nQ 1400 3775 925 3075 \nQ 1525 3100 1950 3125 \nQ 2275 3700 2375 3975 \nQ 2550 3825 2850 3650 \nQ 2700 3475 2412 3037 \nQ 2125 2600 1300 1550 \nQ 2025 1650 2775 1775 \nz\nM 2825 750 \nQ 2825 550 2850 300 \nQ 1500 -50 1187 -162 \nQ 875 -275 625 -375 \nQ 525 -50 400 175 \nQ 825 250 1337 362 \nQ 1850 475 2825 750 \nz\n\" transform=\"scale(0.015625)\"/>\n       </defs>\n       <use xlink:href=\"#SimHei-7ea2\"/>\n      </g>\n     </g>\n    </g>\n    <g id=\"xtick_2\">\n     <g id=\"line2d_2\">\n      <g>\n       <use xlink:href=\"#mecc99b300b\" x=\"115.44\" y=\"224.64\" style=\"stroke: #000000; stroke-width: 0.8\"/>\n      </g>\n     </g>\n     <g id=\"text_2\">\n      <!-- 蓝 -->\n      <g transform=\"translate(118.72125 241.64)rotate(-90)scale(0.1 -0.1)\">\n       <defs>\n        <path id=\"SimHei-84dd\" d=\"M 5425 1350 \nQ 5400 925 5400 525 \nL 5400 -100 \nQ 5775 -100 6175 -75 \nL 6175 -525 \nQ 5700 -500 5075 -500 \nL 1275 -500 \nQ 750 -500 250 -525 \nL 250 -75 \nQ 650 -100 1025 -100 \nL 1025 575 \nQ 1025 925 1000 1350 \nL 5425 1350 \nz\nM 2575 5250 \nQ 2525 5075 2525 4875 \nL 2525 4675 \nL 3775 4675 \nL 3775 4825 \nQ 3775 5050 3750 5275 \nL 4300 5275 \nQ 4225 5075 4225 4825 \nL 4225 4675 \nL 5350 4675 \nQ 5725 4675 6125 4700 \nL 6125 4225 \nQ 5725 4275 5350 4275 \nL 4225 4275 \nL 4225 4125 \nQ 4225 3975 4275 3800 \nL 3750 3800 \nQ 3775 3975 3775 4125 \nL 3775 4275 \nL 2525 4275 \nL 2525 4175 \nQ 2525 4025 2575 3825 \nL 2050 3825 \nQ 2075 4000 2075 4175 \nL 2075 4275 \nL 1100 4275 \nQ 725 4275 325 4250 \nL 325 4700 \nQ 725 4675 1100 4675 \nL 2075 4675 \nL 2075 4775 \nQ 2075 5025 2050 5250 \nL 2575 5250 \nz\nM 4350 3450 \nQ 4175 3275 4075 3050 \nL 4950 3050 \nQ 5450 3050 5925 3075 \nL 5925 2625 \nQ 5450 2650 4950 2650 \nL 3875 2650 \nQ 3725 2425 3612 2212 \nQ 3500 2000 3275 1700 \nQ 3100 1875 2850 2000 \nQ 3200 2400 3437 2862 \nQ 3675 3325 3750 3700 \nQ 3975 3575 4350 3450 \nz\nM 2625 2150 \nQ 2625 1900 2650 1600 \nL 2125 1600 \nQ 2150 1825 2150 2150 \nL 2150 3000 \nQ 2150 3300 2125 3575 \nL 2650 3575 \nQ 2625 3250 2625 3000 \nL 2625 2150 \nz\nM 4925 -100 \nL 4925 950 \nL 4050 950 \nL 4050 -100 \nL 4925 -100 \nz\nM 2350 -100 \nL 2350 950 \nL 1500 950 \nL 1500 -100 \nL 2350 -100 \nz\nM 3600 -100 \nL 3600 950 \nL 2800 950 \nL 2800 -100 \nL 3600 -100 \nz\nM 1425 2225 \nQ 1425 1925 1450 1650 \nL 950 1650 \nQ 975 1925 975 2200 \nL 975 2975 \nQ 975 3225 950 3425 \nL 1450 3425 \nQ 1425 3175 1425 2925 \nL 1425 2225 \nz\nM 4575 2575 \nQ 4825 2275 4925 2137 \nQ 5025 2000 5200 1800 \nQ 4975 1675 4775 1525 \nQ 4600 1750 4500 1912 \nQ 4400 2075 4150 2300 \nQ 4425 2425 4575 2575 \nz\n\" transform=\"scale(0.015625)\"/>\n       </defs>\n       <use xlink:href=\"#SimHei-84dd\"/>\n      </g>\n     </g>\n    </g>\n    <g id=\"xtick_3\">\n     <g id=\"line2d_3\">\n      <g>\n       <use xlink:href=\"#mecc99b300b\" x=\"139.6\" y=\"224.64\" style=\"stroke: #000000; stroke-width: 0.8\"/>\n      </g>\n     </g>\n     <g id=\"text_3\">\n      <!-- 绿 -->\n      <g transform=\"translate(142.920312 241.64)rotate(-90)scale(0.1 -0.1)\">\n       <defs>\n        <path id=\"SimHei-7eff\" d=\"M 3750 3525 \nQ 3300 3525 2900 3500 \nL 2900 3950 \nQ 3275 3900 3725 3900 \nL 5050 3900 \nL 5100 4500 \nL 3525 4500 \nQ 3075 4500 2700 4475 \nL 2700 4900 \nQ 3075 4875 3525 4875 \nL 5600 4875 \nQ 5500 4050 5425 2925 \nQ 5700 2925 6075 2950 \nL 6075 2500 \nQ 5675 2525 5275 2525 \nL 4425 2525 \nL 4425 2075 \nQ 4600 1700 4775 1500 \nQ 4925 1600 5112 1775 \nQ 5300 1950 5550 2175 \nQ 5700 1975 5900 1725 \nQ 5775 1700 5525 1562 \nQ 5275 1425 4975 1200 \nQ 5175 925 5437 675 \nQ 5700 425 6150 300 \nQ 5900 -25 5825 -275 \nQ 5225 125 4975 462 \nQ 4725 800 4425 1325 \nL 4425 -75 \nQ 4425 -475 4162 -562 \nQ 3900 -650 3625 -700 \nQ 3550 -400 3425 -150 \nQ 3850 -150 3912 -62 \nQ 3975 25 3975 225 \nL 3975 1050 \nQ 3675 750 3350 462 \nQ 3025 175 2625 -100 \nQ 2450 225 2300 400 \nQ 2750 575 3137 875 \nQ 3525 1175 3975 1575 \nL 3975 2525 \nL 3250 2525 \nQ 2850 2525 2375 2500 \nL 2375 2950 \nQ 2875 2925 3250 2925 \nL 4975 2925 \nL 5025 3525 \nL 3750 3525 \nz\nM 1800 4825 \nQ 1625 4600 1400 4137 \nQ 1175 3675 850 3150 \nL 1675 3150 \nQ 1950 3700 2050 4075 \nQ 2275 3825 2550 3675 \nQ 2375 3550 2137 3137 \nQ 1900 2725 1175 1600 \nQ 1650 1650 2350 1775 \nQ 2325 1500 2300 1325 \nQ 1875 1275 1475 1225 \nQ 1075 1175 600 1075 \nQ 550 1300 450 1525 \nQ 700 1625 950 1975 \nQ 1200 2325 1475 2775 \nQ 1125 2750 900 2725 \nQ 675 2700 450 2625 \nQ 375 2875 275 3100 \nQ 550 3300 825 3912 \nQ 1100 4525 1250 5150 \nQ 1525 4950 1800 4825 \nz\nM 2250 725 \nQ 2250 475 2275 325 \nQ 1975 250 1487 112 \nQ 1000 -25 575 -200 \nQ 500 50 375 300 \nQ 925 375 1325 475 \nQ 1725 575 2250 725 \nz\nM 3050 2175 \nQ 3150 2025 3525 1450 \nQ 3300 1325 3125 1175 \nQ 2950 1525 2650 1900 \nQ 2850 2050 3050 2175 \nz\n\" transform=\"scale(0.015625)\"/>\n       </defs>\n       <use xlink:href=\"#SimHei-7eff\"/>\n      </g>\n     </g>\n    </g>\n    <g id=\"xtick_4\">\n     <g id=\"line2d_4\">\n      <g>\n       <use xlink:href=\"#mecc99b300b\" x=\"163.76\" y=\"224.64\" style=\"stroke: #000000; stroke-width: 0.8\"/>\n      </g>\n     </g>\n     <g id=\"text_4\">\n      <!-- 纹饰_A -->\n      <g transform=\"translate(167.177969 261.64)rotate(-90)scale(0.1 -0.1)\">\n       <defs>\n        <path id=\"SimHei-7eb9\" d=\"M 4950 4000 \nQ 5425 4000 5900 4025 \nL 5900 3550 \nQ 5450 3575 5225 3575 \nQ 5125 2725 4950 2112 \nQ 4775 1500 4400 850 \nQ 4700 575 5087 350 \nQ 5475 125 6175 -25 \nQ 5850 -275 5775 -525 \nQ 5150 -300 4737 -37 \nQ 4325 225 4050 500 \nQ 3800 225 3375 -62 \nQ 2950 -350 2375 -625 \nQ 2250 -350 1900 -125 \nQ 2425 -25 2950 300 \nQ 3475 625 3725 875 \nQ 3375 1400 3200 1925 \nQ 3025 2425 2900 3550 \nQ 2725 3550 2575 3550 \nL 2575 4025 \nQ 3100 4000 3650 4000 \nL 4950 4000 \nz\nM 1950 4975 \nQ 1750 4775 1537 4350 \nQ 1325 3925 900 3200 \nQ 1400 3225 1700 3250 \nQ 1950 3675 2025 3975 \nQ 2250 3800 2550 3700 \nQ 2400 3450 2012 2850 \nQ 1625 2250 1225 1800 \nQ 2025 1925 2500 2025 \nQ 2425 1725 2425 1550 \nQ 2150 1525 1612 1450 \nQ 1075 1375 600 1225 \nQ 550 1475 425 1750 \nQ 725 1850 975 2150 \nQ 1225 2450 1525 2875 \nQ 1275 2850 962 2825 \nQ 650 2800 400 2675 \nQ 325 3000 225 3175 \nQ 525 3400 812 3925 \nQ 1100 4450 1300 5225 \nQ 1675 5075 1950 4975 \nz\nM 3400 3575 \nQ 3500 2575 3637 2162 \nQ 3775 1750 4050 1275 \nQ 4375 1775 4500 2312 \nQ 4625 2850 4700 3575 \nL 3650 3575 \nL 3400 3575 \nz\nM 2575 875 \nQ 2475 675 2475 425 \nQ 2050 350 1500 250 \nQ 950 150 475 0 \nQ 400 275 300 575 \nQ 925 625 1412 687 \nQ 1900 750 2575 875 \nz\nM 4175 5225 \nQ 4425 4700 4550 4425 \nQ 4275 4300 4025 4200 \nQ 3925 4575 3725 5025 \nQ 3925 5100 4175 5225 \nz\n\" transform=\"scale(0.015625)\"/>\n        <path id=\"SimHei-9970\" d=\"M 3900 5025 \nQ 3775 4875 3687 4662 \nQ 3600 4450 3475 4150 \nL 5300 4150 \nQ 5675 4150 6025 4175 \nL 6025 3725 \nQ 5675 3750 5325 3750 \nL 4525 3750 \nL 4525 2625 \nL 5925 2625 \nQ 5900 2200 5900 1850 \nL 5900 600 \nQ 5825 325 5637 225 \nQ 5450 125 5000 75 \nQ 4975 325 4825 600 \nQ 5125 575 5287 625 \nQ 5450 675 5425 1000 \nL 5425 2225 \nL 4525 2225 \nL 4525 425 \nQ 4525 -75 4550 -625 \nL 4050 -625 \nQ 4075 -75 4075 425 \nL 4075 2225 \nL 3250 2225 \nL 3250 0 \nL 2775 0 \nQ 2800 450 2800 750 \nL 2800 1850 \nQ 2800 2175 2775 2625 \nL 4075 2625 \nL 4075 3750 \nL 3325 3750 \nQ 3050 3175 2850 2825 \nQ 2650 3025 2350 3075 \nQ 2625 3425 2925 4050 \nQ 3225 4675 3325 5225 \nQ 3550 5100 3900 5025 \nz\nM 1700 5025 \nQ 1525 4875 1300 4275 \nL 2500 4275 \nQ 2350 4000 2262 3700 \nQ 2175 3400 2075 3075 \nQ 1825 3150 1600 3150 \nQ 1750 3425 1875 3875 \nL 1150 3875 \nQ 875 3250 575 2750 \nQ 400 2950 200 3125 \nQ 375 3350 675 3950 \nQ 975 4550 1125 5225 \nQ 1400 5125 1700 5025 \nz\nM 1525 2800 \nQ 1500 2550 1475 2150 \nL 1475 550 \nQ 1900 1025 2100 1275 \nQ 2200 1075 2375 825 \nQ 2125 625 1800 275 \nQ 1475 -75 1250 -400 \nQ 1075 -200 850 25 \nQ 1000 225 1025 450 \nL 1025 2150 \nQ 1025 2500 1000 2800 \nL 1525 2800 \nz\n\" transform=\"scale(0.015625)\"/>\n        <path id=\"SimHei-5f\" d=\"M 3150 -850 \nL 0 -850 \nL 0 -550 \nL 3150 -550 \nL 3150 -850 \nz\n\" transform=\"scale(0.015625)\"/>\n        <path id=\"SimHei-41\" d=\"M 3075 125 \nL 2475 125 \nL 2125 1450 \nL 1025 1450 \nL 675 125 \nL 75 125 \nL 1325 4450 \nL 1825 4450 \nL 3075 125 \nz\nM 2000 1925 \nL 1600 3450 \nL 1550 3450 \nL 1150 1925 \nL 2000 1925 \nz\n\" transform=\"scale(0.015625)\"/>\n       </defs>\n       <use xlink:href=\"#SimHei-7eb9\"/>\n       <use xlink:href=\"#SimHei-9970\" x=\"100\"/>\n       <use xlink:href=\"#SimHei-5f\" x=\"200\"/>\n       <use xlink:href=\"#SimHei-41\" x=\"250\"/>\n      </g>\n     </g>\n    </g>\n    <g id=\"xtick_5\">\n     <g id=\"line2d_5\">\n      <g>\n       <use xlink:href=\"#mecc99b300b\" x=\"187.92\" y=\"224.64\" style=\"stroke: #000000; stroke-width: 0.8\"/>\n      </g>\n     </g>\n     <g id=\"text_5\">\n      <!-- 纹饰_B -->\n      <g transform=\"translate(191.337969 261.64)rotate(-90)scale(0.1 -0.1)\">\n       <defs>\n        <path id=\"SimHei-42\" d=\"M 2950 1400 \nQ 2950 675 2550 400 \nQ 2150 125 1525 125 \nL 275 125 \nL 275 4400 \nL 1575 4400 \nQ 2200 4400 2512 4075 \nQ 2825 3750 2825 3300 \nQ 2825 2850 2612 2637 \nQ 2400 2425 2175 2350 \nQ 2475 2275 2712 2037 \nQ 2950 1800 2950 1400 \nz\nM 2250 3300 \nQ 2250 3625 2062 3775 \nQ 1875 3925 1600 3925 \nL 850 3925 \nL 850 2600 \nL 1575 2600 \nQ 1850 2600 2050 2762 \nQ 2250 2925 2250 3300 \nz\nM 2350 1400 \nQ 2350 1800 2087 1962 \nQ 1825 2125 1500 2125 \nL 850 2125 \nL 850 600 \nL 1425 600 \nQ 1875 600 2112 775 \nQ 2350 950 2350 1400 \nz\n\" transform=\"scale(0.015625)\"/>\n       </defs>\n       <use xlink:href=\"#SimHei-7eb9\"/>\n       <use xlink:href=\"#SimHei-9970\" x=\"100\"/>\n       <use xlink:href=\"#SimHei-5f\" x=\"200\"/>\n       <use xlink:href=\"#SimHei-42\" x=\"250\"/>\n      </g>\n     </g>\n    </g>\n    <g id=\"xtick_6\">\n     <g id=\"line2d_6\">\n      <g>\n       <use xlink:href=\"#mecc99b300b\" x=\"212.08\" y=\"224.64\" style=\"stroke: #000000; stroke-width: 0.8\"/>\n      </g>\n     </g>\n     <g id=\"text_6\">\n      <!-- 纹饰_C -->\n      <g transform=\"translate(215.497969 261.64)rotate(-90)scale(0.1 -0.1)\">\n       <defs>\n        <path id=\"SimHei-43\" d=\"M 2975 1825 \nQ 2950 875 2575 475 \nQ 2200 75 1675 75 \nQ 1075 75 650 562 \nQ 225 1050 225 2125 \nQ 225 3300 637 3875 \nQ 1050 4450 1700 4450 \nQ 2250 4450 2612 4037 \nQ 2975 3625 2950 2875 \nL 2400 2875 \nQ 2400 3425 2225 3700 \nQ 2050 3975 1700 3975 \nQ 1300 3975 1062 3562 \nQ 825 3150 825 2175 \nQ 825 1275 1062 912 \nQ 1300 550 1675 550 \nQ 1950 550 2175 812 \nQ 2400 1075 2400 1825 \nL 2975 1825 \nz\n\" transform=\"scale(0.015625)\"/>\n       </defs>\n       <use xlink:href=\"#SimHei-7eb9\"/>\n       <use xlink:href=\"#SimHei-9970\" x=\"100\"/>\n       <use xlink:href=\"#SimHei-5f\" x=\"200\"/>\n       <use xlink:href=\"#SimHei-43\" x=\"250\"/>\n      </g>\n     </g>\n    </g>\n    <g id=\"xtick_7\">\n     <g id=\"line2d_7\">\n      <g>\n       <use xlink:href=\"#mecc99b300b\" x=\"236.24\" y=\"224.64\" style=\"stroke: #000000; stroke-width: 0.8\"/>\n      </g>\n     </g>\n     <g id=\"text_7\">\n      <!-- 类型_铅钡 -->\n      <g transform=\"translate(239.716563 276.64)rotate(-90)scale(0.1 -0.1)\">\n       <defs>\n        <path id=\"SimHei-7c7b\" d=\"M 2125 3875 \nQ 1750 4375 1325 4725 \nQ 1525 4875 1675 5050 \nL 2525 4225 \nQ 2400 4125 2200 3875 \nL 3025 3875 \nL 3025 4550 \nQ 3025 4900 3000 5125 \nL 3525 5125 \nQ 3500 4850 3500 4550 \nL 3500 3875 \nL 4325 3875 \nQ 4125 4050 4000 4150 \nQ 4450 4575 4800 5175 \nQ 5000 5000 5275 4825 \nQ 5100 4675 4912 4475 \nQ 4725 4275 4400 3875 \nL 5025 3875 \nQ 5425 3875 5900 3900 \nL 5900 3450 \nQ 5425 3475 5025 3475 \nL 3500 3475 \nL 3500 3050 \nQ 3500 2650 3525 2175 \nL 3175 2175 \nQ 3475 2075 3675 2000 \nQ 3575 1875 3525 1575 \nL 5025 1575 \nQ 5525 1575 6025 1600 \nL 6025 1150 \nQ 5550 1175 5050 1175 \nL 3675 1175 \nQ 4050 600 4712 275 \nQ 5375 -50 6050 -175 \nQ 5850 -350 5725 -675 \nQ 4975 -450 4350 -37 \nQ 3725 375 3300 950 \nQ 3050 350 2425 -50 \nQ 1800 -450 775 -700 \nQ 650 -425 475 -225 \nQ 1375 -100 2012 225 \nQ 2650 550 2900 1175 \nL 1625 1175 \nQ 1025 1175 525 1150 \nL 525 1600 \nQ 950 1575 1600 1575 \nL 3025 1575 \nQ 3075 1825 3100 2175 \nL 3000 2175 \nQ 3025 2675 3025 3050 \nL 3025 3325 \nQ 2725 2900 2237 2550 \nQ 1750 2200 925 1825 \nQ 850 2025 625 2275 \nQ 1175 2400 1725 2737 \nQ 2275 3075 2600 3475 \nL 1550 3475 \nQ 1050 3475 600 3425 \nL 600 3900 \nQ 1075 3875 1550 3875 \nL 2125 3875 \nz\nM 4100 3450 \nQ 4850 3000 5800 2350 \nQ 5575 2125 5425 1925 \nQ 4700 2550 3825 3075 \nQ 3975 3250 4100 3450 \nz\n\" transform=\"scale(0.015625)\"/>\n        <path id=\"SimHei-578b\" d=\"M 2625 1775 \nQ 2650 2325 2650 2700 \nL 2650 3000 \nL 1825 3000 \nQ 1725 2375 1425 2000 \nQ 1125 1625 775 1425 \nQ 650 1650 375 1900 \nQ 850 2075 1062 2362 \nQ 1275 2650 1350 3000 \nQ 900 3000 375 2975 \nL 375 3450 \nQ 925 3425 1400 3425 \nQ 1425 3950 1425 4475 \nQ 1075 4475 700 4450 \nL 700 4900 \nQ 1050 4875 1525 4875 \nL 3000 4875 \nQ 3275 4875 3650 4900 \nL 3650 4450 \nQ 3325 4475 3125 4475 \nL 3125 3425 \nQ 3450 3425 3825 3450 \nL 3825 2975 \nQ 3450 3000 3125 3000 \nL 3125 2675 \nQ 3125 2225 3150 1775 \nL 2625 1775 \nz\nM 3000 1175 \nQ 3000 1375 2975 1725 \nL 3500 1725 \nQ 3475 1375 3475 1175 \nL 4550 1175 \nQ 5050 1175 5450 1200 \nL 5450 725 \nQ 4975 750 4550 750 \nL 3475 750 \nL 3475 -50 \nL 5275 -50 \nQ 5700 -50 6100 -25 \nL 6100 -500 \nQ 5725 -475 5300 -475 \nL 1250 -475 \nQ 775 -475 400 -500 \nL 400 -25 \nQ 775 -50 1250 -50 \nL 3000 -50 \nL 3000 750 \nL 2025 750 \nQ 1500 750 975 725 \nL 1050 1200 \nQ 1500 1175 2025 1175 \nL 3000 1175 \nz\nM 5775 5200 \nQ 5750 4775 5750 4325 \nL 5750 2400 \nQ 5775 1950 5612 1775 \nQ 5450 1600 4900 1525 \nQ 4825 1775 4675 2100 \nQ 5175 2075 5237 2150 \nQ 5300 2225 5300 2525 \nL 5300 4325 \nQ 5300 4775 5275 5200 \nL 5775 5200 \nz\nM 4600 4750 \nQ 4575 4450 4575 3975 \nL 4575 3200 \nQ 4575 2825 4600 2425 \nL 4100 2425 \nQ 4125 2825 4125 3200 \nL 4125 3975 \nQ 4125 4450 4100 4750 \nL 4600 4750 \nz\nM 2650 3425 \nL 2650 4475 \nL 1875 4475 \nQ 1850 3750 1850 3425 \nL 2650 3425 \nz\n\" transform=\"scale(0.015625)\"/>\n        <path id=\"SimHei-94c5\" d=\"M 5800 2125 \nQ 5775 1700 5775 900 \nQ 5775 100 5800 -525 \nL 5325 -525 \nL 5325 75 \nL 3600 75 \nL 3600 -575 \nL 3125 -575 \nQ 3150 100 3150 800 \nQ 3150 1525 3125 2125 \nL 5800 2125 \nz\nM 2400 900 \nQ 2450 750 2625 475 \nQ 2500 375 2150 87 \nQ 1800 -200 1425 -575 \nQ 1275 -350 1100 -175 \nQ 1250 50 1250 300 \nL 1250 1600 \nQ 725 1600 300 1575 \nL 300 2025 \nQ 725 2000 1250 2000 \nL 1250 2775 \nQ 975 2775 725 2750 \nL 725 3200 \nQ 975 3175 1275 3175 \nL 1900 3175 \nQ 2200 3175 2450 3200 \nL 2450 2750 \nQ 2050 2775 1725 2775 \nL 1725 2000 \nQ 2300 2000 2675 2025 \nL 2675 1575 \nQ 2300 1600 1725 1600 \nL 1725 225 \nQ 2200 650 2400 900 \nz\nM 6125 3125 \nQ 6025 2925 6025 2625 \nQ 5525 2600 5237 2625 \nQ 4950 2650 4950 3100 \nL 4950 4425 \nL 3875 4425 \nQ 3875 3525 3737 3150 \nQ 3600 2775 3125 2375 \nQ 2950 2625 2675 2750 \nQ 3350 3050 3387 3762 \nQ 3425 4475 3400 4800 \nL 5400 4800 \nQ 5400 3850 5412 3512 \nQ 5425 3175 5537 3112 \nQ 5650 3050 6125 3125 \nz\nM 5325 450 \nL 5325 1725 \nL 3600 1725 \nL 3600 450 \nL 5325 450 \nz\nM 1850 5050 \nQ 1575 4800 1350 4375 \nL 2000 4375 \nQ 2225 4375 2600 4400 \nL 2600 3975 \nQ 2225 4000 1975 4000 \nL 1125 4000 \nQ 750 3450 525 3175 \nQ 400 3425 200 3500 \nQ 575 3850 887 4375 \nQ 1200 4900 1300 5300 \nQ 1525 5150 1850 5050 \nz\n\" transform=\"scale(0.015625)\"/>\n        <path id=\"SimHei-94a1\" d=\"M 5800 4750 \nQ 5775 4350 5775 2925 \nQ 5775 1500 5800 1075 \nL 5325 1075 \nL 5325 4350 \nL 3425 4350 \nL 3425 1075 \nL 2975 1075 \nQ 3000 1575 3000 2925 \nQ 3000 4300 2975 4750 \nL 5800 4750 \nz\nM 950 3200 \nQ 1250 3175 1650 3175 \nQ 2050 3175 2400 3200 \nL 2400 2800 \nQ 2000 2825 1750 2825 \nL 1750 1975 \nQ 2350 1975 2625 2000 \nL 2625 1600 \nQ 2300 1625 1750 1625 \nL 1750 400 \nQ 2175 750 2425 1025 \nQ 2500 800 2650 600 \nQ 2400 400 2087 137 \nQ 1775 -125 1400 -475 \nQ 1225 -250 1100 -100 \nQ 1350 100 1325 575 \nL 1325 1625 \nQ 950 1625 525 1600 \nL 525 2000 \nQ 975 1975 1325 1975 \nL 1325 2825 \nQ 1150 2825 950 2800 \nL 950 3200 \nz\nM 4675 3575 \nQ 4625 3125 4600 2337 \nQ 4575 1550 4425 1025 \nQ 4275 525 3850 125 \nQ 3425 -275 2775 -600 \nQ 2625 -375 2375 -175 \nQ 3050 50 3475 437 \nQ 3900 825 4025 1325 \nQ 4125 1825 4137 2475 \nQ 4150 3125 4125 3650 \nQ 4400 3600 4675 3575 \nz\nM 1900 5000 \nQ 1775 4775 1525 4225 \nL 1950 4225 \nQ 2125 4225 2625 4250 \nL 2625 3825 \nQ 2100 3850 1800 3850 \nL 1325 3850 \nQ 1100 3550 900 3287 \nQ 700 3025 525 2825 \nQ 375 3050 225 3200 \nQ 600 3575 912 4075 \nQ 1225 4575 1375 5200 \nQ 1625 5075 1900 5000 \nz\nM 4950 875 \nQ 5600 350 6175 -150 \nQ 5975 -325 5800 -575 \nQ 5250 25 4625 475 \nQ 4800 650 4950 875 \nz\n\" transform=\"scale(0.015625)\"/>\n       </defs>\n       <use xlink:href=\"#SimHei-7c7b\"/>\n       <use xlink:href=\"#SimHei-578b\" x=\"100\"/>\n       <use xlink:href=\"#SimHei-5f\" x=\"200\"/>\n       <use xlink:href=\"#SimHei-94c5\" x=\"250\"/>\n       <use xlink:href=\"#SimHei-94a1\" x=\"350\"/>\n      </g>\n     </g>\n    </g>\n    <g id=\"xtick_8\">\n     <g id=\"line2d_8\">\n      <g>\n       <use xlink:href=\"#mecc99b300b\" x=\"260.4\" y=\"224.64\" style=\"stroke: #000000; stroke-width: 0.8\"/>\n      </g>\n     </g>\n     <g id=\"text_8\">\n      <!-- 类型_高钾 -->\n      <g transform=\"translate(263.798437 276.64)rotate(-90)scale(0.1 -0.1)\">\n       <defs>\n        <path id=\"SimHei-9ad8\" d=\"M 5825 -25 \nQ 5850 -400 5550 -500 \nQ 5250 -600 4975 -625 \nQ 4875 -325 4725 -100 \nQ 4975 -100 5175 -87 \nQ 5375 -75 5350 250 \nL 5350 1825 \nL 1100 1825 \nL 1100 -575 \nL 600 -575 \nQ 625 -225 625 850 \nQ 625 1950 600 2200 \nL 5850 2200 \nQ 5825 1850 5825 1425 \nL 5825 -25 \nz\nM 4925 3800 \nQ 4900 3475 4900 3175 \nQ 4900 2900 4925 2600 \nL 1400 2600 \nQ 1425 2825 1425 3175 \nQ 1425 3525 1400 3800 \nL 4925 3800 \nz\nM 4500 1400 \nQ 4475 1125 4475 800 \nQ 4475 500 4500 200 \nL 1950 200 \nQ 2000 500 2000 800 \nQ 2000 1125 1950 1400 \nL 4500 1400 \nz\nM 425 4600 \nQ 750 4575 1125 4575 \nL 2925 4575 \nQ 2850 4875 2750 5100 \nQ 3050 5125 3350 5200 \nQ 3400 4950 3525 4575 \nL 5250 4575 \nQ 5600 4575 5975 4600 \nL 5975 4150 \nQ 5600 4175 5050 4175 \nL 1150 4175 \nQ 750 4175 425 4150 \nL 425 4600 \nz\nM 4450 2975 \nL 4450 3425 \nL 1900 3425 \nL 1900 2975 \nL 4450 2975 \nz\nM 4025 550 \nL 4025 1050 \nL 2400 1050 \nL 2400 550 \nL 4025 550 \nz\n\" transform=\"scale(0.015625)\"/>\n        <path id=\"SimHei-94be\" d=\"M 5775 4775 \nQ 5750 4325 5750 3775 \nL 5750 2075 \nQ 5750 1625 5775 1200 \nL 5300 1200 \nL 5300 1450 \nL 4475 1450 \nL 4475 550 \nQ 4475 125 4500 -575 \nL 4000 -575 \nQ 4025 150 4025 550 \nL 4025 1450 \nL 3225 1450 \nL 3225 1150 \nL 2750 1150 \nQ 2775 1625 2775 2075 \nL 2775 3800 \nQ 2775 4300 2750 4775 \nL 5775 4775 \nz\nM 1800 5000 \nQ 1525 4525 1375 4225 \nL 1675 4225 \nQ 1975 4225 2400 4250 \nL 2400 3775 \nQ 1950 3800 1675 3800 \nL 1150 3800 \nQ 925 3425 775 3200 \nQ 1150 3175 1525 3175 \nQ 1900 3175 2350 3200 \nL 2350 2750 \nQ 1900 2775 1650 2775 \nL 1650 2000 \nL 1800 2000 \nQ 2050 2000 2450 2025 \nL 2450 1575 \nQ 2000 1600 1650 1600 \nL 1650 325 \nQ 1975 600 2200 850 \nQ 2300 625 2475 400 \nQ 2200 225 1900 -25 \nQ 1600 -275 1425 -475 \nQ 1225 -250 1050 -75 \nQ 1150 25 1200 200 \nL 1200 1600 \nQ 850 1600 475 1575 \nL 475 2025 \nQ 875 2000 1200 2000 \nL 1200 2775 \nQ 1050 2775 700 2750 \nL 700 3075 \nL 575 2900 \nQ 425 3075 200 3250 \nQ 500 3550 812 4125 \nQ 1125 4700 1275 5200 \nQ 1475 5125 1800 5000 \nz\nM 5300 3300 \nL 5300 4375 \nL 4475 4375 \nL 4475 3300 \nL 5300 3300 \nz\nM 5300 1850 \nL 5300 2900 \nL 4475 2900 \nL 4475 1850 \nL 5300 1850 \nz\nM 4025 3300 \nL 4025 4375 \nL 3225 4375 \nL 3225 3300 \nL 4025 3300 \nz\nM 4025 1850 \nL 4025 2900 \nL 3225 2900 \nL 3225 1850 \nL 4025 1850 \nz\n\" transform=\"scale(0.015625)\"/>\n       </defs>\n       <use xlink:href=\"#SimHei-7c7b\"/>\n       <use xlink:href=\"#SimHei-578b\" x=\"100\"/>\n       <use xlink:href=\"#SimHei-5f\" x=\"200\"/>\n       <use xlink:href=\"#SimHei-9ad8\" x=\"250\"/>\n       <use xlink:href=\"#SimHei-94be\" x=\"350\"/>\n      </g>\n     </g>\n    </g>\n    <g id=\"xtick_9\">\n     <g id=\"line2d_9\">\n      <g>\n       <use xlink:href=\"#mecc99b300b\" x=\"284.56\" y=\"224.64\" style=\"stroke: #000000; stroke-width: 0.8\"/>\n      </g>\n     </g>\n     <g id=\"text_9\">\n      <!-- 表面风化_风化 -->\n      <g transform=\"translate(287.958438 296.64)rotate(-90)scale(0.1 -0.1)\">\n       <defs>\n        <path id=\"SimHei-8868\" d=\"M 2950 4475 \nQ 2950 4800 2925 5200 \nL 3500 5200 \nQ 3450 4900 3450 4475 \nL 4975 4475 \nQ 5325 4475 5725 4500 \nL 5725 4025 \nQ 5325 4075 5000 4075 \nL 3450 4075 \nL 3450 3600 \nL 4675 3600 \nQ 5075 3600 5450 3625 \nL 5450 3175 \nQ 5100 3200 4675 3200 \nL 3450 3200 \nL 3450 2650 \nL 5225 2650 \nQ 5675 2650 6075 2675 \nL 6075 2200 \nQ 5700 2250 5250 2250 \nL 3075 2250 \nQ 2900 2025 2525 1625 \nL 2525 175 \nQ 2975 425 3525 800 \nQ 3575 500 3700 275 \nQ 3225 50 2837 -200 \nQ 2450 -450 2250 -625 \nQ 2050 -375 1900 -175 \nQ 2075 -50 2050 400 \nL 2050 1200 \nQ 1750 950 1425 737 \nQ 1100 525 750 325 \nQ 600 550 375 750 \nQ 975 1000 1562 1425 \nQ 2150 1850 2450 2250 \nL 1275 2250 \nQ 800 2250 350 2200 \nL 350 2675 \nQ 650 2650 1350 2650 \nL 2950 2650 \nL 2950 3200 \nL 1825 3200 \nQ 1400 3200 1125 3175 \nL 1125 3625 \nQ 1525 3600 1825 3600 \nL 2950 3600 \nL 2950 4075 \nL 1700 4075 \nQ 1225 4075 825 4025 \nL 825 4525 \nQ 1200 4475 1825 4475 \nL 2950 4475 \nz\nM 3550 2125 \nQ 3725 1600 4150 1050 \nQ 4650 1450 5050 2000 \nQ 5275 1775 5575 1575 \nQ 5350 1500 5075 1262 \nQ 4800 1025 4475 725 \nQ 4725 475 5225 337 \nQ 5725 200 6150 175 \nQ 5925 -100 5875 -425 \nQ 4600 -125 4012 500 \nQ 3425 1125 3150 1950 \nL 3550 2125 \nz\n\" transform=\"scale(0.015625)\"/>\n        <path id=\"SimHei-9762\" d=\"M 5275 4850 \nQ 5650 4850 5950 4875 \nL 5950 4400 \nQ 5600 4425 5275 4425 \nL 3275 4425 \nQ 3175 4200 2950 3575 \nL 5525 3575 \nQ 5500 3100 5500 2600 \nL 5500 450 \nQ 5500 -100 5525 -525 \nL 5025 -525 \nL 5025 -175 \nL 1350 -175 \nL 1350 -525 \nL 850 -525 \nQ 875 -200 875 425 \nL 875 2650 \nQ 875 3125 850 3575 \nL 2475 3575 \nQ 2700 4150 2750 4425 \nL 1175 4425 \nQ 800 4425 425 4400 \nL 425 4875 \nQ 825 4850 1175 4850 \nL 5275 4850 \nz\nM 2200 225 \nL 2200 3175 \nL 1350 3175 \nL 1350 225 \nL 2200 225 \nz\nM 5025 225 \nL 5025 3175 \nL 4175 3175 \nL 4175 225 \nL 5025 225 \nz\nM 3750 225 \nL 3750 1050 \nL 2625 1050 \nL 2625 225 \nL 3750 225 \nz\nM 3750 2475 \nL 3750 3175 \nL 2625 3175 \nL 2625 2475 \nL 3750 2475 \nz\nM 3750 1425 \nL 3750 2100 \nL 2625 2100 \nL 2625 1425 \nL 3750 1425 \nz\n\" transform=\"scale(0.015625)\"/>\n        <path id=\"SimHei-98ce\" d=\"M 5100 4950 \nQ 5050 3950 5062 3137 \nQ 5075 2325 5087 1825 \nQ 5100 1325 5262 712 \nQ 5425 100 5525 150 \nQ 5625 200 5700 775 \nQ 5925 550 6200 450 \nQ 5950 -475 5687 -562 \nQ 5425 -650 5175 -337 \nQ 4925 -25 4787 575 \nQ 4650 1175 4625 1862 \nQ 4600 2550 4600 4500 \nL 1500 4500 \nQ 1500 2475 1437 1825 \nQ 1375 1175 1187 525 \nQ 1000 -125 625 -675 \nQ 400 -425 275 -275 \nQ 600 150 775 737 \nQ 950 1325 1000 2062 \nQ 1050 2800 1050 3675 \nQ 1050 4550 1025 4950 \nL 5100 4950 \nz\nM 4225 3625 \nQ 4075 3425 3875 2950 \nQ 3675 2475 3475 2100 \nQ 4025 1200 4350 525 \nQ 4100 400 3925 275 \nQ 3750 700 3225 1625 \nQ 2950 1250 2650 925 \nQ 2350 600 1950 250 \nQ 1750 525 1600 625 \nQ 2000 875 2375 1287 \nQ 2750 1700 2950 2025 \nQ 2450 2825 1850 3450 \nQ 2075 3600 2200 3750 \nQ 2700 3175 3200 2475 \nQ 3475 3000 3725 3925 \nL 4225 3625 \nz\n\" transform=\"scale(0.015625)\"/>\n        <path id=\"SimHei-5316\" d=\"M 3925 5025 \nQ 3900 4900 3900 4400 \nL 3900 2625 \nQ 4375 3025 4775 3450 \nQ 5175 3875 5400 4300 \nQ 5600 4100 5900 3925 \nQ 5700 3700 5225 3212 \nQ 4750 2725 4487 2512 \nQ 4225 2300 3900 2025 \nL 3900 450 \nQ 3900 50 4225 50 \nL 5200 50 \nQ 5400 75 5462 262 \nQ 5525 450 5575 850 \nQ 5800 650 6150 600 \nQ 6000 -100 5825 -250 \nQ 5650 -400 5350 -400 \nL 3950 -400 \nQ 3425 -400 3400 200 \nL 3400 1675 \nQ 3225 1525 2962 1350 \nQ 2700 1175 2375 975 \nQ 2225 1225 2025 1400 \nQ 2350 1550 2737 1787 \nQ 3125 2025 3400 2250 \nL 3400 4500 \nQ 3400 4800 3375 5025 \nL 3925 5025 \nz\nM 2400 4850 \nQ 2175 4550 2075 4337 \nQ 1975 4125 1825 3775 \nL 1825 675 \nQ 1825 -75 1850 -550 \nL 1325 -550 \nQ 1350 -125 1350 650 \nL 1350 3050 \nQ 1125 2725 962 2525 \nQ 800 2325 675 2175 \nQ 500 2375 275 2525 \nQ 625 2850 875 3212 \nQ 1125 3575 1312 3912 \nQ 1500 4250 1625 4575 \nQ 1750 4900 1825 5100 \nQ 1975 4975 2400 4850 \nz\n\" transform=\"scale(0.015625)\"/>\n       </defs>\n       <use xlink:href=\"#SimHei-8868\"/>\n       <use xlink:href=\"#SimHei-9762\" x=\"100\"/>\n       <use xlink:href=\"#SimHei-98ce\" x=\"200\"/>\n       <use xlink:href=\"#SimHei-5316\" x=\"300\"/>\n       <use xlink:href=\"#SimHei-5f\" x=\"400\"/>\n       <use xlink:href=\"#SimHei-98ce\" x=\"450\"/>\n       <use xlink:href=\"#SimHei-5316\" x=\"550\"/>\n      </g>\n     </g>\n    </g>\n   </g>\n   <g id=\"matplotlib.axis_2\">\n    <g id=\"ytick_1\">\n     <g id=\"line2d_10\">\n      <defs>\n       <path id=\"m3c85363212\" d=\"M 0 0 \nL -3.5 0 \n\" style=\"stroke: #000000; stroke-width: 0.8\"/>\n      </defs>\n      <g>\n       <use xlink:href=\"#m3c85363212\" x=\"79.2\" y=\"19.28\" style=\"stroke: #000000; stroke-width: 0.8\"/>\n      </g>\n     </g>\n     <g id=\"text_10\">\n      <!-- 红 -->\n      <g transform=\"translate(62.2 22.307344)scale(0.1 -0.1)\">\n       <use xlink:href=\"#SimHei-7ea2\"/>\n      </g>\n     </g>\n    </g>\n    <g id=\"ytick_2\">\n     <g id=\"line2d_11\">\n      <g>\n       <use xlink:href=\"#m3c85363212\" x=\"79.2\" y=\"43.44\" style=\"stroke: #000000; stroke-width: 0.8\"/>\n      </g>\n     </g>\n     <g id=\"text_11\">\n      <!-- 蓝 -->\n      <g transform=\"translate(62.2 46.72125)scale(0.1 -0.1)\">\n       <use xlink:href=\"#SimHei-84dd\"/>\n      </g>\n     </g>\n    </g>\n    <g id=\"ytick_3\">\n     <g id=\"line2d_12\">\n      <g>\n       <use xlink:href=\"#m3c85363212\" x=\"79.2\" y=\"67.6\" style=\"stroke: #000000; stroke-width: 0.8\"/>\n      </g>\n     </g>\n     <g id=\"text_12\">\n      <!-- 绿 -->\n      <g transform=\"translate(62.2 70.920312)scale(0.1 -0.1)\">\n       <use xlink:href=\"#SimHei-7eff\"/>\n      </g>\n     </g>\n    </g>\n    <g id=\"ytick_4\">\n     <g id=\"line2d_13\">\n      <g>\n       <use xlink:href=\"#m3c85363212\" x=\"79.2\" y=\"91.76\" style=\"stroke: #000000; stroke-width: 0.8\"/>\n      </g>\n     </g>\n     <g id=\"text_13\">\n      <!-- 纹饰_A -->\n      <g transform=\"translate(42.2 95.177969)scale(0.1 -0.1)\">\n       <use xlink:href=\"#SimHei-7eb9\"/>\n       <use xlink:href=\"#SimHei-9970\" x=\"100\"/>\n       <use xlink:href=\"#SimHei-5f\" x=\"200\"/>\n       <use xlink:href=\"#SimHei-41\" x=\"250\"/>\n      </g>\n     </g>\n    </g>\n    <g id=\"ytick_5\">\n     <g id=\"line2d_14\">\n      <g>\n       <use xlink:href=\"#m3c85363212\" x=\"79.2\" y=\"115.92\" style=\"stroke: #000000; stroke-width: 0.8\"/>\n      </g>\n     </g>\n     <g id=\"text_14\">\n      <!-- 纹饰_B -->\n      <g transform=\"translate(42.2 119.337969)scale(0.1 -0.1)\">\n       <use xlink:href=\"#SimHei-7eb9\"/>\n       <use xlink:href=\"#SimHei-9970\" x=\"100\"/>\n       <use xlink:href=\"#SimHei-5f\" x=\"200\"/>\n       <use xlink:href=\"#SimHei-42\" x=\"250\"/>\n      </g>\n     </g>\n    </g>\n    <g id=\"ytick_6\">\n     <g id=\"line2d_15\">\n      <g>\n       <use xlink:href=\"#m3c85363212\" x=\"79.2\" y=\"140.08\" style=\"stroke: #000000; stroke-width: 0.8\"/>\n      </g>\n     </g>\n     <g id=\"text_15\">\n      <!-- 纹饰_C -->\n      <g transform=\"translate(42.2 143.497969)scale(0.1 -0.1)\">\n       <use xlink:href=\"#SimHei-7eb9\"/>\n       <use xlink:href=\"#SimHei-9970\" x=\"100\"/>\n       <use xlink:href=\"#SimHei-5f\" x=\"200\"/>\n       <use xlink:href=\"#SimHei-43\" x=\"250\"/>\n      </g>\n     </g>\n    </g>\n    <g id=\"ytick_7\">\n     <g id=\"line2d_16\">\n      <g>\n       <use xlink:href=\"#m3c85363212\" x=\"79.2\" y=\"164.24\" style=\"stroke: #000000; stroke-width: 0.8\"/>\n      </g>\n     </g>\n     <g id=\"text_16\">\n      <!-- 类型_铅钡 -->\n      <g transform=\"translate(27.2 167.716562)scale(0.1 -0.1)\">\n       <use xlink:href=\"#SimHei-7c7b\"/>\n       <use xlink:href=\"#SimHei-578b\" x=\"100\"/>\n       <use xlink:href=\"#SimHei-5f\" x=\"200\"/>\n       <use xlink:href=\"#SimHei-94c5\" x=\"250\"/>\n       <use xlink:href=\"#SimHei-94a1\" x=\"350\"/>\n      </g>\n     </g>\n    </g>\n    <g id=\"ytick_8\">\n     <g id=\"line2d_17\">\n      <g>\n       <use xlink:href=\"#m3c85363212\" x=\"79.2\" y=\"188.4\" style=\"stroke: #000000; stroke-width: 0.8\"/>\n      </g>\n     </g>\n     <g id=\"text_17\">\n      <!-- 类型_高钾 -->\n      <g transform=\"translate(27.2 191.798437)scale(0.1 -0.1)\">\n       <use xlink:href=\"#SimHei-7c7b\"/>\n       <use xlink:href=\"#SimHei-578b\" x=\"100\"/>\n       <use xlink:href=\"#SimHei-5f\" x=\"200\"/>\n       <use xlink:href=\"#SimHei-9ad8\" x=\"250\"/>\n       <use xlink:href=\"#SimHei-94be\" x=\"350\"/>\n      </g>\n     </g>\n    </g>\n    <g id=\"ytick_9\">\n     <g id=\"line2d_18\">\n      <g>\n       <use xlink:href=\"#m3c85363212\" x=\"79.2\" y=\"212.56\" style=\"stroke: #000000; stroke-width: 0.8\"/>\n      </g>\n     </g>\n     <g id=\"text_18\">\n      <!-- 表面风化_风化 -->\n      <g transform=\"translate(7.2 215.958438)scale(0.1 -0.1)\">\n       <use xlink:href=\"#SimHei-8868\"/>\n       <use xlink:href=\"#SimHei-9762\" x=\"100\"/>\n       <use xlink:href=\"#SimHei-98ce\" x=\"200\"/>\n       <use xlink:href=\"#SimHei-5316\" x=\"300\"/>\n       <use xlink:href=\"#SimHei-5f\" x=\"400\"/>\n       <use xlink:href=\"#SimHei-98ce\" x=\"450\"/>\n       <use xlink:href=\"#SimHei-5316\" x=\"550\"/>\n      </g>\n     </g>\n    </g>\n   </g>\n   <g id=\"text_19\">\n    <!-- 1 -->\n    <g style=\"fill: #ffffff\" transform=\"translate(88.78 46.2525)scale(0.1 -0.1)\">\n     <defs>\n      <path id=\"SimHei-31\" d=\"M 1400 3600 \nQ 1075 3275 575 2975 \nL 575 3450 \nQ 1200 3875 1600 4450 \nL 1900 4450 \nL 1900 150 \nL 1400 150 \nL 1400 3600 \nz\n\" transform=\"scale(0.015625)\"/>\n     </defs>\n     <use xlink:href=\"#SimHei-31\"/>\n    </g>\n   </g>\n   <g id=\"text_20\">\n    <!-- 1 -->\n    <g style=\"fill: #ffffff\" transform=\"translate(88.78 70.4125)scale(0.1 -0.1)\">\n     <use xlink:href=\"#SimHei-31\"/>\n    </g>\n   </g>\n   <g id=\"text_21\">\n    <!-- 0 -->\n    <g style=\"fill: #262626\" transform=\"translate(112.94 70.4125)scale(0.1 -0.1)\">\n     <defs>\n      <path id=\"SimHei-30\" d=\"M 225 2537 \nQ 250 3200 412 3587 \nQ 575 3975 875 4225 \nQ 1175 4475 1612 4475 \nQ 2050 4475 2375 4112 \nQ 2700 3750 2800 3200 \nQ 2900 2650 2862 1937 \nQ 2825 1225 2612 775 \nQ 2400 325 1975 150 \nQ 1550 -25 1125 187 \nQ 700 400 525 750 \nQ 350 1100 275 1487 \nQ 200 1875 225 2537 \nz\nM 750 2687 \nQ 675 2000 800 1462 \nQ 925 925 1212 700 \nQ 1500 475 1800 612 \nQ 2100 750 2237 1162 \nQ 2375 1575 2375 2062 \nQ 2375 2550 2337 2950 \nQ 2300 3350 2112 3675 \nQ 1925 4000 1612 4012 \nQ 1300 4025 1062 3700 \nQ 825 3375 750 2687 \nz\n\" transform=\"scale(0.015625)\"/>\n     </defs>\n     <use xlink:href=\"#SimHei-30\"/>\n    </g>\n   </g>\n   <g id=\"text_22\">\n    <!-- 1 -->\n    <g style=\"fill: #ffffff\" transform=\"translate(88.78 94.5725)scale(0.1 -0.1)\">\n     <use xlink:href=\"#SimHei-31\"/>\n    </g>\n   </g>\n   <g id=\"text_23\">\n    <!-- 0 -->\n    <g style=\"fill: #262626\" transform=\"translate(112.94 94.5725)scale(0.1 -0.1)\">\n     <use xlink:href=\"#SimHei-30\"/>\n    </g>\n   </g>\n   <g id=\"text_24\">\n    <!-- 1 -->\n    <g style=\"fill: #ffffff\" transform=\"translate(137.1 94.5725)scale(0.1 -0.1)\">\n     <use xlink:href=\"#SimHei-31\"/>\n    </g>\n   </g>\n   <g id=\"text_25\">\n    <!-- 1 -->\n    <g style=\"fill: #ffffff\" transform=\"translate(88.78 118.7325)scale(0.1 -0.1)\">\n     <use xlink:href=\"#SimHei-31\"/>\n    </g>\n   </g>\n   <g id=\"text_26\">\n    <!-- 1 -->\n    <g style=\"fill: #ffffff\" transform=\"translate(112.94 118.7325)scale(0.1 -0.1)\">\n     <use xlink:href=\"#SimHei-31\"/>\n    </g>\n   </g>\n   <g id=\"text_27\">\n    <!-- 1 -->\n    <g style=\"fill: #ffffff\" transform=\"translate(137.1 118.7325)scale(0.1 -0.1)\">\n     <use xlink:href=\"#SimHei-31\"/>\n    </g>\n   </g>\n   <g id=\"text_28\">\n    <!-- 1 -->\n    <g style=\"fill: #ffffff\" transform=\"translate(161.26 118.7325)scale(0.1 -0.1)\">\n     <use xlink:href=\"#SimHei-31\"/>\n    </g>\n   </g>\n   <g id=\"text_29\">\n    <!-- 1 -->\n    <g style=\"fill: #ffffff\" transform=\"translate(88.78 142.8925)scale(0.1 -0.1)\">\n     <use xlink:href=\"#SimHei-31\"/>\n    </g>\n   </g>\n   <g id=\"text_30\">\n    <!-- 0 -->\n    <g style=\"fill: #262626\" transform=\"translate(112.94 142.8925)scale(0.1 -0.1)\">\n     <use xlink:href=\"#SimHei-30\"/>\n    </g>\n   </g>\n   <g id=\"text_31\">\n    <!-- 1 -->\n    <g style=\"fill: #ffffff\" transform=\"translate(137.1 142.8925)scale(0.1 -0.1)\">\n     <use xlink:href=\"#SimHei-31\"/>\n    </g>\n   </g>\n   <g id=\"text_32\">\n    <!-- 0 -->\n    <g style=\"fill: #262626\" transform=\"translate(161.26 142.8925)scale(0.1 -0.1)\">\n     <use xlink:href=\"#SimHei-30\"/>\n    </g>\n   </g>\n   <g id=\"text_33\">\n    <!-- 0 -->\n    <g style=\"fill: #262626\" transform=\"translate(185.42 142.8925)scale(0.1 -0.1)\">\n     <use xlink:href=\"#SimHei-30\"/>\n    </g>\n   </g>\n   <g id=\"text_34\">\n    <!-- 1 -->\n    <g style=\"fill: #ffffff\" transform=\"translate(88.78 167.0525)scale(0.1 -0.1)\">\n     <use xlink:href=\"#SimHei-31\"/>\n    </g>\n   </g>\n   <g id=\"text_35\">\n    <!-- 1 -->\n    <g style=\"fill: #ffffff\" transform=\"translate(112.94 167.0525)scale(0.1 -0.1)\">\n     <use xlink:href=\"#SimHei-31\"/>\n    </g>\n   </g>\n   <g id=\"text_36\">\n    <!-- 1 -->\n    <g style=\"fill: #ffffff\" transform=\"translate(137.1 167.0525)scale(0.1 -0.1)\">\n     <use xlink:href=\"#SimHei-31\"/>\n    </g>\n   </g>\n   <g id=\"text_37\">\n    <!-- 1 -->\n    <g style=\"fill: #ffffff\" transform=\"translate(161.26 167.0525)scale(0.1 -0.1)\">\n     <use xlink:href=\"#SimHei-31\"/>\n    </g>\n   </g>\n   <g id=\"text_38\">\n    <!-- 0 -->\n    <g style=\"fill: #262626\" transform=\"translate(185.42 167.0525)scale(0.1 -0.1)\">\n     <use xlink:href=\"#SimHei-30\"/>\n    </g>\n   </g>\n   <g id=\"text_39\">\n    <!-- 1 -->\n    <g style=\"fill: #ffffff\" transform=\"translate(209.58 167.0525)scale(0.1 -0.1)\">\n     <use xlink:href=\"#SimHei-31\"/>\n    </g>\n   </g>\n   <g id=\"text_40\">\n    <!-- 1 -->\n    <g style=\"fill: #ffffff\" transform=\"translate(88.78 191.2125)scale(0.1 -0.1)\">\n     <use xlink:href=\"#SimHei-31\"/>\n    </g>\n   </g>\n   <g id=\"text_41\">\n    <!-- 1 -->\n    <g style=\"fill: #ffffff\" transform=\"translate(112.94 191.2125)scale(0.1 -0.1)\">\n     <use xlink:href=\"#SimHei-31\"/>\n    </g>\n   </g>\n   <g id=\"text_42\">\n    <!-- 1 -->\n    <g style=\"fill: #ffffff\" transform=\"translate(137.1 191.2125)scale(0.1 -0.1)\">\n     <use xlink:href=\"#SimHei-31\"/>\n    </g>\n   </g>\n   <g id=\"text_43\">\n    <!-- 1 -->\n    <g style=\"fill: #ffffff\" transform=\"translate(161.26 191.2125)scale(0.1 -0.1)\">\n     <use xlink:href=\"#SimHei-31\"/>\n    </g>\n   </g>\n   <g id=\"text_44\">\n    <!-- 0 -->\n    <g style=\"fill: #262626\" transform=\"translate(185.42 191.2125)scale(0.1 -0.1)\">\n     <use xlink:href=\"#SimHei-30\"/>\n    </g>\n   </g>\n   <g id=\"text_45\">\n    <!-- 1 -->\n    <g style=\"fill: #ffffff\" transform=\"translate(209.58 191.2125)scale(0.1 -0.1)\">\n     <use xlink:href=\"#SimHei-31\"/>\n    </g>\n   </g>\n   <g id=\"text_46\">\n    <!-- 0 -->\n    <g style=\"fill: #262626\" transform=\"translate(233.74 191.2125)scale(0.1 -0.1)\">\n     <use xlink:href=\"#SimHei-30\"/>\n    </g>\n   </g>\n   <g id=\"text_47\">\n    <!-- 1 -->\n    <g style=\"fill: #ffffff\" transform=\"translate(88.78 215.3725)scale(0.1 -0.1)\">\n     <use xlink:href=\"#SimHei-31\"/>\n    </g>\n   </g>\n   <g id=\"text_48\">\n    <!-- 1 -->\n    <g style=\"fill: #ffffff\" transform=\"translate(112.94 215.3725)scale(0.1 -0.1)\">\n     <use xlink:href=\"#SimHei-31\"/>\n    </g>\n   </g>\n   <g id=\"text_49\">\n    <!-- 1 -->\n    <g style=\"fill: #ffffff\" transform=\"translate(137.1 215.3725)scale(0.1 -0.1)\">\n     <use xlink:href=\"#SimHei-31\"/>\n    </g>\n   </g>\n   <g id=\"text_50\">\n    <!-- 1 -->\n    <g style=\"fill: #ffffff\" transform=\"translate(161.26 215.3725)scale(0.1 -0.1)\">\n     <use xlink:href=\"#SimHei-31\"/>\n    </g>\n   </g>\n   <g id=\"text_51\">\n    <!-- 1 -->\n    <g style=\"fill: #ffffff\" transform=\"translate(185.42 215.3725)scale(0.1 -0.1)\">\n     <use xlink:href=\"#SimHei-31\"/>\n    </g>\n   </g>\n   <g id=\"text_52\">\n    <!-- 1 -->\n    <g style=\"fill: #ffffff\" transform=\"translate(209.58 215.3725)scale(0.1 -0.1)\">\n     <use xlink:href=\"#SimHei-31\"/>\n    </g>\n   </g>\n   <g id=\"text_53\">\n    <!-- 1 -->\n    <g style=\"fill: #ffffff\" transform=\"translate(233.74 215.3725)scale(0.1 -0.1)\">\n     <use xlink:href=\"#SimHei-31\"/>\n    </g>\n   </g>\n   <g id=\"text_54\">\n    <!-- 1 -->\n    <g style=\"fill: #ffffff\" transform=\"translate(257.9 215.3725)scale(0.1 -0.1)\">\n     <use xlink:href=\"#SimHei-31\"/>\n    </g>\n   </g>\n  </g>\n </g>\n <defs>\n  <clipPath id=\"pac07c12bbd\">\n   <rect x=\"79.2\" y=\"7.2\" width=\"217.44\" height=\"217.44\"/>\n  </clipPath>\n </defs>\n</svg>\n",
      "text/plain": [
       "<Figure size 432x288 with 1 Axes>"
      ]
     },
     "metadata": {
      "needs_background": "light"
     },
     "output_type": "display_data"
    }
   ],
   "source": [
    "corr = data.corr(method=PvalueGetSpearman) > 0.01\n",
    "mask = np.zeros_like(corr)\n",
    "mask[np.triu_indices_from(mask)] = True\n",
    "sns.heatmap(corr, mask=mask, annot=True, square=True, cmap='YlGnBu', cbar=False)\n"
   ]
  },
  {
   "cell_type": "code",
   "execution_count": 46,
   "metadata": {},
   "outputs": [
    {
     "data": {
      "text/plain": [
       "Index(['文物编号', '文物采样点', '类型', '风化与否', '二氧化硅(SiO2)', '氧化钠(Na2O)', '氧化钾(K2O)',\n",
       "       '氧化钙(CaO)', '氧化镁(MgO)', '氧化铝(Al2O3)', '氧化铁(Fe2O3)', '氧化铜(CuO)',\n",
       "       '氧化铅(PbO)', '氧化钡(BaO)', '五氧化二磷(P2O5)', '氧化锶(SrO)', '氧化锡(SnO2)',\n",
       "       '二氧化硫(SO2)', '总含量'],\n",
       "      dtype='object')"
      ]
     },
     "execution_count": 46,
     "metadata": {},
     "output_type": "execute_result"
    }
   ],
   "source": [
    "df = pd.read_excel('1.2铅钡.xlsx')\n",
    "df.columns"
   ]
  },
  {
   "cell_type": "code",
   "execution_count": 47,
   "metadata": {},
   "outputs": [],
   "source": [
    "## 原始的"
   ]
  },
  {
   "cell_type": "code",
   "execution_count": 48,
   "metadata": {},
   "outputs": [
    {
     "name": "stdout",
     "output_type": "stream",
     "text": [
      "                            OLS Regression Results                            \n",
      "==============================================================================\n",
      "Dep. Variable:                   风化与否   R-squared:                       0.874\n",
      "Model:                            OLS   Adj. R-squared:                  0.822\n",
      "Method:                 Least Squares   F-statistic:                     16.85\n",
      "Date:                Sun, 18 Sep 2022   Prob (F-statistic):           2.39e-11\n",
      "Time:                        17:10:27   Log-Likelihood:                 5.9888\n",
      "No. Observations:                  49   AIC:                             18.02\n",
      "Df Residuals:                      34   BIC:                             46.40\n",
      "Df Model:                          14                                         \n",
      "Covariance Type:            nonrobust                                         \n",
      "==============================================================================\n",
      "                 coef    std err          t      P>|t|      [0.025      0.975]\n",
      "------------------------------------------------------------------------------\n",
      "const         -0.6216      2.007     -0.310      0.759      -4.700       3.457\n",
      "x1            -0.0033      0.020     -0.164      0.871      -0.044       0.037\n",
      "x2             0.0005      0.034      0.014      0.989      -0.069       0.070\n",
      "x3            -0.2188      0.155     -1.410      0.168      -0.534       0.097\n",
      "x4            -0.1022      0.044     -2.322      0.026      -0.192      -0.013\n",
      "x5             0.1112      0.089      1.250      0.220      -0.070       0.292\n",
      "x6             0.0467      0.027      1.749      0.089      -0.008       0.101\n",
      "x7            -0.0095      0.052     -0.181      0.858      -0.116       0.097\n",
      "x8             0.0226      0.027      0.849      0.402      -0.031       0.077\n",
      "x9             0.0312      0.021      1.501      0.143      -0.011       0.073\n",
      "x10            0.0088      0.029      0.307      0.761      -0.049       0.067\n",
      "x11            0.0608      0.030      2.047      0.048       0.000       0.121\n",
      "x12           -0.3483      0.183     -1.898      0.066      -0.721       0.025\n",
      "x13            0.4269      0.214      1.995      0.054      -0.008       0.862\n",
      "x14            0.0894      0.020      4.435      0.000       0.048       0.130\n",
      "==============================================================================\n",
      "Omnibus:                        1.454   Durbin-Watson:                   2.099\n",
      "Prob(Omnibus):                  0.483   Jarque-Bera (JB):                1.411\n",
      "Skew:                          -0.316   Prob(JB):                        0.494\n",
      "Kurtosis:                       2.459   Cond. No.                     2.91e+03\n",
      "==============================================================================\n",
      "\n",
      "Notes:\n",
      "[1] Standard Errors assume that the covariance matrix of the errors is correctly specified.\n",
      "[2] The condition number is large, 2.91e+03. This might indicate that there are\n",
      "strong multicollinearity or other numerical problems.\n"
     ]
    }
   ],
   "source": [
    "# 高钾\n",
    "origin1=df.iloc[:,3:-1]\n",
    "\n",
    "X = origin1.iloc[:,1:]\n",
    "y = origin1.iloc[:,0]\n",
    "x = sm.add_constant(np.array(X))  # 添加常数项\n",
    "reg = sm.OLS(y, x)\n",
    "results = reg.fit()\n",
    "print(results.summary())"
   ]
  },
  {
   "cell_type": "code",
   "execution_count": 49,
   "metadata": {},
   "outputs": [
    {
     "name": "stdout",
     "output_type": "stream",
     "text": [
      "                            OLS Regression Results                            \n",
      "==============================================================================\n",
      "Dep. Variable:                   风化与否   R-squared:                       0.874\n",
      "Model:                            OLS   Adj. R-squared:                  0.822\n",
      "Method:                 Least Squares   F-statistic:                     16.85\n",
      "Date:                Sun, 18 Sep 2022   Prob (F-statistic):           2.39e-11\n",
      "Time:                        17:10:27   Log-Likelihood:                 5.9888\n",
      "No. Observations:                  49   AIC:                             18.02\n",
      "Df Residuals:                      34   BIC:                             46.40\n",
      "Df Model:                          14                                         \n",
      "Covariance Type:            nonrobust                                         \n",
      "==============================================================================\n",
      "                 coef    std err          t      P>|t|      [0.025      0.975]\n",
      "------------------------------------------------------------------------------\n",
      "const         -0.6216      2.007     -0.310      0.759      -4.700       3.457\n",
      "x1            -0.0033      0.020     -0.164      0.871      -0.044       0.037\n",
      "x2             0.0005      0.034      0.014      0.989      -0.069       0.070\n",
      "x3            -0.2188      0.155     -1.410      0.168      -0.534       0.097\n",
      "x4            -0.1022      0.044     -2.322      0.026      -0.192      -0.013\n",
      "x5             0.1112      0.089      1.250      0.220      -0.070       0.292\n",
      "x6             0.0467      0.027      1.749      0.089      -0.008       0.101\n",
      "x7            -0.0095      0.052     -0.181      0.858      -0.116       0.097\n",
      "x8             0.0226      0.027      0.849      0.402      -0.031       0.077\n",
      "x9             0.0312      0.021      1.501      0.143      -0.011       0.073\n",
      "x10            0.0088      0.029      0.307      0.761      -0.049       0.067\n",
      "x11            0.0608      0.030      2.047      0.048       0.000       0.121\n",
      "x12           -0.3483      0.183     -1.898      0.066      -0.721       0.025\n",
      "x13            0.4269      0.214      1.995      0.054      -0.008       0.862\n",
      "x14            0.0894      0.020      4.435      0.000       0.048       0.130\n",
      "==============================================================================\n",
      "Omnibus:                        1.454   Durbin-Watson:                   2.099\n",
      "Prob(Omnibus):                  0.483   Jarque-Bera (JB):                1.411\n",
      "Skew:                          -0.316   Prob(JB):                        0.494\n",
      "Kurtosis:                       2.459   Cond. No.                     2.91e+03\n",
      "==============================================================================\n",
      "\n",
      "Notes:\n",
      "[1] Standard Errors assume that the covariance matrix of the errors is correctly specified.\n",
      "[2] The condition number is large, 2.91e+03. This might indicate that there are\n",
      "strong multicollinearity or other numerical problems.\n"
     ]
    }
   ],
   "source": [
    "# 铅钡\n",
    "df = pd.read_excel('1.2铅钡.xlsx')\n",
    "origin1=df.iloc[:,3:-1]\n",
    "\n",
    "X = origin1.iloc[:,1:]\n",
    "y = origin1.iloc[:,0]\n",
    "x = sm.add_constant(np.array(X))  # 添加常数项\n",
    "reg = sm.OLS(y, x)\n",
    "results = reg.fit()\n",
    "print(results.summary())"
   ]
  },
  {
   "cell_type": "code",
   "execution_count": 50,
   "metadata": {},
   "outputs": [
    {
     "data": {
      "image/png": "[encoded data removed]",
      "image/svg+xml": "<?xml version=\"1.0\" encoding=\"utf-8\" standalone=\"no\"?>\n<!DOCTYPE svg PUBLIC \"-//W3C//DTD SVG 1.1//EN\"\n  \"http://www.w3.org/Graphics/SVG/1.1/DTD/svg11.dtd\">\n<svg xmlns:xlink=\"http://www.w3.org/1999/xlink\" width=\"388.325pt\" height=\"274.93375pt\" viewBox=\"0 0 388.325 274.93375\" xmlns=\"http://www.w3.org/2000/svg\" version=\"1.1\">\n <metadata>\n  <rdf:RDF xmlns:dc=\"http://purl.org/dc/elements/1.1/\" xmlns:cc=\"http://creativecommons.org/ns#\" xmlns:rdf=\"http://www.w3.org/1999/02/22-rdf-syntax-ns#\">\n   <cc:Work>\n    <dc:type rdf:resource=\"http://purl.org/dc/dcmitype/StillImage\"/>\n    <dc:date>2022-09-18T17:10:28.083359</dc:date>\n    <dc:format>image/svg+xml</dc:format>\n    <dc:creator>\n     <cc:Agent>\n      <dc:title>Matplotlib v3.5.1, https://matplotlib.org/</dc:title>\n     </cc:Agent>\n    </dc:creator>\n   </cc:Work>\n  </rdf:RDF>\n </metadata>\n <defs>\n  <style type=\"text/css\">*{stroke-linejoin: round; stroke-linecap: butt}</style>\n </defs>\n <g id=\"figure_1\">\n  <g id=\"patch_1\">\n   <path d=\"M 0 274.93375 \nL 388.325 274.93375 \nL 388.325 0 \nL 0 0 \nL 0 274.93375 \nz\n\" style=\"fill: none\"/>\n  </g>\n  <g id=\"axes_1\">\n   <g id=\"patch_2\">\n    <path d=\"M 46.325 240.48375 \nL 381.125 240.48375 \nL 381.125 23.04375 \nL 46.325 23.04375 \nz\n\" style=\"fill: #ffffff\"/>\n   </g>\n   <g id=\"PathCollection_1\">\n    <defs>\n     <path id=\"m6a2cbf41c0\" d=\"M 0 3 \nC 0.795609 3 1.55874 2.683901 2.12132 2.12132 \nC 2.683901 1.55874 3 0.795609 3 0 \nC 3 -0.795609 2.683901 -1.55874 2.12132 -2.12132 \nC 1.55874 -2.683901 0.795609 -3 0 -3 \nC -0.795609 -3 -1.55874 -2.683901 -2.12132 -2.12132 \nC -2.683901 -1.55874 -3 -0.795609 -3 0 \nC -3 0.795609 -2.683901 1.55874 -2.12132 2.12132 \nC -1.55874 2.683901 -0.795609 3 0 3 \nz\n\" style=\"stroke: #1f77b4\"/>\n    </defs>\n    <g clip-path=\"url(#pb18f3e9092)\">\n     <use xlink:href=\"#m6a2cbf41c0\" x=\"201.089212\" y=\"88.186644\" style=\"fill: #1f77b4; stroke: #1f77b4\"/>\n     <use xlink:href=\"#m6a2cbf41c0\" x=\"219.463388\" y=\"117.045941\" style=\"fill: #1f77b4; stroke: #1f77b4\"/>\n     <use xlink:href=\"#m6a2cbf41c0\" x=\"365.906818\" y=\"140.168266\" style=\"fill: #1f77b4; stroke: #1f77b4\"/>\n     <use xlink:href=\"#m6a2cbf41c0\" x=\"165.906674\" y=\"32.927386\" style=\"fill: #1f77b4; stroke: #1f77b4\"/>\n     <use xlink:href=\"#m6a2cbf41c0\" x=\"244.061284\" y=\"155.680489\" style=\"fill: #1f77b4; stroke: #1f77b4\"/>\n     <use xlink:href=\"#m6a2cbf41c0\" x=\"133.430455\" y=\"188.807027\" style=\"fill: #1f77b4; stroke: #1f77b4\"/>\n     <use xlink:href=\"#m6a2cbf41c0\" x=\"79.573457\" y=\"104.216833\" style=\"fill: #1f77b4; stroke: #1f77b4\"/>\n     <use xlink:href=\"#m6a2cbf41c0\" x=\"137.007719\" y=\"194.425636\" style=\"fill: #1f77b4; stroke: #1f77b4\"/>\n     <use xlink:href=\"#m6a2cbf41c0\" x=\"126.700181\" y=\"178.23616\" style=\"fill: #1f77b4; stroke: #1f77b4\"/>\n     <use xlink:href=\"#m6a2cbf41c0\" x=\"206.716001\" y=\"97.024328\" style=\"fill: #1f77b4; stroke: #1f77b4\"/>\n     <use xlink:href=\"#m6a2cbf41c0\" x=\"348.695867\" y=\"113.135981\" style=\"fill: #1f77b4; stroke: #1f77b4\"/>\n     <use xlink:href=\"#m6a2cbf41c0\" x=\"92.573444\" y=\"124.63519\" style=\"fill: #1f77b4; stroke: #1f77b4\"/>\n     <use xlink:href=\"#m6a2cbf41c0\" x=\"92.538753\" y=\"124.580703\" style=\"fill: #1f77b4; stroke: #1f77b4\"/>\n     <use xlink:href=\"#m6a2cbf41c0\" x=\"114.783312\" y=\"159.518996\" style=\"fill: #1f77b4; stroke: #1f77b4\"/>\n     <use xlink:href=\"#m6a2cbf41c0\" x=\"148.551605\" y=\"212.556977\" style=\"fill: #1f77b4; stroke: #1f77b4\"/>\n     <use xlink:href=\"#m6a2cbf41c0\" x=\"61.543182\" y=\"75.897682\" style=\"fill: #1f77b4; stroke: #1f77b4\"/>\n     <use xlink:href=\"#m6a2cbf41c0\" x=\"72.067315\" y=\"92.427352\" style=\"fill: #1f77b4; stroke: #1f77b4\"/>\n     <use xlink:href=\"#m6a2cbf41c0\" x=\"69.107752\" y=\"87.778932\" style=\"fill: #1f77b4; stroke: #1f77b4\"/>\n     <use xlink:href=\"#m6a2cbf41c0\" x=\"188.941725\" y=\"69.107261\" style=\"fill: #1f77b4; stroke: #1f77b4\"/>\n     <use xlink:href=\"#m6a2cbf41c0\" x=\"88.711258\" y=\"118.569069\" style=\"fill: #1f77b4; stroke: #1f77b4\"/>\n     <use xlink:href=\"#m6a2cbf41c0\" x=\"172.208357\" y=\"42.825089\" style=\"fill: #1f77b4; stroke: #1f77b4\"/>\n     <use xlink:href=\"#m6a2cbf41c0\" x=\"117.099422\" y=\"163.156781\" style=\"fill: #1f77b4; stroke: #1f77b4\"/>\n     <use xlink:href=\"#m6a2cbf41c0\" x=\"206.074254\" y=\"96.016372\" style=\"fill: #1f77b4; stroke: #1f77b4\"/>\n     <use xlink:href=\"#m6a2cbf41c0\" x=\"232.660306\" y=\"137.773606\" style=\"fill: #1f77b4; stroke: #1f77b4\"/>\n     <use xlink:href=\"#m6a2cbf41c0\" x=\"262.209121\" y=\"184.184287\" style=\"fill: #1f77b4; stroke: #1f77b4\"/>\n     <use xlink:href=\"#m6a2cbf41c0\" x=\"214.940691\" y=\"109.942391\" style=\"fill: #1f77b4; stroke: #1f77b4\"/>\n     <use xlink:href=\"#m6a2cbf41c0\" x=\"108.161794\" y=\"149.118945\" style=\"fill: #1f77b4; stroke: #1f77b4\"/>\n     <use xlink:href=\"#m6a2cbf41c0\" x=\"135.928492\" y=\"192.730554\" style=\"fill: #1f77b4; stroke: #1f77b4\"/>\n     <use xlink:href=\"#m6a2cbf41c0\" x=\"203.775974\" y=\"92.406592\" style=\"fill: #1f77b4; stroke: #1f77b4\"/>\n     <use xlink:href=\"#m6a2cbf41c0\" x=\"223.763985\" y=\"123.80065\" style=\"fill: #1f77b4; stroke: #1f77b4\"/>\n     <use xlink:href=\"#m6a2cbf41c0\" x=\"80.414276\" y=\"105.53746\" style=\"fill: #1f77b4; stroke: #1f77b4\"/>\n     <use xlink:href=\"#m6a2cbf41c0\" x=\"82.853788\" y=\"109.369067\" style=\"fill: #1f77b4; stroke: #1f77b4\"/>\n     <use xlink:href=\"#m6a2cbf41c0\" x=\"135.102158\" y=\"191.432677\" style=\"fill: #1f77b4; stroke: #1f77b4\"/>\n     <use xlink:href=\"#m6a2cbf41c0\" x=\"77.183342\" y=\"100.462812\" style=\"fill: #1f77b4; stroke: #1f77b4\"/>\n     <use xlink:href=\"#m6a2cbf41c0\" x=\"191.713984\" y=\"73.461494\" style=\"fill: #1f77b4; stroke: #1f77b4\"/>\n     <use xlink:href=\"#m6a2cbf41c0\" x=\"207.255423\" y=\"97.871569\" style=\"fill: #1f77b4; stroke: #1f77b4\"/>\n     <use xlink:href=\"#m6a2cbf41c0\" x=\"130.023222\" y=\"183.455476\" style=\"fill: #1f77b4; stroke: #1f77b4\"/>\n     <use xlink:href=\"#m6a2cbf41c0\" x=\"201.134056\" y=\"88.257077\" style=\"fill: #1f77b4; stroke: #1f77b4\"/>\n     <use xlink:href=\"#m6a2cbf41c0\" x=\"160.039333\" y=\"230.600114\" style=\"fill: #1f77b4; stroke: #1f77b4\"/>\n     <use xlink:href=\"#m6a2cbf41c0\" x=\"255.362625\" y=\"173.430877\" style=\"fill: #1f77b4; stroke: #1f77b4\"/>\n     <use xlink:href=\"#m6a2cbf41c0\" x=\"253.948852\" y=\"171.210343\" style=\"fill: #1f77b4; stroke: #1f77b4\"/>\n     <use xlink:href=\"#m6a2cbf41c0\" x=\"218.564424\" y=\"115.633988\" style=\"fill: #1f77b4; stroke: #1f77b4\"/>\n     <use xlink:href=\"#m6a2cbf41c0\" x=\"81.370336\" y=\"107.039091\" style=\"fill: #1f77b4; stroke: #1f77b4\"/>\n     <use xlink:href=\"#m6a2cbf41c0\" x=\"227.390453\" y=\"129.496542\" style=\"fill: #1f77b4; stroke: #1f77b4\"/>\n     <use xlink:href=\"#m6a2cbf41c0\" x=\"350.169557\" y=\"115.450624\" style=\"fill: #1f77b4; stroke: #1f77b4\"/>\n     <use xlink:href=\"#m6a2cbf41c0\" x=\"135.232777\" y=\"191.637833\" style=\"fill: #1f77b4; stroke: #1f77b4\"/>\n     <use xlink:href=\"#m6a2cbf41c0\" x=\"205.312614\" y=\"94.820106\" style=\"fill: #1f77b4; stroke: #1f77b4\"/>\n     <use xlink:href=\"#m6a2cbf41c0\" x=\"206.3361\" y=\"96.427639\" style=\"fill: #1f77b4; stroke: #1f77b4\"/>\n     <use xlink:href=\"#m6a2cbf41c0\" x=\"215.867949\" y=\"111.398785\" style=\"fill: #1f77b4; stroke: #1f77b4\"/>\n    </g>\n   </g>\n   <g id=\"matplotlib.axis_1\">\n    <g id=\"xtick_1\">\n     <g id=\"line2d_1\">\n      <defs>\n       <path id=\"m9c77204685\" d=\"M 0 0 \nL 0 3.5 \n\" style=\"stroke: #000000; stroke-width: 0.8\"/>\n      </defs>\n      <g>\n       <use xlink:href=\"#m9c77204685\" x=\"94.480258\" y=\"240.48375\" style=\"stroke: #000000; stroke-width: 0.8\"/>\n      </g>\n     </g>\n     <g id=\"text_1\">\n      <!-- 0.0 -->\n      <g transform=\"translate(86.980258 254.35875)scale(0.1 -0.1)\">\n       <defs>\n        <path id=\"SimHei-30\" d=\"M 225 2537 \nQ 250 3200 412 3587 \nQ 575 3975 875 4225 \nQ 1175 4475 1612 4475 \nQ 2050 4475 2375 4112 \nQ 2700 3750 2800 3200 \nQ 2900 2650 2862 1937 \nQ 2825 1225 2612 775 \nQ 2400 325 1975 150 \nQ 1550 -25 1125 187 \nQ 700 400 525 750 \nQ 350 1100 275 1487 \nQ 200 1875 225 2537 \nz\nM 750 2687 \nQ 675 2000 800 1462 \nQ 925 925 1212 700 \nQ 1500 475 1800 612 \nQ 2100 750 2237 1162 \nQ 2375 1575 2375 2062 \nQ 2375 2550 2337 2950 \nQ 2300 3350 2112 3675 \nQ 1925 4000 1612 4012 \nQ 1300 4025 1062 3700 \nQ 825 3375 750 2687 \nz\n\" transform=\"scale(0.015625)\"/>\n        <path id=\"SimHei-2e\" d=\"M 1075 125 \nL 500 125 \nL 500 675 \nL 1075 675 \nL 1075 125 \nz\n\" transform=\"scale(0.015625)\"/>\n       </defs>\n       <use xlink:href=\"#SimHei-30\"/>\n       <use xlink:href=\"#SimHei-2e\" x=\"50\"/>\n       <use xlink:href=\"#SimHei-30\" x=\"100\"/>\n      </g>\n     </g>\n    </g>\n    <g id=\"xtick_2\">\n     <g id=\"line2d_2\">\n      <g>\n       <use xlink:href=\"#m9c77204685\" x=\"160.341196\" y=\"240.48375\" style=\"stroke: #000000; stroke-width: 0.8\"/>\n      </g>\n     </g>\n     <g id=\"text_2\">\n      <!-- 0.5 -->\n      <g transform=\"translate(152.841196 254.35875)scale(0.1 -0.1)\">\n       <defs>\n        <path id=\"SimHei-35\" d=\"M 550 1325 \nQ 725 650 1150 575 \nQ 1575 500 1837 662 \nQ 2100 825 2212 1087 \nQ 2325 1350 2312 1675 \nQ 2300 2000 2137 2225 \nQ 1975 2450 1725 2525 \nQ 1475 2600 1162 2525 \nQ 850 2450 650 2175 \nL 225 2225 \nQ 275 2375 700 4375 \nL 2675 4375 \nL 2675 3925 \nL 1075 3925 \nQ 950 3250 825 2850 \nQ 1200 3025 1525 3012 \nQ 1850 3000 2150 2862 \nQ 2450 2725 2587 2487 \nQ 2725 2250 2787 2012 \nQ 2850 1775 2837 1500 \nQ 2825 1225 2725 937 \nQ 2625 650 2425 462 \nQ 2225 275 1937 162 \nQ 1650 50 1275 75 \nQ 900 100 562 350 \nQ 225 600 100 1200 \nL 550 1325 \nz\n\" transform=\"scale(0.015625)\"/>\n       </defs>\n       <use xlink:href=\"#SimHei-30\"/>\n       <use xlink:href=\"#SimHei-2e\" x=\"50\"/>\n       <use xlink:href=\"#SimHei-35\" x=\"100\"/>\n      </g>\n     </g>\n    </g>\n    <g id=\"xtick_3\">\n     <g id=\"line2d_3\">\n      <g>\n       <use xlink:href=\"#m9c77204685\" x=\"226.202135\" y=\"240.48375\" style=\"stroke: #000000; stroke-width: 0.8\"/>\n      </g>\n     </g>\n     <g id=\"text_3\">\n      <!-- 1.0 -->\n      <g transform=\"translate(218.702135 254.35875)scale(0.1 -0.1)\">\n       <defs>\n        <path id=\"SimHei-31\" d=\"M 1400 3600 \nQ 1075 3275 575 2975 \nL 575 3450 \nQ 1200 3875 1600 4450 \nL 1900 4450 \nL 1900 150 \nL 1400 150 \nL 1400 3600 \nz\n\" transform=\"scale(0.015625)\"/>\n       </defs>\n       <use xlink:href=\"#SimHei-31\"/>\n       <use xlink:href=\"#SimHei-2e\" x=\"50\"/>\n       <use xlink:href=\"#SimHei-30\" x=\"100\"/>\n      </g>\n     </g>\n    </g>\n    <g id=\"xtick_4\">\n     <g id=\"line2d_4\">\n      <g>\n       <use xlink:href=\"#m9c77204685\" x=\"292.063074\" y=\"240.48375\" style=\"stroke: #000000; stroke-width: 0.8\"/>\n      </g>\n     </g>\n     <g id=\"text_4\">\n      <!-- 1.5 -->\n      <g transform=\"translate(284.563074 254.35875)scale(0.1 -0.1)\">\n       <use xlink:href=\"#SimHei-31\"/>\n       <use xlink:href=\"#SimHei-2e\" x=\"50\"/>\n       <use xlink:href=\"#SimHei-35\" x=\"100\"/>\n      </g>\n     </g>\n    </g>\n    <g id=\"xtick_5\">\n     <g id=\"line2d_5\">\n      <g>\n       <use xlink:href=\"#m9c77204685\" x=\"357.924012\" y=\"240.48375\" style=\"stroke: #000000; stroke-width: 0.8\"/>\n      </g>\n     </g>\n     <g id=\"text_5\">\n      <!-- 2.0 -->\n      <g transform=\"translate(350.424012 254.35875)scale(0.1 -0.1)\">\n       <defs>\n        <path id=\"SimHei-32\" d=\"M 300 250 \nQ 325 625 650 925 \nQ 975 1225 1475 1862 \nQ 1975 2500 2125 2850 \nQ 2275 3200 2237 3450 \nQ 2200 3700 2000 3862 \nQ 1800 4025 1537 4000 \nQ 1275 3975 1037 3800 \nQ 800 3625 675 3275 \nL 200 3350 \nQ 400 3925 712 4187 \nQ 1025 4450 1450 4475 \nQ 1700 4500 1900 4462 \nQ 2100 4425 2312 4287 \nQ 2525 4150 2662 3875 \nQ 2800 3600 2762 3212 \nQ 2725 2825 2375 2287 \nQ 2025 1750 1025 600 \nL 2825 600 \nL 2825 150 \nL 300 150 \nL 300 250 \nz\n\" transform=\"scale(0.015625)\"/>\n       </defs>\n       <use xlink:href=\"#SimHei-32\"/>\n       <use xlink:href=\"#SimHei-2e\" x=\"50\"/>\n       <use xlink:href=\"#SimHei-30\" x=\"100\"/>\n      </g>\n     </g>\n    </g>\n    <g id=\"text_6\">\n     <!-- Fitted values -->\n     <g transform=\"translate(181.225 266.48375)scale(0.1 -0.1)\">\n      <defs>\n       <path id=\"SimHei-46\" d=\"M 2925 3925 \nL 875 3925 \nL 875 2525 \nL 2425 2525 \nL 2425 2050 \nL 875 2050 \nL 875 125 \nL 300 125 \nL 300 4400 \nL 2925 4400 \nL 2925 3925 \nz\n\" transform=\"scale(0.015625)\"/>\n       <path id=\"SimHei-69\" d=\"M 1800 3725 \nL 1300 3725 \nL 1300 4375 \nL 1800 4375 \nL 1800 3725 \nz\nM 1800 125 \nL 1300 125 \nL 1300 2925 \nL 1800 2925 \nL 1800 125 \nz\n\" transform=\"scale(0.015625)\"/>\n       <path id=\"SimHei-74\" d=\"M 2750 200 \nQ 2625 150 2462 112 \nQ 2300 75 2025 75 \nQ 1575 75 1300 325 \nQ 1025 575 1025 1025 \nL 1025 2525 \nL 175 2525 \nL 175 2925 \nL 1025 2925 \nL 1025 3900 \nL 1525 3900 \nL 1525 2925 \nL 2550 2925 \nL 2550 2525 \nL 1525 2525 \nL 1525 1000 \nQ 1525 800 1625 662 \nQ 1725 525 2000 525 \nQ 2275 525 2450 575 \nQ 2625 625 2750 700 \nL 2750 200 \nz\n\" transform=\"scale(0.015625)\"/>\n       <path id=\"SimHei-65\" d=\"M 2850 1075 \nQ 2800 625 2450 350 \nQ 2100 75 1625 75 \nQ 1025 75 637 462 \nQ 250 850 250 1525 \nQ 250 2200 637 2587 \nQ 1025 2975 1625 2975 \nQ 2150 2975 2487 2637 \nQ 2825 2300 2825 1525 \nL 800 1525 \nQ 800 975 1037 750 \nQ 1275 525 1625 525 \nQ 1900 525 2075 662 \nQ 2250 800 2300 1075 \nL 2850 1075 \nz\nM 2250 1925 \nQ 2200 2275 2025 2412 \nQ 1850 2550 1575 2550 \nQ 1325 2550 1125 2412 \nQ 925 2275 825 1925 \nL 2250 1925 \nz\n\" transform=\"scale(0.015625)\"/>\n       <path id=\"SimHei-64\" d=\"M 2750 125 \nL 2250 125 \nL 2250 500 \nQ 2100 275 1900 175 \nQ 1700 75 1425 75 \nQ 925 75 575 437 \nQ 225 800 225 1525 \nQ 225 2250 575 2625 \nQ 925 3000 1425 3000 \nQ 1700 3000 1900 2887 \nQ 2100 2775 2250 2550 \nL 2250 4400 \nL 2750 4400 \nL 2750 125 \nz\nM 2250 1525 \nQ 2250 2000 2037 2275 \nQ 1825 2550 1525 2550 \nQ 1150 2550 962 2275 \nQ 775 2000 775 1525 \nQ 775 1050 962 787 \nQ 1150 525 1525 525 \nQ 1825 525 2037 787 \nQ 2250 1050 2250 1525 \nz\n\" transform=\"scale(0.015625)\"/>\n       <path id=\"SimHei-20\" transform=\"scale(0.015625)\"/>\n       <path id=\"SimHei-76\" d=\"M 2875 2925 \nL 1825 75 \nL 1275 75 \nL 225 2925 \nL 750 2925 \nL 1525 750 \nL 1575 750 \nL 2350 2925 \nL 2875 2925 \nz\n\" transform=\"scale(0.015625)\"/>\n       <path id=\"SimHei-61\" d=\"M 2875 125 \nL 2275 125 \nQ 2225 175 2200 262 \nQ 2175 350 2175 475 \nQ 2000 275 1750 175 \nQ 1500 75 1225 75 \nQ 825 75 550 275 \nQ 275 475 275 850 \nQ 275 1225 525 1450 \nQ 775 1675 1300 1750 \nQ 1650 1800 1912 1875 \nQ 2175 1950 2175 2075 \nQ 2175 2225 2062 2375 \nQ 1950 2525 1575 2525 \nQ 1275 2525 1137 2412 \nQ 1000 2300 950 2100 \nL 400 2100 \nQ 450 2500 762 2737 \nQ 1075 2975 1575 2975 \nQ 2125 2975 2400 2725 \nQ 2675 2475 2675 2025 \nL 2675 650 \nQ 2675 500 2725 375 \nQ 2775 250 2875 125 \nz\nM 2175 1050 \nL 2175 1550 \nQ 2025 1500 1887 1462 \nQ 1750 1425 1425 1375 \nQ 1050 1325 937 1200 \nQ 825 1075 825 900 \nQ 825 750 937 637 \nQ 1050 525 1275 525 \nQ 1500 525 1762 650 \nQ 2025 775 2175 1050 \nz\n\" transform=\"scale(0.015625)\"/>\n       <path id=\"SimHei-6c\" d=\"M 1825 125 \nL 1325 125 \nL 1325 4400 \nL 1825 4400 \nL 1825 125 \nz\n\" transform=\"scale(0.015625)\"/>\n       <path id=\"SimHei-75\" d=\"M 2800 125 \nL 2300 125 \nL 2300 650 \nQ 2100 375 1862 225 \nQ 1625 75 1250 75 \nQ 800 75 575 325 \nQ 350 575 350 950 \nL 350 2925 \nL 850 2925 \nL 850 1125 \nQ 850 825 1000 650 \nQ 1150 475 1400 475 \nQ 1725 475 2012 812 \nQ 2300 1150 2300 1650 \nL 2300 2925 \nL 2800 2925 \nL 2800 125 \nz\n\" transform=\"scale(0.015625)\"/>\n       <path id=\"SimHei-73\" d=\"M 2750 900 \nQ 2750 500 2437 287 \nQ 2125 75 1650 75 \nQ 1050 75 725 312 \nQ 400 550 400 1000 \nL 900 1000 \nQ 900 700 1112 600 \nQ 1325 500 1625 500 \nQ 1925 500 2075 612 \nQ 2225 725 2225 900 \nQ 2225 1025 2100 1150 \nQ 1975 1275 1475 1350 \nQ 900 1425 687 1637 \nQ 475 1850 475 2200 \nQ 475 2500 762 2737 \nQ 1050 2975 1600 2975 \nQ 2100 2975 2387 2750 \nQ 2675 2525 2675 2150 \nL 2175 2150 \nQ 2175 2375 2012 2462 \nQ 1850 2550 1600 2550 \nQ 1275 2550 1137 2437 \nQ 1000 2325 1000 2175 \nQ 1000 2000 1125 1900 \nQ 1250 1800 1650 1750 \nQ 2300 1650 2525 1437 \nQ 2750 1225 2750 900 \nz\n\" transform=\"scale(0.015625)\"/>\n      </defs>\n      <use xlink:href=\"#SimHei-46\"/>\n      <use xlink:href=\"#SimHei-69\" x=\"50\"/>\n      <use xlink:href=\"#SimHei-74\" x=\"100\"/>\n      <use xlink:href=\"#SimHei-74\" x=\"150\"/>\n      <use xlink:href=\"#SimHei-65\" x=\"200\"/>\n      <use xlink:href=\"#SimHei-64\" x=\"250\"/>\n      <use xlink:href=\"#SimHei-20\" x=\"300\"/>\n      <use xlink:href=\"#SimHei-76\" x=\"350\"/>\n      <use xlink:href=\"#SimHei-61\" x=\"400\"/>\n      <use xlink:href=\"#SimHei-6c\" x=\"450\"/>\n      <use xlink:href=\"#SimHei-75\" x=\"500\"/>\n      <use xlink:href=\"#SimHei-65\" x=\"550\"/>\n      <use xlink:href=\"#SimHei-73\" x=\"600\"/>\n     </g>\n    </g>\n   </g>\n   <g id=\"matplotlib.axis_2\">\n    <g id=\"ytick_1\">\n     <g id=\"line2d_6\">\n      <defs>\n       <path id=\"m50c28436e0\" d=\"M 0 0 \nL -3.5 0 \n\" style=\"stroke: #000000; stroke-width: 0.8\"/>\n      </defs>\n      <g>\n       <use xlink:href=\"#m50c28436e0\" x=\"46.325\" y=\"210.38541\" style=\"stroke: #000000; stroke-width: 0.8\"/>\n      </g>\n     </g>\n     <g id=\"text_7\">\n      <!-- -0.4 -->\n      <g transform=\"translate(19.325 213.82291)scale(0.1 -0.1)\">\n       <defs>\n        <path id=\"SimHei-2d\" d=\"M 2975 2125 \nL 125 2125 \nL 125 2525 \nL 2975 2525 \nL 2975 2125 \nz\n\" transform=\"scale(0.015625)\"/>\n        <path id=\"SimHei-34\" d=\"M 2000 1100 \nL 75 1100 \nL 75 1525 \nL 2100 4450 \nL 2475 4450 \nL 2475 1525 \nL 3075 1525 \nL 3075 1100 \nL 2475 1100 \nL 2475 150 \nL 2000 150 \nL 2000 1100 \nz\nM 2000 1525 \nL 2000 3500 \nL 600 1525 \nL 2000 1525 \nz\n\" transform=\"scale(0.015625)\"/>\n       </defs>\n       <use xlink:href=\"#SimHei-2d\"/>\n       <use xlink:href=\"#SimHei-30\" x=\"50\"/>\n       <use xlink:href=\"#SimHei-2e\" x=\"100\"/>\n       <use xlink:href=\"#SimHei-34\" x=\"150\"/>\n      </g>\n     </g>\n    </g>\n    <g id=\"ytick_2\">\n     <g id=\"line2d_7\">\n      <g>\n       <use xlink:href=\"#m50c28436e0\" x=\"46.325\" y=\"169.007763\" style=\"stroke: #000000; stroke-width: 0.8\"/>\n      </g>\n     </g>\n     <g id=\"text_8\">\n      <!-- -0.2 -->\n      <g transform=\"translate(19.325 172.445263)scale(0.1 -0.1)\">\n       <use xlink:href=\"#SimHei-2d\"/>\n       <use xlink:href=\"#SimHei-30\" x=\"50\"/>\n       <use xlink:href=\"#SimHei-2e\" x=\"100\"/>\n       <use xlink:href=\"#SimHei-32\" x=\"150\"/>\n      </g>\n     </g>\n    </g>\n    <g id=\"ytick_3\">\n     <g id=\"line2d_8\">\n      <g>\n       <use xlink:href=\"#m50c28436e0\" x=\"46.325\" y=\"127.630116\" style=\"stroke: #000000; stroke-width: 0.8\"/>\n      </g>\n     </g>\n     <g id=\"text_9\">\n      <!-- 0.0 -->\n      <g transform=\"translate(24.325 131.067616)scale(0.1 -0.1)\">\n       <use xlink:href=\"#SimHei-30\"/>\n       <use xlink:href=\"#SimHei-2e\" x=\"50\"/>\n       <use xlink:href=\"#SimHei-30\" x=\"100\"/>\n      </g>\n     </g>\n    </g>\n    <g id=\"ytick_4\">\n     <g id=\"line2d_9\">\n      <g>\n       <use xlink:href=\"#m50c28436e0\" x=\"46.325\" y=\"86.25247\" style=\"stroke: #000000; stroke-width: 0.8\"/>\n      </g>\n     </g>\n     <g id=\"text_10\">\n      <!-- 0.2 -->\n      <g transform=\"translate(24.325 89.68997)scale(0.1 -0.1)\">\n       <use xlink:href=\"#SimHei-30\"/>\n       <use xlink:href=\"#SimHei-2e\" x=\"50\"/>\n       <use xlink:href=\"#SimHei-32\" x=\"100\"/>\n      </g>\n     </g>\n    </g>\n    <g id=\"ytick_5\">\n     <g id=\"line2d_10\">\n      <g>\n       <use xlink:href=\"#m50c28436e0\" x=\"46.325\" y=\"44.874823\" style=\"stroke: #000000; stroke-width: 0.8\"/>\n      </g>\n     </g>\n     <g id=\"text_11\">\n      <!-- 0.4 -->\n      <g transform=\"translate(24.325 48.312323)scale(0.1 -0.1)\">\n       <use xlink:href=\"#SimHei-30\"/>\n       <use xlink:href=\"#SimHei-2e\" x=\"50\"/>\n       <use xlink:href=\"#SimHei-34\" x=\"100\"/>\n      </g>\n     </g>\n    </g>\n    <g id=\"text_12\">\n     <!-- Residuals -->\n     <g transform=\"translate(14.075 154.26375)rotate(-90)scale(0.1 -0.1)\">\n      <defs>\n       <path id=\"SimHei-52\" d=\"M 3000 125 \nL 2400 125 \nL 1500 1975 \nL 850 1975 \nL 850 125 \nL 275 125 \nL 275 4400 \nL 1525 4400 \nQ 2125 4400 2500 4112 \nQ 2875 3825 2875 3175 \nQ 2875 2675 2625 2400 \nQ 2375 2125 2050 2050 \nL 3000 125 \nz\nM 2300 3175 \nQ 2300 3525 2087 3725 \nQ 1875 3925 1400 3925 \nL 850 3925 \nL 850 2450 \nL 1550 2450 \nQ 1850 2450 2075 2612 \nQ 2300 2775 2300 3175 \nz\n\" transform=\"scale(0.015625)\"/>\n      </defs>\n      <use xlink:href=\"#SimHei-52\"/>\n      <use xlink:href=\"#SimHei-65\" x=\"50\"/>\n      <use xlink:href=\"#SimHei-73\" x=\"100\"/>\n      <use xlink:href=\"#SimHei-69\" x=\"150\"/>\n      <use xlink:href=\"#SimHei-64\" x=\"200\"/>\n      <use xlink:href=\"#SimHei-75\" x=\"250\"/>\n      <use xlink:href=\"#SimHei-61\" x=\"300\"/>\n      <use xlink:href=\"#SimHei-6c\" x=\"350\"/>\n      <use xlink:href=\"#SimHei-73\" x=\"400\"/>\n     </g>\n    </g>\n   </g>\n   <g id=\"patch_3\">\n    <path d=\"M 46.325 240.48375 \nL 46.325 23.04375 \n\" style=\"fill: none; stroke: #000000; stroke-width: 0.8; stroke-linejoin: miter; stroke-linecap: square\"/>\n   </g>\n   <g id=\"patch_4\">\n    <path d=\"M 381.125 240.48375 \nL 381.125 23.04375 \n\" style=\"fill: none; stroke: #000000; stroke-width: 0.8; stroke-linejoin: miter; stroke-linecap: square\"/>\n   </g>\n   <g id=\"patch_5\">\n    <path d=\"M 46.325 240.48375 \nL 381.125 240.48375 \n\" style=\"fill: none; stroke: #000000; stroke-width: 0.8; stroke-linejoin: miter; stroke-linecap: square\"/>\n   </g>\n   <g id=\"patch_6\">\n    <path d=\"M 46.325 23.04375 \nL 381.125 23.04375 \n\" style=\"fill: none; stroke: #000000; stroke-width: 0.8; stroke-linejoin: miter; stroke-linecap: square\"/>\n   </g>\n   <g id=\"text_13\">\n    <!-- 残差与拟合值的散点图 -->\n    <g transform=\"translate(153.725 17.04375)scale(0.12 -0.12)\">\n     <defs>\n      <path id=\"SimHei-6b8b\" d=\"M 5700 3350 \nQ 5325 3300 4900 3225 \nQ 4475 3150 4075 3075 \nQ 4100 2700 4150 2325 \nQ 4625 2425 4987 2500 \nQ 5350 2575 5925 2725 \nL 6000 2250 \nQ 5775 2225 5300 2137 \nQ 4825 2050 4200 1900 \nQ 4300 1375 4475 1075 \nQ 5025 1500 5325 1950 \nQ 5525 1750 5800 1550 \nQ 5550 1425 5350 1237 \nQ 5150 1050 4675 650 \nQ 5000 200 5275 37 \nQ 5550 -125 5600 -12 \nQ 5650 100 5625 525 \nQ 5825 325 6175 300 \nQ 6125 -850 5450 -587 \nQ 4775 -325 4275 400 \nQ 3950 150 3537 -75 \nQ 3125 -300 2625 -525 \nQ 2475 -250 2250 -100 \nQ 2775 50 3200 262 \nQ 3625 475 4075 775 \nQ 3850 1225 3750 1800 \nQ 3100 1675 2700 1525 \nL 2575 2025 \nQ 3300 2125 3700 2225 \nQ 3650 2600 3625 3000 \nQ 3225 2950 2800 2850 \nL 2675 3325 \nQ 3150 3375 3600 3450 \nQ 3575 3925 3550 4275 \nQ 3525 4625 3475 5125 \nQ 3775 5075 4050 5075 \nQ 4025 4700 4012 4412 \nQ 4000 4125 4050 3525 \nQ 5200 3725 5625 3850 \nL 5700 3350 \nz\nM 2125 4650 \nQ 2450 4650 2800 4675 \nL 2800 4175 \nQ 2450 4200 2125 4200 \nL 1675 4200 \nQ 1550 3700 1425 3225 \nL 2600 3225 \nQ 2525 2500 2400 1925 \nQ 2275 1350 2050 925 \nQ 1825 500 1512 137 \nQ 1200 -225 675 -625 \nQ 525 -400 250 -225 \nQ 700 25 1037 375 \nQ 1375 725 1575 1075 \nQ 1275 1450 950 1750 \nQ 1125 1900 1250 2100 \nQ 1550 1825 1800 1550 \nQ 2025 2175 2075 2775 \nL 1300 2775 \nQ 1125 2375 987 2150 \nQ 850 1925 550 1525 \nQ 350 1825 200 1925 \nQ 575 2300 825 2862 \nQ 1075 3425 1200 4200 \nQ 775 4200 375 4175 \nL 375 4675 \nQ 750 4650 1075 4650 \nL 2125 4650 \nz\nM 4825 4975 \nQ 5150 4575 5425 4175 \nQ 5125 4050 4975 3900 \nQ 4750 4325 4400 4700 \nQ 4600 4825 4825 4975 \nz\n\" transform=\"scale(0.015625)\"/>\n      <path id=\"SimHei-5dee\" d=\"M 4725 4975 \nQ 4500 4725 4250 4275 \nL 4850 4275 \nQ 5450 4275 5825 4300 \nL 5825 3850 \nQ 5425 3875 4850 3875 \nL 3275 3875 \nQ 3225 3600 3150 3275 \nL 4525 3275 \nQ 5075 3275 5525 3300 \nL 5525 2850 \nQ 5075 2875 4500 2875 \nL 3050 2875 \nQ 2975 2650 2850 2325 \nL 5125 2325 \nQ 5675 2325 6025 2350 \nL 6025 1900 \nQ 5700 1925 5150 1925 \nL 2650 1925 \nQ 2425 1550 2250 1300 \nQ 2650 1275 3100 1275 \nL 4525 1275 \nQ 4975 1275 5350 1300 \nL 5350 850 \nQ 4975 875 4575 875 \nL 3925 875 \nL 3925 -50 \nL 5000 -50 \nQ 5200 -50 5900 -25 \nL 5900 -500 \nQ 5275 -475 5025 -475 \nL 2100 -475 \nQ 1700 -475 1400 -500 \nL 1400 -25 \nQ 1775 -50 2125 -50 \nL 3425 -50 \nL 3425 875 \nL 3100 875 \nQ 2625 875 2175 850 \nL 2175 1200 \nQ 1925 875 1487 475 \nQ 1050 75 625 -250 \nQ 425 -25 200 150 \nQ 750 475 1262 925 \nQ 1775 1375 2100 1925 \nL 1325 1925 \nQ 750 1925 375 1900 \nL 375 2350 \nQ 750 2325 1350 2325 \nL 2325 2325 \nQ 2450 2575 2550 2875 \nL 1725 2875 \nQ 1375 2875 1000 2850 \nL 1000 3300 \nQ 1500 3275 1700 3275 \nL 2650 3275 \nQ 2725 3575 2775 3875 \nL 1500 3875 \nQ 1100 3875 650 3850 \nL 650 4300 \nQ 1025 4275 1425 4275 \nL 2275 4275 \nQ 2075 4675 1850 4950 \nQ 2025 5050 2250 5225 \nQ 2450 4975 2725 4550 \nQ 2525 4450 2325 4275 \nL 3750 4275 \nQ 4000 4700 4150 5250 \nQ 4400 5100 4725 4975 \nz\n\" transform=\"scale(0.015625)\"/>\n      <path id=\"SimHei-4e0e\" d=\"M 5350 100 \nQ 5275 -300 4925 -425 \nQ 4575 -550 3900 -600 \nQ 3875 -375 3650 -25 \nQ 4375 -50 4575 0 \nQ 4775 50 4837 225 \nQ 4900 400 5100 2350 \nL 1125 2350 \nQ 1450 4350 1475 5200 \nQ 1800 5150 2075 5125 \nQ 1975 4825 1900 4275 \nL 4900 4275 \nQ 5400 4275 5800 4300 \nL 5800 3825 \nQ 5400 3850 4950 3850 \nL 1850 3850 \nL 1700 2750 \nL 5675 2750 \nQ 5625 2450 5575 2050 \nL 5350 100 \nz\nM 3675 1350 \nQ 4125 1350 4500 1375 \nL 4500 875 \nQ 4125 900 3850 900 \nL 1450 900 \nQ 1000 900 500 875 \nL 500 1375 \nQ 1000 1350 1450 1350 \nL 3675 1350 \nz\n\" transform=\"scale(0.015625)\"/>\n      <path id=\"SimHei-62df\" d=\"M 1675 125 \nQ 1675 -175 1500 -275 \nQ 1325 -375 800 -500 \nQ 750 -225 575 0 \nQ 1225 25 1225 275 \nL 1225 1875 \nQ 700 1625 475 1500 \nQ 375 1800 250 1975 \nQ 525 2050 1225 2325 \nL 1225 3550 \nQ 725 3550 350 3525 \nL 350 4000 \nQ 700 3950 1225 3950 \nQ 1225 4625 1200 5225 \nL 1725 5225 \nQ 1675 4550 1675 3950 \nQ 2025 3950 2325 3975 \nL 2325 3525 \nQ 1975 3550 1675 3550 \nL 1675 2475 \nQ 2150 2675 2300 2800 \nQ 2300 2550 2325 2325 \nQ 2125 2250 1675 2050 \nL 1675 125 \nz\nM 4950 5050 \nQ 5275 5025 5500 5000 \nQ 5425 4650 5450 3337 \nQ 5475 2025 5250 1275 \nQ 5850 550 6200 -50 \nQ 5975 -225 5775 -400 \nQ 5525 100 5050 800 \nQ 4800 450 4437 112 \nQ 4075 -225 3325 -650 \nQ 3175 -450 2925 -250 \nQ 3425 -25 3900 325 \nQ 4375 675 4612 1050 \nQ 4850 1425 4925 2150 \nQ 5000 2875 4950 5050 \nz\nM 2500 700 \nQ 2675 875 2675 1200 \nL 2675 3475 \nQ 2675 3925 2650 4400 \nL 3175 4400 \nQ 3125 3975 3125 3500 \nL 3125 1175 \nQ 3775 1850 4050 2200 \nQ 4150 1925 4300 1725 \nQ 4025 1500 2900 300 \nL 2500 700 \nz\nM 3800 5100 \nQ 4375 4025 4575 3550 \nQ 4250 3400 4100 3300 \nQ 3850 3875 3375 4875 \nQ 3575 4950 3800 5100 \nz\n\" transform=\"scale(0.015625)\"/>\n      <path id=\"SimHei-5408\" d=\"M 5050 1800 \nQ 5025 1550 5025 650 \nQ 5025 -250 5050 -525 \nL 4525 -525 \nL 4525 -50 \nL 1750 -50 \nL 1750 -600 \nL 1250 -600 \nQ 1275 -300 1275 550 \nQ 1275 1425 1250 1800 \nL 5050 1800 \nz\nM 3375 4800 \nQ 4100 3925 4550 3600 \nQ 5000 3275 5375 3100 \nQ 5750 2925 6100 2825 \nQ 5850 2550 5775 2300 \nQ 5275 2525 4875 2775 \nQ 4475 3025 4062 3412 \nQ 3650 3800 3125 4475 \nQ 2650 3800 2187 3362 \nQ 1725 2925 1400 2675 \nQ 1075 2425 675 2175 \nQ 625 2275 275 2575 \nQ 800 2825 1275 3175 \nQ 1750 3525 2225 4062 \nQ 2700 4600 3000 5225 \nQ 3275 5050 3500 4950 \nL 3375 4800 \nz\nM 4525 350 \nL 4525 1400 \nL 1750 1400 \nL 1750 350 \nL 4525 350 \nz\nM 3925 2825 \nQ 4325 2825 4625 2850 \nL 4625 2375 \nQ 4300 2400 3950 2400 \nL 2550 2400 \nQ 2025 2400 1700 2375 \nL 1700 2850 \nQ 2175 2825 2550 2825 \nL 3925 2825 \nz\n\" transform=\"scale(0.015625)\"/>\n      <path id=\"SimHei-503c\" d=\"M 3675 4450 \nL 3675 5100 \nQ 3975 5075 4350 5050 \nQ 4225 4875 4200 4450 \nL 5125 4450 \nQ 5550 4450 5875 4475 \nL 5875 4025 \nQ 5525 4050 5125 4050 \nL 4175 4050 \nL 4125 3500 \nL 5400 3500 \nQ 5375 3200 5375 2700 \nL 5375 150 \nQ 5875 150 6100 175 \nL 6100 -275 \nQ 5775 -250 5200 -250 \nL 2850 -250 \nQ 2275 -250 1900 -275 \nL 1900 175 \nQ 2125 150 2600 150 \nL 2600 2700 \nQ 2600 3175 2575 3500 \nL 3600 3500 \nL 3650 4050 \nL 3200 4050 \nQ 2575 4050 2225 4025 \nL 2225 4475 \nQ 2550 4450 3200 4450 \nL 3675 4450 \nz\nM 2225 4900 \nQ 2025 4675 1650 3750 \nL 1650 450 \nQ 1650 -75 1675 -550 \nL 1150 -550 \nQ 1175 -125 1175 375 \nL 1175 2950 \nQ 875 2450 625 2150 \nQ 425 2425 250 2575 \nQ 500 2825 937 3537 \nQ 1375 4250 1625 5150 \nQ 1975 4975 2225 4900 \nz\nM 4925 2650 \nL 4925 3150 \nL 3075 3150 \nL 3075 2650 \nL 4925 2650 \nz\nM 4925 150 \nL 4925 625 \nL 3075 625 \nL 3075 150 \nL 4925 150 \nz\nM 4925 1000 \nL 4925 1450 \nL 3075 1450 \nL 3075 1000 \nL 4925 1000 \nz\nM 4925 1825 \nL 4925 2275 \nL 3075 2275 \nL 3075 1825 \nL 4925 1825 \nz\n\" transform=\"scale(0.015625)\"/>\n      <path id=\"SimHei-7684\" d=\"M 2100 4975 \nQ 1975 4750 1750 3950 \nL 2875 3950 \nQ 2850 3525 2850 2875 \nL 2850 675 \nQ 2850 300 2875 -400 \nL 2375 -400 \nL 2375 100 \nL 1100 100 \nL 1100 -450 \nL 600 -450 \nQ 625 350 625 550 \nL 625 2850 \nQ 625 3525 600 3950 \nL 1325 3950 \nQ 1450 4525 1525 5150 \nQ 1875 5025 2100 4975 \nz\nM 5825 3075 \nQ 5800 1550 5700 175 \nQ 5650 -275 5225 -425 \nQ 4800 -575 4275 -625 \nQ 4250 -350 4050 -50 \nQ 4550 -75 4837 -25 \nQ 5125 25 5200 200 \nQ 5275 375 5312 1225 \nQ 5350 2075 5375 3600 \nL 3925 3600 \nQ 3725 3125 3350 2475 \nQ 3175 2650 2925 2750 \nQ 3150 3050 3350 3475 \nQ 3550 3900 3700 4400 \nQ 3850 4900 3875 5175 \nQ 4225 5025 4475 4950 \nQ 4350 4750 4262 4512 \nQ 4175 4275 4075 4050 \nL 5850 4050 \nQ 5825 3525 5825 3075 \nz\nM 2375 525 \nL 2375 1850 \nL 1100 1850 \nL 1100 525 \nL 2375 525 \nz\nM 2375 2275 \nL 2375 3525 \nL 1100 3525 \nL 1100 2275 \nL 2375 2275 \nz\nM 4350 2050 \nQ 4500 1750 4700 1275 \nQ 4525 1200 4225 1025 \nQ 4050 1500 3900 1837 \nQ 3750 2175 3600 2400 \nQ 3775 2500 4050 2650 \nL 4350 2050 \nz\n\" transform=\"scale(0.015625)\"/>\n      <path id=\"SimHei-6563\" d=\"M 4750 4975 \nQ 4625 4850 4537 4600 \nQ 4450 4350 4325 3975 \nL 5350 3975 \nQ 5650 3975 6050 4000 \nL 6050 3550 \nQ 5675 3575 5475 3575 \nQ 5450 2800 5350 2112 \nQ 5250 1425 4925 875 \nQ 5450 250 6200 -100 \nQ 5950 -200 5750 -500 \nQ 5075 0 4650 500 \nQ 4275 -50 3525 -600 \nQ 3375 -425 3100 -300 \nQ 3875 150 4375 875 \nQ 3925 1575 3800 2700 \nQ 3700 2525 3550 2275 \nQ 3350 2425 3125 2525 \nQ 3450 2975 3725 3662 \nQ 4000 4350 4150 5150 \nL 4750 4975 \nz\nM 3025 2550 \nQ 3000 2075 3000 1625 \nL 3000 25 \nQ 3000 -450 2250 -500 \nQ 2225 -275 2050 0 \nQ 2525 0 2525 200 \nL 2525 525 \nL 1275 525 \nL 1275 -550 \nL 800 -550 \nQ 825 -75 825 450 \nL 825 1650 \nQ 825 2100 800 2550 \nL 3025 2550 \nz\nM 1075 4350 \nQ 1075 4775 1050 5150 \nL 1550 5150 \nQ 1525 4825 1525 4350 \nL 2225 4350 \nQ 2225 4850 2200 5150 \nL 2725 5150 \nQ 2700 4850 2700 4350 \nQ 2925 4350 3250 4375 \nL 3250 3950 \nQ 2925 3975 2700 3975 \nL 2700 3375 \nQ 2900 3375 3300 3400 \nL 3300 2975 \nQ 2925 3000 2525 3000 \nL 1100 3000 \nQ 750 3000 275 2975 \nL 275 3400 \nQ 750 3375 1075 3375 \nL 1075 3975 \nQ 825 3975 425 3950 \nL 425 4375 \nQ 800 4350 1075 4350 \nz\nM 4150 3375 \nQ 4250 2000 4625 1300 \nQ 4800 1625 4900 2187 \nQ 5000 2750 5025 3575 \nL 4225 3575 \nL 4150 3375 \nz\nM 2525 900 \nL 2525 1350 \nL 1275 1350 \nL 1275 900 \nL 2525 900 \nz\nM 2525 1725 \nL 2525 2175 \nL 1275 2175 \nL 1275 1725 \nL 2525 1725 \nz\nM 2225 3375 \nL 2225 3975 \nL 1525 3975 \nL 1525 3375 \nL 2225 3375 \nz\n\" transform=\"scale(0.015625)\"/>\n      <path id=\"SimHei-70b9\" d=\"M 3325 5200 \nQ 3300 4925 3300 4375 \nL 4900 4375 \nQ 5275 4375 5725 4400 \nL 5725 3925 \nQ 5300 3950 4900 3950 \nL 3300 3950 \nL 3300 3225 \nL 5225 3225 \nQ 5200 2700 5200 2150 \nQ 5200 1625 5225 1175 \nL 1175 1175 \nQ 1200 1625 1200 2175 \nQ 1200 2725 1175 3225 \nL 2775 3225 \nL 2775 4500 \nQ 2775 4900 2750 5200 \nL 3325 5200 \nz\nM 4700 1600 \nL 4700 2800 \nL 1725 2800 \nL 1725 1600 \nL 4700 1600 \nz\nM 1500 750 \nQ 1025 -250 825 -625 \nQ 625 -475 325 -375 \nQ 650 50 950 925 \nQ 1200 800 1500 750 \nz\nM 5325 850 \nQ 5775 150 6075 -350 \nQ 5925 -425 5575 -625 \nQ 5375 -150 4900 575 \nQ 5150 700 5325 850 \nz\nM 3975 -575 \nQ 3775 -100 3400 575 \nQ 3575 675 3825 825 \nQ 4350 -75 4450 -325 \nQ 4200 -450 3975 -575 \nz\nM 2375 -575 \nQ 2350 -300 1975 550 \nQ 2200 625 2425 775 \nQ 2800 -75 2900 -350 \nQ 2625 -450 2375 -575 \nz\n\" transform=\"scale(0.015625)\"/>\n      <path id=\"SimHei-56fe\" d=\"M 5800 4975 \nQ 5775 4350 5775 3600 \nL 5775 925 \nQ 5775 150 5800 -600 \nL 5300 -600 \nL 5300 -275 \nL 1125 -275 \nL 1125 -650 \nL 625 -650 \nQ 650 125 650 950 \nL 650 3600 \nQ 650 4325 625 4975 \nL 5800 4975 \nz\nM 5300 150 \nL 5300 4575 \nL 1125 4575 \nL 1125 150 \nL 5300 150 \nz\nM 3225 4250 \nQ 3075 4100 2950 3925 \nL 4625 3925 \nQ 4525 3700 4300 3375 \nQ 4075 3050 3600 2600 \nQ 4350 2225 5075 2150 \nQ 4900 1925 4775 1675 \nQ 3850 1950 3225 2350 \nQ 2500 1875 1675 1650 \nQ 1600 1875 1400 2075 \nQ 2200 2200 2875 2600 \nQ 2525 2925 2375 3150 \nQ 2150 2900 1900 2650 \nQ 1725 2850 1525 2950 \nQ 1950 3300 2250 3737 \nQ 2550 4175 2675 4475 \nQ 2925 4350 3225 4250 \nz\nM 2450 1275 \nQ 3550 950 4100 725 \nQ 3975 525 3850 300 \nQ 2825 725 2275 850 \nQ 2375 1050 2450 1275 \nz\nM 2925 2050 \nQ 3775 1700 4075 1600 \nQ 3950 1400 3850 1150 \nQ 3000 1550 2700 1650 \nQ 2825 1825 2925 2050 \nz\nM 2625 3450 \nQ 3000 3025 3275 2850 \nQ 3600 3100 3875 3525 \nL 2675 3525 \nL 2625 3450 \nz\n\" transform=\"scale(0.015625)\"/>\n     </defs>\n     <use xlink:href=\"#SimHei-6b8b\"/>\n     <use xlink:href=\"#SimHei-5dee\" x=\"100\"/>\n     <use xlink:href=\"#SimHei-4e0e\" x=\"200\"/>\n     <use xlink:href=\"#SimHei-62df\" x=\"300\"/>\n     <use xlink:href=\"#SimHei-5408\" x=\"400\"/>\n     <use xlink:href=\"#SimHei-503c\" x=\"500\"/>\n     <use xlink:href=\"#SimHei-7684\" x=\"600\"/>\n     <use xlink:href=\"#SimHei-6563\" x=\"700\"/>\n     <use xlink:href=\"#SimHei-70b9\" x=\"800\"/>\n     <use xlink:href=\"#SimHei-56fe\" x=\"900\"/>\n    </g>\n   </g>\n  </g>\n </g>\n <defs>\n  <clipPath id=\"pb18f3e9092\">\n   <rect x=\"46.325\" y=\"23.04375\" width=\"334.8\" height=\"217.44\"/>\n  </clipPath>\n </defs>\n</svg>\n",
      "text/plain": [
       "<Figure size 432x288 with 1 Axes>"
      ]
     },
     "metadata": {
      "needs_background": "light"
     },
     "output_type": "display_data"
    }
   ],
   "source": [
    "plt.rcParams[\"font.sans-serif\"] = [\"SimHei\"]\n",
    "plt.rcParams[\"axes.unicode_minus\"] = False\n",
    "%matplotlib inline\n",
    "\n",
    "res = results.resid  # 从OLS回归模型中获取残差\n",
    "fitted = results.fittedvalues  # 从OLS回归模型中获取拟合值\n",
    "plt.scatter(fitted, res)\n",
    "plt.xlabel(\"Fitted values\")\n",
    "plt.ylabel(\"Residuals\")\n",
    "plt.title(\"残差与拟合值的散点图\")\n",
    "plt.show()"
   ]
  },
  {
   "cell_type": "code",
   "execution_count": 51,
   "metadata": {},
   "outputs": [],
   "source": [
    "## 铅钡模型：挑出样本点做回归"
   ]
  },
  {
   "cell_type": "code",
   "execution_count": 52,
   "metadata": {
    "scrolled": true
   },
   "outputs": [
    {
     "data": {
      "text/html": [
       "<div>\n",
       "<style scoped>\n",
       "    .dataframe tbody tr th:only-of-type {\n",
       "        vertical-align: middle;\n",
       "    }\n",
       "\n",
       "    .dataframe tbody tr th {\n",
       "        vertical-align: top;\n",
       "    }\n",
       "\n",
       "    .dataframe thead th {\n",
       "        text-align: right;\n",
       "    }\n",
       "</style>\n",
       "<table border=\"1\" class=\"dataframe\">\n",
       "  <thead>\n",
       "    <tr style=\"text-align: right;\">\n",
       "      <th></th>\n",
       "      <th>风化与否</th>\n",
       "      <th>二氧化硅(SiO2)</th>\n",
       "      <th>氧化钠(Na2O)</th>\n",
       "      <th>氧化铝(Al2O3)</th>\n",
       "      <th>氧化铁(Fe2O3)</th>\n",
       "      <th>氧化铜(CuO)</th>\n",
       "      <th>氧化铅(PbO)</th>\n",
       "      <th>氧化钡(BaO)</th>\n",
       "      <th>五氧化二磷(P2O5)</th>\n",
       "      <th>二氧化硫(SO2)</th>\n",
       "    </tr>\n",
       "  </thead>\n",
       "  <tbody>\n",
       "    <tr>\n",
       "      <th>0</th>\n",
       "      <td>1</td>\n",
       "      <td>36.28</td>\n",
       "      <td>0.0</td>\n",
       "      <td>5.73</td>\n",
       "      <td>1.86</td>\n",
       "      <td>0.26</td>\n",
       "      <td>47.43</td>\n",
       "      <td>0.00</td>\n",
       "      <td>3.57</td>\n",
       "      <td>0.00</td>\n",
       "    </tr>\n",
       "    <tr>\n",
       "      <th>1</th>\n",
       "      <td>1</td>\n",
       "      <td>20.14</td>\n",
       "      <td>0.0</td>\n",
       "      <td>1.34</td>\n",
       "      <td>0.00</td>\n",
       "      <td>10.41</td>\n",
       "      <td>28.68</td>\n",
       "      <td>31.23</td>\n",
       "      <td>3.59</td>\n",
       "      <td>2.58</td>\n",
       "    </tr>\n",
       "    <tr>\n",
       "      <th>2</th>\n",
       "      <td>2</td>\n",
       "      <td>4.61</td>\n",
       "      <td>0.0</td>\n",
       "      <td>1.11</td>\n",
       "      <td>0.00</td>\n",
       "      <td>3.14</td>\n",
       "      <td>32.45</td>\n",
       "      <td>30.62</td>\n",
       "      <td>7.56</td>\n",
       "      <td>15.03</td>\n",
       "    </tr>\n",
       "    <tr>\n",
       "      <th>3</th>\n",
       "      <td>1</td>\n",
       "      <td>33.59</td>\n",
       "      <td>0.0</td>\n",
       "      <td>2.69</td>\n",
       "      <td>0.00</td>\n",
       "      <td>4.93</td>\n",
       "      <td>25.39</td>\n",
       "      <td>14.61</td>\n",
       "      <td>9.38</td>\n",
       "      <td>0.00</td>\n",
       "    </tr>\n",
       "    <tr>\n",
       "      <th>4</th>\n",
       "      <td>1</td>\n",
       "      <td>29.64</td>\n",
       "      <td>0.0</td>\n",
       "      <td>3.57</td>\n",
       "      <td>1.33</td>\n",
       "      <td>3.51</td>\n",
       "      <td>42.82</td>\n",
       "      <td>5.35</td>\n",
       "      <td>8.83</td>\n",
       "      <td>0.00</td>\n",
       "    </tr>\n",
       "  </tbody>\n",
       "</table>\n",
       "</div>"
      ],
      "text/plain": [
       "   风化与否  二氧化硅(SiO2)  氧化钠(Na2O)  氧化铝(Al2O3)  氧化铁(Fe2O3)  氧化铜(CuO)  氧化铅(PbO)  \\\n",
       "0     1       36.28        0.0        5.73        1.86      0.26     47.43   \n",
       "1     1       20.14        0.0        1.34        0.00     10.41     28.68   \n",
       "2     2        4.61        0.0        1.11        0.00      3.14     32.45   \n",
       "3     1       33.59        0.0        2.69        0.00      4.93     25.39   \n",
       "4     1       29.64        0.0        3.57        1.33      3.51     42.82   \n",
       "\n",
       "   氧化钡(BaO)  五氧化二磷(P2O5)  二氧化硫(SO2)  \n",
       "0      0.00         3.57       0.00  \n",
       "1     31.23         3.59       2.58  \n",
       "2     30.62         7.56      15.03  \n",
       "3     14.61         9.38       0.00  \n",
       "4      5.35         8.83       0.00  "
      ]
     },
     "execution_count": 52,
     "metadata": {},
     "output_type": "execute_result"
    }
   ],
   "source": [
    "data=df.iloc[:,3:-1].drop([ '氧化镁(MgO)','氧化钾(K2O)', '氧化钙(CaO)','氧化锶(SrO)', '氧化锡(SnO2)'],axis=1)\n",
    "data.head()"
   ]
  },
  {
   "cell_type": "code",
   "execution_count": 53,
   "metadata": {},
   "outputs": [
    {
     "name": "stdout",
     "output_type": "stream",
     "text": [
      "                            OLS Regression Results                            \n",
      "==============================================================================\n",
      "Dep. Variable:                   风化与否   R-squared:                       0.826\n",
      "Model:                            OLS   Adj. R-squared:                  0.786\n",
      "Method:                 Least Squares   F-statistic:                     20.59\n",
      "Date:                Sun, 18 Sep 2022   Prob (F-statistic):           3.33e-12\n",
      "Time:                        17:10:28   Log-Likelihood:                -1.9044\n",
      "No. Observations:                  49   AIC:                             23.81\n",
      "Df Residuals:                      39   BIC:                             42.73\n",
      "Df Model:                           9                                         \n",
      "Covariance Type:            nonrobust                                         \n",
      "==============================================================================\n",
      "                 coef    std err          t      P>|t|      [0.025      0.975]\n",
      "------------------------------------------------------------------------------\n",
      "const         -2.2046      1.601     -1.377      0.176      -5.443       1.034\n",
      "x1             0.0136      0.016      0.859      0.396      -0.018       0.046\n",
      "x2             0.0153      0.032      0.478      0.636      -0.049       0.080\n",
      "x3             0.0607      0.025      2.404      0.021       0.010       0.112\n",
      "x4            -0.0322      0.055     -0.580      0.565      -0.144       0.080\n",
      "x5             0.0063      0.028      0.228      0.821      -0.050       0.062\n",
      "x6             0.0416      0.017      2.429      0.020       0.007       0.076\n",
      "x7             0.0325      0.023      1.413      0.166      -0.014       0.079\n",
      "x8             0.0769      0.028      2.794      0.008       0.021       0.133\n",
      "x9             0.0746      0.021      3.571      0.001       0.032       0.117\n",
      "==============================================================================\n",
      "Omnibus:                        0.752   Durbin-Watson:                   2.053\n",
      "Prob(Omnibus):                  0.687   Jarque-Bera (JB):                0.186\n",
      "Skew:                          -0.033   Prob(JB):                        0.911\n",
      "Kurtosis:                       3.294   Cond. No.                     2.12e+03\n",
      "==============================================================================\n",
      "\n",
      "Notes:\n",
      "[1] Standard Errors assume that the covariance matrix of the errors is correctly specified.\n",
      "[2] The condition number is large, 2.12e+03. This might indicate that there are\n",
      "strong multicollinearity or other numerical problems.\n"
     ]
    }
   ],
   "source": [
    "X = data.iloc[:,1:]\n",
    "y = data.iloc[:,0]\n",
    "x = sm.add_constant(np.array(X))  # 添加常数项\n",
    "reg = sm.OLS(y, x)\n",
    "results = reg.fit()\n",
    "print(results.summary())"
   ]
  },
  {
   "cell_type": "code",
   "execution_count": 54,
   "metadata": {},
   "outputs": [],
   "source": [
    "## 残差图"
   ]
  },
  {
   "cell_type": "code",
   "execution_count": 55,
   "metadata": {},
   "outputs": [
    {
     "data": {
      "image/png": "[encoded data removed]",
      "image/svg+xml": "<?xml version=\"1.0\" encoding=\"utf-8\" standalone=\"no\"?>\n<!DOCTYPE svg PUBLIC \"-//W3C//DTD SVG 1.1//EN\"\n  \"http://www.w3.org/Graphics/SVG/1.1/DTD/svg11.dtd\">\n<svg xmlns:xlink=\"http://www.w3.org/1999/xlink\" width=\"388.325pt\" height=\"274.93375pt\" viewBox=\"0 0 388.325 274.93375\" xmlns=\"http://www.w3.org/2000/svg\" version=\"1.1\">\n <metadata>\n  <rdf:RDF xmlns:dc=\"http://purl.org/dc/elements/1.1/\" xmlns:cc=\"http://creativecommons.org/ns#\" xmlns:rdf=\"http://www.w3.org/1999/02/22-rdf-syntax-ns#\">\n   <cc:Work>\n    <dc:type rdf:resource=\"http://purl.org/dc/dcmitype/StillImage\"/>\n    <dc:date>2022-09-18T17:10:28.538509</dc:date>\n    <dc:format>image/svg+xml</dc:format>\n    <dc:creator>\n     <cc:Agent>\n      <dc:title>Matplotlib v3.5.1, https://matplotlib.org/</dc:title>\n     </cc:Agent>\n    </dc:creator>\n   </cc:Work>\n  </rdf:RDF>\n </metadata>\n <defs>\n  <style type=\"text/css\">*{stroke-linejoin: round; stroke-linecap: butt}</style>\n </defs>\n <g id=\"figure_1\">\n  <g id=\"patch_1\">\n   <path d=\"M 0 274.93375 \nL 388.325 274.93375 \nL 388.325 0 \nL 0 0 \nL 0 274.93375 \nz\n\" style=\"fill: none\"/>\n  </g>\n  <g id=\"axes_1\">\n   <g id=\"patch_2\">\n    <path d=\"M 46.325 240.48375 \nL 381.125 240.48375 \nL 381.125 23.04375 \nL 46.325 23.04375 \nz\n\" style=\"fill: #ffffff\"/>\n   </g>\n   <g id=\"PathCollection_1\">\n    <defs>\n     <path id=\"m919f6c0481\" d=\"M 0 3 \nC 0.795609 3 1.55874 2.683901 2.12132 2.12132 \nC 2.683901 1.55874 3 0.795609 3 0 \nC 3 -0.795609 2.683901 -1.55874 2.12132 -2.12132 \nC 1.55874 -2.683901 0.795609 -3 0 -3 \nC -0.795609 -3 -1.55874 -2.683901 -2.12132 -2.12132 \nC -2.683901 -1.55874 -3 -0.795609 -3 0 \nC -3 0.795609 -2.683901 1.55874 -2.12132 2.12132 \nC -1.55874 2.683901 -0.795609 3 0 3 \nz\n\" style=\"stroke: #1f77b4\"/>\n    </defs>\n    <g clip-path=\"url(#p41d6e21df8)\">\n     <use xlink:href=\"#m919f6c0481\" x=\"213.5247\" y=\"110.63356\" style=\"fill: #1f77b4; stroke: #1f77b4\"/>\n     <use xlink:href=\"#m919f6c0481\" x=\"222.422879\" y=\"120.821885\" style=\"fill: #1f77b4; stroke: #1f77b4\"/>\n     <use xlink:href=\"#m919f6c0481\" x=\"365.906818\" y=\"135.66271\" style=\"fill: #1f77b4; stroke: #1f77b4\"/>\n     <use xlink:href=\"#m919f6c0481\" x=\"197.128142\" y=\"91.859667\" style=\"fill: #1f77b4; stroke: #1f77b4\"/>\n     <use xlink:href=\"#m919f6c0481\" x=\"240.030421\" y=\"140.982343\" style=\"fill: #1f77b4; stroke: #1f77b4\"/>\n     <use xlink:href=\"#m919f6c0481\" x=\"133.467362\" y=\"168.415552\" style=\"fill: #1f77b4; stroke: #1f77b4\"/>\n     <use xlink:href=\"#m919f6c0481\" x=\"85.707674\" y=\"113.731193\" style=\"fill: #1f77b4; stroke: #1f77b4\"/>\n     <use xlink:href=\"#m919f6c0481\" x=\"165.283902\" y=\"204.845169\" style=\"fill: #1f77b4; stroke: #1f77b4\"/>\n     <use xlink:href=\"#m919f6c0481\" x=\"125.318839\" y=\"159.085576\" style=\"fill: #1f77b4; stroke: #1f77b4\"/>\n     <use xlink:href=\"#m919f6c0481\" x=\"215.14618\" y=\"112.490139\" style=\"fill: #1f77b4; stroke: #1f77b4\"/>\n     <use xlink:href=\"#m919f6c0481\" x=\"365.733819\" y=\"135.464628\" style=\"fill: #1f77b4; stroke: #1f77b4\"/>\n     <use xlink:href=\"#m919f6c0481\" x=\"95.487185\" y=\"124.928633\" style=\"fill: #1f77b4; stroke: #1f77b4\"/>\n     <use xlink:href=\"#m919f6c0481\" x=\"122.841509\" y=\"156.249058\" style=\"fill: #1f77b4; stroke: #1f77b4\"/>\n     <use xlink:href=\"#m919f6c0481\" x=\"161.136416\" y=\"200.096338\" style=\"fill: #1f77b4; stroke: #1f77b4\"/>\n     <use xlink:href=\"#m919f6c0481\" x=\"165.633352\" y=\"205.245285\" style=\"fill: #1f77b4; stroke: #1f77b4\"/>\n     <use xlink:href=\"#m919f6c0481\" x=\"61.543182\" y=\"86.063094\" style=\"fill: #1f77b4; stroke: #1f77b4\"/>\n     <use xlink:href=\"#m919f6c0481\" x=\"86.216151\" y=\"114.313394\" style=\"fill: #1f77b4; stroke: #1f77b4\"/>\n     <use xlink:href=\"#m919f6c0481\" x=\"75.372076\" y=\"101.897037\" style=\"fill: #1f77b4; stroke: #1f77b4\"/>\n     <use xlink:href=\"#m919f6c0481\" x=\"192.177163\" y=\"86.190847\" style=\"fill: #1f77b4; stroke: #1f77b4\"/>\n     <use xlink:href=\"#m919f6c0481\" x=\"94.026601\" y=\"123.25628\" style=\"fill: #1f77b4; stroke: #1f77b4\"/>\n     <use xlink:href=\"#m919f6c0481\" x=\"177.149466\" y=\"68.984286\" style=\"fill: #1f77b4; stroke: #1f77b4\"/>\n     <use xlink:href=\"#m919f6c0481\" x=\"136.711485\" y=\"172.13004\" style=\"fill: #1f77b4; stroke: #1f77b4\"/>\n     <use xlink:href=\"#m919f6c0481\" x=\"212.993001\" y=\"110.024771\" style=\"fill: #1f77b4; stroke: #1f77b4\"/>\n     <use xlink:href=\"#m919f6c0481\" x=\"242.787407\" y=\"144.139063\" style=\"fill: #1f77b4; stroke: #1f77b4\"/>\n     <use xlink:href=\"#m919f6c0481\" x=\"277.576613\" y=\"183.972352\" style=\"fill: #1f77b4; stroke: #1f77b4\"/>\n     <use xlink:href=\"#m919f6c0481\" x=\"225.599353\" y=\"124.458916\" style=\"fill: #1f77b4; stroke: #1f77b4\"/>\n     <use xlink:href=\"#m919f6c0481\" x=\"114.799124\" y=\"147.040608\" style=\"fill: #1f77b4; stroke: #1f77b4\"/>\n     <use xlink:href=\"#m919f6c0481\" x=\"123.118993\" y=\"156.566774\" style=\"fill: #1f77b4; stroke: #1f77b4\"/>\n     <use xlink:href=\"#m919f6c0481\" x=\"214.811804\" y=\"112.107281\" style=\"fill: #1f77b4; stroke: #1f77b4\"/>\n     <use xlink:href=\"#m919f6c0481\" x=\"264.504436\" y=\"169.004842\" style=\"fill: #1f77b4; stroke: #1f77b4\"/>\n     <use xlink:href=\"#m919f6c0481\" x=\"125.872415\" y=\"159.719414\" style=\"fill: #1f77b4; stroke: #1f77b4\"/>\n     <use xlink:href=\"#m919f6c0481\" x=\"105.672134\" y=\"136.590297\" style=\"fill: #1f77b4; stroke: #1f77b4\"/>\n     <use xlink:href=\"#m919f6c0481\" x=\"136.520308\" y=\"171.911144\" style=\"fill: #1f77b4; stroke: #1f77b4\"/>\n     <use xlink:href=\"#m919f6c0481\" x=\"121.776243\" y=\"155.029339\" style=\"fill: #1f77b4; stroke: #1f77b4\"/>\n     <use xlink:href=\"#m919f6c0481\" x=\"145.658446\" y=\"32.927386\" style=\"fill: #1f77b4; stroke: #1f77b4\"/>\n     <use xlink:href=\"#m919f6c0481\" x=\"223.732579\" y=\"122.321479\" style=\"fill: #1f77b4; stroke: #1f77b4\"/>\n     <use xlink:href=\"#m919f6c0481\" x=\"147.760246\" y=\"184.78076\" style=\"fill: #1f77b4; stroke: #1f77b4\"/>\n     <use xlink:href=\"#m919f6c0481\" x=\"227.036586\" y=\"126.104533\" style=\"fill: #1f77b4; stroke: #1f77b4\"/>\n     <use xlink:href=\"#m919f6c0481\" x=\"187.777503\" y=\"230.600114\" style=\"fill: #1f77b4; stroke: #1f77b4\"/>\n     <use xlink:href=\"#m919f6c0481\" x=\"237.143912\" y=\"137.677319\" style=\"fill: #1f77b4; stroke: #1f77b4\"/>\n     <use xlink:href=\"#m919f6c0481\" x=\"241.140535\" y=\"142.253412\" style=\"fill: #1f77b4; stroke: #1f77b4\"/>\n     <use xlink:href=\"#m919f6c0481\" x=\"226.324476\" y=\"125.289174\" style=\"fill: #1f77b4; stroke: #1f77b4\"/>\n     <use xlink:href=\"#m919f6c0481\" x=\"98.071303\" y=\"127.887423\" style=\"fill: #1f77b4; stroke: #1f77b4\"/>\n     <use xlink:href=\"#m919f6c0481\" x=\"264.570164\" y=\"169.0801\" style=\"fill: #1f77b4; stroke: #1f77b4\"/>\n     <use xlink:href=\"#m919f6c0481\" x=\"337.525009\" y=\"103.165826\" style=\"fill: #1f77b4; stroke: #1f77b4\"/>\n     <use xlink:href=\"#m919f6c0481\" x=\"138.663174\" y=\"174.364705\" style=\"fill: #1f77b4; stroke: #1f77b4\"/>\n     <use xlink:href=\"#m919f6c0481\" x=\"200.073201\" y=\"95.23173\" style=\"fill: #1f77b4; stroke: #1f77b4\"/>\n     <use xlink:href=\"#m919f6c0481\" x=\"199.598104\" y=\"94.687748\" style=\"fill: #1f77b4; stroke: #1f77b4\"/>\n     <use xlink:href=\"#m919f6c0481\" x=\"235.219279\" y=\"135.473634\" style=\"fill: #1f77b4; stroke: #1f77b4\"/>\n    </g>\n   </g>\n   <g id=\"matplotlib.axis_1\">\n    <g id=\"xtick_1\">\n     <g id=\"line2d_1\">\n      <defs>\n       <path id=\"mc64b030f4d\" d=\"M 0 0 \nL 0 3.5 \n\" style=\"stroke: #000000; stroke-width: 0.8\"/>\n      </defs>\n      <g>\n       <use xlink:href=\"#mc64b030f4d\" x=\"105.900855\" y=\"240.48375\" style=\"stroke: #000000; stroke-width: 0.8\"/>\n      </g>\n     </g>\n     <g id=\"text_1\">\n      <!-- 0.0 -->\n      <g transform=\"translate(98.400855 254.35875)scale(0.1 -0.1)\">\n       <defs>\n        <path id=\"SimHei-30\" d=\"M 225 2537 \nQ 250 3200 412 3587 \nQ 575 3975 875 4225 \nQ 1175 4475 1612 4475 \nQ 2050 4475 2375 4112 \nQ 2700 3750 2800 3200 \nQ 2900 2650 2862 1937 \nQ 2825 1225 2612 775 \nQ 2400 325 1975 150 \nQ 1550 -25 1125 187 \nQ 700 400 525 750 \nQ 350 1100 275 1487 \nQ 200 1875 225 2537 \nz\nM 750 2687 \nQ 675 2000 800 1462 \nQ 925 925 1212 700 \nQ 1500 475 1800 612 \nQ 2100 750 2237 1162 \nQ 2375 1575 2375 2062 \nQ 2375 2550 2337 2950 \nQ 2300 3350 2112 3675 \nQ 1925 4000 1612 4012 \nQ 1300 4025 1062 3700 \nQ 825 3375 750 2687 \nz\n\" transform=\"scale(0.015625)\"/>\n        <path id=\"SimHei-2e\" d=\"M 1075 125 \nL 500 125 \nL 500 675 \nL 1075 675 \nL 1075 125 \nz\n\" transform=\"scale(0.015625)\"/>\n       </defs>\n       <use xlink:href=\"#SimHei-30\"/>\n       <use xlink:href=\"#SimHei-2e\" x=\"50\"/>\n       <use xlink:href=\"#SimHei-30\" x=\"100\"/>\n      </g>\n     </g>\n    </g>\n    <g id=\"xtick_2\">\n     <g id=\"line2d_2\">\n      <g>\n       <use xlink:href=\"#mc64b030f4d\" x=\"171.162058\" y=\"240.48375\" style=\"stroke: #000000; stroke-width: 0.8\"/>\n      </g>\n     </g>\n     <g id=\"text_2\">\n      <!-- 0.5 -->\n      <g transform=\"translate(163.662058 254.35875)scale(0.1 -0.1)\">\n       <defs>\n        <path id=\"SimHei-35\" d=\"M 550 1325 \nQ 725 650 1150 575 \nQ 1575 500 1837 662 \nQ 2100 825 2212 1087 \nQ 2325 1350 2312 1675 \nQ 2300 2000 2137 2225 \nQ 1975 2450 1725 2525 \nQ 1475 2600 1162 2525 \nQ 850 2450 650 2175 \nL 225 2225 \nQ 275 2375 700 4375 \nL 2675 4375 \nL 2675 3925 \nL 1075 3925 \nQ 950 3250 825 2850 \nQ 1200 3025 1525 3012 \nQ 1850 3000 2150 2862 \nQ 2450 2725 2587 2487 \nQ 2725 2250 2787 2012 \nQ 2850 1775 2837 1500 \nQ 2825 1225 2725 937 \nQ 2625 650 2425 462 \nQ 2225 275 1937 162 \nQ 1650 50 1275 75 \nQ 900 100 562 350 \nQ 225 600 100 1200 \nL 550 1325 \nz\n\" transform=\"scale(0.015625)\"/>\n       </defs>\n       <use xlink:href=\"#SimHei-30\"/>\n       <use xlink:href=\"#SimHei-2e\" x=\"50\"/>\n       <use xlink:href=\"#SimHei-35\" x=\"100\"/>\n      </g>\n     </g>\n    </g>\n    <g id=\"xtick_3\">\n     <g id=\"line2d_3\">\n      <g>\n       <use xlink:href=\"#mc64b030f4d\" x=\"236.423261\" y=\"240.48375\" style=\"stroke: #000000; stroke-width: 0.8\"/>\n      </g>\n     </g>\n     <g id=\"text_3\">\n      <!-- 1.0 -->\n      <g transform=\"translate(228.923261 254.35875)scale(0.1 -0.1)\">\n       <defs>\n        <path id=\"SimHei-31\" d=\"M 1400 3600 \nQ 1075 3275 575 2975 \nL 575 3450 \nQ 1200 3875 1600 4450 \nL 1900 4450 \nL 1900 150 \nL 1400 150 \nL 1400 3600 \nz\n\" transform=\"scale(0.015625)\"/>\n       </defs>\n       <use xlink:href=\"#SimHei-31\"/>\n       <use xlink:href=\"#SimHei-2e\" x=\"50\"/>\n       <use xlink:href=\"#SimHei-30\" x=\"100\"/>\n      </g>\n     </g>\n    </g>\n    <g id=\"xtick_4\">\n     <g id=\"line2d_4\">\n      <g>\n       <use xlink:href=\"#mc64b030f4d\" x=\"301.684463\" y=\"240.48375\" style=\"stroke: #000000; stroke-width: 0.8\"/>\n      </g>\n     </g>\n     <g id=\"text_4\">\n      <!-- 1.5 -->\n      <g transform=\"translate(294.184463 254.35875)scale(0.1 -0.1)\">\n       <use xlink:href=\"#SimHei-31\"/>\n       <use xlink:href=\"#SimHei-2e\" x=\"50\"/>\n       <use xlink:href=\"#SimHei-35\" x=\"100\"/>\n      </g>\n     </g>\n    </g>\n    <g id=\"xtick_5\">\n     <g id=\"line2d_5\">\n      <g>\n       <use xlink:href=\"#mc64b030f4d\" x=\"366.945666\" y=\"240.48375\" style=\"stroke: #000000; stroke-width: 0.8\"/>\n      </g>\n     </g>\n     <g id=\"text_5\">\n      <!-- 2.0 -->\n      <g transform=\"translate(359.445666 254.35875)scale(0.1 -0.1)\">\n       <defs>\n        <path id=\"SimHei-32\" d=\"M 300 250 \nQ 325 625 650 925 \nQ 975 1225 1475 1862 \nQ 1975 2500 2125 2850 \nQ 2275 3200 2237 3450 \nQ 2200 3700 2000 3862 \nQ 1800 4025 1537 4000 \nQ 1275 3975 1037 3800 \nQ 800 3625 675 3275 \nL 200 3350 \nQ 400 3925 712 4187 \nQ 1025 4450 1450 4475 \nQ 1700 4500 1900 4462 \nQ 2100 4425 2312 4287 \nQ 2525 4150 2662 3875 \nQ 2800 3600 2762 3212 \nQ 2725 2825 2375 2287 \nQ 2025 1750 1025 600 \nL 2825 600 \nL 2825 150 \nL 300 150 \nL 300 250 \nz\n\" transform=\"scale(0.015625)\"/>\n       </defs>\n       <use xlink:href=\"#SimHei-32\"/>\n       <use xlink:href=\"#SimHei-2e\" x=\"50\"/>\n       <use xlink:href=\"#SimHei-30\" x=\"100\"/>\n      </g>\n     </g>\n    </g>\n    <g id=\"text_6\">\n     <!-- Fitted values -->\n     <g transform=\"translate(181.225 266.48375)scale(0.1 -0.1)\">\n      <defs>\n       <path id=\"SimHei-46\" d=\"M 2925 3925 \nL 875 3925 \nL 875 2525 \nL 2425 2525 \nL 2425 2050 \nL 875 2050 \nL 875 125 \nL 300 125 \nL 300 4400 \nL 2925 4400 \nL 2925 3925 \nz\n\" transform=\"scale(0.015625)\"/>\n       <path id=\"SimHei-69\" d=\"M 1800 3725 \nL 1300 3725 \nL 1300 4375 \nL 1800 4375 \nL 1800 3725 \nz\nM 1800 125 \nL 1300 125 \nL 1300 2925 \nL 1800 2925 \nL 1800 125 \nz\n\" transform=\"scale(0.015625)\"/>\n       <path id=\"SimHei-74\" d=\"M 2750 200 \nQ 2625 150 2462 112 \nQ 2300 75 2025 75 \nQ 1575 75 1300 325 \nQ 1025 575 1025 1025 \nL 1025 2525 \nL 175 2525 \nL 175 2925 \nL 1025 2925 \nL 1025 3900 \nL 1525 3900 \nL 1525 2925 \nL 2550 2925 \nL 2550 2525 \nL 1525 2525 \nL 1525 1000 \nQ 1525 800 1625 662 \nQ 1725 525 2000 525 \nQ 2275 525 2450 575 \nQ 2625 625 2750 700 \nL 2750 200 \nz\n\" transform=\"scale(0.015625)\"/>\n       <path id=\"SimHei-65\" d=\"M 2850 1075 \nQ 2800 625 2450 350 \nQ 2100 75 1625 75 \nQ 1025 75 637 462 \nQ 250 850 250 1525 \nQ 250 2200 637 2587 \nQ 1025 2975 1625 2975 \nQ 2150 2975 2487 2637 \nQ 2825 2300 2825 1525 \nL 800 1525 \nQ 800 975 1037 750 \nQ 1275 525 1625 525 \nQ 1900 525 2075 662 \nQ 2250 800 2300 1075 \nL 2850 1075 \nz\nM 2250 1925 \nQ 2200 2275 2025 2412 \nQ 1850 2550 1575 2550 \nQ 1325 2550 1125 2412 \nQ 925 2275 825 1925 \nL 2250 1925 \nz\n\" transform=\"scale(0.015625)\"/>\n       <path id=\"SimHei-64\" d=\"M 2750 125 \nL 2250 125 \nL 2250 500 \nQ 2100 275 1900 175 \nQ 1700 75 1425 75 \nQ 925 75 575 437 \nQ 225 800 225 1525 \nQ 225 2250 575 2625 \nQ 925 3000 1425 3000 \nQ 1700 3000 1900 2887 \nQ 2100 2775 2250 2550 \nL 2250 4400 \nL 2750 4400 \nL 2750 125 \nz\nM 2250 1525 \nQ 2250 2000 2037 2275 \nQ 1825 2550 1525 2550 \nQ 1150 2550 962 2275 \nQ 775 2000 775 1525 \nQ 775 1050 962 787 \nQ 1150 525 1525 525 \nQ 1825 525 2037 787 \nQ 2250 1050 2250 1525 \nz\n\" transform=\"scale(0.015625)\"/>\n       <path id=\"SimHei-20\" transform=\"scale(0.015625)\"/>\n       <path id=\"SimHei-76\" d=\"M 2875 2925 \nL 1825 75 \nL 1275 75 \nL 225 2925 \nL 750 2925 \nL 1525 750 \nL 1575 750 \nL 2350 2925 \nL 2875 2925 \nz\n\" transform=\"scale(0.015625)\"/>\n       <path id=\"SimHei-61\" d=\"M 2875 125 \nL 2275 125 \nQ 2225 175 2200 262 \nQ 2175 350 2175 475 \nQ 2000 275 1750 175 \nQ 1500 75 1225 75 \nQ 825 75 550 275 \nQ 275 475 275 850 \nQ 275 1225 525 1450 \nQ 775 1675 1300 1750 \nQ 1650 1800 1912 1875 \nQ 2175 1950 2175 2075 \nQ 2175 2225 2062 2375 \nQ 1950 2525 1575 2525 \nQ 1275 2525 1137 2412 \nQ 1000 2300 950 2100 \nL 400 2100 \nQ 450 2500 762 2737 \nQ 1075 2975 1575 2975 \nQ 2125 2975 2400 2725 \nQ 2675 2475 2675 2025 \nL 2675 650 \nQ 2675 500 2725 375 \nQ 2775 250 2875 125 \nz\nM 2175 1050 \nL 2175 1550 \nQ 2025 1500 1887 1462 \nQ 1750 1425 1425 1375 \nQ 1050 1325 937 1200 \nQ 825 1075 825 900 \nQ 825 750 937 637 \nQ 1050 525 1275 525 \nQ 1500 525 1762 650 \nQ 2025 775 2175 1050 \nz\n\" transform=\"scale(0.015625)\"/>\n       <path id=\"SimHei-6c\" d=\"M 1825 125 \nL 1325 125 \nL 1325 4400 \nL 1825 4400 \nL 1825 125 \nz\n\" transform=\"scale(0.015625)\"/>\n       <path id=\"SimHei-75\" d=\"M 2800 125 \nL 2300 125 \nL 2300 650 \nQ 2100 375 1862 225 \nQ 1625 75 1250 75 \nQ 800 75 575 325 \nQ 350 575 350 950 \nL 350 2925 \nL 850 2925 \nL 850 1125 \nQ 850 825 1000 650 \nQ 1150 475 1400 475 \nQ 1725 475 2012 812 \nQ 2300 1150 2300 1650 \nL 2300 2925 \nL 2800 2925 \nL 2800 125 \nz\n\" transform=\"scale(0.015625)\"/>\n       <path id=\"SimHei-73\" d=\"M 2750 900 \nQ 2750 500 2437 287 \nQ 2125 75 1650 75 \nQ 1050 75 725 312 \nQ 400 550 400 1000 \nL 900 1000 \nQ 900 700 1112 600 \nQ 1325 500 1625 500 \nQ 1925 500 2075 612 \nQ 2225 725 2225 900 \nQ 2225 1025 2100 1150 \nQ 1975 1275 1475 1350 \nQ 900 1425 687 1637 \nQ 475 1850 475 2200 \nQ 475 2500 762 2737 \nQ 1050 2975 1600 2975 \nQ 2100 2975 2387 2750 \nQ 2675 2525 2675 2150 \nL 2175 2150 \nQ 2175 2375 2012 2462 \nQ 1850 2550 1600 2550 \nQ 1275 2550 1137 2437 \nQ 1000 2325 1000 2175 \nQ 1000 2000 1125 1900 \nQ 1250 1800 1650 1750 \nQ 2300 1650 2525 1437 \nQ 2750 1225 2750 900 \nz\n\" transform=\"scale(0.015625)\"/>\n      </defs>\n      <use xlink:href=\"#SimHei-46\"/>\n      <use xlink:href=\"#SimHei-69\" x=\"50\"/>\n      <use xlink:href=\"#SimHei-74\" x=\"100\"/>\n      <use xlink:href=\"#SimHei-74\" x=\"150\"/>\n      <use xlink:href=\"#SimHei-65\" x=\"200\"/>\n      <use xlink:href=\"#SimHei-64\" x=\"250\"/>\n      <use xlink:href=\"#SimHei-20\" x=\"300\"/>\n      <use xlink:href=\"#SimHei-76\" x=\"350\"/>\n      <use xlink:href=\"#SimHei-61\" x=\"400\"/>\n      <use xlink:href=\"#SimHei-6c\" x=\"450\"/>\n      <use xlink:href=\"#SimHei-75\" x=\"500\"/>\n      <use xlink:href=\"#SimHei-65\" x=\"550\"/>\n      <use xlink:href=\"#SimHei-73\" x=\"600\"/>\n     </g>\n    </g>\n   </g>\n   <g id=\"matplotlib.axis_2\">\n    <g id=\"ytick_1\">\n     <g id=\"line2d_6\">\n      <defs>\n       <path id=\"m1eb445beed\" d=\"M 0 0 \nL -3.5 0 \n\" style=\"stroke: #000000; stroke-width: 0.8\"/>\n      </defs>\n      <g>\n       <use xlink:href=\"#m1eb445beed\" x=\"46.325\" y=\"226.520281\" style=\"stroke: #000000; stroke-width: 0.8\"/>\n      </g>\n     </g>\n     <g id=\"text_7\">\n      <!-- -0.6 -->\n      <g transform=\"translate(19.325 229.957781)scale(0.1 -0.1)\">\n       <defs>\n        <path id=\"SimHei-2d\" d=\"M 2975 2125 \nL 125 2125 \nL 125 2525 \nL 2975 2525 \nL 2975 2125 \nz\n\" transform=\"scale(0.015625)\"/>\n        <path id=\"SimHei-36\" d=\"M 250 1612 \nQ 275 1975 387 2225 \nQ 500 2475 725 2850 \nL 1750 4450 \nL 2325 4450 \nL 1275 2800 \nQ 1950 2975 2350 2750 \nQ 2750 2525 2887 2237 \nQ 3025 1950 3037 1612 \nQ 3050 1275 2937 950 \nQ 2825 625 2537 362 \nQ 2250 100 1737 75 \nQ 1225 50 862 262 \nQ 500 475 362 862 \nQ 225 1250 250 1612 \nz\nM 1025 787 \nQ 1250 550 1625 525 \nQ 2000 500 2250 775 \nQ 2500 1050 2500 1575 \nQ 2500 2100 2187 2300 \nQ 1875 2500 1487 2450 \nQ 1100 2400 925 2075 \nQ 750 1750 775 1387 \nQ 800 1025 1025 787 \nz\n\" transform=\"scale(0.015625)\"/>\n       </defs>\n       <use xlink:href=\"#SimHei-2d\"/>\n       <use xlink:href=\"#SimHei-30\" x=\"50\"/>\n       <use xlink:href=\"#SimHei-2e\" x=\"100\"/>\n       <use xlink:href=\"#SimHei-36\" x=\"150\"/>\n      </g>\n     </g>\n    </g>\n    <g id=\"ytick_2\">\n     <g id=\"line2d_7\">\n      <g>\n       <use xlink:href=\"#m1eb445beed\" x=\"46.325\" y=\"196.630914\" style=\"stroke: #000000; stroke-width: 0.8\"/>\n      </g>\n     </g>\n     <g id=\"text_8\">\n      <!-- -0.4 -->\n      <g transform=\"translate(19.325 200.068414)scale(0.1 -0.1)\">\n       <defs>\n        <path id=\"SimHei-34\" d=\"M 2000 1100 \nL 75 1100 \nL 75 1525 \nL 2100 4450 \nL 2475 4450 \nL 2475 1525 \nL 3075 1525 \nL 3075 1100 \nL 2475 1100 \nL 2475 150 \nL 2000 150 \nL 2000 1100 \nz\nM 2000 1525 \nL 2000 3500 \nL 600 1525 \nL 2000 1525 \nz\n\" transform=\"scale(0.015625)\"/>\n       </defs>\n       <use xlink:href=\"#SimHei-2d\"/>\n       <use xlink:href=\"#SimHei-30\" x=\"50\"/>\n       <use xlink:href=\"#SimHei-2e\" x=\"100\"/>\n       <use xlink:href=\"#SimHei-34\" x=\"150\"/>\n      </g>\n     </g>\n    </g>\n    <g id=\"ytick_3\">\n     <g id=\"line2d_8\">\n      <g>\n       <use xlink:href=\"#m1eb445beed\" x=\"46.325\" y=\"166.741547\" style=\"stroke: #000000; stroke-width: 0.8\"/>\n      </g>\n     </g>\n     <g id=\"text_9\">\n      <!-- -0.2 -->\n      <g transform=\"translate(19.325 170.179047)scale(0.1 -0.1)\">\n       <use xlink:href=\"#SimHei-2d\"/>\n       <use xlink:href=\"#SimHei-30\" x=\"50\"/>\n       <use xlink:href=\"#SimHei-2e\" x=\"100\"/>\n       <use xlink:href=\"#SimHei-32\" x=\"150\"/>\n      </g>\n     </g>\n    </g>\n    <g id=\"ytick_4\">\n     <g id=\"line2d_9\">\n      <g>\n       <use xlink:href=\"#m1eb445beed\" x=\"46.325\" y=\"136.852181\" style=\"stroke: #000000; stroke-width: 0.8\"/>\n      </g>\n     </g>\n     <g id=\"text_10\">\n      <!-- 0.0 -->\n      <g transform=\"translate(24.325 140.289681)scale(0.1 -0.1)\">\n       <use xlink:href=\"#SimHei-30\"/>\n       <use xlink:href=\"#SimHei-2e\" x=\"50\"/>\n       <use xlink:href=\"#SimHei-30\" x=\"100\"/>\n      </g>\n     </g>\n    </g>\n    <g id=\"ytick_5\">\n     <g id=\"line2d_10\">\n      <g>\n       <use xlink:href=\"#m1eb445beed\" x=\"46.325\" y=\"106.962814\" style=\"stroke: #000000; stroke-width: 0.8\"/>\n      </g>\n     </g>\n     <g id=\"text_11\">\n      <!-- 0.2 -->\n      <g transform=\"translate(24.325 110.400314)scale(0.1 -0.1)\">\n       <use xlink:href=\"#SimHei-30\"/>\n       <use xlink:href=\"#SimHei-2e\" x=\"50\"/>\n       <use xlink:href=\"#SimHei-32\" x=\"100\"/>\n      </g>\n     </g>\n    </g>\n    <g id=\"ytick_6\">\n     <g id=\"line2d_11\">\n      <g>\n       <use xlink:href=\"#m1eb445beed\" x=\"46.325\" y=\"77.073447\" style=\"stroke: #000000; stroke-width: 0.8\"/>\n      </g>\n     </g>\n     <g id=\"text_12\">\n      <!-- 0.4 -->\n      <g transform=\"translate(24.325 80.510947)scale(0.1 -0.1)\">\n       <use xlink:href=\"#SimHei-30\"/>\n       <use xlink:href=\"#SimHei-2e\" x=\"50\"/>\n       <use xlink:href=\"#SimHei-34\" x=\"100\"/>\n      </g>\n     </g>\n    </g>\n    <g id=\"ytick_7\">\n     <g id=\"line2d_12\">\n      <g>\n       <use xlink:href=\"#m1eb445beed\" x=\"46.325\" y=\"47.184081\" style=\"stroke: #000000; stroke-width: 0.8\"/>\n      </g>\n     </g>\n     <g id=\"text_13\">\n      <!-- 0.6 -->\n      <g transform=\"translate(24.325 50.621581)scale(0.1 -0.1)\">\n       <use xlink:href=\"#SimHei-30\"/>\n       <use xlink:href=\"#SimHei-2e\" x=\"50\"/>\n       <use xlink:href=\"#SimHei-36\" x=\"100\"/>\n      </g>\n     </g>\n    </g>\n    <g id=\"text_14\">\n     <!-- Residuals -->\n     <g transform=\"translate(14.075 154.26375)rotate(-90)scale(0.1 -0.1)\">\n      <defs>\n       <path id=\"SimHei-52\" d=\"M 3000 125 \nL 2400 125 \nL 1500 1975 \nL 850 1975 \nL 850 125 \nL 275 125 \nL 275 4400 \nL 1525 4400 \nQ 2125 4400 2500 4112 \nQ 2875 3825 2875 3175 \nQ 2875 2675 2625 2400 \nQ 2375 2125 2050 2050 \nL 3000 125 \nz\nM 2300 3175 \nQ 2300 3525 2087 3725 \nQ 1875 3925 1400 3925 \nL 850 3925 \nL 850 2450 \nL 1550 2450 \nQ 1850 2450 2075 2612 \nQ 2300 2775 2300 3175 \nz\n\" transform=\"scale(0.015625)\"/>\n      </defs>\n      <use xlink:href=\"#SimHei-52\"/>\n      <use xlink:href=\"#SimHei-65\" x=\"50\"/>\n      <use xlink:href=\"#SimHei-73\" x=\"100\"/>\n      <use xlink:href=\"#SimHei-69\" x=\"150\"/>\n      <use xlink:href=\"#SimHei-64\" x=\"200\"/>\n      <use xlink:href=\"#SimHei-75\" x=\"250\"/>\n      <use xlink:href=\"#SimHei-61\" x=\"300\"/>\n      <use xlink:href=\"#SimHei-6c\" x=\"350\"/>\n      <use xlink:href=\"#SimHei-73\" x=\"400\"/>\n     </g>\n    </g>\n   </g>\n   <g id=\"patch_3\">\n    <path d=\"M 46.325 240.48375 \nL 46.325 23.04375 \n\" style=\"fill: none; stroke: #000000; stroke-width: 0.8; stroke-linejoin: miter; stroke-linecap: square\"/>\n   </g>\n   <g id=\"patch_4\">\n    <path d=\"M 381.125 240.48375 \nL 381.125 23.04375 \n\" style=\"fill: none; stroke: #000000; stroke-width: 0.8; stroke-linejoin: miter; stroke-linecap: square\"/>\n   </g>\n   <g id=\"patch_5\">\n    <path d=\"M 46.325 240.48375 \nL 381.125 240.48375 \n\" style=\"fill: none; stroke: #000000; stroke-width: 0.8; stroke-linejoin: miter; stroke-linecap: square\"/>\n   </g>\n   <g id=\"patch_6\">\n    <path d=\"M 46.325 23.04375 \nL 381.125 23.04375 \n\" style=\"fill: none; stroke: #000000; stroke-width: 0.8; stroke-linejoin: miter; stroke-linecap: square\"/>\n   </g>\n   <g id=\"text_15\">\n    <!-- 残差与拟合值的散点图 -->\n    <g transform=\"translate(153.725 17.04375)scale(0.12 -0.12)\">\n     <defs>\n      <path id=\"SimHei-6b8b\" d=\"M 5700 3350 \nQ 5325 3300 4900 3225 \nQ 4475 3150 4075 3075 \nQ 4100 2700 4150 2325 \nQ 4625 2425 4987 2500 \nQ 5350 2575 5925 2725 \nL 6000 2250 \nQ 5775 2225 5300 2137 \nQ 4825 2050 4200 1900 \nQ 4300 1375 4475 1075 \nQ 5025 1500 5325 1950 \nQ 5525 1750 5800 1550 \nQ 5550 1425 5350 1237 \nQ 5150 1050 4675 650 \nQ 5000 200 5275 37 \nQ 5550 -125 5600 -12 \nQ 5650 100 5625 525 \nQ 5825 325 6175 300 \nQ 6125 -850 5450 -587 \nQ 4775 -325 4275 400 \nQ 3950 150 3537 -75 \nQ 3125 -300 2625 -525 \nQ 2475 -250 2250 -100 \nQ 2775 50 3200 262 \nQ 3625 475 4075 775 \nQ 3850 1225 3750 1800 \nQ 3100 1675 2700 1525 \nL 2575 2025 \nQ 3300 2125 3700 2225 \nQ 3650 2600 3625 3000 \nQ 3225 2950 2800 2850 \nL 2675 3325 \nQ 3150 3375 3600 3450 \nQ 3575 3925 3550 4275 \nQ 3525 4625 3475 5125 \nQ 3775 5075 4050 5075 \nQ 4025 4700 4012 4412 \nQ 4000 4125 4050 3525 \nQ 5200 3725 5625 3850 \nL 5700 3350 \nz\nM 2125 4650 \nQ 2450 4650 2800 4675 \nL 2800 4175 \nQ 2450 4200 2125 4200 \nL 1675 4200 \nQ 1550 3700 1425 3225 \nL 2600 3225 \nQ 2525 2500 2400 1925 \nQ 2275 1350 2050 925 \nQ 1825 500 1512 137 \nQ 1200 -225 675 -625 \nQ 525 -400 250 -225 \nQ 700 25 1037 375 \nQ 1375 725 1575 1075 \nQ 1275 1450 950 1750 \nQ 1125 1900 1250 2100 \nQ 1550 1825 1800 1550 \nQ 2025 2175 2075 2775 \nL 1300 2775 \nQ 1125 2375 987 2150 \nQ 850 1925 550 1525 \nQ 350 1825 200 1925 \nQ 575 2300 825 2862 \nQ 1075 3425 1200 4200 \nQ 775 4200 375 4175 \nL 375 4675 \nQ 750 4650 1075 4650 \nL 2125 4650 \nz\nM 4825 4975 \nQ 5150 4575 5425 4175 \nQ 5125 4050 4975 3900 \nQ 4750 4325 4400 4700 \nQ 4600 4825 4825 4975 \nz\n\" transform=\"scale(0.015625)\"/>\n      <path id=\"SimHei-5dee\" d=\"M 4725 4975 \nQ 4500 4725 4250 4275 \nL 4850 4275 \nQ 5450 4275 5825 4300 \nL 5825 3850 \nQ 5425 3875 4850 3875 \nL 3275 3875 \nQ 3225 3600 3150 3275 \nL 4525 3275 \nQ 5075 3275 5525 3300 \nL 5525 2850 \nQ 5075 2875 4500 2875 \nL 3050 2875 \nQ 2975 2650 2850 2325 \nL 5125 2325 \nQ 5675 2325 6025 2350 \nL 6025 1900 \nQ 5700 1925 5150 1925 \nL 2650 1925 \nQ 2425 1550 2250 1300 \nQ 2650 1275 3100 1275 \nL 4525 1275 \nQ 4975 1275 5350 1300 \nL 5350 850 \nQ 4975 875 4575 875 \nL 3925 875 \nL 3925 -50 \nL 5000 -50 \nQ 5200 -50 5900 -25 \nL 5900 -500 \nQ 5275 -475 5025 -475 \nL 2100 -475 \nQ 1700 -475 1400 -500 \nL 1400 -25 \nQ 1775 -50 2125 -50 \nL 3425 -50 \nL 3425 875 \nL 3100 875 \nQ 2625 875 2175 850 \nL 2175 1200 \nQ 1925 875 1487 475 \nQ 1050 75 625 -250 \nQ 425 -25 200 150 \nQ 750 475 1262 925 \nQ 1775 1375 2100 1925 \nL 1325 1925 \nQ 750 1925 375 1900 \nL 375 2350 \nQ 750 2325 1350 2325 \nL 2325 2325 \nQ 2450 2575 2550 2875 \nL 1725 2875 \nQ 1375 2875 1000 2850 \nL 1000 3300 \nQ 1500 3275 1700 3275 \nL 2650 3275 \nQ 2725 3575 2775 3875 \nL 1500 3875 \nQ 1100 3875 650 3850 \nL 650 4300 \nQ 1025 4275 1425 4275 \nL 2275 4275 \nQ 2075 4675 1850 4950 \nQ 2025 5050 2250 5225 \nQ 2450 4975 2725 4550 \nQ 2525 4450 2325 4275 \nL 3750 4275 \nQ 4000 4700 4150 5250 \nQ 4400 5100 4725 4975 \nz\n\" transform=\"scale(0.015625)\"/>\n      <path id=\"SimHei-4e0e\" d=\"M 5350 100 \nQ 5275 -300 4925 -425 \nQ 4575 -550 3900 -600 \nQ 3875 -375 3650 -25 \nQ 4375 -50 4575 0 \nQ 4775 50 4837 225 \nQ 4900 400 5100 2350 \nL 1125 2350 \nQ 1450 4350 1475 5200 \nQ 1800 5150 2075 5125 \nQ 1975 4825 1900 4275 \nL 4900 4275 \nQ 5400 4275 5800 4300 \nL 5800 3825 \nQ 5400 3850 4950 3850 \nL 1850 3850 \nL 1700 2750 \nL 5675 2750 \nQ 5625 2450 5575 2050 \nL 5350 100 \nz\nM 3675 1350 \nQ 4125 1350 4500 1375 \nL 4500 875 \nQ 4125 900 3850 900 \nL 1450 900 \nQ 1000 900 500 875 \nL 500 1375 \nQ 1000 1350 1450 1350 \nL 3675 1350 \nz\n\" transform=\"scale(0.015625)\"/>\n      <path id=\"SimHei-62df\" d=\"M 1675 125 \nQ 1675 -175 1500 -275 \nQ 1325 -375 800 -500 \nQ 750 -225 575 0 \nQ 1225 25 1225 275 \nL 1225 1875 \nQ 700 1625 475 1500 \nQ 375 1800 250 1975 \nQ 525 2050 1225 2325 \nL 1225 3550 \nQ 725 3550 350 3525 \nL 350 4000 \nQ 700 3950 1225 3950 \nQ 1225 4625 1200 5225 \nL 1725 5225 \nQ 1675 4550 1675 3950 \nQ 2025 3950 2325 3975 \nL 2325 3525 \nQ 1975 3550 1675 3550 \nL 1675 2475 \nQ 2150 2675 2300 2800 \nQ 2300 2550 2325 2325 \nQ 2125 2250 1675 2050 \nL 1675 125 \nz\nM 4950 5050 \nQ 5275 5025 5500 5000 \nQ 5425 4650 5450 3337 \nQ 5475 2025 5250 1275 \nQ 5850 550 6200 -50 \nQ 5975 -225 5775 -400 \nQ 5525 100 5050 800 \nQ 4800 450 4437 112 \nQ 4075 -225 3325 -650 \nQ 3175 -450 2925 -250 \nQ 3425 -25 3900 325 \nQ 4375 675 4612 1050 \nQ 4850 1425 4925 2150 \nQ 5000 2875 4950 5050 \nz\nM 2500 700 \nQ 2675 875 2675 1200 \nL 2675 3475 \nQ 2675 3925 2650 4400 \nL 3175 4400 \nQ 3125 3975 3125 3500 \nL 3125 1175 \nQ 3775 1850 4050 2200 \nQ 4150 1925 4300 1725 \nQ 4025 1500 2900 300 \nL 2500 700 \nz\nM 3800 5100 \nQ 4375 4025 4575 3550 \nQ 4250 3400 4100 3300 \nQ 3850 3875 3375 4875 \nQ 3575 4950 3800 5100 \nz\n\" transform=\"scale(0.015625)\"/>\n      <path id=\"SimHei-5408\" d=\"M 5050 1800 \nQ 5025 1550 5025 650 \nQ 5025 -250 5050 -525 \nL 4525 -525 \nL 4525 -50 \nL 1750 -50 \nL 1750 -600 \nL 1250 -600 \nQ 1275 -300 1275 550 \nQ 1275 1425 1250 1800 \nL 5050 1800 \nz\nM 3375 4800 \nQ 4100 3925 4550 3600 \nQ 5000 3275 5375 3100 \nQ 5750 2925 6100 2825 \nQ 5850 2550 5775 2300 \nQ 5275 2525 4875 2775 \nQ 4475 3025 4062 3412 \nQ 3650 3800 3125 4475 \nQ 2650 3800 2187 3362 \nQ 1725 2925 1400 2675 \nQ 1075 2425 675 2175 \nQ 625 2275 275 2575 \nQ 800 2825 1275 3175 \nQ 1750 3525 2225 4062 \nQ 2700 4600 3000 5225 \nQ 3275 5050 3500 4950 \nL 3375 4800 \nz\nM 4525 350 \nL 4525 1400 \nL 1750 1400 \nL 1750 350 \nL 4525 350 \nz\nM 3925 2825 \nQ 4325 2825 4625 2850 \nL 4625 2375 \nQ 4300 2400 3950 2400 \nL 2550 2400 \nQ 2025 2400 1700 2375 \nL 1700 2850 \nQ 2175 2825 2550 2825 \nL 3925 2825 \nz\n\" transform=\"scale(0.015625)\"/>\n      <path id=\"SimHei-503c\" d=\"M 3675 4450 \nL 3675 5100 \nQ 3975 5075 4350 5050 \nQ 4225 4875 4200 4450 \nL 5125 4450 \nQ 5550 4450 5875 4475 \nL 5875 4025 \nQ 5525 4050 5125 4050 \nL 4175 4050 \nL 4125 3500 \nL 5400 3500 \nQ 5375 3200 5375 2700 \nL 5375 150 \nQ 5875 150 6100 175 \nL 6100 -275 \nQ 5775 -250 5200 -250 \nL 2850 -250 \nQ 2275 -250 1900 -275 \nL 1900 175 \nQ 2125 150 2600 150 \nL 2600 2700 \nQ 2600 3175 2575 3500 \nL 3600 3500 \nL 3650 4050 \nL 3200 4050 \nQ 2575 4050 2225 4025 \nL 2225 4475 \nQ 2550 4450 3200 4450 \nL 3675 4450 \nz\nM 2225 4900 \nQ 2025 4675 1650 3750 \nL 1650 450 \nQ 1650 -75 1675 -550 \nL 1150 -550 \nQ 1175 -125 1175 375 \nL 1175 2950 \nQ 875 2450 625 2150 \nQ 425 2425 250 2575 \nQ 500 2825 937 3537 \nQ 1375 4250 1625 5150 \nQ 1975 4975 2225 4900 \nz\nM 4925 2650 \nL 4925 3150 \nL 3075 3150 \nL 3075 2650 \nL 4925 2650 \nz\nM 4925 150 \nL 4925 625 \nL 3075 625 \nL 3075 150 \nL 4925 150 \nz\nM 4925 1000 \nL 4925 1450 \nL 3075 1450 \nL 3075 1000 \nL 4925 1000 \nz\nM 4925 1825 \nL 4925 2275 \nL 3075 2275 \nL 3075 1825 \nL 4925 1825 \nz\n\" transform=\"scale(0.015625)\"/>\n      <path id=\"SimHei-7684\" d=\"M 2100 4975 \nQ 1975 4750 1750 3950 \nL 2875 3950 \nQ 2850 3525 2850 2875 \nL 2850 675 \nQ 2850 300 2875 -400 \nL 2375 -400 \nL 2375 100 \nL 1100 100 \nL 1100 -450 \nL 600 -450 \nQ 625 350 625 550 \nL 625 2850 \nQ 625 3525 600 3950 \nL 1325 3950 \nQ 1450 4525 1525 5150 \nQ 1875 5025 2100 4975 \nz\nM 5825 3075 \nQ 5800 1550 5700 175 \nQ 5650 -275 5225 -425 \nQ 4800 -575 4275 -625 \nQ 4250 -350 4050 -50 \nQ 4550 -75 4837 -25 \nQ 5125 25 5200 200 \nQ 5275 375 5312 1225 \nQ 5350 2075 5375 3600 \nL 3925 3600 \nQ 3725 3125 3350 2475 \nQ 3175 2650 2925 2750 \nQ 3150 3050 3350 3475 \nQ 3550 3900 3700 4400 \nQ 3850 4900 3875 5175 \nQ 4225 5025 4475 4950 \nQ 4350 4750 4262 4512 \nQ 4175 4275 4075 4050 \nL 5850 4050 \nQ 5825 3525 5825 3075 \nz\nM 2375 525 \nL 2375 1850 \nL 1100 1850 \nL 1100 525 \nL 2375 525 \nz\nM 2375 2275 \nL 2375 3525 \nL 1100 3525 \nL 1100 2275 \nL 2375 2275 \nz\nM 4350 2050 \nQ 4500 1750 4700 1275 \nQ 4525 1200 4225 1025 \nQ 4050 1500 3900 1837 \nQ 3750 2175 3600 2400 \nQ 3775 2500 4050 2650 \nL 4350 2050 \nz\n\" transform=\"scale(0.015625)\"/>\n      <path id=\"SimHei-6563\" d=\"M 4750 4975 \nQ 4625 4850 4537 4600 \nQ 4450 4350 4325 3975 \nL 5350 3975 \nQ 5650 3975 6050 4000 \nL 6050 3550 \nQ 5675 3575 5475 3575 \nQ 5450 2800 5350 2112 \nQ 5250 1425 4925 875 \nQ 5450 250 6200 -100 \nQ 5950 -200 5750 -500 \nQ 5075 0 4650 500 \nQ 4275 -50 3525 -600 \nQ 3375 -425 3100 -300 \nQ 3875 150 4375 875 \nQ 3925 1575 3800 2700 \nQ 3700 2525 3550 2275 \nQ 3350 2425 3125 2525 \nQ 3450 2975 3725 3662 \nQ 4000 4350 4150 5150 \nL 4750 4975 \nz\nM 3025 2550 \nQ 3000 2075 3000 1625 \nL 3000 25 \nQ 3000 -450 2250 -500 \nQ 2225 -275 2050 0 \nQ 2525 0 2525 200 \nL 2525 525 \nL 1275 525 \nL 1275 -550 \nL 800 -550 \nQ 825 -75 825 450 \nL 825 1650 \nQ 825 2100 800 2550 \nL 3025 2550 \nz\nM 1075 4350 \nQ 1075 4775 1050 5150 \nL 1550 5150 \nQ 1525 4825 1525 4350 \nL 2225 4350 \nQ 2225 4850 2200 5150 \nL 2725 5150 \nQ 2700 4850 2700 4350 \nQ 2925 4350 3250 4375 \nL 3250 3950 \nQ 2925 3975 2700 3975 \nL 2700 3375 \nQ 2900 3375 3300 3400 \nL 3300 2975 \nQ 2925 3000 2525 3000 \nL 1100 3000 \nQ 750 3000 275 2975 \nL 275 3400 \nQ 750 3375 1075 3375 \nL 1075 3975 \nQ 825 3975 425 3950 \nL 425 4375 \nQ 800 4350 1075 4350 \nz\nM 4150 3375 \nQ 4250 2000 4625 1300 \nQ 4800 1625 4900 2187 \nQ 5000 2750 5025 3575 \nL 4225 3575 \nL 4150 3375 \nz\nM 2525 900 \nL 2525 1350 \nL 1275 1350 \nL 1275 900 \nL 2525 900 \nz\nM 2525 1725 \nL 2525 2175 \nL 1275 2175 \nL 1275 1725 \nL 2525 1725 \nz\nM 2225 3375 \nL 2225 3975 \nL 1525 3975 \nL 1525 3375 \nL 2225 3375 \nz\n\" transform=\"scale(0.015625)\"/>\n      <path id=\"SimHei-70b9\" d=\"M 3325 5200 \nQ 3300 4925 3300 4375 \nL 4900 4375 \nQ 5275 4375 5725 4400 \nL 5725 3925 \nQ 5300 3950 4900 3950 \nL 3300 3950 \nL 3300 3225 \nL 5225 3225 \nQ 5200 2700 5200 2150 \nQ 5200 1625 5225 1175 \nL 1175 1175 \nQ 1200 1625 1200 2175 \nQ 1200 2725 1175 3225 \nL 2775 3225 \nL 2775 4500 \nQ 2775 4900 2750 5200 \nL 3325 5200 \nz\nM 4700 1600 \nL 4700 2800 \nL 1725 2800 \nL 1725 1600 \nL 4700 1600 \nz\nM 1500 750 \nQ 1025 -250 825 -625 \nQ 625 -475 325 -375 \nQ 650 50 950 925 \nQ 1200 800 1500 750 \nz\nM 5325 850 \nQ 5775 150 6075 -350 \nQ 5925 -425 5575 -625 \nQ 5375 -150 4900 575 \nQ 5150 700 5325 850 \nz\nM 3975 -575 \nQ 3775 -100 3400 575 \nQ 3575 675 3825 825 \nQ 4350 -75 4450 -325 \nQ 4200 -450 3975 -575 \nz\nM 2375 -575 \nQ 2350 -300 1975 550 \nQ 2200 625 2425 775 \nQ 2800 -75 2900 -350 \nQ 2625 -450 2375 -575 \nz\n\" transform=\"scale(0.015625)\"/>\n      <path id=\"SimHei-56fe\" d=\"M 5800 4975 \nQ 5775 4350 5775 3600 \nL 5775 925 \nQ 5775 150 5800 -600 \nL 5300 -600 \nL 5300 -275 \nL 1125 -275 \nL 1125 -650 \nL 625 -650 \nQ 650 125 650 950 \nL 650 3600 \nQ 650 4325 625 4975 \nL 5800 4975 \nz\nM 5300 150 \nL 5300 4575 \nL 1125 4575 \nL 1125 150 \nL 5300 150 \nz\nM 3225 4250 \nQ 3075 4100 2950 3925 \nL 4625 3925 \nQ 4525 3700 4300 3375 \nQ 4075 3050 3600 2600 \nQ 4350 2225 5075 2150 \nQ 4900 1925 4775 1675 \nQ 3850 1950 3225 2350 \nQ 2500 1875 1675 1650 \nQ 1600 1875 1400 2075 \nQ 2200 2200 2875 2600 \nQ 2525 2925 2375 3150 \nQ 2150 2900 1900 2650 \nQ 1725 2850 1525 2950 \nQ 1950 3300 2250 3737 \nQ 2550 4175 2675 4475 \nQ 2925 4350 3225 4250 \nz\nM 2450 1275 \nQ 3550 950 4100 725 \nQ 3975 525 3850 300 \nQ 2825 725 2275 850 \nQ 2375 1050 2450 1275 \nz\nM 2925 2050 \nQ 3775 1700 4075 1600 \nQ 3950 1400 3850 1150 \nQ 3000 1550 2700 1650 \nQ 2825 1825 2925 2050 \nz\nM 2625 3450 \nQ 3000 3025 3275 2850 \nQ 3600 3100 3875 3525 \nL 2675 3525 \nL 2625 3450 \nz\n\" transform=\"scale(0.015625)\"/>\n     </defs>\n     <use xlink:href=\"#SimHei-6b8b\"/>\n     <use xlink:href=\"#SimHei-5dee\" x=\"100\"/>\n     <use xlink:href=\"#SimHei-4e0e\" x=\"200\"/>\n     <use xlink:href=\"#SimHei-62df\" x=\"300\"/>\n     <use xlink:href=\"#SimHei-5408\" x=\"400\"/>\n     <use xlink:href=\"#SimHei-503c\" x=\"500\"/>\n     <use xlink:href=\"#SimHei-7684\" x=\"600\"/>\n     <use xlink:href=\"#SimHei-6563\" x=\"700\"/>\n     <use xlink:href=\"#SimHei-70b9\" x=\"800\"/>\n     <use xlink:href=\"#SimHei-56fe\" x=\"900\"/>\n    </g>\n   </g>\n  </g>\n </g>\n <defs>\n  <clipPath id=\"p41d6e21df8\">\n   <rect x=\"46.325\" y=\"23.04375\" width=\"334.8\" height=\"217.44\"/>\n  </clipPath>\n </defs>\n</svg>\n",
      "text/plain": [
       "<Figure size 432x288 with 1 Axes>"
      ]
     },
     "metadata": {
      "needs_background": "light"
     },
     "output_type": "display_data"
    }
   ],
   "source": [
    "plt.rcParams[\"font.sans-serif\"] = [\"SimHei\"]\n",
    "plt.rcParams[\"axes.unicode_minus\"] = False\n",
    "%matplotlib inline\n",
    "\n",
    "res = results.resid  # 从OLS回归模型中获取残差\n",
    "fitted = results.fittedvalues  # 从OLS回归模型中获取拟合值\n",
    "plt.scatter(fitted, res)\n",
    "plt.xlabel(\"Fitted values\")\n",
    "plt.ylabel(\"Residuals\")\n",
    "plt.title(\"残差与拟合值的散点图\")\n",
    "plt.show()"
   ]
  },
  {
   "cell_type": "code",
   "execution_count": 56,
   "metadata": {},
   "outputs": [
    {
     "name": "stdout",
     "output_type": "stream",
     "text": [
      "原假设H0：不存在异方差\n",
      "卡方检验值： 49.0\n",
      "p值： 0.4327593961190784\n"
     ]
    }
   ],
   "source": [
    "lm_statistic, lm_pval = het_white(results.resid, reg.exog)[:2]\n",
    "print(\"原假设H0：不存在异方差\")\n",
    "print(\"卡方检验值：\", lm_statistic)\n",
    "print(\"p值：\", lm_pval)"
   ]
  },
  {
   "cell_type": "code",
   "execution_count": 57,
   "metadata": {},
   "outputs": [],
   "source": [
    "# 如果p值小于0.05，在95%的置信水平上拒绝H0，\n",
    "# 此处扰动项不存在异方差"
   ]
  },
  {
   "cell_type": "code",
   "execution_count": 58,
   "metadata": {},
   "outputs": [],
   "source": [
    "## 高钾玻璃"
   ]
  },
  {
   "cell_type": "code",
   "execution_count": 59,
   "metadata": {},
   "outputs": [
    {
     "data": {
      "text/html": [
       "<div>\n",
       "<style scoped>\n",
       "    .dataframe tbody tr th:only-of-type {\n",
       "        vertical-align: middle;\n",
       "    }\n",
       "\n",
       "    .dataframe tbody tr th {\n",
       "        vertical-align: top;\n",
       "    }\n",
       "\n",
       "    .dataframe thead th {\n",
       "        text-align: right;\n",
       "    }\n",
       "</style>\n",
       "<table border=\"1\" class=\"dataframe\">\n",
       "  <thead>\n",
       "    <tr style=\"text-align: right;\">\n",
       "      <th></th>\n",
       "      <th>文物编号</th>\n",
       "      <th>文物采样点</th>\n",
       "      <th>类型</th>\n",
       "      <th>风化与否</th>\n",
       "      <th>二氧化硅(SiO2)</th>\n",
       "      <th>氧化钠(Na2O)</th>\n",
       "      <th>氧化钾(K2O)</th>\n",
       "      <th>氧化钙(CaO)</th>\n",
       "      <th>氧化镁(MgO)</th>\n",
       "      <th>氧化铝(Al2O3)</th>\n",
       "      <th>氧化铁(Fe2O3)</th>\n",
       "      <th>氧化铜(CuO)</th>\n",
       "      <th>氧化铅(PbO)</th>\n",
       "      <th>氧化钡(BaO)</th>\n",
       "      <th>五氧化二磷(P2O5)</th>\n",
       "      <th>氧化锶(SrO)</th>\n",
       "      <th>氧化锡(SnO2)</th>\n",
       "      <th>二氧化硫(SO2)</th>\n",
       "      <th>总含量</th>\n",
       "    </tr>\n",
       "  </thead>\n",
       "  <tbody>\n",
       "    <tr>\n",
       "      <th>0</th>\n",
       "      <td>1</td>\n",
       "      <td>01</td>\n",
       "      <td>高钾</td>\n",
       "      <td>0</td>\n",
       "      <td>69.33</td>\n",
       "      <td>0.0</td>\n",
       "      <td>9.99</td>\n",
       "      <td>6.32</td>\n",
       "      <td>0.87</td>\n",
       "      <td>3.93</td>\n",
       "      <td>1.74</td>\n",
       "      <td>3.87</td>\n",
       "      <td>0.00</td>\n",
       "      <td>0.00</td>\n",
       "      <td>1.17</td>\n",
       "      <td>0.00</td>\n",
       "      <td>0.0</td>\n",
       "      <td>0.39</td>\n",
       "      <td>97.61</td>\n",
       "    </tr>\n",
       "    <tr>\n",
       "      <th>1</th>\n",
       "      <td>3</td>\n",
       "      <td>03部位1</td>\n",
       "      <td>高钾</td>\n",
       "      <td>0</td>\n",
       "      <td>87.05</td>\n",
       "      <td>0.0</td>\n",
       "      <td>5.19</td>\n",
       "      <td>2.01</td>\n",
       "      <td>0.00</td>\n",
       "      <td>4.06</td>\n",
       "      <td>0.00</td>\n",
       "      <td>0.78</td>\n",
       "      <td>0.25</td>\n",
       "      <td>0.00</td>\n",
       "      <td>0.66</td>\n",
       "      <td>0.00</td>\n",
       "      <td>0.0</td>\n",
       "      <td>0.00</td>\n",
       "      <td>100.00</td>\n",
       "    </tr>\n",
       "    <tr>\n",
       "      <th>2</th>\n",
       "      <td>3</td>\n",
       "      <td>03部位2</td>\n",
       "      <td>高钾</td>\n",
       "      <td>0</td>\n",
       "      <td>61.71</td>\n",
       "      <td>0.0</td>\n",
       "      <td>12.37</td>\n",
       "      <td>5.87</td>\n",
       "      <td>1.11</td>\n",
       "      <td>5.50</td>\n",
       "      <td>2.16</td>\n",
       "      <td>5.09</td>\n",
       "      <td>1.41</td>\n",
       "      <td>2.86</td>\n",
       "      <td>0.70</td>\n",
       "      <td>0.10</td>\n",
       "      <td>0.0</td>\n",
       "      <td>0.00</td>\n",
       "      <td>98.88</td>\n",
       "    </tr>\n",
       "    <tr>\n",
       "      <th>3</th>\n",
       "      <td>4</td>\n",
       "      <td>04</td>\n",
       "      <td>高钾</td>\n",
       "      <td>0</td>\n",
       "      <td>65.88</td>\n",
       "      <td>0.0</td>\n",
       "      <td>9.67</td>\n",
       "      <td>7.12</td>\n",
       "      <td>1.56</td>\n",
       "      <td>6.44</td>\n",
       "      <td>2.06</td>\n",
       "      <td>2.18</td>\n",
       "      <td>0.00</td>\n",
       "      <td>0.00</td>\n",
       "      <td>0.79</td>\n",
       "      <td>0.00</td>\n",
       "      <td>0.0</td>\n",
       "      <td>0.36</td>\n",
       "      <td>96.06</td>\n",
       "    </tr>\n",
       "    <tr>\n",
       "      <th>4</th>\n",
       "      <td>5</td>\n",
       "      <td>05</td>\n",
       "      <td>高钾</td>\n",
       "      <td>0</td>\n",
       "      <td>61.58</td>\n",
       "      <td>0.0</td>\n",
       "      <td>10.95</td>\n",
       "      <td>7.35</td>\n",
       "      <td>1.77</td>\n",
       "      <td>7.50</td>\n",
       "      <td>2.62</td>\n",
       "      <td>3.27</td>\n",
       "      <td>0.00</td>\n",
       "      <td>0.00</td>\n",
       "      <td>0.94</td>\n",
       "      <td>0.06</td>\n",
       "      <td>0.0</td>\n",
       "      <td>0.47</td>\n",
       "      <td>96.51</td>\n",
       "    </tr>\n",
       "  </tbody>\n",
       "</table>\n",
       "</div>"
      ],
      "text/plain": [
       "   文物编号  文物采样点  类型  风化与否  二氧化硅(SiO2)  氧化钠(Na2O)  氧化钾(K2O)  氧化钙(CaO)  氧化镁(MgO)  \\\n",
       "0     1     01  高钾     0       69.33        0.0      9.99      6.32      0.87   \n",
       "1     3  03部位1  高钾     0       87.05        0.0      5.19      2.01      0.00   \n",
       "2     3  03部位2  高钾     0       61.71        0.0     12.37      5.87      1.11   \n",
       "3     4     04  高钾     0       65.88        0.0      9.67      7.12      1.56   \n",
       "4     5     05  高钾     0       61.58        0.0     10.95      7.35      1.77   \n",
       "\n",
       "   氧化铝(Al2O3)  氧化铁(Fe2O3)  氧化铜(CuO)  氧化铅(PbO)  氧化钡(BaO)  五氧化二磷(P2O5)  \\\n",
       "0        3.93        1.74      3.87      0.00      0.00         1.17   \n",
       "1        4.06        0.00      0.78      0.25      0.00         0.66   \n",
       "2        5.50        2.16      5.09      1.41      2.86         0.70   \n",
       "3        6.44        2.06      2.18      0.00      0.00         0.79   \n",
       "4        7.50        2.62      3.27      0.00      0.00         0.94   \n",
       "\n",
       "   氧化锶(SrO)  氧化锡(SnO2)  二氧化硫(SO2)     总含量  \n",
       "0      0.00        0.0       0.39   97.61  \n",
       "1      0.00        0.0       0.00  100.00  \n",
       "2      0.10        0.0       0.00   98.88  \n",
       "3      0.00        0.0       0.36   96.06  \n",
       "4      0.06        0.0       0.47   96.51  "
      ]
     },
     "execution_count": 59,
     "metadata": {},
     "output_type": "execute_result"
    }
   ],
   "source": [
    "df = pd.read_excel('1.2高钾.xlsx')\n",
    "df.head()"
   ]
  },
  {
   "cell_type": "code",
   "execution_count": 60,
   "metadata": {},
   "outputs": [
    {
     "data": {
      "text/html": [
       "<div>\n",
       "<style scoped>\n",
       "    .dataframe tbody tr th:only-of-type {\n",
       "        vertical-align: middle;\n",
       "    }\n",
       "\n",
       "    .dataframe tbody tr th {\n",
       "        vertical-align: top;\n",
       "    }\n",
       "\n",
       "    .dataframe thead th {\n",
       "        text-align: right;\n",
       "    }\n",
       "</style>\n",
       "<table border=\"1\" class=\"dataframe\">\n",
       "  <thead>\n",
       "    <tr style=\"text-align: right;\">\n",
       "      <th></th>\n",
       "      <th>风化与否</th>\n",
       "      <th>二氧化硅(SiO2)</th>\n",
       "      <th>氧化钾(K2O)</th>\n",
       "      <th>氧化铝(Al2O3)</th>\n",
       "      <th>氧化铜(CuO)</th>\n",
       "    </tr>\n",
       "  </thead>\n",
       "  <tbody>\n",
       "    <tr>\n",
       "      <th>0</th>\n",
       "      <td>0</td>\n",
       "      <td>69.33</td>\n",
       "      <td>9.99</td>\n",
       "      <td>3.93</td>\n",
       "      <td>3.87</td>\n",
       "    </tr>\n",
       "    <tr>\n",
       "      <th>1</th>\n",
       "      <td>0</td>\n",
       "      <td>87.05</td>\n",
       "      <td>5.19</td>\n",
       "      <td>4.06</td>\n",
       "      <td>0.78</td>\n",
       "    </tr>\n",
       "    <tr>\n",
       "      <th>2</th>\n",
       "      <td>0</td>\n",
       "      <td>61.71</td>\n",
       "      <td>12.37</td>\n",
       "      <td>5.50</td>\n",
       "      <td>5.09</td>\n",
       "    </tr>\n",
       "    <tr>\n",
       "      <th>3</th>\n",
       "      <td>0</td>\n",
       "      <td>65.88</td>\n",
       "      <td>9.67</td>\n",
       "      <td>6.44</td>\n",
       "      <td>2.18</td>\n",
       "    </tr>\n",
       "    <tr>\n",
       "      <th>4</th>\n",
       "      <td>0</td>\n",
       "      <td>61.58</td>\n",
       "      <td>10.95</td>\n",
       "      <td>7.50</td>\n",
       "      <td>3.27</td>\n",
       "    </tr>\n",
       "  </tbody>\n",
       "</table>\n",
       "</div>"
      ],
      "text/plain": [
       "   风化与否  二氧化硅(SiO2)  氧化钾(K2O)  氧化铝(Al2O3)  氧化铜(CuO)\n",
       "0     0       69.33      9.99        3.93      3.87\n",
       "1     0       87.05      5.19        4.06      0.78\n",
       "2     0       61.71     12.37        5.50      5.09\n",
       "3     0       65.88      9.67        6.44      2.18\n",
       "4     0       61.58     10.95        7.50      3.27"
      ]
     },
     "execution_count": 60,
     "metadata": {},
     "output_type": "execute_result"
    }
   ],
   "source": [
    "data=df[[ '风化与否','二氧化硅(SiO2)','氧化钾(K2O)', '氧化铝(Al2O3)','氧化铜(CuO)']]\n",
    "data.head()"
   ]
  },
  {
   "cell_type": "code",
   "execution_count": 61,
   "metadata": {},
   "outputs": [
    {
     "name": "stdout",
     "output_type": "stream",
     "text": [
      "                            OLS Regression Results                            \n",
      "==============================================================================\n",
      "Dep. Variable:                   风化与否   R-squared:                       0.777\n",
      "Model:                            OLS   Adj. R-squared:                  0.709\n",
      "Method:                 Least Squares   F-statistic:                     11.34\n",
      "Date:                Sun, 18 Sep 2022   Prob (F-statistic):           0.000349\n",
      "Time:                        17:10:29   Log-Likelihood:                 1.5119\n",
      "No. Observations:                  18   AIC:                             6.976\n",
      "Df Residuals:                      13   BIC:                             11.43\n",
      "Df Model:                           4                                         \n",
      "Covariance Type:            nonrobust                                         \n",
      "==============================================================================\n",
      "                 coef    std err          t      P>|t|      [0.025      0.975]\n",
      "------------------------------------------------------------------------------\n",
      "const         -1.7374      2.545     -0.683      0.507      -7.235       3.760\n",
      "x1             0.0271      0.025      1.086      0.297      -0.027       0.081\n",
      "x2            -0.0098      0.040     -0.244      0.811      -0.096       0.077\n",
      "x3            -0.0048      0.060     -0.081      0.937      -0.133       0.124\n",
      "x4             0.0387      0.071      0.544      0.596      -0.115       0.193\n",
      "==============================================================================\n",
      "Omnibus:                        8.528   Durbin-Watson:                   1.422\n",
      "Prob(Omnibus):                  0.014   Jarque-Bera (JB):                5.939\n",
      "Skew:                          -1.357   Prob(JB):                       0.0513\n",
      "Kurtosis:                       3.742   Cond. No.                     3.23e+03\n",
      "==============================================================================\n",
      "\n",
      "Notes:\n",
      "[1] Standard Errors assume that the covariance matrix of the errors is correctly specified.\n",
      "[2] The condition number is large, 3.23e+03. This might indicate that there are\n",
      "strong multicollinearity or other numerical problems.\n"
     ]
    },
    {
     "name": "stderr",
     "output_type": "stream",
     "text": [
      "c:\\Users\\19828\\anaconda3\\lib\\site-packages\\scipy\\stats\\stats.py:1541: UserWarning: kurtosistest only valid for n>=20 ... continuing anyway, n=18\n",
      "  warnings.warn(\"kurtosistest only valid for n>=20 ... continuing \"\n"
     ]
    }
   ],
   "source": [
    "X = data.iloc[:,1:]\n",
    "y = data.iloc[:,0]\n",
    "x = sm.add_constant(np.array(X))  # 添加常数项\n",
    "reg = sm.OLS(y, x)\n",
    "results = reg.fit()\n",
    "print(results.summary())"
   ]
  },
  {
   "cell_type": "code",
   "execution_count": 62,
   "metadata": {},
   "outputs": [
    {
     "data": {
      "image/png": "[encoded data removed]",
      "image/svg+xml": "<?xml version=\"1.0\" encoding=\"utf-8\" standalone=\"no\"?>\n<!DOCTYPE svg PUBLIC \"-//W3C//DTD SVG 1.1//EN\"\n  \"http://www.w3.org/Graphics/SVG/1.1/DTD/svg11.dtd\">\n<svg xmlns:xlink=\"http://www.w3.org/1999/xlink\" width=\"388.325pt\" height=\"274.93375pt\" viewBox=\"0 0 388.325 274.93375\" xmlns=\"http://www.w3.org/2000/svg\" version=\"1.1\">\n <metadata>\n  <rdf:RDF xmlns:dc=\"http://purl.org/dc/elements/1.1/\" xmlns:cc=\"http://creativecommons.org/ns#\" xmlns:rdf=\"http://www.w3.org/1999/02/22-rdf-syntax-ns#\">\n   <cc:Work>\n    <dc:type rdf:resource=\"http://purl.org/dc/dcmitype/StillImage\"/>\n    <dc:date>2022-09-18T17:10:29.206091</dc:date>\n    <dc:format>image/svg+xml</dc:format>\n    <dc:creator>\n     <cc:Agent>\n      <dc:title>Matplotlib v3.5.1, https://matplotlib.org/</dc:title>\n     </cc:Agent>\n    </dc:creator>\n   </cc:Work>\n  </rdf:RDF>\n </metadata>\n <defs>\n  <style type=\"text/css\">*{stroke-linejoin: round; stroke-linecap: butt}</style>\n </defs>\n <g id=\"figure_1\">\n  <g id=\"patch_1\">\n   <path d=\"M 0 274.93375 \nL 388.325 274.93375 \nL 388.325 0 \nL 0 0 \nL 0 274.93375 \nz\n\" style=\"fill: none\"/>\n  </g>\n  <g id=\"axes_1\">\n   <g id=\"patch_2\">\n    <path d=\"M 46.325 240.48375 \nL 381.125 240.48375 \nL 381.125 23.04375 \nL 46.325 23.04375 \nz\n\" style=\"fill: #ffffff\"/>\n   </g>\n   <g id=\"PathCollection_1\">\n    <defs>\n     <path id=\"m86cd98417a\" d=\"M 0 3 \nC 0.795609 3 1.55874 2.683901 2.12132 2.12132 \nC 2.683901 1.55874 3 0.795609 3 0 \nC 3 -0.795609 2.683901 -1.55874 2.12132 -2.12132 \nC 1.55874 -2.683901 0.795609 -3 0 -3 \nC -0.795609 -3 -1.55874 -2.683901 -2.12132 -2.12132 \nC -2.683901 -1.55874 -3 -0.795609 -3 0 \nC -3 0.795609 -2.683901 1.55874 -2.12132 2.12132 \nC -1.55874 2.683901 -0.795609 3 0 3 \nz\n\" style=\"stroke: #1f77b4\"/>\n    </defs>\n    <g clip-path=\"url(#p798779deca)\">\n     <use xlink:href=\"#m86cd98417a\" x=\"163.140879\" y=\"132.566058\" style=\"fill: #1f77b4; stroke: #1f77b4\"/>\n     <use xlink:href=\"#m86cd98417a\" x=\"276.11902\" y=\"230.600114\" style=\"fill: #1f77b4; stroke: #1f77b4\"/>\n     <use xlink:href=\"#m86cd98417a\" x=\"110.347535\" y=\"86.755908\" style=\"fill: #1f77b4; stroke: #1f77b4\"/>\n     <use xlink:href=\"#m86cd98417a\" x=\"116.477927\" y=\"92.075408\" style=\"fill: #1f77b4; stroke: #1f77b4\"/>\n     <use xlink:href=\"#m86cd98417a\" x=\"90.951123\" y=\"69.925139\" style=\"fill: #1f77b4; stroke: #1f77b4\"/>\n     <use xlink:href=\"#m86cd98417a\" x=\"133.312002\" y=\"106.68277\" style=\"fill: #1f77b4; stroke: #1f77b4\"/>\n     <use xlink:href=\"#m86cd98417a\" x=\"71.379635\" y=\"52.942452\" style=\"fill: #1f77b4; stroke: #1f77b4\"/>\n     <use xlink:href=\"#m86cd98417a\" x=\"361.543702\" y=\"63.419228\" style=\"fill: #1f77b4; stroke: #1f77b4\"/>\n     <use xlink:href=\"#m86cd98417a\" x=\"360.600952\" y=\"62.60118\" style=\"fill: #1f77b4; stroke: #1f77b4\"/>\n     <use xlink:href=\"#m86cd98417a\" x=\"365.906818\" y=\"67.205217\" style=\"fill: #1f77b4; stroke: #1f77b4\"/>\n     <use xlink:href=\"#m86cd98417a\" x=\"354.852381\" y=\"57.612995\" style=\"fill: #1f77b4; stroke: #1f77b4\"/>\n     <use xlink:href=\"#m86cd98417a\" x=\"84.82825\" y=\"64.612164\" style=\"fill: #1f77b4; stroke: #1f77b4\"/>\n     <use xlink:href=\"#m86cd98417a\" x=\"61.543182\" y=\"44.407108\" style=\"fill: #1f77b4; stroke: #1f77b4\"/>\n     <use xlink:href=\"#m86cd98417a\" x=\"86.386144\" y=\"65.963988\" style=\"fill: #1f77b4; stroke: #1f77b4\"/>\n     <use xlink:href=\"#m86cd98417a\" x=\"200.420165\" y=\"164.914259\" style=\"fill: #1f77b4; stroke: #1f77b4\"/>\n     <use xlink:href=\"#m86cd98417a\" x=\"236.291729\" y=\"196.040943\" style=\"fill: #1f77b4; stroke: #1f77b4\"/>\n     <use xlink:href=\"#m86cd98417a\" x=\"326.403754\" y=\"32.927386\" style=\"fill: #1f77b4; stroke: #1f77b4\"/>\n     <use xlink:href=\"#m86cd98417a\" x=\"343.196259\" y=\"47.498677\" style=\"fill: #1f77b4; stroke: #1f77b4\"/>\n    </g>\n   </g>\n   <g id=\"matplotlib.axis_1\">\n    <g id=\"xtick_1\">\n     <g id=\"line2d_1\">\n      <defs>\n       <path id=\"me8e7fff211\" d=\"M 0 0 \nL 0 3.5 \n\" style=\"stroke: #000000; stroke-width: 0.8\"/>\n      </defs>\n      <g>\n       <use xlink:href=\"#me8e7fff211\" x=\"59.668622\" y=\"240.48375\" style=\"stroke: #000000; stroke-width: 0.8\"/>\n      </g>\n     </g>\n     <g id=\"text_1\">\n      <!-- -0.2 -->\n      <g transform=\"translate(49.668622 254.35875)scale(0.1 -0.1)\">\n       <defs>\n        <path id=\"SimHei-2d\" d=\"M 2975 2125 \nL 125 2125 \nL 125 2525 \nL 2975 2525 \nL 2975 2125 \nz\n\" transform=\"scale(0.015625)\"/>\n        <path id=\"SimHei-30\" d=\"M 225 2537 \nQ 250 3200 412 3587 \nQ 575 3975 875 4225 \nQ 1175 4475 1612 4475 \nQ 2050 4475 2375 4112 \nQ 2700 3750 2800 3200 \nQ 2900 2650 2862 1937 \nQ 2825 1225 2612 775 \nQ 2400 325 1975 150 \nQ 1550 -25 1125 187 \nQ 700 400 525 750 \nQ 350 1100 275 1487 \nQ 200 1875 225 2537 \nz\nM 750 2687 \nQ 675 2000 800 1462 \nQ 925 925 1212 700 \nQ 1500 475 1800 612 \nQ 2100 750 2237 1162 \nQ 2375 1575 2375 2062 \nQ 2375 2550 2337 2950 \nQ 2300 3350 2112 3675 \nQ 1925 4000 1612 4012 \nQ 1300 4025 1062 3700 \nQ 825 3375 750 2687 \nz\n\" transform=\"scale(0.015625)\"/>\n        <path id=\"SimHei-2e\" d=\"M 1075 125 \nL 500 125 \nL 500 675 \nL 1075 675 \nL 1075 125 \nz\n\" transform=\"scale(0.015625)\"/>\n        <path id=\"SimHei-32\" d=\"M 300 250 \nQ 325 625 650 925 \nQ 975 1225 1475 1862 \nQ 1975 2500 2125 2850 \nQ 2275 3200 2237 3450 \nQ 2200 3700 2000 3862 \nQ 1800 4025 1537 4000 \nQ 1275 3975 1037 3800 \nQ 800 3625 675 3275 \nL 200 3350 \nQ 400 3925 712 4187 \nQ 1025 4450 1450 4475 \nQ 1700 4500 1900 4462 \nQ 2100 4425 2312 4287 \nQ 2525 4150 2662 3875 \nQ 2800 3600 2762 3212 \nQ 2725 2825 2375 2287 \nQ 2025 1750 1025 600 \nL 2825 600 \nL 2825 150 \nL 300 150 \nL 300 250 \nz\n\" transform=\"scale(0.015625)\"/>\n       </defs>\n       <use xlink:href=\"#SimHei-2d\"/>\n       <use xlink:href=\"#SimHei-30\" x=\"50\"/>\n       <use xlink:href=\"#SimHei-2e\" x=\"100\"/>\n       <use xlink:href=\"#SimHei-32\" x=\"150\"/>\n      </g>\n     </g>\n    </g>\n    <g id=\"xtick_2\">\n     <g id=\"line2d_2\">\n      <g>\n       <use xlink:href=\"#me8e7fff211\" x=\"115.286669\" y=\"240.48375\" style=\"stroke: #000000; stroke-width: 0.8\"/>\n      </g>\n     </g>\n     <g id=\"text_2\">\n      <!-- 0.0 -->\n      <g transform=\"translate(107.786669 254.35875)scale(0.1 -0.1)\">\n       <use xlink:href=\"#SimHei-30\"/>\n       <use xlink:href=\"#SimHei-2e\" x=\"50\"/>\n       <use xlink:href=\"#SimHei-30\" x=\"100\"/>\n      </g>\n     </g>\n    </g>\n    <g id=\"xtick_3\">\n     <g id=\"line2d_3\">\n      <g>\n       <use xlink:href=\"#me8e7fff211\" x=\"170.904716\" y=\"240.48375\" style=\"stroke: #000000; stroke-width: 0.8\"/>\n      </g>\n     </g>\n     <g id=\"text_3\">\n      <!-- 0.2 -->\n      <g transform=\"translate(163.404716 254.35875)scale(0.1 -0.1)\">\n       <use xlink:href=\"#SimHei-30\"/>\n       <use xlink:href=\"#SimHei-2e\" x=\"50\"/>\n       <use xlink:href=\"#SimHei-32\" x=\"100\"/>\n      </g>\n     </g>\n    </g>\n    <g id=\"xtick_4\">\n     <g id=\"line2d_4\">\n      <g>\n       <use xlink:href=\"#me8e7fff211\" x=\"226.522763\" y=\"240.48375\" style=\"stroke: #000000; stroke-width: 0.8\"/>\n      </g>\n     </g>\n     <g id=\"text_4\">\n      <!-- 0.4 -->\n      <g transform=\"translate(219.022763 254.35875)scale(0.1 -0.1)\">\n       <defs>\n        <path id=\"SimHei-34\" d=\"M 2000 1100 \nL 75 1100 \nL 75 1525 \nL 2100 4450 \nL 2475 4450 \nL 2475 1525 \nL 3075 1525 \nL 3075 1100 \nL 2475 1100 \nL 2475 150 \nL 2000 150 \nL 2000 1100 \nz\nM 2000 1525 \nL 2000 3500 \nL 600 1525 \nL 2000 1525 \nz\n\" transform=\"scale(0.015625)\"/>\n       </defs>\n       <use xlink:href=\"#SimHei-30\"/>\n       <use xlink:href=\"#SimHei-2e\" x=\"50\"/>\n       <use xlink:href=\"#SimHei-34\" x=\"100\"/>\n      </g>\n     </g>\n    </g>\n    <g id=\"xtick_5\">\n     <g id=\"line2d_5\">\n      <g>\n       <use xlink:href=\"#me8e7fff211\" x=\"282.140811\" y=\"240.48375\" style=\"stroke: #000000; stroke-width: 0.8\"/>\n      </g>\n     </g>\n     <g id=\"text_5\">\n      <!-- 0.6 -->\n      <g transform=\"translate(274.640811 254.35875)scale(0.1 -0.1)\">\n       <defs>\n        <path id=\"SimHei-36\" d=\"M 250 1612 \nQ 275 1975 387 2225 \nQ 500 2475 725 2850 \nL 1750 4450 \nL 2325 4450 \nL 1275 2800 \nQ 1950 2975 2350 2750 \nQ 2750 2525 2887 2237 \nQ 3025 1950 3037 1612 \nQ 3050 1275 2937 950 \nQ 2825 625 2537 362 \nQ 2250 100 1737 75 \nQ 1225 50 862 262 \nQ 500 475 362 862 \nQ 225 1250 250 1612 \nz\nM 1025 787 \nQ 1250 550 1625 525 \nQ 2000 500 2250 775 \nQ 2500 1050 2500 1575 \nQ 2500 2100 2187 2300 \nQ 1875 2500 1487 2450 \nQ 1100 2400 925 2075 \nQ 750 1750 775 1387 \nQ 800 1025 1025 787 \nz\n\" transform=\"scale(0.015625)\"/>\n       </defs>\n       <use xlink:href=\"#SimHei-30\"/>\n       <use xlink:href=\"#SimHei-2e\" x=\"50\"/>\n       <use xlink:href=\"#SimHei-36\" x=\"100\"/>\n      </g>\n     </g>\n    </g>\n    <g id=\"xtick_6\">\n     <g id=\"line2d_6\">\n      <g>\n       <use xlink:href=\"#me8e7fff211\" x=\"337.758858\" y=\"240.48375\" style=\"stroke: #000000; stroke-width: 0.8\"/>\n      </g>\n     </g>\n     <g id=\"text_6\">\n      <!-- 0.8 -->\n      <g transform=\"translate(330.258858 254.35875)scale(0.1 -0.1)\">\n       <defs>\n        <path id=\"SimHei-38\" d=\"M 175 1375 \nQ 175 1675 325 1962 \nQ 475 2250 825 2425 \nQ 525 2600 425 2812 \nQ 325 3025 312 3300 \nQ 300 3575 387 3775 \nQ 475 3975 650 4150 \nQ 825 4325 1037 4387 \nQ 1250 4450 1500 4450 \nQ 1750 4450 1950 4400 \nQ 2150 4350 2375 4187 \nQ 2600 4025 2700 3725 \nQ 2800 3425 2687 3025 \nQ 2575 2625 2100 2400 \nQ 2525 2275 2700 2012 \nQ 2875 1750 2875 1375 \nQ 2875 1000 2762 775 \nQ 2650 550 2512 400 \nQ 2375 250 2137 162 \nQ 1900 75 1537 75 \nQ 1175 75 912 162 \nQ 650 250 475 425 \nQ 300 600 237 837 \nQ 175 1075 175 1375 \nz\nM 687 1400 \nQ 675 1100 787 875 \nQ 900 650 1200 587 \nQ 1500 525 1825 600 \nQ 2150 675 2275 950 \nQ 2400 1225 2362 1500 \nQ 2325 1775 2050 1962 \nQ 1775 2150 1450 2125 \nQ 1125 2100 912 1900 \nQ 700 1700 687 1400 \nz\nM 775 3350 \nQ 775 3100 950 2875 \nQ 1125 2650 1500 2650 \nQ 1875 2650 2062 2875 \nQ 2250 3100 2237 3412 \nQ 2225 3725 2012 3875 \nQ 1800 4025 1437 4000 \nQ 1075 3975 925 3787 \nQ 775 3600 775 3350 \nz\n\" transform=\"scale(0.015625)\"/>\n       </defs>\n       <use xlink:href=\"#SimHei-30\"/>\n       <use xlink:href=\"#SimHei-2e\" x=\"50\"/>\n       <use xlink:href=\"#SimHei-38\" x=\"100\"/>\n      </g>\n     </g>\n    </g>\n    <g id=\"text_7\">\n     <!-- Fitted values -->\n     <g transform=\"translate(181.225 266.48375)scale(0.1 -0.1)\">\n      <defs>\n       <path id=\"SimHei-46\" d=\"M 2925 3925 \nL 875 3925 \nL 875 2525 \nL 2425 2525 \nL 2425 2050 \nL 875 2050 \nL 875 125 \nL 300 125 \nL 300 4400 \nL 2925 4400 \nL 2925 3925 \nz\n\" transform=\"scale(0.015625)\"/>\n       <path id=\"SimHei-69\" d=\"M 1800 3725 \nL 1300 3725 \nL 1300 4375 \nL 1800 4375 \nL 1800 3725 \nz\nM 1800 125 \nL 1300 125 \nL 1300 2925 \nL 1800 2925 \nL 1800 125 \nz\n\" transform=\"scale(0.015625)\"/>\n       <path id=\"SimHei-74\" d=\"M 2750 200 \nQ 2625 150 2462 112 \nQ 2300 75 2025 75 \nQ 1575 75 1300 325 \nQ 1025 575 1025 1025 \nL 1025 2525 \nL 175 2525 \nL 175 2925 \nL 1025 2925 \nL 1025 3900 \nL 1525 3900 \nL 1525 2925 \nL 2550 2925 \nL 2550 2525 \nL 1525 2525 \nL 1525 1000 \nQ 1525 800 1625 662 \nQ 1725 525 2000 525 \nQ 2275 525 2450 575 \nQ 2625 625 2750 700 \nL 2750 200 \nz\n\" transform=\"scale(0.015625)\"/>\n       <path id=\"SimHei-65\" d=\"M 2850 1075 \nQ 2800 625 2450 350 \nQ 2100 75 1625 75 \nQ 1025 75 637 462 \nQ 250 850 250 1525 \nQ 250 2200 637 2587 \nQ 1025 2975 1625 2975 \nQ 2150 2975 2487 2637 \nQ 2825 2300 2825 1525 \nL 800 1525 \nQ 800 975 1037 750 \nQ 1275 525 1625 525 \nQ 1900 525 2075 662 \nQ 2250 800 2300 1075 \nL 2850 1075 \nz\nM 2250 1925 \nQ 2200 2275 2025 2412 \nQ 1850 2550 1575 2550 \nQ 1325 2550 1125 2412 \nQ 925 2275 825 1925 \nL 2250 1925 \nz\n\" transform=\"scale(0.015625)\"/>\n       <path id=\"SimHei-64\" d=\"M 2750 125 \nL 2250 125 \nL 2250 500 \nQ 2100 275 1900 175 \nQ 1700 75 1425 75 \nQ 925 75 575 437 \nQ 225 800 225 1525 \nQ 225 2250 575 2625 \nQ 925 3000 1425 3000 \nQ 1700 3000 1900 2887 \nQ 2100 2775 2250 2550 \nL 2250 4400 \nL 2750 4400 \nL 2750 125 \nz\nM 2250 1525 \nQ 2250 2000 2037 2275 \nQ 1825 2550 1525 2550 \nQ 1150 2550 962 2275 \nQ 775 2000 775 1525 \nQ 775 1050 962 787 \nQ 1150 525 1525 525 \nQ 1825 525 2037 787 \nQ 2250 1050 2250 1525 \nz\n\" transform=\"scale(0.015625)\"/>\n       <path id=\"SimHei-20\" transform=\"scale(0.015625)\"/>\n       <path id=\"SimHei-76\" d=\"M 2875 2925 \nL 1825 75 \nL 1275 75 \nL 225 2925 \nL 750 2925 \nL 1525 750 \nL 1575 750 \nL 2350 2925 \nL 2875 2925 \nz\n\" transform=\"scale(0.015625)\"/>\n       <path id=\"SimHei-61\" d=\"M 2875 125 \nL 2275 125 \nQ 2225 175 2200 262 \nQ 2175 350 2175 475 \nQ 2000 275 1750 175 \nQ 1500 75 1225 75 \nQ 825 75 550 275 \nQ 275 475 275 850 \nQ 275 1225 525 1450 \nQ 775 1675 1300 1750 \nQ 1650 1800 1912 1875 \nQ 2175 1950 2175 2075 \nQ 2175 2225 2062 2375 \nQ 1950 2525 1575 2525 \nQ 1275 2525 1137 2412 \nQ 1000 2300 950 2100 \nL 400 2100 \nQ 450 2500 762 2737 \nQ 1075 2975 1575 2975 \nQ 2125 2975 2400 2725 \nQ 2675 2475 2675 2025 \nL 2675 650 \nQ 2675 500 2725 375 \nQ 2775 250 2875 125 \nz\nM 2175 1050 \nL 2175 1550 \nQ 2025 1500 1887 1462 \nQ 1750 1425 1425 1375 \nQ 1050 1325 937 1200 \nQ 825 1075 825 900 \nQ 825 750 937 637 \nQ 1050 525 1275 525 \nQ 1500 525 1762 650 \nQ 2025 775 2175 1050 \nz\n\" transform=\"scale(0.015625)\"/>\n       <path id=\"SimHei-6c\" d=\"M 1825 125 \nL 1325 125 \nL 1325 4400 \nL 1825 4400 \nL 1825 125 \nz\n\" transform=\"scale(0.015625)\"/>\n       <path id=\"SimHei-75\" d=\"M 2800 125 \nL 2300 125 \nL 2300 650 \nQ 2100 375 1862 225 \nQ 1625 75 1250 75 \nQ 800 75 575 325 \nQ 350 575 350 950 \nL 350 2925 \nL 850 2925 \nL 850 1125 \nQ 850 825 1000 650 \nQ 1150 475 1400 475 \nQ 1725 475 2012 812 \nQ 2300 1150 2300 1650 \nL 2300 2925 \nL 2800 2925 \nL 2800 125 \nz\n\" transform=\"scale(0.015625)\"/>\n       <path id=\"SimHei-73\" d=\"M 2750 900 \nQ 2750 500 2437 287 \nQ 2125 75 1650 75 \nQ 1050 75 725 312 \nQ 400 550 400 1000 \nL 900 1000 \nQ 900 700 1112 600 \nQ 1325 500 1625 500 \nQ 1925 500 2075 612 \nQ 2225 725 2225 900 \nQ 2225 1025 2100 1150 \nQ 1975 1275 1475 1350 \nQ 900 1425 687 1637 \nQ 475 1850 475 2200 \nQ 475 2500 762 2737 \nQ 1050 2975 1600 2975 \nQ 2100 2975 2387 2750 \nQ 2675 2525 2675 2150 \nL 2175 2150 \nQ 2175 2375 2012 2462 \nQ 1850 2550 1600 2550 \nQ 1275 2550 1137 2437 \nQ 1000 2325 1000 2175 \nQ 1000 2000 1125 1900 \nQ 1250 1800 1650 1750 \nQ 2300 1650 2525 1437 \nQ 2750 1225 2750 900 \nz\n\" transform=\"scale(0.015625)\"/>\n      </defs>\n      <use xlink:href=\"#SimHei-46\"/>\n      <use xlink:href=\"#SimHei-69\" x=\"50\"/>\n      <use xlink:href=\"#SimHei-74\" x=\"100\"/>\n      <use xlink:href=\"#SimHei-74\" x=\"150\"/>\n      <use xlink:href=\"#SimHei-65\" x=\"200\"/>\n      <use xlink:href=\"#SimHei-64\" x=\"250\"/>\n      <use xlink:href=\"#SimHei-20\" x=\"300\"/>\n      <use xlink:href=\"#SimHei-76\" x=\"350\"/>\n      <use xlink:href=\"#SimHei-61\" x=\"400\"/>\n      <use xlink:href=\"#SimHei-6c\" x=\"450\"/>\n      <use xlink:href=\"#SimHei-75\" x=\"500\"/>\n      <use xlink:href=\"#SimHei-65\" x=\"550\"/>\n      <use xlink:href=\"#SimHei-73\" x=\"600\"/>\n     </g>\n    </g>\n   </g>\n   <g id=\"matplotlib.axis_2\">\n    <g id=\"ytick_1\">\n     <g id=\"line2d_7\">\n      <defs>\n       <path id=\"m3a9908561a\" d=\"M 0 0 \nL -3.5 0 \n\" style=\"stroke: #000000; stroke-width: 0.8\"/>\n      </defs>\n      <g>\n       <use xlink:href=\"#m3a9908561a\" x=\"46.325\" y=\"235.825377\" style=\"stroke: #000000; stroke-width: 0.8\"/>\n      </g>\n     </g>\n     <g id=\"text_8\">\n      <!-- -0.6 -->\n      <g transform=\"translate(19.325 239.262877)scale(0.1 -0.1)\">\n       <use xlink:href=\"#SimHei-2d\"/>\n       <use xlink:href=\"#SimHei-30\" x=\"50\"/>\n       <use xlink:href=\"#SimHei-2e\" x=\"100\"/>\n       <use xlink:href=\"#SimHei-36\" x=\"150\"/>\n      </g>\n     </g>\n    </g>\n    <g id=\"ytick_2\">\n     <g id=\"line2d_8\">\n      <g>\n       <use xlink:href=\"#m3a9908561a\" x=\"46.325\" y=\"187.564159\" style=\"stroke: #000000; stroke-width: 0.8\"/>\n      </g>\n     </g>\n     <g id=\"text_9\">\n      <!-- -0.4 -->\n      <g transform=\"translate(19.325 191.001659)scale(0.1 -0.1)\">\n       <use xlink:href=\"#SimHei-2d\"/>\n       <use xlink:href=\"#SimHei-30\" x=\"50\"/>\n       <use xlink:href=\"#SimHei-2e\" x=\"100\"/>\n       <use xlink:href=\"#SimHei-34\" x=\"150\"/>\n      </g>\n     </g>\n    </g>\n    <g id=\"ytick_3\">\n     <g id=\"line2d_9\">\n      <g>\n       <use xlink:href=\"#m3a9908561a\" x=\"46.325\" y=\"139.30294\" style=\"stroke: #000000; stroke-width: 0.8\"/>\n      </g>\n     </g>\n     <g id=\"text_10\">\n      <!-- -0.2 -->\n      <g transform=\"translate(19.325 142.74044)scale(0.1 -0.1)\">\n       <use xlink:href=\"#SimHei-2d\"/>\n       <use xlink:href=\"#SimHei-30\" x=\"50\"/>\n       <use xlink:href=\"#SimHei-2e\" x=\"100\"/>\n       <use xlink:href=\"#SimHei-32\" x=\"150\"/>\n      </g>\n     </g>\n    </g>\n    <g id=\"ytick_4\">\n     <g id=\"line2d_10\">\n      <g>\n       <use xlink:href=\"#m3a9908561a\" x=\"46.325\" y=\"91.041722\" style=\"stroke: #000000; stroke-width: 0.8\"/>\n      </g>\n     </g>\n     <g id=\"text_11\">\n      <!-- 0.0 -->\n      <g transform=\"translate(24.325 94.479222)scale(0.1 -0.1)\">\n       <use xlink:href=\"#SimHei-30\"/>\n       <use xlink:href=\"#SimHei-2e\" x=\"50\"/>\n       <use xlink:href=\"#SimHei-30\" x=\"100\"/>\n      </g>\n     </g>\n    </g>\n    <g id=\"ytick_5\">\n     <g id=\"line2d_11\">\n      <g>\n       <use xlink:href=\"#m3a9908561a\" x=\"46.325\" y=\"42.780503\" style=\"stroke: #000000; stroke-width: 0.8\"/>\n      </g>\n     </g>\n     <g id=\"text_12\">\n      <!-- 0.2 -->\n      <g transform=\"translate(24.325 46.218003)scale(0.1 -0.1)\">\n       <use xlink:href=\"#SimHei-30\"/>\n       <use xlink:href=\"#SimHei-2e\" x=\"50\"/>\n       <use xlink:href=\"#SimHei-32\" x=\"100\"/>\n      </g>\n     </g>\n    </g>\n    <g id=\"text_13\">\n     <!-- Residuals -->\n     <g transform=\"translate(14.075 154.26375)rotate(-90)scale(0.1 -0.1)\">\n      <defs>\n       <path id=\"SimHei-52\" d=\"M 3000 125 \nL 2400 125 \nL 1500 1975 \nL 850 1975 \nL 850 125 \nL 275 125 \nL 275 4400 \nL 1525 4400 \nQ 2125 4400 2500 4112 \nQ 2875 3825 2875 3175 \nQ 2875 2675 2625 2400 \nQ 2375 2125 2050 2050 \nL 3000 125 \nz\nM 2300 3175 \nQ 2300 3525 2087 3725 \nQ 1875 3925 1400 3925 \nL 850 3925 \nL 850 2450 \nL 1550 2450 \nQ 1850 2450 2075 2612 \nQ 2300 2775 2300 3175 \nz\n\" transform=\"scale(0.015625)\"/>\n      </defs>\n      <use xlink:href=\"#SimHei-52\"/>\n      <use xlink:href=\"#SimHei-65\" x=\"50\"/>\n      <use xlink:href=\"#SimHei-73\" x=\"100\"/>\n      <use xlink:href=\"#SimHei-69\" x=\"150\"/>\n      <use xlink:href=\"#SimHei-64\" x=\"200\"/>\n      <use xlink:href=\"#SimHei-75\" x=\"250\"/>\n      <use xlink:href=\"#SimHei-61\" x=\"300\"/>\n      <use xlink:href=\"#SimHei-6c\" x=\"350\"/>\n      <use xlink:href=\"#SimHei-73\" x=\"400\"/>\n     </g>\n    </g>\n   </g>\n   <g id=\"patch_3\">\n    <path d=\"M 46.325 240.48375 \nL 46.325 23.04375 \n\" style=\"fill: none; stroke: #000000; stroke-width: 0.8; stroke-linejoin: miter; stroke-linecap: square\"/>\n   </g>\n   <g id=\"patch_4\">\n    <path d=\"M 381.125 240.48375 \nL 381.125 23.04375 \n\" style=\"fill: none; stroke: #000000; stroke-width: 0.8; stroke-linejoin: miter; stroke-linecap: square\"/>\n   </g>\n   <g id=\"patch_5\">\n    <path d=\"M 46.325 240.48375 \nL 381.125 240.48375 \n\" style=\"fill: none; stroke: #000000; stroke-width: 0.8; stroke-linejoin: miter; stroke-linecap: square\"/>\n   </g>\n   <g id=\"patch_6\">\n    <path d=\"M 46.325 23.04375 \nL 381.125 23.04375 \n\" style=\"fill: none; stroke: #000000; stroke-width: 0.8; stroke-linejoin: miter; stroke-linecap: square\"/>\n   </g>\n   <g id=\"text_14\">\n    <!-- 残差与拟合值的散点图 -->\n    <g transform=\"translate(153.725 17.04375)scale(0.12 -0.12)\">\n     <defs>\n      <path id=\"SimHei-6b8b\" d=\"M 5700 3350 \nQ 5325 3300 4900 3225 \nQ 4475 3150 4075 3075 \nQ 4100 2700 4150 2325 \nQ 4625 2425 4987 2500 \nQ 5350 2575 5925 2725 \nL 6000 2250 \nQ 5775 2225 5300 2137 \nQ 4825 2050 4200 1900 \nQ 4300 1375 4475 1075 \nQ 5025 1500 5325 1950 \nQ 5525 1750 5800 1550 \nQ 5550 1425 5350 1237 \nQ 5150 1050 4675 650 \nQ 5000 200 5275 37 \nQ 5550 -125 5600 -12 \nQ 5650 100 5625 525 \nQ 5825 325 6175 300 \nQ 6125 -850 5450 -587 \nQ 4775 -325 4275 400 \nQ 3950 150 3537 -75 \nQ 3125 -300 2625 -525 \nQ 2475 -250 2250 -100 \nQ 2775 50 3200 262 \nQ 3625 475 4075 775 \nQ 3850 1225 3750 1800 \nQ 3100 1675 2700 1525 \nL 2575 2025 \nQ 3300 2125 3700 2225 \nQ 3650 2600 3625 3000 \nQ 3225 2950 2800 2850 \nL 2675 3325 \nQ 3150 3375 3600 3450 \nQ 3575 3925 3550 4275 \nQ 3525 4625 3475 5125 \nQ 3775 5075 4050 5075 \nQ 4025 4700 4012 4412 \nQ 4000 4125 4050 3525 \nQ 5200 3725 5625 3850 \nL 5700 3350 \nz\nM 2125 4650 \nQ 2450 4650 2800 4675 \nL 2800 4175 \nQ 2450 4200 2125 4200 \nL 1675 4200 \nQ 1550 3700 1425 3225 \nL 2600 3225 \nQ 2525 2500 2400 1925 \nQ 2275 1350 2050 925 \nQ 1825 500 1512 137 \nQ 1200 -225 675 -625 \nQ 525 -400 250 -225 \nQ 700 25 1037 375 \nQ 1375 725 1575 1075 \nQ 1275 1450 950 1750 \nQ 1125 1900 1250 2100 \nQ 1550 1825 1800 1550 \nQ 2025 2175 2075 2775 \nL 1300 2775 \nQ 1125 2375 987 2150 \nQ 850 1925 550 1525 \nQ 350 1825 200 1925 \nQ 575 2300 825 2862 \nQ 1075 3425 1200 4200 \nQ 775 4200 375 4175 \nL 375 4675 \nQ 750 4650 1075 4650 \nL 2125 4650 \nz\nM 4825 4975 \nQ 5150 4575 5425 4175 \nQ 5125 4050 4975 3900 \nQ 4750 4325 4400 4700 \nQ 4600 4825 4825 4975 \nz\n\" transform=\"scale(0.015625)\"/>\n      <path id=\"SimHei-5dee\" d=\"M 4725 4975 \nQ 4500 4725 4250 4275 \nL 4850 4275 \nQ 5450 4275 5825 4300 \nL 5825 3850 \nQ 5425 3875 4850 3875 \nL 3275 3875 \nQ 3225 3600 3150 3275 \nL 4525 3275 \nQ 5075 3275 5525 3300 \nL 5525 2850 \nQ 5075 2875 4500 2875 \nL 3050 2875 \nQ 2975 2650 2850 2325 \nL 5125 2325 \nQ 5675 2325 6025 2350 \nL 6025 1900 \nQ 5700 1925 5150 1925 \nL 2650 1925 \nQ 2425 1550 2250 1300 \nQ 2650 1275 3100 1275 \nL 4525 1275 \nQ 4975 1275 5350 1300 \nL 5350 850 \nQ 4975 875 4575 875 \nL 3925 875 \nL 3925 -50 \nL 5000 -50 \nQ 5200 -50 5900 -25 \nL 5900 -500 \nQ 5275 -475 5025 -475 \nL 2100 -475 \nQ 1700 -475 1400 -500 \nL 1400 -25 \nQ 1775 -50 2125 -50 \nL 3425 -50 \nL 3425 875 \nL 3100 875 \nQ 2625 875 2175 850 \nL 2175 1200 \nQ 1925 875 1487 475 \nQ 1050 75 625 -250 \nQ 425 -25 200 150 \nQ 750 475 1262 925 \nQ 1775 1375 2100 1925 \nL 1325 1925 \nQ 750 1925 375 1900 \nL 375 2350 \nQ 750 2325 1350 2325 \nL 2325 2325 \nQ 2450 2575 2550 2875 \nL 1725 2875 \nQ 1375 2875 1000 2850 \nL 1000 3300 \nQ 1500 3275 1700 3275 \nL 2650 3275 \nQ 2725 3575 2775 3875 \nL 1500 3875 \nQ 1100 3875 650 3850 \nL 650 4300 \nQ 1025 4275 1425 4275 \nL 2275 4275 \nQ 2075 4675 1850 4950 \nQ 2025 5050 2250 5225 \nQ 2450 4975 2725 4550 \nQ 2525 4450 2325 4275 \nL 3750 4275 \nQ 4000 4700 4150 5250 \nQ 4400 5100 4725 4975 \nz\n\" transform=\"scale(0.015625)\"/>\n      <path id=\"SimHei-4e0e\" d=\"M 5350 100 \nQ 5275 -300 4925 -425 \nQ 4575 -550 3900 -600 \nQ 3875 -375 3650 -25 \nQ 4375 -50 4575 0 \nQ 4775 50 4837 225 \nQ 4900 400 5100 2350 \nL 1125 2350 \nQ 1450 4350 1475 5200 \nQ 1800 5150 2075 5125 \nQ 1975 4825 1900 4275 \nL 4900 4275 \nQ 5400 4275 5800 4300 \nL 5800 3825 \nQ 5400 3850 4950 3850 \nL 1850 3850 \nL 1700 2750 \nL 5675 2750 \nQ 5625 2450 5575 2050 \nL 5350 100 \nz\nM 3675 1350 \nQ 4125 1350 4500 1375 \nL 4500 875 \nQ 4125 900 3850 900 \nL 1450 900 \nQ 1000 900 500 875 \nL 500 1375 \nQ 1000 1350 1450 1350 \nL 3675 1350 \nz\n\" transform=\"scale(0.015625)\"/>\n      <path id=\"SimHei-62df\" d=\"M 1675 125 \nQ 1675 -175 1500 -275 \nQ 1325 -375 800 -500 \nQ 750 -225 575 0 \nQ 1225 25 1225 275 \nL 1225 1875 \nQ 700 1625 475 1500 \nQ 375 1800 250 1975 \nQ 525 2050 1225 2325 \nL 1225 3550 \nQ 725 3550 350 3525 \nL 350 4000 \nQ 700 3950 1225 3950 \nQ 1225 4625 1200 5225 \nL 1725 5225 \nQ 1675 4550 1675 3950 \nQ 2025 3950 2325 3975 \nL 2325 3525 \nQ 1975 3550 1675 3550 \nL 1675 2475 \nQ 2150 2675 2300 2800 \nQ 2300 2550 2325 2325 \nQ 2125 2250 1675 2050 \nL 1675 125 \nz\nM 4950 5050 \nQ 5275 5025 5500 5000 \nQ 5425 4650 5450 3337 \nQ 5475 2025 5250 1275 \nQ 5850 550 6200 -50 \nQ 5975 -225 5775 -400 \nQ 5525 100 5050 800 \nQ 4800 450 4437 112 \nQ 4075 -225 3325 -650 \nQ 3175 -450 2925 -250 \nQ 3425 -25 3900 325 \nQ 4375 675 4612 1050 \nQ 4850 1425 4925 2150 \nQ 5000 2875 4950 5050 \nz\nM 2500 700 \nQ 2675 875 2675 1200 \nL 2675 3475 \nQ 2675 3925 2650 4400 \nL 3175 4400 \nQ 3125 3975 3125 3500 \nL 3125 1175 \nQ 3775 1850 4050 2200 \nQ 4150 1925 4300 1725 \nQ 4025 1500 2900 300 \nL 2500 700 \nz\nM 3800 5100 \nQ 4375 4025 4575 3550 \nQ 4250 3400 4100 3300 \nQ 3850 3875 3375 4875 \nQ 3575 4950 3800 5100 \nz\n\" transform=\"scale(0.015625)\"/>\n      <path id=\"SimHei-5408\" d=\"M 5050 1800 \nQ 5025 1550 5025 650 \nQ 5025 -250 5050 -525 \nL 4525 -525 \nL 4525 -50 \nL 1750 -50 \nL 1750 -600 \nL 1250 -600 \nQ 1275 -300 1275 550 \nQ 1275 1425 1250 1800 \nL 5050 1800 \nz\nM 3375 4800 \nQ 4100 3925 4550 3600 \nQ 5000 3275 5375 3100 \nQ 5750 2925 6100 2825 \nQ 5850 2550 5775 2300 \nQ 5275 2525 4875 2775 \nQ 4475 3025 4062 3412 \nQ 3650 3800 3125 4475 \nQ 2650 3800 2187 3362 \nQ 1725 2925 1400 2675 \nQ 1075 2425 675 2175 \nQ 625 2275 275 2575 \nQ 800 2825 1275 3175 \nQ 1750 3525 2225 4062 \nQ 2700 4600 3000 5225 \nQ 3275 5050 3500 4950 \nL 3375 4800 \nz\nM 4525 350 \nL 4525 1400 \nL 1750 1400 \nL 1750 350 \nL 4525 350 \nz\nM 3925 2825 \nQ 4325 2825 4625 2850 \nL 4625 2375 \nQ 4300 2400 3950 2400 \nL 2550 2400 \nQ 2025 2400 1700 2375 \nL 1700 2850 \nQ 2175 2825 2550 2825 \nL 3925 2825 \nz\n\" transform=\"scale(0.015625)\"/>\n      <path id=\"SimHei-503c\" d=\"M 3675 4450 \nL 3675 5100 \nQ 3975 5075 4350 5050 \nQ 4225 4875 4200 4450 \nL 5125 4450 \nQ 5550 4450 5875 4475 \nL 5875 4025 \nQ 5525 4050 5125 4050 \nL 4175 4050 \nL 4125 3500 \nL 5400 3500 \nQ 5375 3200 5375 2700 \nL 5375 150 \nQ 5875 150 6100 175 \nL 6100 -275 \nQ 5775 -250 5200 -250 \nL 2850 -250 \nQ 2275 -250 1900 -275 \nL 1900 175 \nQ 2125 150 2600 150 \nL 2600 2700 \nQ 2600 3175 2575 3500 \nL 3600 3500 \nL 3650 4050 \nL 3200 4050 \nQ 2575 4050 2225 4025 \nL 2225 4475 \nQ 2550 4450 3200 4450 \nL 3675 4450 \nz\nM 2225 4900 \nQ 2025 4675 1650 3750 \nL 1650 450 \nQ 1650 -75 1675 -550 \nL 1150 -550 \nQ 1175 -125 1175 375 \nL 1175 2950 \nQ 875 2450 625 2150 \nQ 425 2425 250 2575 \nQ 500 2825 937 3537 \nQ 1375 4250 1625 5150 \nQ 1975 4975 2225 4900 \nz\nM 4925 2650 \nL 4925 3150 \nL 3075 3150 \nL 3075 2650 \nL 4925 2650 \nz\nM 4925 150 \nL 4925 625 \nL 3075 625 \nL 3075 150 \nL 4925 150 \nz\nM 4925 1000 \nL 4925 1450 \nL 3075 1450 \nL 3075 1000 \nL 4925 1000 \nz\nM 4925 1825 \nL 4925 2275 \nL 3075 2275 \nL 3075 1825 \nL 4925 1825 \nz\n\" transform=\"scale(0.015625)\"/>\n      <path id=\"SimHei-7684\" d=\"M 2100 4975 \nQ 1975 4750 1750 3950 \nL 2875 3950 \nQ 2850 3525 2850 2875 \nL 2850 675 \nQ 2850 300 2875 -400 \nL 2375 -400 \nL 2375 100 \nL 1100 100 \nL 1100 -450 \nL 600 -450 \nQ 625 350 625 550 \nL 625 2850 \nQ 625 3525 600 3950 \nL 1325 3950 \nQ 1450 4525 1525 5150 \nQ 1875 5025 2100 4975 \nz\nM 5825 3075 \nQ 5800 1550 5700 175 \nQ 5650 -275 5225 -425 \nQ 4800 -575 4275 -625 \nQ 4250 -350 4050 -50 \nQ 4550 -75 4837 -25 \nQ 5125 25 5200 200 \nQ 5275 375 5312 1225 \nQ 5350 2075 5375 3600 \nL 3925 3600 \nQ 3725 3125 3350 2475 \nQ 3175 2650 2925 2750 \nQ 3150 3050 3350 3475 \nQ 3550 3900 3700 4400 \nQ 3850 4900 3875 5175 \nQ 4225 5025 4475 4950 \nQ 4350 4750 4262 4512 \nQ 4175 4275 4075 4050 \nL 5850 4050 \nQ 5825 3525 5825 3075 \nz\nM 2375 525 \nL 2375 1850 \nL 1100 1850 \nL 1100 525 \nL 2375 525 \nz\nM 2375 2275 \nL 2375 3525 \nL 1100 3525 \nL 1100 2275 \nL 2375 2275 \nz\nM 4350 2050 \nQ 4500 1750 4700 1275 \nQ 4525 1200 4225 1025 \nQ 4050 1500 3900 1837 \nQ 3750 2175 3600 2400 \nQ 3775 2500 4050 2650 \nL 4350 2050 \nz\n\" transform=\"scale(0.015625)\"/>\n      <path id=\"SimHei-6563\" d=\"M 4750 4975 \nQ 4625 4850 4537 4600 \nQ 4450 4350 4325 3975 \nL 5350 3975 \nQ 5650 3975 6050 4000 \nL 6050 3550 \nQ 5675 3575 5475 3575 \nQ 5450 2800 5350 2112 \nQ 5250 1425 4925 875 \nQ 5450 250 6200 -100 \nQ 5950 -200 5750 -500 \nQ 5075 0 4650 500 \nQ 4275 -50 3525 -600 \nQ 3375 -425 3100 -300 \nQ 3875 150 4375 875 \nQ 3925 1575 3800 2700 \nQ 3700 2525 3550 2275 \nQ 3350 2425 3125 2525 \nQ 3450 2975 3725 3662 \nQ 4000 4350 4150 5150 \nL 4750 4975 \nz\nM 3025 2550 \nQ 3000 2075 3000 1625 \nL 3000 25 \nQ 3000 -450 2250 -500 \nQ 2225 -275 2050 0 \nQ 2525 0 2525 200 \nL 2525 525 \nL 1275 525 \nL 1275 -550 \nL 800 -550 \nQ 825 -75 825 450 \nL 825 1650 \nQ 825 2100 800 2550 \nL 3025 2550 \nz\nM 1075 4350 \nQ 1075 4775 1050 5150 \nL 1550 5150 \nQ 1525 4825 1525 4350 \nL 2225 4350 \nQ 2225 4850 2200 5150 \nL 2725 5150 \nQ 2700 4850 2700 4350 \nQ 2925 4350 3250 4375 \nL 3250 3950 \nQ 2925 3975 2700 3975 \nL 2700 3375 \nQ 2900 3375 3300 3400 \nL 3300 2975 \nQ 2925 3000 2525 3000 \nL 1100 3000 \nQ 750 3000 275 2975 \nL 275 3400 \nQ 750 3375 1075 3375 \nL 1075 3975 \nQ 825 3975 425 3950 \nL 425 4375 \nQ 800 4350 1075 4350 \nz\nM 4150 3375 \nQ 4250 2000 4625 1300 \nQ 4800 1625 4900 2187 \nQ 5000 2750 5025 3575 \nL 4225 3575 \nL 4150 3375 \nz\nM 2525 900 \nL 2525 1350 \nL 1275 1350 \nL 1275 900 \nL 2525 900 \nz\nM 2525 1725 \nL 2525 2175 \nL 1275 2175 \nL 1275 1725 \nL 2525 1725 \nz\nM 2225 3375 \nL 2225 3975 \nL 1525 3975 \nL 1525 3375 \nL 2225 3375 \nz\n\" transform=\"scale(0.015625)\"/>\n      <path id=\"SimHei-70b9\" d=\"M 3325 5200 \nQ 3300 4925 3300 4375 \nL 4900 4375 \nQ 5275 4375 5725 4400 \nL 5725 3925 \nQ 5300 3950 4900 3950 \nL 3300 3950 \nL 3300 3225 \nL 5225 3225 \nQ 5200 2700 5200 2150 \nQ 5200 1625 5225 1175 \nL 1175 1175 \nQ 1200 1625 1200 2175 \nQ 1200 2725 1175 3225 \nL 2775 3225 \nL 2775 4500 \nQ 2775 4900 2750 5200 \nL 3325 5200 \nz\nM 4700 1600 \nL 4700 2800 \nL 1725 2800 \nL 1725 1600 \nL 4700 1600 \nz\nM 1500 750 \nQ 1025 -250 825 -625 \nQ 625 -475 325 -375 \nQ 650 50 950 925 \nQ 1200 800 1500 750 \nz\nM 5325 850 \nQ 5775 150 6075 -350 \nQ 5925 -425 5575 -625 \nQ 5375 -150 4900 575 \nQ 5150 700 5325 850 \nz\nM 3975 -575 \nQ 3775 -100 3400 575 \nQ 3575 675 3825 825 \nQ 4350 -75 4450 -325 \nQ 4200 -450 3975 -575 \nz\nM 2375 -575 \nQ 2350 -300 1975 550 \nQ 2200 625 2425 775 \nQ 2800 -75 2900 -350 \nQ 2625 -450 2375 -575 \nz\n\" transform=\"scale(0.015625)\"/>\n      <path id=\"SimHei-56fe\" d=\"M 5800 4975 \nQ 5775 4350 5775 3600 \nL 5775 925 \nQ 5775 150 5800 -600 \nL 5300 -600 \nL 5300 -275 \nL 1125 -275 \nL 1125 -650 \nL 625 -650 \nQ 650 125 650 950 \nL 650 3600 \nQ 650 4325 625 4975 \nL 5800 4975 \nz\nM 5300 150 \nL 5300 4575 \nL 1125 4575 \nL 1125 150 \nL 5300 150 \nz\nM 3225 4250 \nQ 3075 4100 2950 3925 \nL 4625 3925 \nQ 4525 3700 4300 3375 \nQ 4075 3050 3600 2600 \nQ 4350 2225 5075 2150 \nQ 4900 1925 4775 1675 \nQ 3850 1950 3225 2350 \nQ 2500 1875 1675 1650 \nQ 1600 1875 1400 2075 \nQ 2200 2200 2875 2600 \nQ 2525 2925 2375 3150 \nQ 2150 2900 1900 2650 \nQ 1725 2850 1525 2950 \nQ 1950 3300 2250 3737 \nQ 2550 4175 2675 4475 \nQ 2925 4350 3225 4250 \nz\nM 2450 1275 \nQ 3550 950 4100 725 \nQ 3975 525 3850 300 \nQ 2825 725 2275 850 \nQ 2375 1050 2450 1275 \nz\nM 2925 2050 \nQ 3775 1700 4075 1600 \nQ 3950 1400 3850 1150 \nQ 3000 1550 2700 1650 \nQ 2825 1825 2925 2050 \nz\nM 2625 3450 \nQ 3000 3025 3275 2850 \nQ 3600 3100 3875 3525 \nL 2675 3525 \nL 2625 3450 \nz\n\" transform=\"scale(0.015625)\"/>\n     </defs>\n     <use xlink:href=\"#SimHei-6b8b\"/>\n     <use xlink:href=\"#SimHei-5dee\" x=\"100\"/>\n     <use xlink:href=\"#SimHei-4e0e\" x=\"200\"/>\n     <use xlink:href=\"#SimHei-62df\" x=\"300\"/>\n     <use xlink:href=\"#SimHei-5408\" x=\"400\"/>\n     <use xlink:href=\"#SimHei-503c\" x=\"500\"/>\n     <use xlink:href=\"#SimHei-7684\" x=\"600\"/>\n     <use xlink:href=\"#SimHei-6563\" x=\"700\"/>\n     <use xlink:href=\"#SimHei-70b9\" x=\"800\"/>\n     <use xlink:href=\"#SimHei-56fe\" x=\"900\"/>\n    </g>\n   </g>\n  </g>\n </g>\n <defs>\n  <clipPath id=\"p798779deca\">\n   <rect x=\"46.325\" y=\"23.04375\" width=\"334.8\" height=\"217.44\"/>\n  </clipPath>\n </defs>\n</svg>\n",
      "text/plain": [
       "<Figure size 432x288 with 1 Axes>"
      ]
     },
     "metadata": {
      "needs_background": "light"
     },
     "output_type": "display_data"
    }
   ],
   "source": [
    "plt.rcParams[\"font.sans-serif\"] = [\"SimHei\"]\n",
    "plt.rcParams[\"axes.unicode_minus\"] = False\n",
    "%matplotlib inline\n",
    "\n",
    "res = results.resid  # 从OLS回归模型中获取残差\n",
    "fitted = results.fittedvalues  # 从OLS回归模型中获取拟合值\n",
    "plt.scatter(fitted, res)\n",
    "plt.xlabel(\"Fitted values\")\n",
    "plt.ylabel(\"Residuals\")\n",
    "plt.title(\"残差与拟合值的散点图\")\n",
    "plt.show()"
   ]
  },
  {
   "cell_type": "code",
   "execution_count": 63,
   "metadata": {},
   "outputs": [
    {
     "name": "stdout",
     "output_type": "stream",
     "text": [
      "原假设H0：不存在异方差\n",
      "卡方检验值： 17.630236886222217\n",
      "p值： 0.22414399728876472\n"
     ]
    }
   ],
   "source": [
    "lm_statistic, lm_pval = het_white(results.resid, reg.exog)[:2]\n",
    "print(\"原假设H0：不存在异方差\")\n",
    "print(\"卡方检验值：\", lm_statistic)\n",
    "print(\"p值：\", lm_pval)"
   ]
  }
 ],
 "metadata": {
  "kernelspec": {
   "display_name": "Python 3 (ipykernel)",
   "language": "python",
   "name": "python3"
  },
  "language_info": {
   "codemirror_mode": {
    "name": "ipython",
    "version": 3
   },
   "file_extension": ".py",
   "mimetype": "text/x-python",
   "name": "python",
   "nbconvert_exporter": "python",
   "pygments_lexer": "ipython3",
   "version": "3.9.12"
  },
  "vscode": {
   "interpreter": {
    "hash": "5a59823d3e6695cb965693098479e8e0ed70c3f74dbfe2d46cc0a8fabfd85b31"
   }
  }
 },
 "nbformat": 4,
 "nbformat_minor": 2
}
