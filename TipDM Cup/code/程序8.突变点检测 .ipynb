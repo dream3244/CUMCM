{
 "cells": [
  {
   "cell_type": "markdown",
   "id": "3d50492f",
   "metadata": {},
   "source": [
    "# 突变检测-全部数据"
   ]
  },
  {
   "cell_type": "code",
   "execution_count": 57,
   "id": "2cd85088",
   "metadata": {},
   "outputs": [],
   "source": [
    "import os\n",
    "import numpy as np\n",
    "import pandas as pd\n",
    "import matplotlib.pyplot as plt\n",
    "%matplotlib inline"
   ]
  },
  {
   "cell_type": "code",
   "execution_count": 58,
   "id": "eee8f6c7",
   "metadata": {},
   "outputs": [],
   "source": [
    "#数据读取\n",
    "file_path = '/Users/86180/Desktop/赛题B/全部数据/附件2-行业日负荷数据.csv'\n",
    "data = pd.read_csv(file_path,parse_dates=['数据时间'],index_col=[1])\n",
    "\n",
    "#数据分解\n",
    "#大工业great，非普ind，商业com\n",
    "data_great= data.loc[data['行业类型']=='大工业用电'].drop('行业类型',axis = 1)\n",
    "data_ind=data.loc[data['行业类型']=='非普工业'].drop('行业类型',axis = 1)\n",
    "data_ord=data.loc[data['行业类型']=='普通工业'].drop('行业类型',axis = 1)\n",
    "data_com=data.loc[data['行业类型']=='商业'].drop('行业类型',axis = 1)\n",
    "\n",
    "data_great_max = data_great.drop('有功功率最小值（kw）',axis = 1)\n",
    "data_great_min = data_great.drop('有功功率最大值（kw）',axis = 1)\n",
    "data_ind_max = data_ind.drop('有功功率最小值（kw）',axis = 1)\n",
    "data_ind_min = data_ind.drop('有功功率最大值（kw）',axis = 1)\n",
    "data_ord_max = data_ord.drop('有功功率最小值（kw）',axis = 1)\n",
    "data_ord_min = data_ord.drop('有功功率最大值（kw）',axis = 1)\n",
    "data_com_max = data_com.drop('有功功率最小值（kw）',axis = 1)\n",
    "data_com_min = data_com.drop('有功功率最大值（kw）',axis = 1)"
   ]
  },
  {
   "cell_type": "code",
   "execution_count": 59,
   "id": "5db97a25",
   "metadata": {},
   "outputs": [],
   "source": [
    "def process(data):\n",
    "    # 重采样D\n",
    "    # 将有断点的时间序列变成连续时间序列\n",
    "    data_fill = data.resample('D').mean()\n",
    "    # 用中位数填充空缺值\n",
    "    data_fill[data_fill.isna().iloc[:,0]] = data.median()\n",
    "    # 将每天的减去每天中位数，使所有点的的功率变化都在一条水平线上\n",
    "    data_day_median = data_fill.median().values\n",
    "    data_values = [data_fill.iloc[i,0] - data_day_median[0] for i in range(data_fill.shape[0])]\n",
    "    #plt.plot(data_values)\n",
    "    \n",
    "    # 利用正态分布的3σ原则，得出异常点\n",
    "    data_values = pd.Series(data_values)\n",
    "    mean = data_values.mean()\n",
    "    std = data_values.std()\n",
    "    rule=(mean-3*std > data_values) | (mean+3*std < data_values)\n",
    "    #rule.sum()\n",
    "    # 先用中位数填充异常点，使异常点落在大部分取值范围中\n",
    "    data_del_wrong = data_values\n",
    "    data_del_wrong[rule] = data_values.median()\n",
    "    #plt.plot(data_del_wrong[:])\n",
    "    # 再用滑动平均数去给异常点赋值，使异常点的数值与周围5个点的数值连续\n",
    "    data_del_wrong[rule] = pd.Series(data_del_wrong).rolling(5, center=True).mean()[rule]\n",
    "    \n",
    "    #先用五天平均值作为一个数据点\n",
    "    data_rsp5D= data_del_wrong[:data_del_wrong.shape[0]//5-1]\n",
    "    for i in range(data_del_wrong.shape[0]//5):\n",
    "        sum=0\n",
    "        for j in range(5):\n",
    "            sum+=data_del_wrong[5*i+j]\n",
    "        data_rsp5D[i]= sum / 5\n",
    "        \n",
    "    # 用滑动窗口，使曲线平滑，去除噪声\n",
    "    window = 2\n",
    "    data_smooth = pd.Series(data_rsp5D).rolling(window, center=True).mean()\n",
    "    # 用滑动窗口给data_smooth数据两边各有window//2个的np.NaN值填充\n",
    "    for i in range(window//2):\n",
    "        sum=0\n",
    "        for j in range(i+1):\n",
    "            sum+=data_values[j]\n",
    "        data_smooth[i] = sum / (i+1)\n",
    "    for i in range(window//2):\n",
    "        sum=0\n",
    "        for j in range(i+1):\n",
    "            sum+=data_values[len(data_smooth) - j - 1]\n",
    "        data_smooth[len(data_smooth) - i - 1] = sum / (i+1)    \n",
    "   \n",
    "    return data_smooth\n"
   ]
  },
  {
   "cell_type": "code",
   "execution_count": 60,
   "id": "bba2bb2a",
   "metadata": {},
   "outputs": [],
   "source": [
    "data_greatmax = process(data_great_max)\n",
    "data_greatmin = process(data_great_min)\n",
    "\n",
    "data_indmax = process(data_ind_max)\n",
    "data_indmin = process(data_ind_min)\n",
    "\n",
    "data_commax = process(data_com_max)\n",
    "data_commin = process(data_com_min)\n",
    "\n",
    "data_ordmax = process(data_ord_max)\n",
    "data_ordmin = process(data_ord_min)"
   ]
  },
  {
   "cell_type": "markdown",
   "id": "65735eb2",
   "metadata": {},
   "source": [
    "### 时间序列突变点检测（每种方法求交集）"
   ]
  },
  {
   "cell_type": "markdown",
   "id": "5644e8ef",
   "metadata": {},
   "source": [
    "# SNHT"
   ]
  },
  {
   "cell_type": "code",
   "execution_count": 61,
   "id": "5d3dd63f",
   "metadata": {},
   "outputs": [],
   "source": [
    "def SNHT_change_point_detection(data):\n",
    "    data = np.array(data)\n",
    "    data_mean = np.mean(data)\n",
    "    n = data.shape[0]\n",
    "    k = range(1,n)\n",
    "    sigma = np.sqrt(np.sum((data-np.mean(data))**2)/(n-1))\n",
    "    TK = [x*(np.sum((data[0:x]-data_mean)/sigma)/x)**2+\n",
    "          (n-x)*(np.sum((data[x:n]-data_mean)/sigma)/(n-x))**2 for x in k]\n",
    "    T = np.max(TK)\n",
    "    K = list(TK).index(T)+1\n",
    "    return K\n",
    "    "
   ]
  },
  {
   "cell_type": "code",
   "execution_count": 63,
   "id": "fa749448",
   "metadata": {},
   "outputs": [
    {
     "data": {
      "text/plain": [
       "54"
      ]
     },
     "execution_count": 63,
     "metadata": {},
     "output_type": "execute_result"
    }
   ],
   "source": [
    "SNHT_greatmax = SNHT_change_point_detection(data_great_min)\n",
    "SNHT_greatmax \n"
   ]
  },
  {
   "cell_type": "markdown",
   "id": "1fbfd885",
   "metadata": {},
   "source": [
    "#  Pettitt"
   ]
  },
  {
   "cell_type": "code",
   "execution_count": 64,
   "id": "143187e7",
   "metadata": {},
   "outputs": [],
   "source": [
    "def Pettitt_change_point_detection(inputdata):\n",
    "    inputdata = np.array(inputdata)\n",
    "    n         = inputdata.shape[0]\n",
    "    k = range(n)\n",
    "    inputdataT = pd.Series(inputdata)\n",
    "    r = inputdataT.rank()\n",
    "    Uk = [2*np.sum(r[0:x])-x*(n + 1) for x in k]\n",
    "    Uka = list(np.abs(Uk))\n",
    "    U = np.max(Uka)\n",
    "    K = Uka.index(U)\n",
    "    pvalue         = 2 * np.exp((-6 * (U**2))/(n**3 + n**2))\n",
    "    if pvalue <= 0.05:\n",
    "        change_point_desc = '显著'\n",
    "    else:\n",
    "        change_point_desc = '不显著'\n",
    "    #Pettitt_result = {'突变点位置':K,'突变程度':change_point_desc}\n",
    "    return K #,Pettitt_result"
   ]
  },
  {
   "cell_type": "code",
   "execution_count": 66,
   "id": "2111952b",
   "metadata": {},
   "outputs": [
    {
     "data": {
      "text/plain": [
       "73"
      ]
     },
     "execution_count": 66,
     "metadata": {},
     "output_type": "execute_result"
    }
   ],
   "source": [
    "Petti_greatmin = Pettitt_change_point_detection(data_greatmin)\n",
    "Petti_greatmin"
   ]
  },
  {
   "cell_type": "markdown",
   "id": "a2083148",
   "metadata": {},
   "source": [
    "## Buishand U"
   ]
  },
  {
   "cell_type": "code",
   "execution_count": 67,
   "id": "52b5d10b",
   "metadata": {},
   "outputs": [],
   "source": [
    "def Buishand_U_change_point_detection(inputdata):\n",
    "    inputdata = np.array(inputdata)\n",
    "    inputdata_mean = np.mean(inputdata)\n",
    "    n  = inputdata.shape[0]\n",
    "    k = range(n)\n",
    "    Sk = [np.sum(inputdata[0:x+1] - inputdata_mean) for x in k]\n",
    "    sigma = np.sqrt(np.sum((inputdata-np.mean(inputdata))**2)/(n-1))\n",
    "    U = np.sum((Sk[0:(n - 2)]/sigma)**2)/(n * (n + 1))\n",
    "    Ska = np.abs(Sk)\n",
    "    S = np.max(Ska)\n",
    "    K = list(Ska).index(S) + 1\n",
    "    Skk = (Sk/sigma)\n",
    "    return K\n"
   ]
  },
  {
   "cell_type": "code",
   "execution_count": 68,
   "id": "dfa0598f",
   "metadata": {},
   "outputs": [
    {
     "data": {
      "text/plain": [
       "72"
      ]
     },
     "execution_count": 68,
     "metadata": {},
     "output_type": "execute_result"
    }
   ],
   "source": [
    "Buishand_greatmax = Buishand_U_change_point_detection(data_greatmax)\n",
    "Buishand_greatmax"
   ]
  },
  {
   "cell_type": "markdown",
   "id": "b3197388",
   "metadata": {},
   "source": [
    "## Mann-Kendall"
   ]
  },
  {
   "cell_type": "code",
   "execution_count": 72,
   "id": "cd15c52c",
   "metadata": {},
   "outputs": [],
   "source": [
    "def Kendall_change_point_detection(inputdata):\n",
    "    inputdata = np.array(inputdata)\n",
    "    n=inputdata.shape[0]\n",
    "    # 正序列\n",
    "    # 定义累计量(秩）序列Sk，初始值=0\n",
    "    Sk = [0]\n",
    "    # 定义统计量UFk，初始值 =0\n",
    "    UFk = [0]\n",
    "    # 定义Sk序列元素s，初始值 =0\n",
    "    s = 0\n",
    "    Exp_value = [0]\n",
    "    Var_value = [0]\n",
    "    # i从1开始,此公式中，令UFk(0)=0\n",
    "    for i in range(1,n):\n",
    "        for j in range(i):\n",
    "            if inputdata[i] > inputdata[j]:\n",
    "                s = s+1\n",
    "            else:\n",
    "                s = s+0\n",
    "        Sk.append(s)\n",
    "        Exp_value.append((i+1)*(i+2)/4 )                     # Sk[i]的均值\n",
    "        Var_value.append((i+1)*i*(2*(i+1)+5)/72 )            # Sk[i]的方差\n",
    "        UFk.append((Sk[i]-Exp_value[i])/np.sqrt(Var_value[i]))\n",
    "        ################################################\n",
    "    # 逆序列\n",
    "    # 定义逆序累计量序列Sk2，长度与inputdata一致，初始值=0\n",
    "    Sk2 = [0]\n",
    "    # 定义逆序统计量UBk，长度与inputdata一致，初始值=0\n",
    "    UBk  = [0]\n",
    "    UBk2  = [0]\n",
    "    # s归0\n",
    "    s2  =  0\n",
    "    Exp_value2  = [0]\n",
    "    Var_value2  = [0]\n",
    "    # 按时间序列逆转样本y\n",
    "    inputdataT = list(reversed(inputdata))\n",
    "    # i从2开始，因为根据统计量UBk公式，i=1时，Sk2(1)、E(1)、Var(1)均为0\n",
    "    # 此时UBk无意义，因此公式中，令UBk(1)=0\n",
    "    for i in range(1,n):\n",
    "        for j in range(i):\n",
    "            if inputdataT[i] > inputdataT[j]:\n",
    "                s2 = s2+1\n",
    "            else:\n",
    "                s2 = s2+0\n",
    "        Sk2.append(s2)\n",
    "        Exp_value2.append((i+1)*(i+2)/4 )                     # Sk[i]的均值\n",
    "        Var_value2.append((i+1)*i*(2*(i+1)+5)/72 )            # Sk[i]的方差\n",
    "        UBk.append((Sk2[i]-Exp_value2[i])/np.sqrt(Var_value2[i]))\n",
    "        UBk2.append(-UBk[i])\n",
    "    # 由于对逆序序列的累计量Sk2的构建中，依然用的是累加法，即后者大于前者时s加1，\n",
    "    # 则s的大小表征了一种上升的趋势的大小，而序列逆序以后，应当表现出与原序列相反\n",
    "    # 的趋势表现，因此，用累加法统计Sk2序列，统计量公式(S(i)-E(i))/sqrt(Var(i))\n",
    "    #也不应改变，但统计量UBk应取相反数以表征正确的逆序序列的趋势\n",
    "    #  UBk(i)=0-(Sk2(i)-E)/sqrt(Var)\n",
    "    # 此时上一步得到的UBk表现的是逆序列在逆序时间上的趋势统计量\n",
    "    # 与UFk做图寻找突变点时，2条曲线应具有同样的时间轴，因此\n",
    "    # 再按时间序列逆转结果统计量UBk，得到时间正序的UBkT，\n",
    "    UBkT = list(reversed(UBk2))\n",
    "    diff = np.array(UFk) - np.array(UBkT)\n",
    "    K    = list()\n",
    "    # 找出交叉点\n",
    "    for k in range(1,n):\n",
    "        if diff[k-1]*diff[k]<0:\n",
    "            K.append(k)\n",
    "    '''\n",
    "    # 做突变检测图时，使用UFk和UBkT\n",
    "    plt.figure(figsize=(10,5))\n",
    "    plt.plot(range(1,n+1) ,UFk  ,label='UFk') # UFk\n",
    "    plt.plot(range(1,n+1) ,UBkT ,label='UBk') # UBk\n",
    "    plt.ylabel('UFk-UBk')\n",
    "    x_lim = plt.xlim()\n",
    "    plt.plot(x_lim,[-1.96,-1.96],'m--',color='r')\n",
    "    plt.plot(x_lim,[  0  ,  0  ],'m--')\n",
    "    plt.plot(x_lim,[+1.96,+1.96],'m--',color='r')\n",
    "    plt.legend(loc=2) # 图例\n",
    "    plt.show()\n",
    "    '''     \n",
    "    return K\n"
   ]
  },
  {
   "cell_type": "code",
   "execution_count": 73,
   "id": "a8398545",
   "metadata": {},
   "outputs": [],
   "source": [
    "MK_greatmax = Kendall_change_point_detection(data_greatmax)\n",
    "#MK_greatmax  [67, 105, 125]\n",
    "MK_greatmin = Kendall_change_point_detection(data_greatmin)\n",
    "#MK_greatmin [4, 11, 71, 98, 138]\n",
    "MK_indmax = Kendall_change_point_detection(data_indmax)\n",
    "MK_indmin = Kendall_change_point_detection(data_indmin)\n",
    "MK_ordmax = Kendall_change_point_detection(data_ordmax)\n",
    "MK_ordmin = Kendall_change_point_detection(data_ordmin)\n",
    "MK_commax = Kendall_change_point_detection(data_commax)\n",
    "MK_commin = Kendall_change_point_detection(data_commin)\n",
    "#MK_indmax [37, 86, 108]\n",
    "#MK_indmin [32, 88, 119]\n",
    "#MK_commax [66]\n",
    "#MK_commin [16, 68, 105, 118]\n",
    "#MK_ordmax [5, 9, 72]\n",
    "#MK_ordmin [117]"
   ]
  },
  {
   "cell_type": "markdown",
   "id": "a1d4f8db",
   "metadata": {},
   "source": [
    "# 滑动T检测"
   ]
  },
  {
   "cell_type": "code",
   "execution_count": 74,
   "id": "8b2eb8bc",
   "metadata": {},
   "outputs": [],
   "source": [
    "# v:自由度\n",
    "def get_tvalue(v, sig_level):\n",
    "    t_values = pd.read_excel(r'/Users/86180/Desktop/赛题B/全部数据/t_values.xlsx')\n",
    "    return t_values[t_values['n'] == v][sig_level].values\n"
   ]
  },
  {
   "cell_type": "code",
   "execution_count": 76,
   "id": "99f50406",
   "metadata": {},
   "outputs": [],
   "source": [
    "# 传入时间序列以及待检验数据\n",
    "# data:数据， step：步长， sig_level：显著水平\n",
    "def huaTTest(data, step, sig_level):\n",
    "    datacount = len(data)\n",
    "    v = 2*step-2  # 自由度\n",
    "    t_value = get_tvalue(v, sig_level)  # t检验值\n",
    "    n1 = step\n",
    "    n2 = step\n",
    "    t = np.zeros(len(data))\n",
    "    c = 1.0 / n1 + 1.0 / n2\n",
    "\n",
    "    for i in range(step-1, datacount-step):\n",
    "        data1 = data[i-step+1:i+1]\n",
    "        data2 = data[i+1:i+step+1]\n",
    "        # 计算均值\n",
    "        x1_mean = data1.mean()\n",
    "        x2_mean = data2.mean()\n",
    "        # 计算方差\n",
    "        s1 = data1.var()\n",
    "        s2 = data2.var()\n",
    "        sw2 = (n1*s1 + n2*s2)/(n1+n2-2.0)\n",
    "        t[i - step + 1] = (x1_mean - x2_mean) / np.sqrt(sw2 * c)\n",
    "    return t, t_value"
   ]
  },
  {
   "cell_type": "code",
   "execution_count": 77,
   "id": "df199023",
   "metadata": {},
   "outputs": [],
   "source": [
    "def resampleTime(time):\n",
    "    time_rsp5D= time[:]\n",
    "    a=2\n",
    "    i=0\n",
    "    while(a<time.shape[0]):\n",
    "          time_rsp5D[i]=time[a]\n",
    "          a+=5\n",
    "          i+=1\n",
    "    time_rsp5D = time_rsp5D[:i]\n",
    "    return time_rsp5D   "
   ]
  },
  {
   "cell_type": "code",
   "execution_count": 78,
   "id": "52316480",
   "metadata": {},
   "outputs": [],
   "source": [
    "# 获取数据-时间\n",
    "file_path = '/Users/86180/Desktop/赛题B/全部数据/附件2-行业日负荷数据.csv'\n",
    "data_xls = pd.read_csv(file_path)\n",
    "timegreattmp = data_xls.loc[data_xls['行业类型']=='大工业用电'].drop('行业类型',axis = 1)['数据时间']\n",
    "timeindtmp = data_xls.loc[data_xls['行业类型']=='非普工业'].drop('行业类型',axis = 1)['数据时间']\n",
    "timeordtmp = data_xls.loc[data_xls['行业类型']=='普通工业'].drop('行业类型',axis = 1)['数据时间']\n",
    "timecomtmp = data_xls.loc[data_xls['行业类型']=='商业'].drop('行业类型',axis = 1)['数据时间']\n",
    "timegreat=np.array(timegreattmp)\n",
    "timeind=np.array(timeindtmp)\n",
    "timeord=np.array(timeordtmp)\n",
    "timecom=np.array(timecomtmp)\n",
    "time_great = resampleTime(timegreat)\n",
    "time_ind = resampleTime(timeind)\n",
    "time_ord = resampleTime(timeord)\n",
    "time_com = resampleTime(timecom)"
   ]
  },
  {
   "cell_type": "code",
   "execution_count": 79,
   "id": "639d296b",
   "metadata": {},
   "outputs": [],
   "source": [
    "def huaT(data_smooth,time):\n",
    "    casa = np.array(data_smooth)\n",
    "    datacount = len(casa)\n",
    "    steps = range(2,4)\n",
    "    dict = {}  # 存储显著变化的点信息\n",
    "    # 按照可取步长计算\n",
    "    for step in tqdm(steps, ncols=80, desc=u'滑动T检验进度'):\n",
    "        t, t_value = huaTTest(casa, step, 0.05)\n",
    "        t = t[t != 0]\n",
    "        sig_values = []  # 存储显著变化值\n",
    "        T_values = [] #显著变化值的t值\n",
    "        for i in range(len(t)):\n",
    "            if np.abs(t[i]) > t_value:\n",
    "                sig_values.append(time[i + step - 1])\n",
    "                T_values.append(t[i])\n",
    "        if sig_values:\n",
    "            # 将结果存入词典\n",
    "            dict_key = 'step'+str(step)\n",
    "            dict[dict_key] = sig_values\n",
    "        #绘图    \n",
    "        fig, ax = plt.subplots(figsize=(9, 5), sharey=True)\n",
    "        fontdict = {'size': 12, 'color': 'k'}\n",
    "\n",
    "        x = time[step-1:datacount-step]\n",
    "        #ax.set_xticks(x[::2])\n",
    "        # ax.set_xlim((time[0], time[datacount-step]))\n",
    "        ax.plot(x, t, c='k', linewidth=1.5, label=u'滑动T值', zorder=1)\n",
    "        # 添加显著水平线\n",
    "        ax.hlines(y=t_value, xmin=np.min(x), xmax=np.max(x), linewidth=1.5, linestyles='--', label=u'0.05显著水平')\n",
    "        ax.hlines(y=-t_value, xmin=np.min(x), xmax=np.max(x), linewidth=1.5, linestyles='--', label=None)\n",
    "        # 修改刻度线指向\n",
    "        ax.tick_params(left=True, bottom=True, direction='in', labelsize=12)\n",
    "        # 添加坐标轴标签\n",
    "        ax.set_xlabel(u'时间', fontdict=fontdict)\n",
    "        ax.set_ylabel('T', fontdict=fontdict)\n",
    "        # 设置图例\n",
    "        ax.legend(bbox_to_anchor=(0.95, 0.95), facecolor='w', frameon=False)\n",
    "\n",
    "        # 保存文件\n",
    "        basepath = r'/Users/86180/Desktop/'\n",
    "        filename = r'ordmaxhuaTstep%d.png'%step\n",
    "        savepath = basepath + filename\n",
    "\n",
    "        # 检查保存目录是否存在\n",
    "        if not os.path.exists(basepath):\n",
    "            print('创建保存目录')\n",
    "            os.mkdir(basepath)\n",
    "            print('创建完成！')\n",
    "        plt.savefig(savepath)\n",
    "    # 写入数据\n",
    "    # 创建workbool和sheet对象\n",
    "    workbook = xlwt.Workbook()\n",
    "    sheet1 = workbook.add_sheet('sheet1', cell_overwrite_ok=True)\n",
    "\n",
    "    # 写入头部信息\n",
    "    for head in range(len(list(dict.keys()))):\n",
    "        sheet1.write(0, head, label=list(dict.keys())[head])\n",
    "\n",
    "    # 写入数据\n",
    "    # 获取最大行数\n",
    "    max_row = max([len(list(dict.values())[i]) for i in range(len(list(dict.values())))])\n",
    "    for row in range(max_row):\n",
    "        for col in range(len(list(dict.keys()))):\n",
    "            if row < len(list(dict.values())[col]):\n",
    "                sheet1.write(row+1, col, label=list(dict.values())[col][row])  # 将np.int32转换为int\n",
    "\n",
    "    # 保存结果\n",
    "    workbook.save(r'/Users/86180/Desktop/B题 2.1 突变点检测-全部数据/普通工业/huaTord_max.xls')\n",
    "    \n"
   ]
  },
  {
   "cell_type": "code",
   "execution_count": 80,
   "id": "f2e3d371",
   "metadata": {},
   "outputs": [],
   "source": [
    "def huaT2(data_smooth,time):\n",
    "    casa = np.array(data_smooth)\n",
    "    datacount = len(casa)\n",
    "    steps = range(2,4)\n",
    "    dict1 = {}  # 存储显著变化的点的时间\n",
    "    dict2 = {} #显著变化点的T值\n",
    "    # 按照可取步长计算\n",
    "    for step in tqdm(steps, ncols=80, desc=u'滑动T检验进度'):\n",
    "        t, t_value = huaTTest(casa, step, 0.05)\n",
    "        t = t[t != 0]\n",
    "        sig_values = []  # 存储显著变化值\n",
    "        T_values = [] #显著变化值的t值\n",
    "        for i in range(len(t)):\n",
    "            if np.abs(t[i]) > t_value:\n",
    "                sig_values.append(time[i + step - 1])\n",
    "                T_values.append(t[i])\n",
    "        if T_values:\n",
    "            # 将结果存入词典\n",
    "            dict_key = 'step'+str(step)\n",
    "            dict1[dict_key] = sig_values\n",
    "            dict2[dict_key] = T_values\n",
    "    # 写入数据\n",
    "    # 创建workbool和sheet对象\n",
    "    workbook = xlwt.Workbook()\n",
    "    sheet1 = workbook.add_sheet('sheet1', cell_overwrite_ok=True)\n",
    "    #sheet2 = workbook.add_sheet('sheet2', cell_overwrite_ok=True)\n",
    "\n",
    "    # 写入头部信息\n",
    "    for head in range(len(list(dict1.keys()))):\n",
    "        sheet1.write(0, head, label=list(dict1.keys())[head])\n",
    "\n",
    "    # 写入数据\n",
    "    # 获取最大行数\n",
    "    max_row = max([len(list(dict1.values())[i]) for i in range(len(list(dict1.values())))])\n",
    "    for row in range(max_row):\n",
    "        for col in range(0,len(list(dict1.keys())),2):\n",
    "            if row < len(list(dict1.values())[col]):\n",
    "                sheet1.write(row+1, col, label=list(dict1.values())[col][row])  # 将np.int32转换为int\n",
    "                sheet1.write(row+1, col+1, label=list(dict2.values())[col][row])  # 将np.int32转换为int\n",
    "\n",
    "    # 保存结果\n",
    "    workbook.save(r'/Users/86180/Desktop/B题 2.1 突变点检测-全部数据/滑动T-结果/商业/T_min.xls')\n",
    "    \n"
   ]
  },
  {
   "cell_type": "code",
   "execution_count": 81,
   "id": "d143604d",
   "metadata": {},
   "outputs": [
    {
     "name": "stderr",
     "output_type": "stream",
     "text": [
      "滑动T检验进度: 100%|██████████████████████████████| 2/2 [00:00<00:00, 66.64it/s]\n"
     ]
    }
   ],
   "source": [
    "\n",
    "data_commin = process(data_com_min)\n",
    "huaT2(data_commin,time_com)"
   ]
  },
  {
   "cell_type": "code",
   "execution_count": 82,
   "id": "dca9ac15",
   "metadata": {},
   "outputs": [
    {
     "name": "stderr",
     "output_type": "stream",
     "text": [
      "滑动T检验进度: 100%|██████████████████████████████| 2/2 [00:01<00:00,  1.73it/s]\n"
     ]
    },
    {
     "data": {
      "image/png": "[encoded data removed]",
      "text/plain": [
       "<Figure size 648x360 with 1 Axes>"
      ]
     },
     "metadata": {
      "needs_background": "light"
     },
     "output_type": "display_data"
    },
    {
     "data": {
      "image/png": "[encoded data removed]",
      "text/plain": [
       "<Figure size 648x360 with 1 Axes>"
      ]
     },
     "metadata": {
      "needs_background": "light"
     },
     "output_type": "display_data"
    }
   ],
   "source": [
    "huaT(data_ordmax,time_ord)"
   ]
  }
 ],
 "metadata": {
  "kernelspec": {
   "display_name": "Python 3 (ipykernel)",
   "language": "python",
   "name": "python3"
  },
  "language_info": {
   "codemirror_mode": {
    "name": "ipython",
    "version": 3
   },
   "file_extension": ".py",
   "mimetype": "text/x-python",
   "name": "python",
   "nbconvert_exporter": "python",
   "pygments_lexer": "ipython3",
   "version": "3.9.7"
  }
 },
 "nbformat": 4,
 "nbformat_minor": 5
}
