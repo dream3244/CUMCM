{
 "cells": [
  {
   "cell_type": "code",
   "execution_count": 1,
   "id": "5b48fc1e-b9d6-4fda-8fb5-57a327a7e00c",
   "metadata": {},
   "outputs": [],
   "source": [
    "import numpy as np\n",
    "import pandas as pd\n",
    "import matplotlib\n",
    "import matplotlib.pyplot as plt\n",
    "from datetime import datetime\n",
    "from numpy import pi, sin, cos, tan, arcsin, arccos, arctan, sqrt\n",
    "from sko.PSO import PSO\n",
    "\n",
    "plt.rcParams['font.sans-serif'] = ['SimHei']\n",
    "plt.rcParams['axes.unicode_minus'] = False"
   ]
  },
  {
   "cell_type": "code",
   "execution_count": 2,
   "id": "555dc3c7-a8d6-4145-8c4d-4a82b1211ee4",
   "metadata": {},
   "outputs": [],
   "source": [
    "PHI = 39.4 / 180 * pi\n",
    "ST = [9.0, 10.5, 12.0,  13.5, 15.0]\n",
    "D = [(datetime(2023,i,21)-datetime(2023,3,21)).days for i in range(1, 13)]\n",
    "h_t = 80 # 集热器中心高度\n",
    "h_max = 84 # 塔顶端高度\n",
    "h_m = 4  # 定日镜中心高度\n",
    "m_length, m_width = 6, 6\n",
    "m_x_bound, m_y_bound = [-3,3], [-3,3] # 定日镜坐标边界\n",
    "t_x_bound, t_z_bound = [-3.5, 3.5], [0, h_max]"
   ]
  },
  {
   "cell_type": "markdown",
   "id": "f7d3511c-abc5-4e39-90be-484aef73c919",
   "metadata": {},
   "source": [
    "## 常用函数"
   ]
  },
  {
   "cell_type": "code",
   "execution_count": 3,
   "id": "4169bf75-da71-4d32-a1e6-0dc8dd471647",
   "metadata": {},
   "outputs": [],
   "source": [
    "def cal_distance(m1xy, m2xy):\n",
    "    # 计算二维距离\n",
    "    dis = np.linalg.norm(m1xy - m2xy)\n",
    "    return dis"
   ]
  },
  {
   "cell_type": "code",
   "execution_count": 4,
   "id": "14c0ea43-74b8-4138-99ef-640164d905fe",
   "metadata": {},
   "outputs": [],
   "source": [
    "def in_bound(x, bound):\n",
    "    # 判断点是否出了边界\n",
    "    if (x < bound[0] or x > bound[1]):\n",
    "        return False\n",
    "    return True"
   ]
  },
  {
   "cell_type": "markdown",
   "id": "b4c2930b-adbf-493c-a288-fdfb467ad2aa",
   "metadata": {},
   "source": [
    "## 计算太阳高度角，方位角"
   ]
  },
  {
   "cell_type": "code",
   "execution_count": 5,
   "id": "be6dbd1d-ff03-4d6a-8b19-d4b8cbd226cd",
   "metadata": {},
   "outputs": [],
   "source": [
    "def cal_omega(st):\n",
    "    # 计算太阳时角\n",
    "    return pi / 12 * (st - 12)\n",
    "\n",
    "def cal_delta(d):\n",
    "    # 计算太阳赤纬角\n",
    "    sin_delta = sin(2*pi*d/365) * sin(2*pi*23.45/360)\n",
    "    return arcsin(sin_delta)\n",
    "\n",
    "def scale_in_min_max(num, min=-1, max=1):\n",
    "    # 将结果限制在范围内\n",
    "    if (num < min): return min\n",
    "    elif (num > max): return max\n",
    "    else: return num\n",
    "\n",
    "def cal_alpha_and_gamma_s(d, st):\n",
    "    # 计算太阳高度角和方位角\n",
    "    omega = cal_omega(st)\n",
    "    delta = cal_delta(d)\n",
    "    sin_alpha_s = cos(delta)*cos(PHI)*cos(omega) + sin(delta)*sin(PHI)\n",
    "    sin_alpha_s = scale_in_min_max(sin_alpha_s)\n",
    "    alpha_s = arcsin(sin_alpha_s)\n",
    "    cos_gamma_s = (sin(delta) - sin(alpha_s) * sin(PHI)) / ((cos(alpha_s) * cos(PHI)))\n",
    "    cos_gamma_s = scale_in_min_max(cos_gamma_s)\n",
    "    gamma_s = arccos(cos_gamma_s)\n",
    "    if (st > 12): \n",
    "        gamma_s = 2*pi - gamma_s\n",
    "    return alpha_s, gamma_s"
   ]
  },
  {
   "cell_type": "code",
   "execution_count": 6,
   "id": "3cd044a9-bda0-4f09-9358-e5d31ecfc6aa",
   "metadata": {},
   "outputs": [],
   "source": [
    "alpha_mat = np.zeros((12, 5))\n",
    "gamma_mat = np.zeros((12, 5))\n",
    "for i, d in enumerate(D):\n",
    "    for j, st in enumerate(ST):\n",
    "        alpha, gamma = cal_alpha_and_gamma_s(d, st)\n",
    "        alpha_mat[i,j] = alpha\n",
    "        gamma_mat[i,j] = gamma"
   ]
  },
  {
   "cell_type": "markdown",
   "id": "91d19bfd-aefb-442a-92e3-39bd331d7ff7",
   "metadata": {},
   "source": [
    "## 计算定日镜俯仰角，方位角"
   ]
  },
  {
   "cell_type": "code",
   "execution_count": 7,
   "id": "ef884f07-6207-45af-8d28-ba3a2f9af3f8",
   "metadata": {},
   "outputs": [],
   "source": [
    "def cal_S_r(mirror_xyz):\n",
    "    # 计算反射光线单位向量\n",
    "    O = np.array([0 ,0, h_t])\n",
    "    O_A = np.array(mirror_xyz)\n",
    "    v = O - O_A\n",
    "    v = v / np.linalg.norm(v)\n",
    "    return v\n",
    "\n",
    "def cal_S_i(alpha, gamma):\n",
    "    # 计算入射光线单位向量\n",
    "    # alpha, gamma是弧度制\n",
    "    x = -cos(alpha) * cos(gamma-pi/2)\n",
    "    y = cos(alpha) * sin(gamma-pi/2)\n",
    "    z = -sin(alpha)\n",
    "    return np.array([x, y, z])"
   ]
  },
  {
   "cell_type": "code",
   "execution_count": 8,
   "id": "af2bf43c-41cc-4e86-bc98-0f98826abafb",
   "metadata": {
    "scrolled": true
   },
   "outputs": [],
   "source": [
    "# 计算定日镜法向量\n",
    "S_i_mat = np.zeros((12, 5, 3))\n",
    "for i, d in enumerate(D):\n",
    "    for j, st in enumerate(ST):\n",
    "        alpha, gamma = cal_alpha_and_gamma_s(d, st)\n",
    "        S_i = cal_S_i(alpha, gamma)\n",
    "        S_i_mat[i,j] = S_i"
   ]
  },
  {
   "cell_type": "markdown",
   "id": "e44ed05e-ec46-42d5-bf6d-841e8f73028b",
   "metadata": {},
   "source": [
    "## 计算简单效率"
   ]
  },
  {
   "cell_type": "code",
   "execution_count": 9,
   "id": "b5e08f84-e61f-47e6-8633-c1f3cf1aa705",
   "metadata": {},
   "outputs": [],
   "source": [
    "# 计算大气透射率\n",
    "def cal_ita_at(mirror_xyz):\n",
    "    d = np.linalg.norm(mirror_xyz - np.array([0, 0, h_t]))\n",
    "    return 0.99321 - 0.0001176*d + 1.97*10**(-8)*d**2"
   ]
  },
  {
   "cell_type": "markdown",
   "id": "2e29de8f-89aa-4347-8550-cddf2554341b",
   "metadata": {},
   "source": [
    "## 计算DNI"
   ]
  },
  {
   "cell_type": "code",
   "execution_count": 10,
   "id": "010650a0-f5b8-48d3-b31b-ecdac6ddfdb3",
   "metadata": {},
   "outputs": [],
   "source": [
    "G0 = 1.366\n",
    "H = 3\n",
    "a = 0.4237 - 0.00821*(6-H)**2\n",
    "b = 0.5055 + 0.00595*(6.5-H)**2\n",
    "c = 0.2711 + 0.01858*(2.5-H)**2\n",
    "DNI_mat = np.zeros((12, 5))\n",
    "for i, _ in enumerate(D):\n",
    "    for j, _ in enumerate(ST):\n",
    "        alpha, gamma = cal_alpha_and_gamma_s(D[i], ST[j])\n",
    "        DNI_mat[i,j] = G0*(a + b*pow(np.e,-c/sin(alpha)))"
   ]
  },
  {
   "cell_type": "code",
   "execution_count": 11,
   "id": "4b046350-7896-4c4a-b53c-9868dd0b0659",
   "metadata": {},
   "outputs": [],
   "source": [
    "def cal_mod_length(x):\n",
    "    return sqrt(x[0]**2+x[1]**2)"
   ]
  },
  {
   "cell_type": "code",
   "execution_count": null,
   "id": "a7671cd9-6cbc-4595-87de-202dba139dc8",
   "metadata": {},
   "outputs": [],
   "source": [
    "slice_num = 350\n",
    "max_bound = 700\n",
    "x = np.linspace(-max_bound, max_bound, slice_num)\n",
    "y = np.linspace(-max_bound, max_bound, slice_num)\n",
    "z = np.ones((slice_num)) * 5\n",
    "xyz = []\n",
    "for i in range(slice_num ):\n",
    "    for j in range(slice_num):\n",
    "        if cal_mod_length((x[i],y[j])) > 100:\n",
    "            xyz.append([x[i], y[j], z[i]])\n",
    "mirrors_xyz = np.array(xyz)\n",
    "mirrors_xy = mirrors_xyz[:,:2]\n",
    "m_num = mirrors_xyz.shape[0]\n",
    "S_r_mat = np.zeros((12, 5, *mirrors_xyz.shape))\n",
    "S_n_mat = np.zeros((12, 5, *mirrors_xyz.shape))\n",
    "for i, d in enumerate(D):\n",
    "    for j, st in enumerate(ST):\n",
    "        S_i = S_i_mat[i,j]\n",
    "        for k, mirror_xyz in enumerate(mirrors_xyz):\n",
    "            S_r = cal_S_r(mirror_xyz)\n",
    "            S_n = (S_r - S_i) / np.linalg.norm(S_r - S_i)\n",
    "            S_r_mat[i,j,k] = S_r\n",
    "            S_n_mat[i,j,k] = S_n\n",
    "# 计算余弦效率\n",
    "ita_cos_mat = np.zeros((12, 5, m_num))\n",
    "for i, d in enumerate(D):\n",
    "    for j, st in enumerate(ST):\n",
    "        alpha, gamma = alpha_mat[i,j], gamma_mat[i,j]\n",
    "        S_i = S_i_mat[i,j]\n",
    "        neg_S_i = -S_i\n",
    "        for k, mirror_xyz in enumerate(mirrors_xyz):\n",
    "            ita_cos = S_n_mat[i,j,k] @ neg_S_i\n",
    "            ita_cos_mat[i,j,k] = ita_cos \n",
    "# 计算大气透射率\n",
    "ita_at_mat = np.zeros(m_num)\n",
    "for k, mirror_xyz in enumerate(mirrors_xyz):\n",
    "    ita_at_mat[k] = cal_ita_at(mirror_xyz)\n",
    "ita_mat = np.zeros((12, 5, m_num))\n",
    "E_mat = np.zeros((m_num))\n",
    "for i, _ in enumerate(D):\n",
    "    for j, _ in enumerate(ST):\n",
    "        for k, _ in enumerate(mirrors_xyz):\n",
    "            ita_mat[i,j,k] = ita_at_mat[k] * ita_cos_mat[i,j,k]\n",
    "            E_mat[k] += DNI_mat[i,j] * ita_mat[i,j,k]  \n",
    "E_mat /= 60      \n",
    "for k, mirror_xyz in enumerate(mirrors_xyz):\n",
    "    if cal_mod_length(mirror_xyz[:2]) < 100:\n",
    "        E_mat[k] = 0"
   ]
  },
  {
   "cell_type": "code",
   "execution_count": null,
   "id": "9f0e19bc-a440-4277-8afe-f49121ac391f",
   "metadata": {},
   "outputs": [],
   "source": [
    "title = \"镜场年平均能量传输效率\"\n",
    "cm = matplotlib.colormaps['rainbow']\n",
    "sc = plt.scatter(mirrors_xy[:,0], mirrors_xy[:,1], c=ita_mat.mean(axis=0).mean(axis=0), s=1, cmap=cm)\n",
    "plt.title(title)\n",
    "plt.colorbar(sc)\n",
    "plt.savefig(title + \".png\", dpi=200)\n",
    "plt.show()"
   ]
  },
  {
   "cell_type": "code",
   "execution_count": null,
   "id": "b4246fe1-82a1-4127-b103-9bde60637757",
   "metadata": {},
   "outputs": [],
   "source": [
    "ita_mat = ita_mat.mean(axis=0).mean(axis=0)"
   ]
  },
  {
   "cell_type": "code",
   "execution_count": null,
   "id": "612e112c-855f-459b-b6fa-90f5d9047ab0",
   "metadata": {},
   "outputs": [],
   "source": [
    "R_field = 350\n",
    "mont_bound = 250\n",
    "mont_num = 50\n",
    "x_mont = np.linspace(-mont_bound, mont_bound, mont_num)\n",
    "y_mont = np.linspace(-mont_bound, mont_bound, mont_num)\n",
    "z_mont = np.ones((mont_num)) * 5\n",
    "xyz_mont = np.zeros((mont_num**2 , 3))\n",
    "for i in range(mont_num):\n",
    "    for j in range(mont_num):\n",
    "        xyz_mont[i*mont_num +j] = [x_mont[i], y_mont[j], z_mont[i]]\n",
    "\n",
    "sm_mat = np.zeros((xyz_mont.shape[0]))\n",
    "for i, (x, y, z) in enumerate(xyz_mont):\n",
    "    sm = 0\n",
    "    if cal_mod_length((x,y)) <= 250:\n",
    "        for k, mirror_xyz in enumerate(mirrors_xyz):\n",
    "            if cal_distance(mirror_xyz[:2], [x,y]) < R_field:\n",
    "                sm += ita_mat[k]\n",
    "    sm_mat[i] = sm"
   ]
  },
  {
   "cell_type": "code",
   "execution_count": null,
   "id": "d9611cd4-a356-49a8-a686-b8bfed9fed60",
   "metadata": {},
   "outputs": [],
   "source": [
    "def find_max(xy_mont):\n",
    "    R_field = 350\n",
    "    x, y = xy_mont\n",
    "    sm = 0\n",
    "    for k, mirror_xyz in enumerate(mirrors_xyz):\n",
    "        if cal_distance(mirror_xyz[:2], [x,y]) < R_field:\n",
    "            sm += ita_mat[k]\n",
    "    return -sm"
   ]
  },
  {
   "cell_type": "code",
   "execution_count": null,
   "id": "bc2bbf84-0c93-4789-8d3e-80f2c9259dbc",
   "metadata": {},
   "outputs": [],
   "source": [
    "constraint_ueq = (\n",
    "    lambda x: cal_mod_length((x[0],x[1])) - 250,\n",
    ")\n",
    "pso = PSO(func=find_max, n_dim=2, pop=40, max_iter=20, lb=[-mont_bound, -mont_bound], ub=[mont_bound, mont_bound], constraint_ueq=constraint_ueq)\n",
    "pso.run()\n",
    "print('best_x is ', pso.gbest_x, 'best_y is', pso.gbest_y)"
   ]
  },
  {
   "cell_type": "code",
   "execution_count": null,
   "id": "7a4de6af-7b51-4871-857b-4b0d85811d32",
   "metadata": {},
   "outputs": [],
   "source": [
    "plt.plot(pso.gbest_y_hist)\n",
    "plt.show()"
   ]
  }
 ],
 "metadata": {
  "kernelspec": {
   "display_name": "Python 3 (ipykernel)",
   "language": "python",
   "name": "python3"
  },
  "language_info": {
   "codemirror_mode": {
    "name": "ipython",
    "version": 3
   },
   "file_extension": ".py",
   "mimetype": "text/x-python",
   "name": "python",
   "nbconvert_exporter": "python",
   "pygments_lexer": "ipython3",
   "version": "3.10.10"
  }
 },
 "nbformat": 4,
 "nbformat_minor": 5
}
